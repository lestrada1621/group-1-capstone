{
 "cells": [
  {
   "cell_type": "markdown",
   "metadata": {},
   "source": [
    "# Computer Vision Business Recommendations\n",
    "#### Luis Estrada, Michael Eugene, Maddie Hince, Kilmar Lazo, Cat Murad, and Elijah Soba"
   ]
  },
  {
   "cell_type": "markdown",
   "metadata": {},
   "source": [
    "## Business Understanding"
   ]
  },
  {
   "cell_type": "markdown",
   "metadata": {},
   "source": [
    "## Data Understanding"
   ]
  },
  {
   "cell_type": "code",
   "execution_count": null,
   "metadata": {
    "vscode": {
     "languageId": "plaintext"
    }
   },
   "outputs": [],
   "source": [
    "# Import all necessary libraries\n",
    "import sqlite3 \n",
    "import pandas as pd\n",
    "import numpy as np\n",
    "import matplotlib.pyplot as plt\n",
    "import seaborn as sns\n",
    "import datetime\n",
    "import warnings\n",
    "\n",
    "# Ignore warnings from library functions\n",
    "warnings.filterwarnings('ignore')\n",
    "\n",
    "# Set the style for plots \n",
    "sns.set_style('darkgrid')\n",
    "sns.set_context('notebook')\n",
    "sns.set()"
   ]
  },
  {
   "cell_type": "markdown",
   "metadata": {},
   "source": [
    "We used data from three main sources to make recommendations for Computer Vision: \n",
    "- Box Office Mojo\n",
    "- The Numbers\n",
    "- IMDB (Internet Movie Database)"
   ]
  },
  {
   "cell_type": "markdown",
   "metadata": {},
   "source": [
    "### Understanding Box Office Mojo"
   ]
  },
  {
   "cell_type": "code",
   "execution_count": null,
   "metadata": {
    "vscode": {
     "languageId": "plaintext"
    }
   },
   "outputs": [],
   "source": [
    "# Define filepath & read in the data \n",
    "filepath = 'zippedData/bom.movie_gross.csv.gz'\n",
    "movie_gross_df = pd.read_csv(filepath)"
   ]
  },
  {
   "cell_type": "code",
   "execution_count": null,
   "metadata": {
    "vscode": {
     "languageId": "plaintext"
    }
   },
   "outputs": [],
   "source": [
    "# Take a preliminary look at the data \n",
    "movie_gross_df.head()"
   ]
  },
  {
   "cell_type": "code",
   "execution_count": null,
   "metadata": {
    "vscode": {
     "languageId": "plaintext"
    }
   },
   "outputs": [],
   "source": [
    "# Take a look at the data frame information\n",
    "movie_gross_df.info()"
   ]
  },
  {
   "cell_type": "markdown",
   "metadata": {},
   "source": [
    "From looking at the information we can see immediately that there are a couple things wrong with the data:\n",
    "- There are missing values in studio, domestic gross, and foreign gross\n",
    "- Foreign gross is represented as an object instead of a float\n",
    "- Year is represented as an integer, but it is probably better to have it as a datetime object"
   ]
  },
  {
   "cell_type": "code",
   "execution_count": null,
   "metadata": {
    "vscode": {
     "languageId": "plaintext"
    }
   },
   "outputs": [],
   "source": [
    "# Lets see what percentage of the studio data is missing \n",
    "pct_missing_std = movie_gross_df.studio.isna().sum()/len(movie_gross_df.title)\n",
    "print(f'Missing studio data represents {pct_missing_std*100}% of the data')"
   ]
  },
  {
   "cell_type": "code",
   "execution_count": null,
   "metadata": {
    "vscode": {
     "languageId": "plaintext"
    }
   },
   "outputs": [],
   "source": [
    "# Lets see what percentage of the domestic gross data is missing \n",
    "pct_missing_dom = movie_gross_df.domestic_gross.isna().sum()/len(movie_gross_df.title)\n",
    "print(f'Missing domestic gross data represents {pct_missing_dom*100}% of the data')"
   ]
  },
  {
   "cell_type": "code",
   "execution_count": null,
   "metadata": {
    "vscode": {
     "languageId": "plaintext"
    }
   },
   "outputs": [],
   "source": [
    "# Lets see what percentage of the foreign gross data is missing \n",
    "pct_missing_for = movie_gross_df.foreign_gross.isna().sum()/len(movie_gross_df.title)\n",
    "print(f'Missing foreign gross data represents {pct_missing_for*100}% of the data')"
   ]
  },
  {
   "cell_type": "markdown",
   "metadata": {},
   "source": [
    "### Understanding The Numbers"
   ]
  },
  {
   "cell_type": "code",
   "execution_count": null,
   "metadata": {
    "vscode": {
     "languageId": "plaintext"
    }
   },
   "outputs": [],
   "source": [
    "# Define filepath & read in the data \n",
    "filepath = 'zippedData/tn.movie_budgets.csv.gz'\n",
    "budget_df = pd.read_csv(filepath)"
   ]
  },
  {
   "cell_type": "code",
   "execution_count": null,
   "metadata": {
    "vscode": {
     "languageId": "plaintext"
    }
   },
   "outputs": [],
   "source": [
    "# Take a preliminary look at the data\n",
    "budget_df.head()"
   ]
  },
  {
   "cell_type": "code",
   "execution_count": null,
   "metadata": {
    "vscode": {
     "languageId": "plaintext"
    }
   },
   "outputs": [],
   "source": [
    "# Take a look at the data frame information\n",
    "budget_df.info()"
   ]
  },
  {
   "cell_type": "markdown",
   "metadata": {},
   "source": [
    "From looking at the information, we can see a few important things\n",
    "- There are no missing (NaN) values\n",
    "- All of the numerical columns are strings instead of floats"
   ]
  },
  {
   "cell_type": "code",
   "execution_count": null,
   "metadata": {
    "vscode": {
     "languageId": "plaintext"
    }
   },
   "outputs": [],
   "source": [
    "# Lets see if there are any 0 values, which would be considered missing \n",
    "either_miss = len(budget_df[(budget_df['domestic_gross'] == '$0') | (budget_df['worldwide_gross'] == '$0')])\n",
    "both_miss = len(budget_df[(budget_df['domestic_gross'] == '$0') & (budget_df['worldwide_gross'] == '$0')])\n",
    "just_dom = len(budget_df[budget_df['domestic_gross'] == '$0'])\n",
    "just_world = len(budget_df[budget_df['worldwide_gross'] == '$0'])\n",
    "len_dataset = len(budget_df['domestic_gross'])\n",
    "print(f'Number of missing gross values from either column {either_miss}')\n",
    "print(f'Number of missing gross values from both columns {both_miss}')\n",
    "print(f'Number of missing gross values from just domestic {just_dom}')\n",
    "print(f'Number of missing gross values from just worldwide {just_world}')\n",
    "print(f'Number of items in the entire dataset {len_dataset}')"
   ]
  },
  {
   "cell_type": "code",
   "execution_count": null,
   "metadata": {
    "vscode": {
     "languageId": "plaintext"
    }
   },
   "outputs": [],
   "source": [
    "# Because there are numbers with 0 domestic and worldwide gross, lets see what fraction of the dataset it is\n",
    "pct_0_dom = just_dom/len_dataset\n",
    "print(f'Percentage of the data that is missing from the domestic gross column {pct_0_dom*100}')\n",
    "pct_0_world = just_world/len_dataset\n",
    "print(f'Percentage of the data that is missing from the worldwide gross column{pct_0_world*100}')"
   ]
  },
  {
   "cell_type": "markdown",
   "metadata": {},
   "source": [
    "### Understanding IMDB"
   ]
  },
  {
   "cell_type": "code",
   "execution_count": null,
   "metadata": {
    "vscode": {
     "languageId": "plaintext"
    }
   },
   "outputs": [],
   "source": [
    "# Establish a connection with SQL databasae and read in the data\n",
    "filename = 'zippedData/im.db'\n",
    "conn = sqlite3.connect(filename)\n",
    "q = \"\"\"SELECT *\n",
    "       FROM movie_ratings\n",
    "       JOIN movie_basics USING(movie_id)\n",
    "       WHERE movie_basics.start_year >= 2010\"\"\"\n",
    "ratings_df = pd.read_sql(q, conn)"
   ]
  },
  {
   "cell_type": "code",
   "execution_count": null,
   "metadata": {
    "vscode": {
     "languageId": "plaintext"
    }
   },
   "outputs": [],
   "source": [
    "# Take a preliminary look at the data\n",
    "ratings_df.head()"
   ]
  },
  {
   "cell_type": "code",
   "execution_count": null,
   "metadata": {
    "vscode": {
     "languageId": "plaintext"
    }
   },
   "outputs": [],
   "source": [
    "# Take a look at the data frame information\n",
    "ratings.info()"
   ]
  },
  {
   "cell_type": "markdown",
   "metadata": {},
   "source": [
    "From looking at the information, we can see that there are some missing values in the runtime column and data types for columns are as expected"
   ]
  },
  {
   "cell_type": "markdown",
   "metadata": {},
   "source": [
    "### Summary \n",
    "The data from Box Office Mojo included movie domestic and foreign gross, and movie production studio.\n",
    "- Dataset contained in a .csv file\n",
    "- Approximately 39% missing data in foreign gross column\n",
    "\n",
    "Data from The Numbers included production budget and worldwide gross information.\n",
    "- Dataset contained in a .csv file\n",
    "- Approximately 6% missing data in worldwide gross\n",
    "\n",
    "Data from IMDB included general movie information such as title, average ratings, and genres.\n",
    "- Data represented as a relational SQL database\n",
    "- Most analysis done using __movie_basics__ and __movie_ratings__ tables\n",
    "\n",
    "We only considered movies in each dataset that had been released in 2010 or later."
   ]
  },
  {
   "cell_type": "markdown",
   "metadata": {},
   "source": [
    "## Data Preparation"
   ]
  },
  {
   "cell_type": "markdown",
   "metadata": {},
   "source": [
    "### Preparing the Box Office Mojo Dataset"
   ]
  },
  {
   "cell_type": "code",
   "execution_count": null,
   "metadata": {},
   "outputs": [],
   "source": [
    "# Lets recast foregin_gross as a float \n",
    "str_to_float = lambda x: float(str(x).replace(',', ''))\n",
    "movie_gross_df['foreign_gross'] = movie_gross_df['foreign_gross'].map(str_to_float)"
   ]
  },
  {
   "cell_type": "code",
   "execution_count": null,
   "metadata": {},
   "outputs": [],
   "source": [
    "# Lets test to see if the data type actually changed \n",
    "assert movie_gross_df['foreign_gross'].dtype  == np.float64"
   ]
  },
  {
   "cell_type": "code",
   "execution_count": null,
   "metadata": {},
   "outputs": [],
   "source": [
    "# Lets replace missing studios with 'IND' representing independent\n",
    "movie_gross_df['studio'] = movie_gross_df['studio'].fillna('IND')"
   ]
  },
  {
   "cell_type": "code",
   "execution_count": null,
   "metadata": {},
   "outputs": [],
   "source": [
    "# Test to see if there are any missing values in the studio column\n",
    "assert movie_gross_df['studio'].isna().sum() == 0"
   ]
  },
  {
   "cell_type": "code",
   "execution_count": null,
   "metadata": {},
   "outputs": [],
   "source": [
    "# The missing % of data for domestic gross is small, so lets delete those rows\n",
    "movie_gross_df = movie_gross_df.dropna(axis=0, subset=['domestic_gross'])"
   ]
  },
  {
   "cell_type": "markdown",
   "metadata": {},
   "source": [
    "Because the amount of missing data from the foreign gross column is too much, we must impute the missing values. We impute missing values by calculating the median % change between foreign and domestic gross and using that to give an estimate of foreign gross as a function of domestic"
   ]
  },
  {
   "cell_type": "code",
   "execution_count": null,
   "metadata": {},
   "outputs": [
    {
     "name": "stdout",
     "output_type": "stream",
     "text": [
      "0.6315266036797613\n"
     ]
    }
   ],
   "source": [
    "# That is too much, so lets find the median pct change between domestic and foreign films\n",
    "med_pct_change = ((movie_gross_df['foreign_gross'] - movie_gross_df['domestic_gross'])/movie_gross_df['domestic_gross']).median()\n",
    "print(med_pct_change)"
   ]
  },
  {
   "cell_type": "code",
   "execution_count": null,
   "metadata": {},
   "outputs": [],
   "source": [
    "# Now that we have the median % change, lets impute the missing foreign values \n",
    "impute_change = movie_gross_df['domestic_gross'] + (movie_gross_df['domestic_gross'] * med_pct_change)\n",
    "movie_gross_df['foreign_gross'] = movie_gross_df['foreign_gross'].fillna(impute_change)"
   ]
  },
  {
   "cell_type": "code",
   "execution_count": null,
   "metadata": {},
   "outputs": [],
   "source": [
    "# Test that we now have no more NaN values in the data \n",
    "assert movie_gross_df['foreign_gross'].isna().sum() == 0"
   ]
  },
  {
   "cell_type": "code",
   "execution_count": null,
   "metadata": {},
   "outputs": [],
   "source": [
    "# Finally, test to see if there are any missing values anywhere in the data \n",
    "assert movie_gross_df.isna().sum().sum() == 0"
   ]
  },
  {
   "cell_type": "code",
   "execution_count": null,
   "metadata": {},
   "outputs": [],
   "source": [
    "# Lets normalize the data to millions to make numbers more manageable\n",
    "movie_gross_df['total_gross'] = movie_gross_df['total_gross']/1000000\n",
    "movie_gross_df['domestic_gross'] = movie_gross_df['domestic_gross']/1000000\n",
    "movie_gross_df['foreign_gross'] = movie_gross_df['foreign_gross']/1000000"
   ]
  },
  {
   "cell_type": "code",
   "execution_count": null,
   "metadata": {},
   "outputs": [],
   "source": [
    "# Lets change the title to avoid any issues with spacing\n",
    "movie_gross_df['title'] = movie_gross_df['title'].map(lambda x: x.strip().lower().replace(\" \", \"\"))"
   ]
  },
  {
   "cell_type": "markdown",
   "metadata": {},
   "source": [
    "### Preparing the Numbers Dataset"
   ]
  },
  {
   "cell_type": "code",
   "execution_count": null,
   "metadata": {},
   "outputs": [],
   "source": [
    "# Lets define a function that will parse through a string of $xxx,xxx,xxx and turn it into a float\n",
    "money_to_float = lambda x: float(x.replace('$','').replace(',',''))"
   ]
  },
  {
   "cell_type": "code",
   "execution_count": null,
   "metadata": {},
   "outputs": [],
   "source": [
    "# Lets test to make sure this function is behaving the way that we anticipate\n",
    "assert money_to_float('$1,000') == 1000"
   ]
  },
  {
   "cell_type": "code",
   "execution_count": null,
   "metadata": {},
   "outputs": [],
   "source": [
    "# Update the dtype of the production_budget column \n",
    "budget_df['production_budget'] = budget_df['production_budget'].map(money_to_float)"
   ]
  },
  {
   "cell_type": "code",
   "execution_count": null,
   "metadata": {},
   "outputs": [],
   "source": [
    "# Update the dtype of the domestic_gross column \n",
    "budget_df['domestic_gross'] = budget_df['domestic_gross'].map(money_to_float)"
   ]
  },
  {
   "cell_type": "code",
   "execution_count": null,
   "metadata": {},
   "outputs": [],
   "source": [
    "# Update the dtype of the worldwide_gross column \n",
    "budget_df['worldwide_gross'] = budget_df['worldwide_gross'].map(money_to_float)"
   ]
  },
  {
   "cell_type": "code",
   "execution_count": null,
   "metadata": {},
   "outputs": [],
   "source": [
    "# Test to make sure it worked\n",
    "assert budget_df['production_budget'].dtype == np.float64"
   ]
  },
  {
   "cell_type": "code",
   "execution_count": null,
   "metadata": {},
   "outputs": [],
   "source": [
    "# Lets make the release date an int dtype that only has the year\n",
    "budget_df['release_date'] = pd.to_datetime(budget_df['release_date']).dt.year"
   ]
  },
  {
   "cell_type": "code",
   "execution_count": null,
   "metadata": {},
   "outputs": [],
   "source": [
    "# Test to make sure the dtype is now correct\n",
    "assert budget_df['release_date'].dtype == np.int64"
   ]
  },
  {
   "cell_type": "code",
   "execution_count": null,
   "metadata": {},
   "outputs": [],
   "source": [
    "# < 10% of data is $0, so lets drop those records\n",
    "budget_df = budget_df[budget_df['domestic_gross'] != 0]"
   ]
  },
  {
   "cell_type": "code",
   "execution_count": null,
   "metadata": {},
   "outputs": [],
   "source": [
    "# Test to make sure we dropped correctly\n",
    "assert len(budget_df[budget_df['domestic_gross'] == 0]) == 0\n",
    "assert len(budget_df[budget_df['worldwide_gross'] == 0]) == 0"
   ]
  },
  {
   "cell_type": "code",
   "execution_count": null,
   "metadata": {},
   "outputs": [],
   "source": [
    "# Finally, we can normalize monetary columns to the millions \n",
    "budget_df['production_budget'] = budget_df['production_budget']/1000000\n",
    "budget_df['domestic_gross'] = budget_df['domestic_gross']/1000000\n",
    "budget_df['worldwide_gross'] = budget_df['worldwide_gross']/1000000"
   ]
  },
  {
   "cell_type": "markdown",
   "metadata": {},
   "source": [
    "### Preparing the IMDB Dataset"
   ]
  },
  {
   "cell_type": "code",
   "execution_count": null,
   "metadata": {},
   "outputs": [],
   "source": [
    "# For the sake of our analysis, we can drop unnecessary columns \n",
    "to_drop = ['movie_id', 'original_title', 'start_year', 'runtime_minutes']\n",
    "ratings_df = rateings_df.drop(labels=to_drop, axis=1)"
   ]
  },
  {
   "cell_type": "code",
   "execution_count": null,
   "metadata": {},
   "outputs": [],
   "source": [
    "# Lets change the titles to avoid any conflicts with spacings\n",
    "rate_genre_df['primary_title'] = rate_genre_df['primary_title'].map(lambda x: x.strip().lower().replace(\" \", \"\"))"
   ]
  },
  {
   "cell_type": "code",
   "execution_count": null,
   "metadata": {},
   "outputs": [],
   "source": [
    "# Lets filter out any movies that have a bottom 25% number of votes \n",
    "ratings_df = ratings_df[ratings_df['numvotes'] >= 62]"
   ]
  },
  {
   "cell_type": "markdown",
   "metadata": {},
   "source": [
    "## Data Analysis & Visualizations\n",
    "(After every visualization that corresponds to our recommendation, mention in **bold** the recommendation that we make)"
   ]
  },
  {
   "cell_type": "markdown",
   "metadata": {},
   "source": [
    "### Box Office Mojo Analysis"
   ]
  },
  {
   "cell_type": "markdown",
   "metadata": {},
   "source": [
    "### The Numbers Analysis"
   ]
  },
  {
   "cell_type": "markdown",
   "metadata": {},
   "source": [
    "### IMDB Analysis \n",
    "(Include IMDB combined with Box Office Mojo data analysis here too)"
   ]
  },
  {
   "cell_type": "markdown",
   "metadata": {},
   "source": [
    "### Highest-Rated Genres"
   ]
  },
  {
   "cell_type": "markdown",
   "metadata": {},
   "source": [
    "### Budget-to-Box Office Ratio"
   ]
  },
  {
   "cell_type": "markdown",
   "metadata": {},
   "source": [
    "### Highest-Grossing Studios"
   ]
  },
  {
   "cell_type": "markdown",
   "metadata": {},
   "source": [
    "## Statistical Communication"
   ]
  },
  {
   "cell_type": "markdown",
   "metadata": {},
   "source": [
    "After identifying __animation__ as the genre Computer Vision should pursue, we wanted to explore the difference between the genre's foreign and domestic gross. \n",
    "\n",
    "We hypothesized that:\n",
    "- A movie in the animation category will gross higher internationally than domestically. \n",
    "\n",
    "Based on the results of our t-test, we can determine where to allocate more marketing efforts to maximize profitability."
   ]
  },
  {
   "cell_type": "markdown",
   "metadata": {},
   "source": [
    "### T-test\n",
    "We want to know if __animation__ movies gross more internationally or domestically. \n",
    "- We chose the __animation__ genre because it is one of the genres with the highest average ratings, and appears as a genre in highly-grossing films from the highest-grossing studio (BV Studios, which turns out to be Disney/Pixar).\n",
    "\n",
    "Our __null hypothesis__ is that the animation genre grosses the same internationally and domestically.\n",
    "\n",
    "Our __alternative__ hypothesis is that animation movies gross more internationally than domestically. "
   ]
  },
  {
   "cell_type": "code",
   "execution_count": null,
   "metadata": {},
   "outputs": [],
   "source": [
    "# First, lets get the dataframe of only animation movies \n",
    "genre_to_grab = \"Animation\"\n",
    "\n",
    "ttest_df = combined[combined['genres'].str.contains(genre_to_grab)][['domestic_gross', 'foreign_gross']]\n"
   ]
  },
  {
   "cell_type": "code",
   "execution_count": null,
   "metadata": {},
   "outputs": [
    {
     "data": {
      "text/plain": [
       "159"
      ]
     },
     "metadata": {},
     "output_type": "display_data"
    }
   ],
   "source": [
    "# Lets check to see if we have enough samples\n",
    "len(ttest_df)"
   ]
  },
  {
   "cell_type": "code",
   "execution_count": null,
   "metadata": {},
   "outputs": [
    {
     "data": {
      "text/html": [
       "<div>\n",
       "<style scoped>\n",
       "    .dataframe tbody tr th:only-of-type {\n",
       "        vertical-align: middle;\n",
       "    }\n",
       "\n",
       "    .dataframe tbody tr th {\n",
       "        vertical-align: top;\n",
       "    }\n",
       "\n",
       "    .dataframe thead th {\n",
       "        text-align: right;\n",
       "    }\n",
       "</style>\n",
       "<table border=\"1\" class=\"dataframe\">\n",
       "  <thead>\n",
       "    <tr style=\"text-align: right;\">\n",
       "      <th></th>\n",
       "      <th>domestic_gross</th>\n",
       "      <th>foreign_gross</th>\n",
       "    </tr>\n",
       "  </thead>\n",
       "  <tbody>\n",
       "    <tr>\n",
       "      <th>count</th>\n",
       "      <td>159.000000</td>\n",
       "      <td>159.000000</td>\n",
       "    </tr>\n",
       "    <tr>\n",
       "      <th>mean</th>\n",
       "      <td>89.131074</td>\n",
       "      <td>164.672467</td>\n",
       "    </tr>\n",
       "    <tr>\n",
       "      <th>std</th>\n",
       "      <td>111.552661</td>\n",
       "      <td>199.679024</td>\n",
       "    </tr>\n",
       "    <tr>\n",
       "      <th>min</th>\n",
       "      <td>0.000600</td>\n",
       "      <td>0.000979</td>\n",
       "    </tr>\n",
       "    <tr>\n",
       "      <th>25%</th>\n",
       "      <td>0.889000</td>\n",
       "      <td>9.781427</td>\n",
       "    </tr>\n",
       "    <tr>\n",
       "      <th>50%</th>\n",
       "      <td>48.000000</td>\n",
       "      <td>75.900000</td>\n",
       "    </tr>\n",
       "    <tr>\n",
       "      <th>75%</th>\n",
       "      <td>145.950000</td>\n",
       "      <td>276.900000</td>\n",
       "    </tr>\n",
       "    <tr>\n",
       "      <th>max</th>\n",
       "      <td>608.600000</td>\n",
       "      <td>875.700000</td>\n",
       "    </tr>\n",
       "  </tbody>\n",
       "</table>\n",
       "</div>"
      ],
      "text/plain": [
       "       domestic_gross  foreign_gross\n",
       "count      159.000000     159.000000\n",
       "mean        89.131074     164.672467\n",
       "std        111.552661     199.679024\n",
       "min          0.000600       0.000979\n",
       "25%          0.889000       9.781427\n",
       "50%         48.000000      75.900000\n",
       "75%        145.950000     276.900000\n",
       "max        608.600000     875.700000"
      ]
     },
     "metadata": {},
     "output_type": "display_data"
    }
   ],
   "source": [
    "# Lets look at the statistics to give us a basis for our intution\n",
    "ttest_df.describe()"
   ]
  },
  {
   "cell_type": "code",
   "execution_count": null,
   "metadata": {},
   "outputs": [],
   "source": [
    "# Lets sample from our data\n",
    "domestic_sample = ttest_df['domestic_gross'].sample(100)\n",
    "foreign_sample = ttest_df['foreign_gross'].sample(100)"
   ]
  },
  {
   "cell_type": "code",
   "execution_count": null,
   "metadata": {},
   "outputs": [
    {
     "name": "stdout",
     "output_type": "stream",
     "text": [
      "Reject null hypothesis\n"
     ]
    }
   ],
   "source": [
    "# Lets perform a one tailed two sample t test\n",
    "import scipy.stats as stats\n",
    "alpha = .05\n",
    "tstat, pvalue = stats.ttest_ind(domestic_sample, foreign_sample, equal_var=False)\n",
    "\n",
    "answer = 'Reject null hypothesis' if pvalue < alpha else 'Fail to reject null hypothesis'\n",
    "print(answer)"
   ]
  },
  {
   "cell_type": "code",
   "execution_count": null,
   "metadata": {},
   "outputs": [],
   "source": [
    "# Plot the t statistic on a t distribution\n",
    "tval_alpha = stats.t.ppf(.05, 99)\n",
    "x = np.linspace(-5,5,1000)\n",
    "y = stats.t.pdf(x, 99)\n",
    "fig, axs = plt.subplots()\n",
    "axs.plot(x,y)\n",
    "axs.axvline(tstat)\n",
    "axs.axvline(tval_alpha)\n",
    "axs.axvspan(-5, tval_alpha, alpha=0.5, color='red')\n",
    "plt.text(tval_alpha + .1 ,.3,'reject region',rotation=90)\n",
    "plt.text(tstat + .1 ,.3,'t statistic',rotation=90)\n",
    "axs.set_title('T-Distribution w/D.F = 99')"
   ]
  },
  {
   "cell_type": "markdown",
   "metadata": {},
   "source": [
    "The results of our statistical test show that with 95% confidence we can conclude foreign gross is significantly greater than domestic gross regarding movies with the __animation__ genre. \n",
    "- This indicates that more money should be spent marketing to foreign markets as opposed to domestic."
   ]
  },
  {
   "cell_type": "markdown",
   "metadata": {},
   "source": [
    "## Conclusion\n",
    "(Emphasize three recommendations here )"
   ]
  }
 ],
 "metadata": {
  "kernelspec": {
   "display_name": "Python (learn-env)",
   "language": "python",
   "name": "learn-env"
  },
  "language_info": {
   "codemirror_mode": {
    "name": "ipython",
    "version": 3
   },
   "file_extension": ".py",
   "mimetype": "text/x-python",
   "name": "python",
   "nbconvert_exporter": "python",
   "pygments_lexer": "ipython3",
   "version": "3.8.5"
  },
  "varInspector": {
   "cols": {
    "lenName": 16,
    "lenType": 16,
    "lenVar": 40
   },
   "kernels_config": {
    "python": {
     "delete_cmd_postfix": "",
     "delete_cmd_prefix": "del ",
     "library": "var_list.py",
     "varRefreshCmd": "print(var_dic_list())"
    },
    "r": {
     "delete_cmd_postfix": ") ",
     "delete_cmd_prefix": "rm(",
     "library": "var_list.r",
     "varRefreshCmd": "cat(var_dic_list()) "
    }
   },
   "types_to_exclude": [
    "module",
    "function",
    "builtin_function_or_method",
    "instance",
    "_Feature"
   ],
   "window_display": false
  }
 },
 "nbformat": 4,
 "nbformat_minor": 4
}
