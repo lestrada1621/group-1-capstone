{
 "cells": [
  {
   "cell_type": "markdown",
   "metadata": {},
   "source": [
    "# Computer Vision Business Recommendations\n",
    "#### Luis Estrada, Michael Eugene, Maddie Hince, Kilmar Lazo, Cat Murad, and Elijah Soba"
   ]
  },
  {
   "cell_type": "markdown",
   "metadata": {},
   "source": [
    "## Overview"
   ]
  },
  {
   "cell_type": "markdown",
   "metadata": {},
   "source": [
    "Computer Vision wants to break into the movie production industry, but needs insight regarding what types of movies to make. \n",
    "\n",
    "We have recommended three courses of action that will allow Computer Vision's films to be successful at the box office:\n",
    "- Produce a movie in the animation genre (with a the possibility of a comedy sub-genre)\n",
    "- Allocate $80 million towards movie production. \n",
    "- Allocate more marketing effort towards international audiences (rather than domestic audiences).\n",
    "\n",
    "We based these recommendations off of three high-priority metrics:\n",
    "- Highest-rated movie genres\n",
    "- Budget-to-box office ratio\n",
    "- Which production studios gross the highest\n",
    "    - Which genres of movies these production studios produce"
   ]
  },
  {
   "cell_type": "markdown",
   "metadata": {},
   "source": [
    "## Business Understanding"
   ]
  },
  {
   "cell_type": "markdown",
   "metadata": {},
   "source": [
    "- Computer Vision wants to establish a movie studio to create video and movie content.\n",
    "- Computer Vision is new to the movie / video market and needs guidance regarding what types of movies to create. \n",
    "- Providing insights into what types of movies are doing best at the box office will allow Computer Vision to allocate their budget towards creating a successful film. "
   ]
  },
  {
   "cell_type": "markdown",
   "metadata": {},
   "source": [
    "## Data Understanding"
   ]
  },
  {
   "cell_type": "code",
   "execution_count": 2,
   "metadata": {
    "ExecuteTime": {
     "end_time": "2022-08-21T22:29:43.564777Z",
     "start_time": "2022-08-21T22:29:42.623448Z"
    },
    "vscode": {
     "languageId": "plaintext"
    }
   },
   "outputs": [],
   "source": [
    "# Import all necessary libraries\n",
    "import sqlite3 \n",
    "import pandas as pd\n",
    "import numpy as np\n",
    "import matplotlib.pyplot as plt\n",
    "import seaborn as sns\n",
    "import datetime\n",
    "import warnings\n",
    "\n",
    "# Ignore warnings from library functions\n",
    "warnings.filterwarnings('ignore')\n",
    "\n",
    "# Set the style for plots \n",
    "sns.set_style('darkgrid')\n",
    "sns.set_context('notebook')\n",
    "sns.set()"
   ]
  },
  {
   "cell_type": "markdown",
   "metadata": {},
   "source": [
    "We used data from three main sources to make recommendations for Computer Vision: \n",
    "- Box Office Mojo\n",
    "- The Numbers\n",
    "- IMDB (Internet Movie Database)"
   ]
  },
  {
   "cell_type": "markdown",
   "metadata": {},
   "source": [
    "### Understanding Box Office Mojo"
   ]
  },
  {
   "cell_type": "code",
   "execution_count": 3,
   "metadata": {
    "ExecuteTime": {
     "end_time": "2022-08-21T22:29:43.611827Z",
     "start_time": "2022-08-21T22:29:43.598799Z"
    },
    "vscode": {
     "languageId": "plaintext"
    }
   },
   "outputs": [],
   "source": [
    "# Define filepath & read in the data \n",
    "filepath = 'zippedData/bom.movie_gross.csv.gz'\n",
    "movie_gross_df = pd.read_csv(filepath)"
   ]
  },
  {
   "cell_type": "code",
   "execution_count": 4,
   "metadata": {
    "ExecuteTime": {
     "end_time": "2022-08-21T22:29:43.799995Z",
     "start_time": "2022-08-21T22:29:43.781995Z"
    },
    "vscode": {
     "languageId": "plaintext"
    }
   },
   "outputs": [
    {
     "data": {
      "text/html": [
       "<div>\n",
       "<style scoped>\n",
       "    .dataframe tbody tr th:only-of-type {\n",
       "        vertical-align: middle;\n",
       "    }\n",
       "\n",
       "    .dataframe tbody tr th {\n",
       "        vertical-align: top;\n",
       "    }\n",
       "\n",
       "    .dataframe thead th {\n",
       "        text-align: right;\n",
       "    }\n",
       "</style>\n",
       "<table border=\"1\" class=\"dataframe\">\n",
       "  <thead>\n",
       "    <tr style=\"text-align: right;\">\n",
       "      <th></th>\n",
       "      <th>title</th>\n",
       "      <th>studio</th>\n",
       "      <th>domestic_gross</th>\n",
       "      <th>foreign_gross</th>\n",
       "      <th>year</th>\n",
       "    </tr>\n",
       "  </thead>\n",
       "  <tbody>\n",
       "    <tr>\n",
       "      <th>0</th>\n",
       "      <td>Toy Story 3</td>\n",
       "      <td>BV</td>\n",
       "      <td>415000000.0</td>\n",
       "      <td>652000000</td>\n",
       "      <td>2010</td>\n",
       "    </tr>\n",
       "    <tr>\n",
       "      <th>1</th>\n",
       "      <td>Alice in Wonderland (2010)</td>\n",
       "      <td>BV</td>\n",
       "      <td>334200000.0</td>\n",
       "      <td>691300000</td>\n",
       "      <td>2010</td>\n",
       "    </tr>\n",
       "    <tr>\n",
       "      <th>2</th>\n",
       "      <td>Harry Potter and the Deathly Hallows Part 1</td>\n",
       "      <td>WB</td>\n",
       "      <td>296000000.0</td>\n",
       "      <td>664300000</td>\n",
       "      <td>2010</td>\n",
       "    </tr>\n",
       "    <tr>\n",
       "      <th>3</th>\n",
       "      <td>Inception</td>\n",
       "      <td>WB</td>\n",
       "      <td>292600000.0</td>\n",
       "      <td>535700000</td>\n",
       "      <td>2010</td>\n",
       "    </tr>\n",
       "    <tr>\n",
       "      <th>4</th>\n",
       "      <td>Shrek Forever After</td>\n",
       "      <td>P/DW</td>\n",
       "      <td>238700000.0</td>\n",
       "      <td>513900000</td>\n",
       "      <td>2010</td>\n",
       "    </tr>\n",
       "  </tbody>\n",
       "</table>\n",
       "</div>"
      ],
      "text/plain": [
       "                                         title studio  domestic_gross  \\\n",
       "0                                  Toy Story 3     BV     415000000.0   \n",
       "1                   Alice in Wonderland (2010)     BV     334200000.0   \n",
       "2  Harry Potter and the Deathly Hallows Part 1     WB     296000000.0   \n",
       "3                                    Inception     WB     292600000.0   \n",
       "4                          Shrek Forever After   P/DW     238700000.0   \n",
       "\n",
       "  foreign_gross  year  \n",
       "0     652000000  2010  \n",
       "1     691300000  2010  \n",
       "2     664300000  2010  \n",
       "3     535700000  2010  \n",
       "4     513900000  2010  "
      ]
     },
     "execution_count": 4,
     "metadata": {},
     "output_type": "execute_result"
    }
   ],
   "source": [
    "# Take a preliminary look at the data \n",
    "movie_gross_df.head()"
   ]
  },
  {
   "cell_type": "code",
   "execution_count": 5,
   "metadata": {
    "ExecuteTime": {
     "end_time": "2022-08-21T22:29:44.329757Z",
     "start_time": "2022-08-21T22:29:44.308757Z"
    },
    "vscode": {
     "languageId": "plaintext"
    }
   },
   "outputs": [
    {
     "name": "stdout",
     "output_type": "stream",
     "text": [
      "<class 'pandas.core.frame.DataFrame'>\n",
      "RangeIndex: 3387 entries, 0 to 3386\n",
      "Data columns (total 5 columns):\n",
      " #   Column          Non-Null Count  Dtype  \n",
      "---  ------          --------------  -----  \n",
      " 0   title           3387 non-null   object \n",
      " 1   studio          3382 non-null   object \n",
      " 2   domestic_gross  3359 non-null   float64\n",
      " 3   foreign_gross   2037 non-null   object \n",
      " 4   year            3387 non-null   int64  \n",
      "dtypes: float64(1), int64(1), object(3)\n",
      "memory usage: 132.4+ KB\n"
     ]
    }
   ],
   "source": [
    "# Take a look at the data frame information\n",
    "movie_gross_df.info()"
   ]
  },
  {
   "cell_type": "markdown",
   "metadata": {},
   "source": [
    "From looking at the information we can see immediately that there are a couple things wrong with the data:\n",
    "- There are missing values in studio, domestic gross, and foreign gross\n",
    "- Foreign gross is represented as an object instead of a float\n",
    "- Year is represented as an integer, but it is probably better to have it as a datetime object"
   ]
  },
  {
   "cell_type": "code",
   "execution_count": 6,
   "metadata": {
    "ExecuteTime": {
     "end_time": "2022-08-21T22:29:45.712425Z",
     "start_time": "2022-08-21T22:29:45.703427Z"
    },
    "vscode": {
     "languageId": "plaintext"
    }
   },
   "outputs": [
    {
     "name": "stdout",
     "output_type": "stream",
     "text": [
      "Missing studio data represents 0.14762326542663123% of the data\n"
     ]
    }
   ],
   "source": [
    "# Let's see what percentage of the studio data is missing \n",
    "pct_missing_std = movie_gross_df.studio.isna().sum()/len(movie_gross_df.title)\n",
    "print(f'Missing studio data represents {pct_missing_std*100}% of the data')"
   ]
  },
  {
   "cell_type": "code",
   "execution_count": 7,
   "metadata": {
    "ExecuteTime": {
     "end_time": "2022-08-21T22:29:46.009641Z",
     "start_time": "2022-08-21T22:29:46.000639Z"
    },
    "vscode": {
     "languageId": "plaintext"
    }
   },
   "outputs": [
    {
     "name": "stdout",
     "output_type": "stream",
     "text": [
      "Missing domestic gross data represents 0.8266902863891349% of the data\n"
     ]
    }
   ],
   "source": [
    "# Let's see what percentage of the domestic gross data is missing \n",
    "pct_missing_dom = movie_gross_df.domestic_gross.isna().sum()/len(movie_gross_df.title)\n",
    "print(f'Missing domestic gross data represents {pct_missing_dom*100}% of the data')"
   ]
  },
  {
   "cell_type": "code",
   "execution_count": 8,
   "metadata": {
    "ExecuteTime": {
     "end_time": "2022-08-21T22:29:46.412813Z",
     "start_time": "2022-08-21T22:29:46.400814Z"
    },
    "vscode": {
     "languageId": "plaintext"
    }
   },
   "outputs": [
    {
     "name": "stdout",
     "output_type": "stream",
     "text": [
      "Missing foreign gross data represents 39.85828166519043% of the data\n"
     ]
    }
   ],
   "source": [
    "# Let's see what percentage of the foreign gross data is missing \n",
    "pct_missing_for = movie_gross_df.foreign_gross.isna().sum()/len(movie_gross_df.title)\n",
    "print(f'Missing foreign gross data represents {pct_missing_for*100}% of the data')"
   ]
  },
  {
   "cell_type": "markdown",
   "metadata": {},
   "source": [
    "### Understanding The Numbers"
   ]
  },
  {
   "cell_type": "code",
   "execution_count": 9,
   "metadata": {
    "ExecuteTime": {
     "end_time": "2022-08-21T22:29:47.272447Z",
     "start_time": "2022-08-21T22:29:47.256449Z"
    },
    "vscode": {
     "languageId": "plaintext"
    }
   },
   "outputs": [],
   "source": [
    "# Define filepath & read in the data \n",
    "filepath = 'zippedData/tn.movie_budgets.csv.gz'\n",
    "budget_df = pd.read_csv(filepath)"
   ]
  },
  {
   "cell_type": "code",
   "execution_count": 10,
   "metadata": {
    "ExecuteTime": {
     "end_time": "2022-08-21T22:29:47.738264Z",
     "start_time": "2022-08-21T22:29:47.715689Z"
    },
    "vscode": {
     "languageId": "plaintext"
    }
   },
   "outputs": [
    {
     "data": {
      "text/html": [
       "<div>\n",
       "<style scoped>\n",
       "    .dataframe tbody tr th:only-of-type {\n",
       "        vertical-align: middle;\n",
       "    }\n",
       "\n",
       "    .dataframe tbody tr th {\n",
       "        vertical-align: top;\n",
       "    }\n",
       "\n",
       "    .dataframe thead th {\n",
       "        text-align: right;\n",
       "    }\n",
       "</style>\n",
       "<table border=\"1\" class=\"dataframe\">\n",
       "  <thead>\n",
       "    <tr style=\"text-align: right;\">\n",
       "      <th></th>\n",
       "      <th>id</th>\n",
       "      <th>release_date</th>\n",
       "      <th>movie</th>\n",
       "      <th>production_budget</th>\n",
       "      <th>domestic_gross</th>\n",
       "      <th>worldwide_gross</th>\n",
       "    </tr>\n",
       "  </thead>\n",
       "  <tbody>\n",
       "    <tr>\n",
       "      <th>0</th>\n",
       "      <td>1</td>\n",
       "      <td>Dec 18, 2009</td>\n",
       "      <td>Avatar</td>\n",
       "      <td>$425,000,000</td>\n",
       "      <td>$760,507,625</td>\n",
       "      <td>$2,776,345,279</td>\n",
       "    </tr>\n",
       "    <tr>\n",
       "      <th>1</th>\n",
       "      <td>2</td>\n",
       "      <td>May 20, 2011</td>\n",
       "      <td>Pirates of the Caribbean: On Stranger Tides</td>\n",
       "      <td>$410,600,000</td>\n",
       "      <td>$241,063,875</td>\n",
       "      <td>$1,045,663,875</td>\n",
       "    </tr>\n",
       "    <tr>\n",
       "      <th>2</th>\n",
       "      <td>3</td>\n",
       "      <td>Jun 7, 2019</td>\n",
       "      <td>Dark Phoenix</td>\n",
       "      <td>$350,000,000</td>\n",
       "      <td>$42,762,350</td>\n",
       "      <td>$149,762,350</td>\n",
       "    </tr>\n",
       "    <tr>\n",
       "      <th>3</th>\n",
       "      <td>4</td>\n",
       "      <td>May 1, 2015</td>\n",
       "      <td>Avengers: Age of Ultron</td>\n",
       "      <td>$330,600,000</td>\n",
       "      <td>$459,005,868</td>\n",
       "      <td>$1,403,013,963</td>\n",
       "    </tr>\n",
       "    <tr>\n",
       "      <th>4</th>\n",
       "      <td>5</td>\n",
       "      <td>Dec 15, 2017</td>\n",
       "      <td>Star Wars Ep. VIII: The Last Jedi</td>\n",
       "      <td>$317,000,000</td>\n",
       "      <td>$620,181,382</td>\n",
       "      <td>$1,316,721,747</td>\n",
       "    </tr>\n",
       "  </tbody>\n",
       "</table>\n",
       "</div>"
      ],
      "text/plain": [
       "   id  release_date                                        movie  \\\n",
       "0   1  Dec 18, 2009                                       Avatar   \n",
       "1   2  May 20, 2011  Pirates of the Caribbean: On Stranger Tides   \n",
       "2   3   Jun 7, 2019                                 Dark Phoenix   \n",
       "3   4   May 1, 2015                      Avengers: Age of Ultron   \n",
       "4   5  Dec 15, 2017            Star Wars Ep. VIII: The Last Jedi   \n",
       "\n",
       "  production_budget domestic_gross worldwide_gross  \n",
       "0      $425,000,000   $760,507,625  $2,776,345,279  \n",
       "1      $410,600,000   $241,063,875  $1,045,663,875  \n",
       "2      $350,000,000    $42,762,350    $149,762,350  \n",
       "3      $330,600,000   $459,005,868  $1,403,013,963  \n",
       "4      $317,000,000   $620,181,382  $1,316,721,747  "
      ]
     },
     "execution_count": 10,
     "metadata": {},
     "output_type": "execute_result"
    }
   ],
   "source": [
    "# Take a preliminary look at the data\n",
    "budget_df.head()"
   ]
  },
  {
   "cell_type": "code",
   "execution_count": 11,
   "metadata": {
    "ExecuteTime": {
     "end_time": "2022-08-21T22:29:48.354272Z",
     "start_time": "2022-08-21T22:29:48.338272Z"
    },
    "vscode": {
     "languageId": "plaintext"
    }
   },
   "outputs": [
    {
     "name": "stdout",
     "output_type": "stream",
     "text": [
      "<class 'pandas.core.frame.DataFrame'>\n",
      "RangeIndex: 5782 entries, 0 to 5781\n",
      "Data columns (total 6 columns):\n",
      " #   Column             Non-Null Count  Dtype \n",
      "---  ------             --------------  ----- \n",
      " 0   id                 5782 non-null   int64 \n",
      " 1   release_date       5782 non-null   object\n",
      " 2   movie              5782 non-null   object\n",
      " 3   production_budget  5782 non-null   object\n",
      " 4   domestic_gross     5782 non-null   object\n",
      " 5   worldwide_gross    5782 non-null   object\n",
      "dtypes: int64(1), object(5)\n",
      "memory usage: 271.2+ KB\n"
     ]
    }
   ],
   "source": [
    "# Take a look at the data frame information\n",
    "budget_df.info()"
   ]
  },
  {
   "cell_type": "markdown",
   "metadata": {},
   "source": [
    "From looking at the information, we can see a few important things\n",
    "- There are no missing (NaN) values\n",
    "- All of the numerical columns are strings instead of floats"
   ]
  },
  {
   "cell_type": "code",
   "execution_count": 12,
   "metadata": {
    "ExecuteTime": {
     "end_time": "2022-08-21T22:29:49.919102Z",
     "start_time": "2022-08-21T22:29:49.897102Z"
    },
    "vscode": {
     "languageId": "plaintext"
    }
   },
   "outputs": [
    {
     "name": "stdout",
     "output_type": "stream",
     "text": [
      "Number of missing gross values from either column 548\n",
      "Number of missing gross values from both columns 367\n",
      "Number of missing gross values from just domestic 548\n",
      "Number of missing gross values from just worldwide 367\n",
      "Number of items in the entire dataset 5782\n"
     ]
    }
   ],
   "source": [
    "# Let's see if there are any 0 values, which would be considered missing \n",
    "either_miss = len(budget_df[(budget_df['domestic_gross'] == '$0') | (budget_df['worldwide_gross'] == '$0')])\n",
    "both_miss = len(budget_df[(budget_df['domestic_gross'] == '$0') & (budget_df['worldwide_gross'] == '$0')])\n",
    "just_dom = len(budget_df[budget_df['domestic_gross'] == '$0'])\n",
    "just_world = len(budget_df[budget_df['worldwide_gross'] == '$0'])\n",
    "len_dataset = len(budget_df['domestic_gross'])\n",
    "print(f'Number of missing gross values from either column {either_miss}')\n",
    "print(f'Number of missing gross values from both columns {both_miss}')\n",
    "print(f'Number of missing gross values from just domestic {just_dom}')\n",
    "print(f'Number of missing gross values from just worldwide {just_world}')\n",
    "print(f'Number of items in the entire dataset {len_dataset}')"
   ]
  },
  {
   "cell_type": "code",
   "execution_count": 13,
   "metadata": {
    "ExecuteTime": {
     "end_time": "2022-08-21T22:29:50.369730Z",
     "start_time": "2022-08-21T22:29:50.359730Z"
    },
    "vscode": {
     "languageId": "plaintext"
    }
   },
   "outputs": [
    {
     "name": "stdout",
     "output_type": "stream",
     "text": [
      "Percentage of the data that is missing from the domestic gross column 9.47768938083708\n",
      "Percentage of the data that is missing from the worldwide gross column6.347284676582497\n"
     ]
    }
   ],
   "source": [
    "# Because there are numbers with 0 domestic and worldwide gross, lets see what fraction of the dataset it is\n",
    "pct_0_dom = just_dom/len_dataset\n",
    "print(f'Percentage of the data that is missing from the domestic gross column {pct_0_dom*100}')\n",
    "pct_0_world = just_world/len_dataset\n",
    "print(f'Percentage of the data that is missing from the worldwide gross column{pct_0_world*100}')"
   ]
  },
  {
   "cell_type": "markdown",
   "metadata": {},
   "source": [
    "### Understanding IMDB"
   ]
  },
  {
   "cell_type": "code",
   "execution_count": 14,
   "metadata": {
    "ExecuteTime": {
     "end_time": "2022-08-21T22:29:52.011016Z",
     "start_time": "2022-08-21T22:29:51.730420Z"
    },
    "vscode": {
     "languageId": "plaintext"
    }
   },
   "outputs": [
    {
     "ename": "DatabaseError",
     "evalue": "Execution failed on sql 'SELECT *\n       FROM movie_ratings\n       JOIN movie_basics USING(movie_id)\n       WHERE movie_basics.start_year >= 2010': no such table: movie_ratings",
     "output_type": "error",
     "traceback": [
      "\u001b[1;31m---------------------------------------------------------------------------\u001b[0m",
      "\u001b[1;31mOperationalError\u001b[0m                          Traceback (most recent call last)",
      "\u001b[1;32m~\\Anaconda3\\envs\\learn-env\\lib\\site-packages\\pandas\\io\\sql.py\u001b[0m in \u001b[0;36mexecute\u001b[1;34m(self, *args, **kwargs)\u001b[0m\n\u001b[0;32m   1680\u001b[0m         \u001b[1;32mtry\u001b[0m\u001b[1;33m:\u001b[0m\u001b[1;33m\u001b[0m\u001b[1;33m\u001b[0m\u001b[0m\n\u001b[1;32m-> 1681\u001b[1;33m             \u001b[0mcur\u001b[0m\u001b[1;33m.\u001b[0m\u001b[0mexecute\u001b[0m\u001b[1;33m(\u001b[0m\u001b[1;33m*\u001b[0m\u001b[0margs\u001b[0m\u001b[1;33m,\u001b[0m \u001b[1;33m**\u001b[0m\u001b[0mkwargs\u001b[0m\u001b[1;33m)\u001b[0m\u001b[1;33m\u001b[0m\u001b[1;33m\u001b[0m\u001b[0m\n\u001b[0m\u001b[0;32m   1682\u001b[0m             \u001b[1;32mreturn\u001b[0m \u001b[0mcur\u001b[0m\u001b[1;33m\u001b[0m\u001b[1;33m\u001b[0m\u001b[0m\n",
      "\u001b[1;31mOperationalError\u001b[0m: no such table: movie_ratings",
      "\nThe above exception was the direct cause of the following exception:\n",
      "\u001b[1;31mDatabaseError\u001b[0m                             Traceback (most recent call last)",
      "\u001b[1;32m<ipython-input-14-e0148484b6cf>\u001b[0m in \u001b[0;36m<module>\u001b[1;34m\u001b[0m\n\u001b[0;32m      6\u001b[0m        \u001b[0mJOIN\u001b[0m \u001b[0mmovie_basics\u001b[0m \u001b[0mUSING\u001b[0m\u001b[1;33m(\u001b[0m\u001b[0mmovie_id\u001b[0m\u001b[1;33m)\u001b[0m\u001b[1;33m\u001b[0m\u001b[1;33m\u001b[0m\u001b[0m\n\u001b[0;32m      7\u001b[0m        WHERE movie_basics.start_year >= 2010\"\"\"\n\u001b[1;32m----> 8\u001b[1;33m \u001b[0mratings_df\u001b[0m \u001b[1;33m=\u001b[0m \u001b[0mpd\u001b[0m\u001b[1;33m.\u001b[0m\u001b[0mread_sql\u001b[0m\u001b[1;33m(\u001b[0m\u001b[0mq\u001b[0m\u001b[1;33m,\u001b[0m \u001b[0mconn\u001b[0m\u001b[1;33m)\u001b[0m\u001b[1;33m\u001b[0m\u001b[1;33m\u001b[0m\u001b[0m\n\u001b[0m",
      "\u001b[1;32m~\\Anaconda3\\envs\\learn-env\\lib\\site-packages\\pandas\\io\\sql.py\u001b[0m in \u001b[0;36mread_sql\u001b[1;34m(sql, con, index_col, coerce_float, params, parse_dates, columns, chunksize)\u001b[0m\n\u001b[0;32m    481\u001b[0m \u001b[1;33m\u001b[0m\u001b[0m\n\u001b[0;32m    482\u001b[0m     \u001b[1;32mif\u001b[0m \u001b[0misinstance\u001b[0m\u001b[1;33m(\u001b[0m\u001b[0mpandas_sql\u001b[0m\u001b[1;33m,\u001b[0m \u001b[0mSQLiteDatabase\u001b[0m\u001b[1;33m)\u001b[0m\u001b[1;33m:\u001b[0m\u001b[1;33m\u001b[0m\u001b[1;33m\u001b[0m\u001b[0m\n\u001b[1;32m--> 483\u001b[1;33m         return pandas_sql.read_query(\n\u001b[0m\u001b[0;32m    484\u001b[0m             \u001b[0msql\u001b[0m\u001b[1;33m,\u001b[0m\u001b[1;33m\u001b[0m\u001b[1;33m\u001b[0m\u001b[0m\n\u001b[0;32m    485\u001b[0m             \u001b[0mindex_col\u001b[0m\u001b[1;33m=\u001b[0m\u001b[0mindex_col\u001b[0m\u001b[1;33m,\u001b[0m\u001b[1;33m\u001b[0m\u001b[1;33m\u001b[0m\u001b[0m\n",
      "\u001b[1;32m~\\Anaconda3\\envs\\learn-env\\lib\\site-packages\\pandas\\io\\sql.py\u001b[0m in \u001b[0;36mread_query\u001b[1;34m(self, sql, index_col, coerce_float, params, parse_dates, chunksize)\u001b[0m\n\u001b[0;32m   1725\u001b[0m \u001b[1;33m\u001b[0m\u001b[0m\n\u001b[0;32m   1726\u001b[0m         \u001b[0margs\u001b[0m \u001b[1;33m=\u001b[0m \u001b[0m_convert_params\u001b[0m\u001b[1;33m(\u001b[0m\u001b[0msql\u001b[0m\u001b[1;33m,\u001b[0m \u001b[0mparams\u001b[0m\u001b[1;33m)\u001b[0m\u001b[1;33m\u001b[0m\u001b[1;33m\u001b[0m\u001b[0m\n\u001b[1;32m-> 1727\u001b[1;33m         \u001b[0mcursor\u001b[0m \u001b[1;33m=\u001b[0m \u001b[0mself\u001b[0m\u001b[1;33m.\u001b[0m\u001b[0mexecute\u001b[0m\u001b[1;33m(\u001b[0m\u001b[1;33m*\u001b[0m\u001b[0margs\u001b[0m\u001b[1;33m)\u001b[0m\u001b[1;33m\u001b[0m\u001b[1;33m\u001b[0m\u001b[0m\n\u001b[0m\u001b[0;32m   1728\u001b[0m         \u001b[0mcolumns\u001b[0m \u001b[1;33m=\u001b[0m \u001b[1;33m[\u001b[0m\u001b[0mcol_desc\u001b[0m\u001b[1;33m[\u001b[0m\u001b[1;36m0\u001b[0m\u001b[1;33m]\u001b[0m \u001b[1;32mfor\u001b[0m \u001b[0mcol_desc\u001b[0m \u001b[1;32min\u001b[0m \u001b[0mcursor\u001b[0m\u001b[1;33m.\u001b[0m\u001b[0mdescription\u001b[0m\u001b[1;33m]\u001b[0m\u001b[1;33m\u001b[0m\u001b[1;33m\u001b[0m\u001b[0m\n\u001b[0;32m   1729\u001b[0m \u001b[1;33m\u001b[0m\u001b[0m\n",
      "\u001b[1;32m~\\Anaconda3\\envs\\learn-env\\lib\\site-packages\\pandas\\io\\sql.py\u001b[0m in \u001b[0;36mexecute\u001b[1;34m(self, *args, **kwargs)\u001b[0m\n\u001b[0;32m   1691\u001b[0m \u001b[1;33m\u001b[0m\u001b[0m\n\u001b[0;32m   1692\u001b[0m             \u001b[0mex\u001b[0m \u001b[1;33m=\u001b[0m \u001b[0mDatabaseError\u001b[0m\u001b[1;33m(\u001b[0m\u001b[1;34mf\"Execution failed on sql '{args[0]}': {exc}\"\u001b[0m\u001b[1;33m)\u001b[0m\u001b[1;33m\u001b[0m\u001b[1;33m\u001b[0m\u001b[0m\n\u001b[1;32m-> 1693\u001b[1;33m             \u001b[1;32mraise\u001b[0m \u001b[0mex\u001b[0m \u001b[1;32mfrom\u001b[0m \u001b[0mexc\u001b[0m\u001b[1;33m\u001b[0m\u001b[1;33m\u001b[0m\u001b[0m\n\u001b[0m\u001b[0;32m   1694\u001b[0m \u001b[1;33m\u001b[0m\u001b[0m\n\u001b[0;32m   1695\u001b[0m     \u001b[1;33m@\u001b[0m\u001b[0mstaticmethod\u001b[0m\u001b[1;33m\u001b[0m\u001b[1;33m\u001b[0m\u001b[0m\n",
      "\u001b[1;31mDatabaseError\u001b[0m: Execution failed on sql 'SELECT *\n       FROM movie_ratings\n       JOIN movie_basics USING(movie_id)\n       WHERE movie_basics.start_year >= 2010': no such table: movie_ratings"
     ]
    }
   ],
   "source": [
    "# Establish a connection with SQL databasae and read in the data\n",
    "filename = 'zippedData/im.db'\n",
    "conn = sqlite3.connect(filename)\n",
    "q = \"\"\"SELECT *\n",
    "       FROM movie_ratings\n",
    "       JOIN movie_basics USING(movie_id)\n",
    "       WHERE movie_basics.start_year >= 2010\"\"\"\n",
    "ratings_df = pd.read_sql(q, conn)"
   ]
  },
  {
   "cell_type": "code",
   "execution_count": null,
   "metadata": {
    "ExecuteTime": {
     "end_time": "2022-08-21T22:08:28.526719Z",
     "start_time": "2022-08-21T22:08:27.004Z"
    },
    "vscode": {
     "languageId": "plaintext"
    }
   },
   "outputs": [],
   "source": [
    "# Take a preliminary look at the data\n",
    "ratings_df.head()"
   ]
  },
  {
   "cell_type": "code",
   "execution_count": null,
   "metadata": {
    "ExecuteTime": {
     "end_time": "2022-08-21T22:08:28.527719Z",
     "start_time": "2022-08-21T22:08:27.005Z"
    },
    "vscode": {
     "languageId": "plaintext"
    }
   },
   "outputs": [],
   "source": [
    "# Take a look at the data frame information\n",
    "ratings_df.info()"
   ]
  },
  {
   "cell_type": "markdown",
   "metadata": {},
   "source": [
    "From looking at the information, we can see that there are some missing values in the runtime column and data types for columns are as expected"
   ]
  },
  {
   "cell_type": "markdown",
   "metadata": {},
   "source": [
    "### Summary \n",
    "The data from Box Office Mojo included movie domestic and foreign gross, and movie production studio.\n",
    "- Dataset contained in a .csv file\n",
    "- Approximately 39% missing data in foreign gross column\n",
    "\n",
    "Data from The Numbers included production budget and worldwide gross information.\n",
    "- Dataset contained in a .csv file\n",
    "- Approximately 6% missing data in worldwide gross\n",
    "\n",
    "Data from IMDB included general movie information such as title, average ratings, and genres.\n",
    "- Data represented as a relational SQL database\n",
    "- Most analysis done using __movie_basics__ and __movie_ratings__ tables\n",
    "\n",
    "We only considered movies in each dataset that had been released in 2010 or later."
   ]
  },
  {
   "cell_type": "markdown",
   "metadata": {},
   "source": [
    "## Data Preparation"
   ]
  },
  {
   "cell_type": "markdown",
   "metadata": {},
   "source": [
    "### Preparing the Box Office Mojo Dataset"
   ]
  },
  {
   "cell_type": "code",
   "execution_count": 15,
   "metadata": {
    "ExecuteTime": {
     "end_time": "2022-08-21T22:29:59.462564Z",
     "start_time": "2022-08-21T22:29:59.445564Z"
    }
   },
   "outputs": [],
   "source": [
    "# Let's recast foregin_gross as a float \n",
    "str_to_float = lambda x: float(str(x).replace(',', ''))\n",
    "movie_gross_df['foreign_gross'] = movie_gross_df['foreign_gross'].map(str_to_float)"
   ]
  },
  {
   "cell_type": "code",
   "execution_count": 16,
   "metadata": {
    "ExecuteTime": {
     "end_time": "2022-08-21T22:29:59.836139Z",
     "start_time": "2022-08-21T22:29:59.818140Z"
    }
   },
   "outputs": [],
   "source": [
    "# Let's test to see if the data type actually changed \n",
    "assert movie_gross_df['foreign_gross'].dtype  == np.float64"
   ]
  },
  {
   "cell_type": "code",
   "execution_count": 17,
   "metadata": {
    "ExecuteTime": {
     "end_time": "2022-08-21T22:30:00.197659Z",
     "start_time": "2022-08-21T22:30:00.183660Z"
    }
   },
   "outputs": [],
   "source": [
    "# Let's replace missing studios with 'IND' representing independent\n",
    "movie_gross_df['studio'] = movie_gross_df['studio'].fillna('IND')"
   ]
  },
  {
   "cell_type": "code",
   "execution_count": 18,
   "metadata": {
    "ExecuteTime": {
     "end_time": "2022-08-21T22:30:00.540136Z",
     "start_time": "2022-08-21T22:30:00.537136Z"
    }
   },
   "outputs": [],
   "source": [
    "# Test to see if there are any missing values in the studio column\n",
    "assert movie_gross_df['studio'].isna().sum() == 0"
   ]
  },
  {
   "cell_type": "code",
   "execution_count": 19,
   "metadata": {
    "ExecuteTime": {
     "end_time": "2022-08-21T22:30:00.900180Z",
     "start_time": "2022-08-21T22:30:00.886183Z"
    }
   },
   "outputs": [],
   "source": [
    "# The missing % of data for domestic gross is small, so lets delete those rows\n",
    "movie_gross_df = movie_gross_df.dropna(axis=0, subset=['domestic_gross'])"
   ]
  },
  {
   "cell_type": "markdown",
   "metadata": {},
   "source": [
    "Because the amount of missing data from the foreign gross column is too much, we must impute the missing values. We impute missing values by calculating the median % change between foreign and domestic gross and using that to give an estimate of foreign gross as a function of domestic"
   ]
  },
  {
   "cell_type": "code",
   "execution_count": 20,
   "metadata": {
    "ExecuteTime": {
     "end_time": "2022-08-21T22:30:01.634212Z",
     "start_time": "2022-08-21T22:30:01.617208Z"
    }
   },
   "outputs": [
    {
     "name": "stdout",
     "output_type": "stream",
     "text": [
      "0.6315266036797613\n"
     ]
    }
   ],
   "source": [
    "# That is too much, so lets find the median pct change between domestic and foreign films\n",
    "med_pct_change = ((movie_gross_df['foreign_gross'] - movie_gross_df['domestic_gross'])/movie_gross_df['domestic_gross']).median()\n",
    "print(med_pct_change)"
   ]
  },
  {
   "cell_type": "code",
   "execution_count": 21,
   "metadata": {
    "ExecuteTime": {
     "end_time": "2022-08-21T22:30:02.179040Z",
     "start_time": "2022-08-21T22:30:02.171040Z"
    }
   },
   "outputs": [],
   "source": [
    "# Now that we have the median % change, lets impute the missing foreign values \n",
    "impute_change = movie_gross_df['domestic_gross'] + (movie_gross_df['domestic_gross'] * med_pct_change)\n",
    "movie_gross_df['foreign_gross'] = movie_gross_df['foreign_gross'].fillna(impute_change)"
   ]
  },
  {
   "cell_type": "code",
   "execution_count": 22,
   "metadata": {
    "ExecuteTime": {
     "end_time": "2022-08-21T22:30:02.526292Z",
     "start_time": "2022-08-21T22:30:02.513307Z"
    }
   },
   "outputs": [],
   "source": [
    "# Test that we now have no more NaN values in the data \n",
    "assert movie_gross_df['foreign_gross'].isna().sum() == 0"
   ]
  },
  {
   "cell_type": "code",
   "execution_count": 23,
   "metadata": {
    "ExecuteTime": {
     "end_time": "2022-08-21T22:30:02.869957Z",
     "start_time": "2022-08-21T22:30:02.859857Z"
    }
   },
   "outputs": [],
   "source": [
    "# Finally, test to see if there are any missing values anywhere in the data \n",
    "assert movie_gross_df.isna().sum().sum() == 0"
   ]
  },
  {
   "cell_type": "code",
   "execution_count": 24,
   "metadata": {
    "ExecuteTime": {
     "end_time": "2022-08-21T22:30:03.370515Z",
     "start_time": "2022-08-21T22:30:03.362513Z"
    }
   },
   "outputs": [],
   "source": [
    "# Let's feature engineer a new feature that can be useful to our understanding of gross as a whole\n",
    "movie_gross_df['total_gross'] = movie_gross_df['foreign_gross'] + movie_gross_df['domestic_gross']\n",
    "# And convert every value into a float\n",
    "# movie_gross_df['total_gross'] = movie_gross_df['total_gross'].map(str_to_float)\n",
    "\n",
    "# Let's normalize the data to millions to make numbers more manageable\n",
    "movie_gross_df['total_gross'] = movie_gross_df['total_gross']/1000000\n",
    "movie_gross_df['domestic_gross'] = movie_gross_df['domestic_gross']/1000000\n",
    "movie_gross_df['foreign_gross'] = movie_gross_df['foreign_gross']/1000000"
   ]
  },
  {
   "cell_type": "code",
   "execution_count": 25,
   "metadata": {
    "ExecuteTime": {
     "end_time": "2022-08-21T22:30:03.835938Z",
     "start_time": "2022-08-21T22:30:03.829937Z"
    }
   },
   "outputs": [],
   "source": [
    "# Let's change the title to avoid any issues with spacing\n",
    "movie_gross_df['title'] = movie_gross_df['title'].map(lambda x: x.strip().lower().replace(\" \", \"\"))"
   ]
  },
  {
   "cell_type": "markdown",
   "metadata": {},
   "source": [
    "### Preparing the Numbers Dataset"
   ]
  },
  {
   "cell_type": "code",
   "execution_count": 79,
   "metadata": {
    "ExecuteTime": {
     "end_time": "2022-08-21T22:26:44.710981Z",
     "start_time": "2022-08-21T22:26:44.705981Z"
    }
   },
   "outputs": [],
   "source": [
    "# Let's define a function that will parse through a string of $xxx,xxx,xxx and turn it into a float\n",
    "money_to_float = lambda x: float(x.replace('$','').replace(',',''))"
   ]
  },
  {
   "cell_type": "code",
   "execution_count": 80,
   "metadata": {
    "ExecuteTime": {
     "end_time": "2022-08-21T22:26:45.200817Z",
     "start_time": "2022-08-21T22:26:45.183818Z"
    }
   },
   "outputs": [],
   "source": [
    "# Let's test to make sure this function is behaving the way that we anticipate\n",
    "assert money_to_float('$1,000') == 1000"
   ]
  },
  {
   "cell_type": "code",
   "execution_count": 81,
   "metadata": {
    "ExecuteTime": {
     "end_time": "2022-08-21T22:26:45.697780Z",
     "start_time": "2022-08-21T22:26:45.673783Z"
    }
   },
   "outputs": [
    {
     "ename": "AttributeError",
     "evalue": "'float' object has no attribute 'replace'",
     "output_type": "error",
     "traceback": [
      "\u001b[1;31m---------------------------------------------------------------------------\u001b[0m",
      "\u001b[1;31mAttributeError\u001b[0m                            Traceback (most recent call last)",
      "\u001b[1;32m<ipython-input-81-e8f58b980bd3>\u001b[0m in \u001b[0;36m<module>\u001b[1;34m\u001b[0m\n\u001b[0;32m      1\u001b[0m \u001b[1;31m# Update the dtype of the production_budget column\u001b[0m\u001b[1;33m\u001b[0m\u001b[1;33m\u001b[0m\u001b[1;33m\u001b[0m\u001b[0m\n\u001b[1;32m----> 2\u001b[1;33m \u001b[0mbudget_df\u001b[0m\u001b[1;33m[\u001b[0m\u001b[1;34m'production_budget'\u001b[0m\u001b[1;33m]\u001b[0m \u001b[1;33m=\u001b[0m \u001b[0mbudget_df\u001b[0m\u001b[1;33m[\u001b[0m\u001b[1;34m'production_budget'\u001b[0m\u001b[1;33m]\u001b[0m\u001b[1;33m.\u001b[0m\u001b[0mmap\u001b[0m\u001b[1;33m(\u001b[0m\u001b[0mmoney_to_float\u001b[0m\u001b[1;33m)\u001b[0m\u001b[1;33m\u001b[0m\u001b[1;33m\u001b[0m\u001b[0m\n\u001b[0m",
      "\u001b[1;32m~\\Anaconda3\\envs\\learn-env\\lib\\site-packages\\pandas\\core\\series.py\u001b[0m in \u001b[0;36mmap\u001b[1;34m(self, arg, na_action)\u001b[0m\n\u001b[0;32m   3968\u001b[0m         \u001b[0mdtype\u001b[0m\u001b[1;33m:\u001b[0m \u001b[0mobject\u001b[0m\u001b[1;33m\u001b[0m\u001b[1;33m\u001b[0m\u001b[0m\n\u001b[0;32m   3969\u001b[0m         \"\"\"\n\u001b[1;32m-> 3970\u001b[1;33m         \u001b[0mnew_values\u001b[0m \u001b[1;33m=\u001b[0m \u001b[0msuper\u001b[0m\u001b[1;33m(\u001b[0m\u001b[1;33m)\u001b[0m\u001b[1;33m.\u001b[0m\u001b[0m_map_values\u001b[0m\u001b[1;33m(\u001b[0m\u001b[0marg\u001b[0m\u001b[1;33m,\u001b[0m \u001b[0mna_action\u001b[0m\u001b[1;33m=\u001b[0m\u001b[0mna_action\u001b[0m\u001b[1;33m)\u001b[0m\u001b[1;33m\u001b[0m\u001b[1;33m\u001b[0m\u001b[0m\n\u001b[0m\u001b[0;32m   3971\u001b[0m         return self._constructor(new_values, index=self.index).__finalize__(\n\u001b[0;32m   3972\u001b[0m             \u001b[0mself\u001b[0m\u001b[1;33m,\u001b[0m \u001b[0mmethod\u001b[0m\u001b[1;33m=\u001b[0m\u001b[1;34m\"map\"\u001b[0m\u001b[1;33m\u001b[0m\u001b[1;33m\u001b[0m\u001b[0m\n",
      "\u001b[1;32m~\\Anaconda3\\envs\\learn-env\\lib\\site-packages\\pandas\\core\\base.py\u001b[0m in \u001b[0;36m_map_values\u001b[1;34m(self, mapper, na_action)\u001b[0m\n\u001b[0;32m   1158\u001b[0m \u001b[1;33m\u001b[0m\u001b[0m\n\u001b[0;32m   1159\u001b[0m         \u001b[1;31m# mapper is a function\u001b[0m\u001b[1;33m\u001b[0m\u001b[1;33m\u001b[0m\u001b[1;33m\u001b[0m\u001b[0m\n\u001b[1;32m-> 1160\u001b[1;33m         \u001b[0mnew_values\u001b[0m \u001b[1;33m=\u001b[0m \u001b[0mmap_f\u001b[0m\u001b[1;33m(\u001b[0m\u001b[0mvalues\u001b[0m\u001b[1;33m,\u001b[0m \u001b[0mmapper\u001b[0m\u001b[1;33m)\u001b[0m\u001b[1;33m\u001b[0m\u001b[1;33m\u001b[0m\u001b[0m\n\u001b[0m\u001b[0;32m   1161\u001b[0m \u001b[1;33m\u001b[0m\u001b[0m\n\u001b[0;32m   1162\u001b[0m         \u001b[1;32mreturn\u001b[0m \u001b[0mnew_values\u001b[0m\u001b[1;33m\u001b[0m\u001b[1;33m\u001b[0m\u001b[0m\n",
      "\u001b[1;32mpandas\\_libs\\lib.pyx\u001b[0m in \u001b[0;36mpandas._libs.lib.map_infer\u001b[1;34m()\u001b[0m\n",
      "\u001b[1;32m<ipython-input-79-b01603b30499>\u001b[0m in \u001b[0;36m<lambda>\u001b[1;34m(x)\u001b[0m\n\u001b[0;32m      1\u001b[0m \u001b[1;31m# Let's define a function that will parse through a string of $xxx,xxx,xxx and turn it into a float\u001b[0m\u001b[1;33m\u001b[0m\u001b[1;33m\u001b[0m\u001b[1;33m\u001b[0m\u001b[0m\n\u001b[1;32m----> 2\u001b[1;33m \u001b[0mmoney_to_float\u001b[0m \u001b[1;33m=\u001b[0m \u001b[1;32mlambda\u001b[0m \u001b[0mx\u001b[0m\u001b[1;33m:\u001b[0m \u001b[0mfloat\u001b[0m\u001b[1;33m(\u001b[0m\u001b[0mx\u001b[0m\u001b[1;33m.\u001b[0m\u001b[0mreplace\u001b[0m\u001b[1;33m(\u001b[0m\u001b[1;34m'$'\u001b[0m\u001b[1;33m,\u001b[0m\u001b[1;34m''\u001b[0m\u001b[1;33m)\u001b[0m\u001b[1;33m.\u001b[0m\u001b[0mreplace\u001b[0m\u001b[1;33m(\u001b[0m\u001b[1;34m','\u001b[0m\u001b[1;33m,\u001b[0m\u001b[1;34m''\u001b[0m\u001b[1;33m)\u001b[0m\u001b[1;33m)\u001b[0m\u001b[1;33m\u001b[0m\u001b[1;33m\u001b[0m\u001b[0m\n\u001b[0m",
      "\u001b[1;31mAttributeError\u001b[0m: 'float' object has no attribute 'replace'"
     ]
    }
   ],
   "source": [
    "# Update the dtype of the production_budget column \n",
    "budget_df['production_budget'] = budget_df['production_budget'].map(money_to_float)"
   ]
  },
  {
   "cell_type": "code",
   "execution_count": 78,
   "metadata": {
    "ExecuteTime": {
     "end_time": "2022-08-21T22:26:26.033299Z",
     "start_time": "2022-08-21T22:26:26.009299Z"
    }
   },
   "outputs": [
    {
     "ename": "AttributeError",
     "evalue": "'float' object has no attribute 'replace'",
     "output_type": "error",
     "traceback": [
      "\u001b[1;31m---------------------------------------------------------------------------\u001b[0m",
      "\u001b[1;31mAttributeError\u001b[0m                            Traceback (most recent call last)",
      "\u001b[1;32m<ipython-input-78-f96a1afd7443>\u001b[0m in \u001b[0;36m<module>\u001b[1;34m\u001b[0m\n\u001b[0;32m      1\u001b[0m \u001b[1;31m# Update the dtype of the domestic_gross column\u001b[0m\u001b[1;33m\u001b[0m\u001b[1;33m\u001b[0m\u001b[1;33m\u001b[0m\u001b[0m\n\u001b[1;32m----> 2\u001b[1;33m \u001b[0mbudget_df\u001b[0m\u001b[1;33m[\u001b[0m\u001b[1;34m'domestic_gross'\u001b[0m\u001b[1;33m]\u001b[0m \u001b[1;33m=\u001b[0m \u001b[0mbudget_df\u001b[0m\u001b[1;33m[\u001b[0m\u001b[1;34m'domestic_gross'\u001b[0m\u001b[1;33m]\u001b[0m\u001b[1;33m.\u001b[0m\u001b[0mmap\u001b[0m\u001b[1;33m(\u001b[0m\u001b[0mmoney_to_float\u001b[0m\u001b[1;33m)\u001b[0m\u001b[1;33m\u001b[0m\u001b[1;33m\u001b[0m\u001b[0m\n\u001b[0m",
      "\u001b[1;32m~\\Anaconda3\\envs\\learn-env\\lib\\site-packages\\pandas\\core\\series.py\u001b[0m in \u001b[0;36mmap\u001b[1;34m(self, arg, na_action)\u001b[0m\n\u001b[0;32m   3968\u001b[0m         \u001b[0mdtype\u001b[0m\u001b[1;33m:\u001b[0m \u001b[0mobject\u001b[0m\u001b[1;33m\u001b[0m\u001b[1;33m\u001b[0m\u001b[0m\n\u001b[0;32m   3969\u001b[0m         \"\"\"\n\u001b[1;32m-> 3970\u001b[1;33m         \u001b[0mnew_values\u001b[0m \u001b[1;33m=\u001b[0m \u001b[0msuper\u001b[0m\u001b[1;33m(\u001b[0m\u001b[1;33m)\u001b[0m\u001b[1;33m.\u001b[0m\u001b[0m_map_values\u001b[0m\u001b[1;33m(\u001b[0m\u001b[0marg\u001b[0m\u001b[1;33m,\u001b[0m \u001b[0mna_action\u001b[0m\u001b[1;33m=\u001b[0m\u001b[0mna_action\u001b[0m\u001b[1;33m)\u001b[0m\u001b[1;33m\u001b[0m\u001b[1;33m\u001b[0m\u001b[0m\n\u001b[0m\u001b[0;32m   3971\u001b[0m         return self._constructor(new_values, index=self.index).__finalize__(\n\u001b[0;32m   3972\u001b[0m             \u001b[0mself\u001b[0m\u001b[1;33m,\u001b[0m \u001b[0mmethod\u001b[0m\u001b[1;33m=\u001b[0m\u001b[1;34m\"map\"\u001b[0m\u001b[1;33m\u001b[0m\u001b[1;33m\u001b[0m\u001b[0m\n",
      "\u001b[1;32m~\\Anaconda3\\envs\\learn-env\\lib\\site-packages\\pandas\\core\\base.py\u001b[0m in \u001b[0;36m_map_values\u001b[1;34m(self, mapper, na_action)\u001b[0m\n\u001b[0;32m   1158\u001b[0m \u001b[1;33m\u001b[0m\u001b[0m\n\u001b[0;32m   1159\u001b[0m         \u001b[1;31m# mapper is a function\u001b[0m\u001b[1;33m\u001b[0m\u001b[1;33m\u001b[0m\u001b[1;33m\u001b[0m\u001b[0m\n\u001b[1;32m-> 1160\u001b[1;33m         \u001b[0mnew_values\u001b[0m \u001b[1;33m=\u001b[0m \u001b[0mmap_f\u001b[0m\u001b[1;33m(\u001b[0m\u001b[0mvalues\u001b[0m\u001b[1;33m,\u001b[0m \u001b[0mmapper\u001b[0m\u001b[1;33m)\u001b[0m\u001b[1;33m\u001b[0m\u001b[1;33m\u001b[0m\u001b[0m\n\u001b[0m\u001b[0;32m   1161\u001b[0m \u001b[1;33m\u001b[0m\u001b[0m\n\u001b[0;32m   1162\u001b[0m         \u001b[1;32mreturn\u001b[0m \u001b[0mnew_values\u001b[0m\u001b[1;33m\u001b[0m\u001b[1;33m\u001b[0m\u001b[0m\n",
      "\u001b[1;32mpandas\\_libs\\lib.pyx\u001b[0m in \u001b[0;36mpandas._libs.lib.map_infer\u001b[1;34m()\u001b[0m\n",
      "\u001b[1;32m<ipython-input-75-b01603b30499>\u001b[0m in \u001b[0;36m<lambda>\u001b[1;34m(x)\u001b[0m\n\u001b[0;32m      1\u001b[0m \u001b[1;31m# Let's define a function that will parse through a string of $xxx,xxx,xxx and turn it into a float\u001b[0m\u001b[1;33m\u001b[0m\u001b[1;33m\u001b[0m\u001b[1;33m\u001b[0m\u001b[0m\n\u001b[1;32m----> 2\u001b[1;33m \u001b[0mmoney_to_float\u001b[0m \u001b[1;33m=\u001b[0m \u001b[1;32mlambda\u001b[0m \u001b[0mx\u001b[0m\u001b[1;33m:\u001b[0m \u001b[0mfloat\u001b[0m\u001b[1;33m(\u001b[0m\u001b[0mx\u001b[0m\u001b[1;33m.\u001b[0m\u001b[0mreplace\u001b[0m\u001b[1;33m(\u001b[0m\u001b[1;34m'$'\u001b[0m\u001b[1;33m,\u001b[0m\u001b[1;34m''\u001b[0m\u001b[1;33m)\u001b[0m\u001b[1;33m.\u001b[0m\u001b[0mreplace\u001b[0m\u001b[1;33m(\u001b[0m\u001b[1;34m','\u001b[0m\u001b[1;33m,\u001b[0m\u001b[1;34m''\u001b[0m\u001b[1;33m)\u001b[0m\u001b[1;33m)\u001b[0m\u001b[1;33m\u001b[0m\u001b[1;33m\u001b[0m\u001b[0m\n\u001b[0m",
      "\u001b[1;31mAttributeError\u001b[0m: 'float' object has no attribute 'replace'"
     ]
    }
   ],
   "source": [
    "# Update the dtype of the domestic_gross column \n",
    "budget_df['domestic_gross'] = budget_df['domestic_gross'].map(money_to_float)"
   ]
  },
  {
   "cell_type": "code",
   "execution_count": 47,
   "metadata": {
    "ExecuteTime": {
     "end_time": "2022-08-21T22:23:19.408503Z",
     "start_time": "2022-08-21T22:23:19.393505Z"
    }
   },
   "outputs": [],
   "source": [
    "# Update the dtype of the worldwide_gross column \n",
    "budget_df['worldwide_gross'] = budget_df['worldwide_gross'].map(money_to_float)"
   ]
  },
  {
   "cell_type": "code",
   "execution_count": 48,
   "metadata": {
    "ExecuteTime": {
     "end_time": "2022-08-21T22:23:19.641733Z",
     "start_time": "2022-08-21T22:23:19.631734Z"
    }
   },
   "outputs": [],
   "source": [
    "# Test to make sure it worked\n",
    "assert budget_df['production_budget'].dtype == np.float64"
   ]
  },
  {
   "cell_type": "code",
   "execution_count": 49,
   "metadata": {
    "ExecuteTime": {
     "end_time": "2022-08-21T22:23:20.407497Z",
     "start_time": "2022-08-21T22:23:19.982500Z"
    }
   },
   "outputs": [],
   "source": [
    "# Let's make the release date an int dtype that only has the year\n",
    "budget_df['release_date'] = pd.to_datetime(budget_df['release_date']).dt.year"
   ]
  },
  {
   "cell_type": "code",
   "execution_count": 50,
   "metadata": {
    "ExecuteTime": {
     "end_time": "2022-08-21T22:23:20.439497Z",
     "start_time": "2022-08-21T22:23:20.425498Z"
    }
   },
   "outputs": [],
   "source": [
    "# Test to make sure the dtype is now correct\n",
    "assert budget_df['release_date'].dtype == np.int64"
   ]
  },
  {
   "cell_type": "code",
   "execution_count": 51,
   "metadata": {
    "ExecuteTime": {
     "end_time": "2022-08-21T22:23:20.485498Z",
     "start_time": "2022-08-21T22:23:20.480497Z"
    }
   },
   "outputs": [],
   "source": [
    "# < 10% of data is $0, so lets drop those records\n",
    "budget_df = budget_df[budget_df['domestic_gross'] != 0]"
   ]
  },
  {
   "cell_type": "code",
   "execution_count": 52,
   "metadata": {
    "ExecuteTime": {
     "end_time": "2022-08-21T22:23:20.657045Z",
     "start_time": "2022-08-21T22:23:20.650040Z"
    }
   },
   "outputs": [],
   "source": [
    "# Test to make sure we dropped correctly\n",
    "assert len(budget_df[budget_df['domestic_gross'] == 0]) == 0\n",
    "assert len(budget_df[budget_df['worldwide_gross'] == 0]) == 0"
   ]
  },
  {
   "cell_type": "code",
   "execution_count": 53,
   "metadata": {
    "ExecuteTime": {
     "end_time": "2022-08-21T22:23:20.813165Z",
     "start_time": "2022-08-21T22:23:20.801166Z"
    }
   },
   "outputs": [],
   "source": [
    "# Finally, we can normalize monetary columns to the millions \n",
    "budget_df['production_budget'] = budget_df['production_budget']/1000000\n",
    "budget_df['domestic_gross'] = budget_df['domestic_gross']/1000000\n",
    "budget_df['worldwide_gross'] = budget_df['worldwide_gross']/1000000"
   ]
  },
  {
   "cell_type": "markdown",
   "metadata": {},
   "source": [
    "### Preparing the IMDB Dataset"
   ]
  },
  {
   "cell_type": "code",
   "execution_count": 54,
   "metadata": {
    "ExecuteTime": {
     "end_time": "2022-08-21T22:23:21.353667Z",
     "start_time": "2022-08-21T22:23:21.339667Z"
    }
   },
   "outputs": [
    {
     "ename": "NameError",
     "evalue": "name 'rateings_df' is not defined",
     "output_type": "error",
     "traceback": [
      "\u001b[1;31m---------------------------------------------------------------------------\u001b[0m",
      "\u001b[1;31mNameError\u001b[0m                                 Traceback (most recent call last)",
      "\u001b[1;32m<ipython-input-54-84026ff8b2c3>\u001b[0m in \u001b[0;36m<module>\u001b[1;34m\u001b[0m\n\u001b[0;32m      1\u001b[0m \u001b[1;31m# For the sake of our analysis, we can drop unnecessary columns\u001b[0m\u001b[1;33m\u001b[0m\u001b[1;33m\u001b[0m\u001b[1;33m\u001b[0m\u001b[0m\n\u001b[0;32m      2\u001b[0m \u001b[0mto_drop\u001b[0m \u001b[1;33m=\u001b[0m \u001b[1;33m[\u001b[0m\u001b[1;34m'movie_id'\u001b[0m\u001b[1;33m,\u001b[0m \u001b[1;34m'original_title'\u001b[0m\u001b[1;33m,\u001b[0m \u001b[1;34m'start_year'\u001b[0m\u001b[1;33m,\u001b[0m \u001b[1;34m'runtime_minutes'\u001b[0m\u001b[1;33m]\u001b[0m\u001b[1;33m\u001b[0m\u001b[1;33m\u001b[0m\u001b[0m\n\u001b[1;32m----> 3\u001b[1;33m \u001b[0mratings_df\u001b[0m \u001b[1;33m=\u001b[0m \u001b[0mrateings_df\u001b[0m\u001b[1;33m.\u001b[0m\u001b[0mdrop\u001b[0m\u001b[1;33m(\u001b[0m\u001b[0mlabels\u001b[0m\u001b[1;33m=\u001b[0m\u001b[0mto_drop\u001b[0m\u001b[1;33m,\u001b[0m \u001b[0maxis\u001b[0m\u001b[1;33m=\u001b[0m\u001b[1;36m1\u001b[0m\u001b[1;33m)\u001b[0m\u001b[1;33m\u001b[0m\u001b[1;33m\u001b[0m\u001b[0m\n\u001b[0m",
      "\u001b[1;31mNameError\u001b[0m: name 'rateings_df' is not defined"
     ]
    }
   ],
   "source": [
    "# For the sake of our analysis, we can drop unnecessary columns \n",
    "to_drop = ['movie_id', 'original_title', 'start_year', 'runtime_minutes']\n",
    "ratings_df = rateings_df.drop(labels=to_drop, axis=1)"
   ]
  },
  {
   "cell_type": "code",
   "execution_count": 55,
   "metadata": {
    "ExecuteTime": {
     "end_time": "2022-08-21T22:23:21.507043Z",
     "start_time": "2022-08-21T22:23:21.492042Z"
    }
   },
   "outputs": [
    {
     "ename": "NameError",
     "evalue": "name 'rate_genre_df' is not defined",
     "output_type": "error",
     "traceback": [
      "\u001b[1;31m---------------------------------------------------------------------------\u001b[0m",
      "\u001b[1;31mNameError\u001b[0m                                 Traceback (most recent call last)",
      "\u001b[1;32m<ipython-input-55-792e86c6a7d0>\u001b[0m in \u001b[0;36m<module>\u001b[1;34m\u001b[0m\n\u001b[0;32m      1\u001b[0m \u001b[1;31m# Let's change the titles to avoid any conflicts with spacings\u001b[0m\u001b[1;33m\u001b[0m\u001b[1;33m\u001b[0m\u001b[1;33m\u001b[0m\u001b[0m\n\u001b[1;32m----> 2\u001b[1;33m \u001b[0mrate_genre_df\u001b[0m\u001b[1;33m[\u001b[0m\u001b[1;34m'primary_title'\u001b[0m\u001b[1;33m]\u001b[0m \u001b[1;33m=\u001b[0m \u001b[0mrate_genre_df\u001b[0m\u001b[1;33m[\u001b[0m\u001b[1;34m'primary_title'\u001b[0m\u001b[1;33m]\u001b[0m\u001b[1;33m.\u001b[0m\u001b[0mmap\u001b[0m\u001b[1;33m(\u001b[0m\u001b[1;32mlambda\u001b[0m \u001b[0mx\u001b[0m\u001b[1;33m:\u001b[0m \u001b[0mx\u001b[0m\u001b[1;33m.\u001b[0m\u001b[0mstrip\u001b[0m\u001b[1;33m(\u001b[0m\u001b[1;33m)\u001b[0m\u001b[1;33m.\u001b[0m\u001b[0mlower\u001b[0m\u001b[1;33m(\u001b[0m\u001b[1;33m)\u001b[0m\u001b[1;33m.\u001b[0m\u001b[0mreplace\u001b[0m\u001b[1;33m(\u001b[0m\u001b[1;34m\" \"\u001b[0m\u001b[1;33m,\u001b[0m \u001b[1;34m\"\"\u001b[0m\u001b[1;33m)\u001b[0m\u001b[1;33m)\u001b[0m\u001b[1;33m\u001b[0m\u001b[1;33m\u001b[0m\u001b[0m\n\u001b[0m",
      "\u001b[1;31mNameError\u001b[0m: name 'rate_genre_df' is not defined"
     ]
    }
   ],
   "source": [
    "# Let's change the titles to avoid any conflicts with spacings\n",
    "rate_genre_df['primary_title'] = rate_genre_df['primary_title'].map(lambda x: x.strip().lower().replace(\" \", \"\"))"
   ]
  },
  {
   "cell_type": "code",
   "execution_count": 56,
   "metadata": {
    "ExecuteTime": {
     "end_time": "2022-08-21T22:23:22.853864Z",
     "start_time": "2022-08-21T22:23:22.839867Z"
    }
   },
   "outputs": [
    {
     "ename": "NameError",
     "evalue": "name 'ratings_df' is not defined",
     "output_type": "error",
     "traceback": [
      "\u001b[1;31m---------------------------------------------------------------------------\u001b[0m",
      "\u001b[1;31mNameError\u001b[0m                                 Traceback (most recent call last)",
      "\u001b[1;32m<ipython-input-56-b10ba7be393a>\u001b[0m in \u001b[0;36m<module>\u001b[1;34m\u001b[0m\n\u001b[0;32m      1\u001b[0m \u001b[1;31m# Let's filter out any movies that have a bottom 25% number of votes\u001b[0m\u001b[1;33m\u001b[0m\u001b[1;33m\u001b[0m\u001b[1;33m\u001b[0m\u001b[0m\n\u001b[1;32m----> 2\u001b[1;33m \u001b[0mratings_df\u001b[0m \u001b[1;33m=\u001b[0m \u001b[0mratings_df\u001b[0m\u001b[1;33m[\u001b[0m\u001b[0mratings_df\u001b[0m\u001b[1;33m[\u001b[0m\u001b[1;34m'numvotes'\u001b[0m\u001b[1;33m]\u001b[0m \u001b[1;33m>=\u001b[0m \u001b[1;36m62\u001b[0m\u001b[1;33m]\u001b[0m\u001b[1;33m\u001b[0m\u001b[1;33m\u001b[0m\u001b[0m\n\u001b[0m",
      "\u001b[1;31mNameError\u001b[0m: name 'ratings_df' is not defined"
     ]
    }
   ],
   "source": [
    "# Let's filter out any movies that have a bottom 25% number of votes \n",
    "ratings_df = ratings_df[ratings_df['numvotes'] >= 62]"
   ]
  },
  {
   "cell_type": "markdown",
   "metadata": {},
   "source": [
    "## Data Analysis & Visualizations"
   ]
  },
  {
   "cell_type": "markdown",
   "metadata": {},
   "source": [
    "### Box Office Mojo Analysis"
   ]
  },
  {
   "cell_type": "code",
   "execution_count": 26,
   "metadata": {
    "ExecuteTime": {
     "end_time": "2022-08-21T22:30:13.945518Z",
     "start_time": "2022-08-21T22:30:13.934531Z"
    },
    "scrolled": true
   },
   "outputs": [
    {
     "data": {
      "text/plain": [
       "1476       0.000263\n",
       "2757       0.000789\n",
       "2756       0.000789\n",
       "2321       0.000789\n",
       "3078       0.001053\n",
       "           ...     \n",
       "2758    1332.600000\n",
       "328     1341.500000\n",
       "3080    1347.000000\n",
       "1875    1405.400000\n",
       "727     1518.900000\n",
       "Name: total_gross, Length: 3359, dtype: float64"
      ]
     },
     "execution_count": 26,
     "metadata": {},
     "output_type": "execute_result"
    }
   ],
   "source": [
    "# Let's take a look at the previously made \n",
    "# total_gross column\n",
    "movie_gross_df['total_gross'].sort_values()"
   ]
  },
  {
   "cell_type": "code",
   "execution_count": 27,
   "metadata": {
    "ExecuteTime": {
     "end_time": "2022-08-21T22:30:17.287459Z",
     "start_time": "2022-08-21T22:30:17.273460Z"
    }
   },
   "outputs": [
    {
     "data": {
      "text/plain": [
       "title             marvel'stheavengers\n",
       "studio                             BV\n",
       "domestic_gross                  623.4\n",
       "foreign_gross                   895.5\n",
       "year                             2012\n",
       "total_gross                    1518.9\n",
       "Name: 727, dtype: object"
      ]
     },
     "execution_count": 27,
     "metadata": {},
     "output_type": "execute_result"
    }
   ],
   "source": [
    "# Let's see what movie grossed the most \n",
    "movie_gross_df.loc[movie_gross_df['total_gross'].idxmax(), :]"
   ]
  },
  {
   "cell_type": "code",
   "execution_count": 28,
   "metadata": {
    "ExecuteTime": {
     "end_time": "2022-08-21T22:30:19.053354Z",
     "start_time": "2022-08-21T22:30:19.040355Z"
    }
   },
   "outputs": [
    {
     "data": {
      "text/plain": [
       "title             starwars:theforceawakens\n",
       "studio                                  BV\n",
       "domestic_gross                       936.7\n",
       "foreign_gross                    0.0011316\n",
       "year                                  2015\n",
       "total_gross                        936.701\n",
       "Name: 1872, dtype: object"
      ]
     },
     "execution_count": 28,
     "metadata": {},
     "output_type": "execute_result"
    }
   ],
   "source": [
    "# Let's see what film did the best in terms of domestic gross \n",
    "movie_gross_df.loc[movie_gross_df['domestic_gross'].idxmax(), :]"
   ]
  },
  {
   "cell_type": "code",
   "execution_count": 29,
   "metadata": {
    "ExecuteTime": {
     "end_time": "2022-08-21T22:30:20.692286Z",
     "start_time": "2022-08-21T22:30:20.679287Z"
    }
   },
   "outputs": [
    {
     "data": {
      "text/plain": [
       "title             harrypotterandthedeathlyhallowspart2\n",
       "studio                                              WB\n",
       "domestic_gross                                     381\n",
       "foreign_gross                                    960.5\n",
       "year                                              2011\n",
       "total_gross                                     1341.5\n",
       "Name: 328, dtype: object"
      ]
     },
     "execution_count": 29,
     "metadata": {},
     "output_type": "execute_result"
    }
   ],
   "source": [
    "# Let's see what film did the best in terms of foreign gross \n",
    "movie_gross_df.loc[movie_gross_df['foreign_gross'].idxmax(), :]"
   ]
  },
  {
   "cell_type": "code",
   "execution_count": 30,
   "metadata": {
    "ExecuteTime": {
     "end_time": "2022-08-21T22:30:21.754294Z",
     "start_time": "2022-08-21T22:30:21.565282Z"
    }
   },
   "outputs": [
    {
     "data": {
      "image/png": "[encoded data removed]",
      "text/plain": [
       "<Figure size 432x288 with 1 Axes>"
      ]
     },
     "metadata": {},
     "output_type": "display_data"
    }
   ],
   "source": [
    "# Lets visualize the distribution of total gross data \n",
    "fig, axs = plt.subplots()\n",
    "movie_gross_df['total_gross'].plot.hist(bins=20, ax=axs)\n",
    "axs.set_title('Distribution of Total Gross Data');"
   ]
  },
  {
   "cell_type": "code",
   "execution_count": 33,
   "metadata": {
    "ExecuteTime": {
     "end_time": "2022-08-21T22:33:30.692961Z",
     "start_time": "2022-08-21T22:33:30.531965Z"
    }
   },
   "outputs": [
    {
     "name": "stderr",
     "output_type": "stream",
     "text": [
      "*c* argument looks like a single numeric RGB or RGBA sequence, which should be avoided as value-mapping will have precedence in case its length matches with *x* & *y*.  Please use the *color* keyword-argument or provide a 2-D array with a single row if you intend to specify the same RGB or RGBA value for all points.\n"
     ]
    },
    {
     "data": {
      "image/png": "[encoded data removed]",
      "text/plain": [
       "<Figure size 432x288 with 1 Axes>"
      ]
     },
     "metadata": {},
     "output_type": "display_data"
    }
   ],
   "source": [
    "# Lets visually see the correlation between domestic and foreign gross\n",
    "fig, axs = plt.subplots()\n",
    "movie_gross_df.plot.scatter('domestic_gross', 'foreign_gross', ax=axs)\n",
    "yhat = np.poly1d(np.polyfit(movie_gross_df['domestic_gross'], movie_gross_df['foreign_gross'],1))(movie_gross_df['domestic_gross'])\n",
    "axs.plot(movie_gross_df['domestic_gross'], yhat, \"r--\")\n",
    "axs.set_title('Foreign Gross vs Domestic Gross')\n",
    "axs.set_xlabel('Domestic Gross in Millions')\n",
    "axs.set_ylabel('Foreign Gross in Millions');"
   ]
  },
  {
   "cell_type": "markdown",
   "metadata": {},
   "source": [
    "### The Numbers Analysis"
   ]
  },
  {
   "cell_type": "code",
   "execution_count": null,
   "metadata": {},
   "outputs": [],
   "source": []
  },
  {
   "cell_type": "markdown",
   "metadata": {},
   "source": [
    "### IMDB Analysis "
   ]
  },
  {
   "cell_type": "code",
   "execution_count": null,
   "metadata": {
    "ExecuteTime": {
     "end_time": "2022-08-21T22:08:28.545722Z",
     "start_time": "2022-08-21T22:08:27.035Z"
    }
   },
   "outputs": [],
   "source": [
    "# removing rows with any null values\n",
    "ratings_df.dropna(how='any', axis=0, inplace=True)"
   ]
  },
  {
   "cell_type": "code",
   "execution_count": null,
   "metadata": {
    "ExecuteTime": {
     "end_time": "2022-08-21T22:08:28.546726Z",
     "start_time": "2022-08-21T22:08:27.036Z"
    }
   },
   "outputs": [],
   "source": [
    "# creating a function to format genres\n",
    "def clean_genres(genres):\n",
    "    '''\n",
    "    Takes a list of genres and builds a string from the list\n",
    "    for easier aggregation and comparison. \n",
    "    -\n",
    "    Input:\n",
    "    genres : list of genres to be converted\n",
    "    -\n",
    "    Output:\n",
    "    lowercase, comma-separated string built from list \n",
    "    '''\n",
    "    genres = str(genres)\n",
    "    genres_list = sorted(genres.lower().split(','))\n",
    "    return ','.join(list(map(str, genres_list)))"
   ]
  },
  {
   "cell_type": "code",
   "execution_count": null,
   "metadata": {
    "ExecuteTime": {
     "end_time": "2022-08-21T22:08:28.546726Z",
     "start_time": "2022-08-21T22:08:27.038Z"
    }
   },
   "outputs": [],
   "source": [
    "# apply clean_genres function to ratings dataset\n",
    "ratings_df['genres'] = ratings_df['genres'].apply(clean_genres)\n",
    "ratings_df.head()"
   ]
  },
  {
   "cell_type": "markdown",
   "metadata": {},
   "source": [
    "### Highest-Rated Genres\n",
    "To determine which genres had the highest average ratings, we first joined the __movie_basics__ and __movie_ratings__ tables to relate each movie's ID to its primary title.\n",
    "\n",
    "We then grouped movies by genre and took the average rating of each genre. Through this, we found that the highest-rated genres were __documentary__ and __animation__."
   ]
  },
  {
   "cell_type": "code",
   "execution_count": null,
   "metadata": {
    "ExecuteTime": {
     "end_time": "2022-08-21T22:08:28.547722Z",
     "start_time": "2022-08-21T22:08:27.039Z"
    }
   },
   "outputs": [],
   "source": [
    "# grouping ratings dataset by genre\n",
    "ratings_df['genres'].value_counts()\n",
    "sorted_by_avg = ratings_df.groupby('genres').mean().sort_values(by='averagerating', ascending=False)"
   ]
  },
  {
   "cell_type": "code",
   "execution_count": null,
   "metadata": {
    "ExecuteTime": {
     "end_time": "2022-08-21T22:08:28.548720Z",
     "start_time": "2022-08-21T22:08:27.041Z"
    }
   },
   "outputs": [],
   "source": [
    "# filter out movie genres with less than 62 total votes\n",
    "sorted_avg_higher_votes = sorted_by_avg[sorted_by_avg['numvotes'] >= 62].head(15)\n",
    "sorted_avg_higher_votes.reset_index(inplace=True)"
   ]
  },
  {
   "cell_type": "markdown",
   "metadata": {},
   "source": [
    "We decided to filter out genres with less than 62 total votes based on the box-and-whisker plot below. The 25th percentile of votes per genre was 62."
   ]
  },
  {
   "cell_type": "code",
   "execution_count": null,
   "metadata": {
    "ExecuteTime": {
     "end_time": "2022-08-21T22:08:28.548720Z",
     "start_time": "2022-08-21T22:08:27.042Z"
    }
   },
   "outputs": [],
   "source": [
    "# outliers removed to improve quartile readability \n",
    "fig, ax = plt.subplots()\n",
    "sns.boxplot(x = sorted_avg_higher_votes['numvotes'], showfliers=False, color='b');\n",
    "ax.set_title('Distribution of Movie Votes\\n(Outliers Removed)')\n",
    "ax.set_xlabel('Number of Votes')\n",
    "ax.set_xticks(range(0, 1051, 100));"
   ]
  },
  {
   "cell_type": "code",
   "execution_count": null,
   "metadata": {
    "ExecuteTime": {
     "end_time": "2022-08-21T22:08:28.549720Z",
     "start_time": "2022-08-21T22:08:27.044Z"
    }
   },
   "outputs": [],
   "source": [
    "# 15 highest-rated movie genres with more than 62 total votes\n",
    "highest_rated_genres = sorted_avg_higher_votes[['genres', 'averagerating']]\n",
    "highest_rated_genres['averagerating'] = highest_rated_genres['averagerating'].round(2)\n",
    "highest_rated_genres"
   ]
  },
  {
   "cell_type": "code",
   "execution_count": null,
   "metadata": {
    "ExecuteTime": {
     "end_time": "2022-08-21T22:08:28.550720Z",
     "start_time": "2022-08-21T22:08:27.045Z"
    }
   },
   "outputs": [],
   "source": [
    "# make count of each of these individual genres in dictionary\n",
    "top_genres = {}\n",
    "for genre in sorted_avg_higher_votes['genres'].value_counts().index:\n",
    "    genre_list = genre.split(',')\n",
    "    for item in genre_list:\n",
    "        if item not in top_genres:\n",
    "            top_genres[item] = 1\n",
    "        elif item in top_genres:\n",
    "            top_genres[item] += 1\n",
    "top_genres = dict(sorted(top_genres.items(), key = lambda x: x[1], reverse=True))"
   ]
  },
  {
   "cell_type": "markdown",
   "metadata": {},
   "source": [
    "The chart below shows that the top two highest rated genres are __documentary__ and __animation__."
   ]
  },
  {
   "cell_type": "code",
   "execution_count": null,
   "metadata": {
    "ExecuteTime": {
     "end_time": "2022-08-21T22:08:28.551720Z",
     "start_time": "2022-08-21T22:08:27.046Z"
    }
   },
   "outputs": [],
   "source": [
    "# bar chart showing most-used subgenres within top 15 highest-rated \n",
    "# movie genres\n",
    "fig, ax = plt.subplots()\n",
    "sns.barplot(x = list(top_genres.values()), y = list(top_genres.keys()), color = 'b');\n",
    "ax.set_title('Subgenres of Top 15 Hightest-Rated Genres')\n",
    "ax.set_xlabel('Number of Occurences')\n",
    "ax.set_ylabel('Genre');"
   ]
  },
  {
   "cell_type": "markdown",
   "metadata": {},
   "source": [
    "We wanted to compare these top-rated genres the genres of movies produced by the top-grossing movie production studio, which was Disney-Pixar (represented as BV studios in this dataset)."
   ]
  },
  {
   "cell_type": "code",
   "execution_count": null,
   "metadata": {
    "ExecuteTime": {
     "end_time": "2022-08-21T22:08:28.552719Z",
     "start_time": "2022-08-21T22:08:27.047Z"
    }
   },
   "outputs": [],
   "source": [
    "# dataframe with movie titles and studio\n",
    "movie_gross_df = pd.read_csv('zippedData/bom.movie_gross.csv.gz')\n",
    "movie_gross_df['title'] = movie_gross_df['title'].str.lower()"
   ]
  },
  {
   "cell_type": "code",
   "execution_count": null,
   "metadata": {
    "ExecuteTime": {
     "end_time": "2022-08-21T22:08:28.552719Z",
     "start_time": "2022-08-21T22:08:27.048Z"
    }
   },
   "outputs": [],
   "source": [
    "# dataframe from database with movie titles and genres\n",
    "movie_basics_df = pd.read_sql(\"\"\"SELECT *\n",
    "                                 FROM movie_basics\n",
    "                                 WHERE start_year >= 2010\"\"\", conn)\n",
    "movie_basics_df['primary_title'] = movie_basics_df['primary_title'].str.lower()"
   ]
  },
  {
   "cell_type": "code",
   "execution_count": null,
   "metadata": {
    "ExecuteTime": {
     "end_time": "2022-08-21T22:08:28.553720Z",
     "start_time": "2022-08-21T22:08:27.049Z"
    }
   },
   "outputs": [],
   "source": [
    "# inner join dataframes on title (movie_gross_df), primary_title (movie_basics_df)\n",
    "movie_genre_studio_df = pd.merge(movie_gross_df, movie_basics_df, \n",
    "                                 left_on='title', right_on='primary_title',\n",
    "                                 how='inner')\n",
    "# drop movies with no genres\n",
    "movie_genre_studio_df.dropna(subset=['genres'], inplace=True)\n",
    "# clean genre string for each row\n",
    "movie_genre_studio_df['genres'] = movie_genre_studio_df['genres'].apply(clean_genres)"
   ]
  },
  {
   "cell_type": "code",
   "execution_count": null,
   "metadata": {
    "ExecuteTime": {
     "end_time": "2022-08-21T22:08:28.554719Z",
     "start_time": "2022-08-21T22:08:27.050Z"
    }
   },
   "outputs": [],
   "source": [
    "# put movies from highest-performing studio into a dataframe\n",
    "bv_studio_movies = movie_genre_studio_df[movie_genre_studio_df['studio'] == 'BV']\n",
    "\n",
    "# bar chart showing number of movies per genre for BV studios\n",
    "fig, ax = plt.subplots()\n",
    "sns.countplot(data=bv_studio_movies, y='genres', \n",
    "              order=bv_studio_movies['genres'].value_counts().iloc[:10].index,\n",
    "              color = 'b')\n",
    "ax.set_xticks(range(0,21,2))\n",
    "ax.set_title('Count of Movies Per Genre Produced by BV Studios')\n",
    "ax.set_xlabel('Movie Count')\n",
    "ax.set_ylabel('Genre(s)');"
   ]
  },
  {
   "cell_type": "markdown",
   "metadata": {},
   "source": [
    "#### Recommendation\n",
    "Because animation was present in both the top-rated genres and the list of genres from movies made by the highest-grossing production studio, __we recommend that Computer Vision produce a movie in the animation category.__"
   ]
  },
  {
   "cell_type": "markdown",
   "metadata": {},
   "source": [
    "### Budget-to-Box Office Ratio"
   ]
  },
  {
   "cell_type": "code",
   "execution_count": null,
   "metadata": {
    "ExecuteTime": {
     "end_time": "2022-08-21T22:31:14.379520Z",
     "start_time": "2022-08-21T22:31:14.229238Z"
    }
   },
   "outputs": [],
   "source": [
    "# Let's start off by checking the scatter plot of budget and worldwide gross to gain intuition\n",
    "fig, axs = plt.subplots()\n",
    "budget_df.plot.scatter('production_budget', 'worldwide_gross', ax = axs)\n",
    "yhat = np.poly1d(np.polyfit(budget_df['production_budget'], budget_df['worldwide_gross'],1))(budget_df['production_budget'])\n",
    "axs.plot(budget_df['production_budget'], yhat, \"r--\")\n",
    "axs.set_title('Worldwide Gross vs Production Budget')\n",
    "axs.set_xlabel('Production Budget in Millions')\n",
    "axs.set_ylabel('Worldwide Gross in Millions')"
   ]
  },
  {
   "cell_type": "code",
   "execution_count": null,
   "metadata": {},
   "outputs": [],
   "source": [
    "# To be more concrete, lets also print out the correlation coefficient \n",
    "corr = np.corrcoef(budget_df['production_budget'], budget_df['worldwide_gross'])[0][1]\n",
    "print(f'The correlation between production budget and worldwide gross is {corr}')"
   ]
  },
  {
   "cell_type": "code",
   "execution_count": null,
   "metadata": {},
   "outputs": [],
   "source": [
    "# Lets see the average and median bg_ratio for high budget and low budget films\n",
    "fig, axs = plt.subplots()\n",
    "colors = ['r', 'b']\n",
    "budget_df.groupby('high_budget').median()['bg_ratio'].plot.bar(ax=axs, color = colors)\n",
    "labels = ['> 37 Mill', '< 37 Mill']\n",
    "handles = [plt.Rectangle((0,0),1,1, color=c) for c in colors]\n",
    "plt.legend(handles, labels)\n",
    "axs.set_title('Median Box Office to Gross Ratio for High/Low Budget Films')\n",
    "axs.set_xlabel('Budget')\n",
    "axs.set_ylabel('Box Office to Gross Ratio')"
   ]
  },
  {
   "cell_type": "code",
   "execution_count": null,
   "metadata": {},
   "outputs": [],
   "source": [
    "# To be concrete in giving a number, lets look at the top 300 best bg_ratio films and see what their average budget is \n",
    "prod_bud_bg = budget_df.sort_values(by='bg_ratio', ascending=False)['production_budget'][:300].mean()"
   ]
  },
  {
   "cell_type": "code",
   "execution_count": null,
   "metadata": {},
   "outputs": [],
   "source": [
    "# Next lets look at the top 300 best worldwide grossing films and see what that average is \n",
    "prod_bud_ww = budget_df.sort_values(by='worldwide_gross', ascending=False)['production_budget'][:300].mean()"
   ]
  },
  {
   "cell_type": "code",
   "execution_count": null,
   "metadata": {},
   "outputs": [],
   "source": [
    "# To give a concrete number on how much to spend, lets average these two together\n",
    "print(f'The studio should spend {(prod_bud_bg + prod_bud_ww)/2} on the film')"
   ]
  },
  {
   "cell_type": "markdown",
   "metadata": {},
   "source": [
    "#### Recommendation\n"
   ]
  },
  {
   "cell_type": "markdown",
   "metadata": {},
   "source": [
    "### Highest-Grossing Studios"
   ]
  },
  {
   "cell_type": "markdown",
   "metadata": {},
   "source": [
    "#### Recommendation"
   ]
  },
  {
   "cell_type": "markdown",
   "metadata": {},
   "source": [
    "## Statistical Communication"
   ]
  },
  {
   "cell_type": "markdown",
   "metadata": {},
   "source": [
    "After identifying __animation__ as the genre Computer Vision should pursue, we wanted to explore the difference between the genre's foreign and domestic gross. \n",
    "\n",
    "We hypothesized that:\n",
    "- A movie in the animation category will gross higher internationally than domestically. \n",
    "\n",
    "Based on the results of our t-test, we can determine where to allocate more marketing efforts to maximize profitability."
   ]
  },
  {
   "cell_type": "markdown",
   "metadata": {},
   "source": [
    "### T-test\n",
    "We want to know if __animation__ movies gross more internationally or domestically. \n",
    "- We chose the __animation__ genre because it is one of the genres with the highest average ratings, and appears as a genre in highly-grossing films from the highest-grossing studio (BV Studios, which turns out to be Disney/Pixar).\n",
    "\n",
    "Our __null hypothesis__ is that the animation genre grosses the same internationally and domestically.\n",
    "\n",
    "Our __alternative__ hypothesis is that animation movies gross more internationally than domestically. "
   ]
  },
  {
   "cell_type": "code",
   "execution_count": null,
   "metadata": {
    "ExecuteTime": {
     "end_time": "2022-08-21T22:08:28.555721Z",
     "start_time": "2022-08-21T22:08:27.053Z"
    }
   },
   "outputs": [],
   "source": [
    "# First, lets get the dataframe of only animation movies \n",
    "genre_to_grab = \"Animation\"\n",
    "\n",
    "ttest_df = combined[combined['genres'].str.contains(genre_to_grab)][['domestic_gross', 'foreign_gross']]\n"
   ]
  },
  {
   "cell_type": "code",
   "execution_count": null,
   "metadata": {
    "ExecuteTime": {
     "end_time": "2022-08-21T22:08:28.556720Z",
     "start_time": "2022-08-21T22:08:27.054Z"
    }
   },
   "outputs": [],
   "source": [
    "# Lets check to see if we have enough samples\n",
    "len(ttest_df)"
   ]
  },
  {
   "cell_type": "code",
   "execution_count": null,
   "metadata": {
    "ExecuteTime": {
     "end_time": "2022-08-21T22:08:28.556720Z",
     "start_time": "2022-08-21T22:08:27.056Z"
    }
   },
   "outputs": [],
   "source": [
    "# Lets look at the statistics to give us a basis for our intution\n",
    "ttest_df.describe()"
   ]
  },
  {
   "cell_type": "code",
   "execution_count": null,
   "metadata": {
    "ExecuteTime": {
     "end_time": "2022-08-21T22:08:28.557720Z",
     "start_time": "2022-08-21T22:08:27.057Z"
    }
   },
   "outputs": [],
   "source": [
    "# Lets sample from our data\n",
    "domestic_sample = ttest_df['domestic_gross'].sample(100)\n",
    "foreign_sample = ttest_df['foreign_gross'].sample(100)"
   ]
  },
  {
   "cell_type": "code",
   "execution_count": null,
   "metadata": {
    "ExecuteTime": {
     "end_time": "2022-08-21T22:08:28.557720Z",
     "start_time": "2022-08-21T22:08:27.058Z"
    }
   },
   "outputs": [],
   "source": [
    "# Lets perform a one tailed two sample t test\n",
    "import scipy.stats as stats\n",
    "alpha = .05\n",
    "tstat, pvalue = stats.ttest_ind(domestic_sample, foreign_sample, equal_var=False)\n",
    "\n",
    "answer = 'Reject null hypothesis' if pvalue < alpha else 'Fail to reject null hypothesis'\n",
    "print(answer)"
   ]
  },
  {
   "cell_type": "code",
   "execution_count": null,
   "metadata": {
    "ExecuteTime": {
     "end_time": "2022-08-21T22:08:28.558719Z",
     "start_time": "2022-08-21T22:08:27.059Z"
    }
   },
   "outputs": [],
   "source": [
    "# Plot the t statistic on a t distribution\n",
    "tval_alpha = stats.t.ppf(.05, 99)\n",
    "x = np.linspace(-5,5,1000)\n",
    "y = stats.t.pdf(x, 99)\n",
    "fig, axs = plt.subplots()\n",
    "axs.plot(x,y)\n",
    "axs.axvline(tstat)\n",
    "axs.axvline(tval_alpha)\n",
    "axs.axvspan(-5, tval_alpha, alpha=0.5, color='red')\n",
    "plt.text(tval_alpha + .1 ,.3,'reject region',rotation=90)\n",
    "plt.text(tstat + .1 ,.3,'t statistic',rotation=90)\n",
    "axs.set_title('T-Distribution w/D.F = 99')"
   ]
  },
  {
   "cell_type": "markdown",
   "metadata": {},
   "source": [
    "The results of our statistical test show that with 95% confidence we can conclude foreign gross is significantly greater than domestic gross regarding movies with the __animation__ genre. \n",
    "- This indicates that more money should be spent marketing to foreign markets as opposed to domestic."
   ]
  },
  {
   "cell_type": "markdown",
   "metadata": {},
   "source": [
    "## Conclusion"
   ]
  },
  {
   "cell_type": "markdown",
   "metadata": {},
   "source": [
    "### Recommendations"
   ]
  },
  {
   "cell_type": "markdown",
   "metadata": {},
   "source": [
    "### Next Steps"
   ]
  }
 ],
 "metadata": {
  "kernelspec": {
   "display_name": "Python (learn-env)",
   "language": "python",
   "name": "learn-env"
  },
  "language_info": {
   "codemirror_mode": {
    "name": "ipython",
    "version": 3
   },
   "file_extension": ".py",
   "mimetype": "text/x-python",
   "name": "python",
   "nbconvert_exporter": "python",
   "pygments_lexer": "ipython3",
   "version": "3.8.5"
  },
  "varInspector": {
   "cols": {
    "lenName": 16,
    "lenType": 16,
    "lenVar": 40
   },
   "kernels_config": {
    "python": {
     "delete_cmd_postfix": "",
     "delete_cmd_prefix": "del ",
     "library": "var_list.py",
     "varRefreshCmd": "print(var_dic_list())"
    },
    "r": {
     "delete_cmd_postfix": ") ",
     "delete_cmd_prefix": "rm(",
     "library": "var_list.r",
     "varRefreshCmd": "cat(var_dic_list()) "
    }
   },
   "types_to_exclude": [
    "module",
    "function",
    "builtin_function_or_method",
    "instance",
    "_Feature"
   ],
   "window_display": false
  }
 },
 "nbformat": 4,
 "nbformat_minor": 4
}
