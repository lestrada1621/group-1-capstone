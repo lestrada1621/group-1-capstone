{
 "cells": [
  {
   "cell_type": "markdown",
   "metadata": {},
   "source": [
    "# Computer Vision Business Recommendations\n",
    "#### Luis Estrada, Michael Eugene, Maddie Hince, Kilmar Lazo, Cat Murad, and Elijah Soba"
   ]
  },
  {
   "cell_type": "markdown",
   "metadata": {},
   "source": [
    "## Overview"
   ]
  },
  {
   "cell_type": "markdown",
   "metadata": {},
   "source": [
    "## Business Understanding"
   ]
  },
  {
   "cell_type": "markdown",
   "metadata": {},
   "source": [
    "## Data Understanding"
   ]
  },
  {
   "cell_type": "markdown",
   "metadata": {},
   "source": [
    "### Data Sources\n",
    "We used data from three main sources to make recommendations for Computer Vision:\n",
    "- Box Office Mojo\n",
    "- The Numbers\n",
    "- IMDB (Internet Movie Database)\n",
    "\n",
    "### Description of Data\n",
    "The data from Box Office Mojo included movie domestic and foreign gross, and movie production studio.\n",
    "- Dataset contained in a .csv file\n",
    "- Approximately 39% missing data in foreign gross column\n",
    "\n",
    "Data from The Numbers included production budget and worldwide gross information.\n",
    "- Dataset contained in a .csv file\n",
    "- Approximately 6% missing data in worldwide gross\n",
    "\n",
    "Data from IMDB included general movie information such as title, average ratings, and genres.\n",
    "- Data represented as a relational SQL database\n",
    "- Most analysis done using __movie_basics__ and __movie_ratings__ tables\n",
    "\n",
    "We only considered movies in each dataset that had been released in 2010 or later."
   ]
  },
  {
   "cell_type": "markdown",
   "metadata": {},
   "source": [
    "## Data Analysis"
   ]
  },
  {
   "cell_type": "markdown",
   "metadata": {},
   "source": [
    "### Highest-Rated Genres"
   ]
  },
  {
   "cell_type": "markdown",
   "metadata": {},
   "source": [
    "### Budget-to-Box Office Ratio"
   ]
  },
  {
   "cell_type": "markdown",
   "metadata": {},
   "source": [
    "### Highest-Grossing Studios"
   ]
  },
  {
   "cell_type": "markdown",
   "metadata": {},
   "source": [
    "## Statistical Communication"
   ]
  },
  {
   "cell_type": "markdown",
   "metadata": {},
   "source": [
    "After identifying __animation__ as the genre Computer Vision should pursue, we wanted to explore the difference between the genre's foreign and domestic gross. \n",
    "\n",
    "We hypothesized that:\n",
    "- A movie in the animation category will gross higher internationally than domestically. \n",
    "\n",
    "Based on the results of our t-test, we can determine where to allocate more marketing efforts to maximize profitability."
   ]
  },
  {
   "cell_type": "markdown",
   "metadata": {},
   "source": [
    "### T-test\n",
    "We want to know if __animation__ movies gross more internationally or domestically. \n",
    "- We chose the __animation__ genre because it is one of the genres with the highest average ratings, and appears as a genre in highly-grossing films from the highest-grossing studio (BV Studios, which turns out to be Disney/Pixar).\n",
    "\n",
    "Our __null hypothesis__ is that the animation genre grosses the same internationally and domestically.\n",
    "\n",
    "Our __alternative__ hypothesis is that animation movies gross more internationally than domestically. "
   ]
  },
  {
   "cell_type": "markdown",
   "metadata": {},
   "source": [
    "The results of our statistical test show that with 95% confidence we can conclude foreign gross is significantly greater than domestic gross regarding movies with the __animation__ genre. \n",
    "- This indicates that more money should be spent marketing to foreign markets as opposed to domestic."
   ]
  },
  {
   "cell_type": "markdown",
   "metadata": {},
   "source": [
    "## Conclusion"
   ]
  }
 ],
 "metadata": {
  "kernelspec": {
   "display_name": "Python (learn-env)",
   "language": "python",
   "name": "learn-env"
  },
  "language_info": {
   "codemirror_mode": {
    "name": "ipython",
    "version": 3
   },
   "file_extension": ".py",
   "mimetype": "text/x-python",
   "name": "python",
   "nbconvert_exporter": "python",
   "pygments_lexer": "ipython3",
   "version": "3.8.5"
  },
  "varInspector": {
   "cols": {
    "lenName": 16,
    "lenType": 16,
    "lenVar": 40
   },
   "kernels_config": {
    "python": {
     "delete_cmd_postfix": "",
     "delete_cmd_prefix": "del ",
     "library": "var_list.py",
     "varRefreshCmd": "print(var_dic_list())"
    },
    "r": {
     "delete_cmd_postfix": ") ",
     "delete_cmd_prefix": "rm(",
     "library": "var_list.r",
     "varRefreshCmd": "cat(var_dic_list()) "
    }
   },
   "types_to_exclude": [
    "module",
    "function",
    "builtin_function_or_method",
    "instance",
    "_Feature"
   ],
   "window_display": false
  }
 },
 "nbformat": 4,
 "nbformat_minor": 4
}
