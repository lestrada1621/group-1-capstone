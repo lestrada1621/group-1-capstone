{
 "cells": [
  {
   "cell_type": "markdown",
   "metadata": {},
   "source": [
    "# Computer Vision Business Recommendations\n",
    "#### Luis Estrada, Michael Eugene, Maddie Hince, Kilmar Lazo, Cat Murad, and Elijah Soba"
   ]
  },
  {
   "cell_type": "markdown",
   "metadata": {},
   "source": [
    "## Overview"
   ]
  },
  {
   "cell_type": "markdown",
   "metadata": {},
   "source": [
    "Computer Vision wants to break into the movie production industry, but needs insight regarding what types of movies to make. \n",
    "\n",
    "We have recommended three courses of action that will allow Computer Vision's films to be successful at the box office:\n",
    "- Produce a movie in the animation genre (with a the possibility of a comedy sub-genre)\n",
    "- Allocate $80 million towards movie production. \n",
    "- Allocate more marketing effort towards international audiences (rather than domestic audiences).\n",
    "\n",
    "We based these recommendations off of three high-priority metrics:\n",
    "- Highest-rated movie genres\n",
    "- Budget-to-box office ratio\n",
    "- Which production studios gross the highest\n",
    "    - Which genres of movies these production studios produce"
   ]
  },
  {
   "cell_type": "markdown",
   "metadata": {},
   "source": [
    "## Business Understanding"
   ]
  },
  {
   "cell_type": "markdown",
   "metadata": {},
   "source": [
    "- Computer Vision wants to establish a movie studio to create video and movie content.\n",
    "- Computer Vision is new to the movie / video market and needs guidance regarding what types of movies to create. \n",
    "- Providing insights into what types of movies are doing best at the box office will allow Computer Vision to allocate their budget towards creating a successful film. "
   ]
  },
  {
   "cell_type": "markdown",
   "metadata": {},
   "source": [
    "## Data Understanding"
   ]
  },
  {
   "cell_type": "code",
   "execution_count": 1,
   "metadata": {
    "ExecuteTime": {
     "end_time": "2022-08-20T22:26:32.513159Z",
     "start_time": "2022-08-20T22:26:30.763205Z"
    },
    "vscode": {
     "languageId": "plaintext"
    }
   },
   "outputs": [],
   "source": [
    "# Import all necessary libraries\n",
    "import sqlite3 \n",
    "import pandas as pd\n",
    "import numpy as np\n",
    "import matplotlib.pyplot as plt\n",
    "import seaborn as sns\n",
    "import datetime\n",
    "import warnings\n",
    "\n",
    "# Ignore warnings from library functions\n",
    "warnings.filterwarnings('ignore')\n",
    "\n",
    "# Set the style for plots \n",
    "sns.set_style('darkgrid')\n",
    "sns.set_context('notebook')\n",
    "sns.set()"
   ]
  },
  {
   "cell_type": "markdown",
   "metadata": {},
   "source": [
    "We used data from three main sources to make recommendations for Computer Vision: \n",
    "- Box Office Mojo\n",
    "- The Numbers\n",
    "- IMDB (Internet Movie Database)"
   ]
  },
  {
   "cell_type": "markdown",
   "metadata": {},
   "source": [
    "### Understanding Box Office Mojo"
   ]
  },
  {
   "cell_type": "code",
   "execution_count": 2,
   "metadata": {
    "ExecuteTime": {
     "end_time": "2022-08-20T22:26:32.559627Z",
     "start_time": "2022-08-20T22:26:32.532130Z"
    },
    "vscode": {
     "languageId": "plaintext"
    }
   },
   "outputs": [],
   "source": [
    "# Define filepath & read in the data \n",
    "filepath = 'zippedData/bom.movie_gross.csv.gz'\n",
    "movie_gross_df = pd.read_csv(filepath)"
   ]
  },
  {
   "cell_type": "code",
   "execution_count": 3,
   "metadata": {
    "ExecuteTime": {
     "end_time": "2022-08-20T22:26:32.606814Z",
     "start_time": "2022-08-20T22:26:32.577611Z"
    },
    "vscode": {
     "languageId": "plaintext"
    }
   },
   "outputs": [
    {
     "data": {
      "text/html": [
       "<div>\n",
       "<style scoped>\n",
       "    .dataframe tbody tr th:only-of-type {\n",
       "        vertical-align: middle;\n",
       "    }\n",
       "\n",
       "    .dataframe tbody tr th {\n",
       "        vertical-align: top;\n",
       "    }\n",
       "\n",
       "    .dataframe thead th {\n",
       "        text-align: right;\n",
       "    }\n",
       "</style>\n",
       "<table border=\"1\" class=\"dataframe\">\n",
       "  <thead>\n",
       "    <tr style=\"text-align: right;\">\n",
       "      <th></th>\n",
       "      <th>title</th>\n",
       "      <th>studio</th>\n",
       "      <th>domestic_gross</th>\n",
       "      <th>foreign_gross</th>\n",
       "      <th>year</th>\n",
       "    </tr>\n",
       "  </thead>\n",
       "  <tbody>\n",
       "    <tr>\n",
       "      <th>0</th>\n",
       "      <td>Toy Story 3</td>\n",
       "      <td>BV</td>\n",
       "      <td>415000000.0</td>\n",
       "      <td>652000000</td>\n",
       "      <td>2010</td>\n",
       "    </tr>\n",
       "    <tr>\n",
       "      <th>1</th>\n",
       "      <td>Alice in Wonderland (2010)</td>\n",
       "      <td>BV</td>\n",
       "      <td>334200000.0</td>\n",
       "      <td>691300000</td>\n",
       "      <td>2010</td>\n",
       "    </tr>\n",
       "    <tr>\n",
       "      <th>2</th>\n",
       "      <td>Harry Potter and the Deathly Hallows Part 1</td>\n",
       "      <td>WB</td>\n",
       "      <td>296000000.0</td>\n",
       "      <td>664300000</td>\n",
       "      <td>2010</td>\n",
       "    </tr>\n",
       "    <tr>\n",
       "      <th>3</th>\n",
       "      <td>Inception</td>\n",
       "      <td>WB</td>\n",
       "      <td>292600000.0</td>\n",
       "      <td>535700000</td>\n",
       "      <td>2010</td>\n",
       "    </tr>\n",
       "    <tr>\n",
       "      <th>4</th>\n",
       "      <td>Shrek Forever After</td>\n",
       "      <td>P/DW</td>\n",
       "      <td>238700000.0</td>\n",
       "      <td>513900000</td>\n",
       "      <td>2010</td>\n",
       "    </tr>\n",
       "  </tbody>\n",
       "</table>\n",
       "</div>"
      ],
      "text/plain": [
       "                                         title studio  domestic_gross  \\\n",
       "0                                  Toy Story 3     BV     415000000.0   \n",
       "1                   Alice in Wonderland (2010)     BV     334200000.0   \n",
       "2  Harry Potter and the Deathly Hallows Part 1     WB     296000000.0   \n",
       "3                                    Inception     WB     292600000.0   \n",
       "4                          Shrek Forever After   P/DW     238700000.0   \n",
       "\n",
       "  foreign_gross  year  \n",
       "0     652000000  2010  \n",
       "1     691300000  2010  \n",
       "2     664300000  2010  \n",
       "3     535700000  2010  \n",
       "4     513900000  2010  "
      ]
     },
     "execution_count": 3,
     "metadata": {},
     "output_type": "execute_result"
    }
   ],
   "source": [
    "# Take a preliminary look at the data \n",
    "movie_gross_df.head()"
   ]
  },
  {
   "cell_type": "code",
   "execution_count": 4,
   "metadata": {
    "ExecuteTime": {
     "end_time": "2022-08-20T22:26:32.653082Z",
     "start_time": "2022-08-20T22:26:32.626812Z"
    },
    "vscode": {
     "languageId": "plaintext"
    }
   },
   "outputs": [
    {
     "name": "stdout",
     "output_type": "stream",
     "text": [
      "<class 'pandas.core.frame.DataFrame'>\n",
      "RangeIndex: 3387 entries, 0 to 3386\n",
      "Data columns (total 5 columns):\n",
      " #   Column          Non-Null Count  Dtype  \n",
      "---  ------          --------------  -----  \n",
      " 0   title           3387 non-null   object \n",
      " 1   studio          3382 non-null   object \n",
      " 2   domestic_gross  3359 non-null   float64\n",
      " 3   foreign_gross   2037 non-null   object \n",
      " 4   year            3387 non-null   int64  \n",
      "dtypes: float64(1), int64(1), object(3)\n",
      "memory usage: 132.4+ KB\n"
     ]
    }
   ],
   "source": [
    "# Take a look at the data frame information\n",
    "movie_gross_df.info()"
   ]
  },
  {
   "cell_type": "markdown",
   "metadata": {},
   "source": [
    "From looking at the information we can see immediately that there are a couple things wrong with the data:\n",
    "- There are missing values in studio, domestic gross, and foreign gross\n",
    "- Foreign gross is represented as an object instead of a float\n",
    "- Year is represented as an integer, but it is probably better to have it as a datetime object"
   ]
  },
  {
   "cell_type": "code",
   "execution_count": 5,
   "metadata": {
    "ExecuteTime": {
     "end_time": "2022-08-20T22:26:33.371329Z",
     "start_time": "2022-08-20T22:26:33.350357Z"
    },
    "vscode": {
     "languageId": "plaintext"
    }
   },
   "outputs": [
    {
     "name": "stdout",
     "output_type": "stream",
     "text": [
      "Missing studio data represents 0.14762326542663123% of the data\n"
     ]
    }
   ],
   "source": [
    "# Lets see what percentage of the studio data is missing \n",
    "pct_missing_std = movie_gross_df.studio.isna().sum()/len(movie_gross_df.title)\n",
    "print(f'Missing studio data represents {pct_missing_std*100}% of the data')"
   ]
  },
  {
   "cell_type": "code",
   "execution_count": 6,
   "metadata": {
    "ExecuteTime": {
     "end_time": "2022-08-20T22:26:33.887860Z",
     "start_time": "2022-08-20T22:26:33.878874Z"
    },
    "vscode": {
     "languageId": "plaintext"
    }
   },
   "outputs": [
    {
     "name": "stdout",
     "output_type": "stream",
     "text": [
      "Missing domestic gross data represents 0.8266902863891349% of the data\n"
     ]
    }
   ],
   "source": [
    "# Lets see what percentage of the domestic gross data is missing \n",
    "pct_missing_dom = movie_gross_df.domestic_gross.isna().sum()/len(movie_gross_df.title)\n",
    "print(f'Missing domestic gross data represents {pct_missing_dom*100}% of the data')"
   ]
  },
  {
   "cell_type": "code",
   "execution_count": 7,
   "metadata": {
    "ExecuteTime": {
     "end_time": "2022-08-20T22:26:34.247223Z",
     "start_time": "2022-08-20T22:26:34.227272Z"
    },
    "vscode": {
     "languageId": "plaintext"
    }
   },
   "outputs": [
    {
     "name": "stdout",
     "output_type": "stream",
     "text": [
      "Missing foreign gross data represents 39.85828166519043% of the data\n"
     ]
    }
   ],
   "source": [
    "# Lets see what percentage of the foreign gross data is missing \n",
    "pct_missing_for = movie_gross_df.foreign_gross.isna().sum()/len(movie_gross_df.title)\n",
    "print(f'Missing foreign gross data represents {pct_missing_for*100}% of the data')"
   ]
  },
  {
   "cell_type": "markdown",
   "metadata": {},
   "source": [
    "### Understanding The Numbers"
   ]
  },
  {
   "cell_type": "code",
   "execution_count": 8,
   "metadata": {
    "ExecuteTime": {
     "end_time": "2022-08-20T22:26:35.188632Z",
     "start_time": "2022-08-20T22:26:35.145655Z"
    },
    "vscode": {
     "languageId": "plaintext"
    }
   },
   "outputs": [],
   "source": [
    "# Define filepath & read in the data \n",
    "filepath = 'zippedData/tn.movie_budgets.csv.gz'\n",
    "budget_df = pd.read_csv(filepath)"
   ]
  },
  {
   "cell_type": "code",
   "execution_count": 9,
   "metadata": {
    "ExecuteTime": {
     "end_time": "2022-08-20T22:26:35.501773Z",
     "start_time": "2022-08-20T22:26:35.486774Z"
    },
    "vscode": {
     "languageId": "plaintext"
    }
   },
   "outputs": [
    {
     "data": {
      "text/html": [
       "<div>\n",
       "<style scoped>\n",
       "    .dataframe tbody tr th:only-of-type {\n",
       "        vertical-align: middle;\n",
       "    }\n",
       "\n",
       "    .dataframe tbody tr th {\n",
       "        vertical-align: top;\n",
       "    }\n",
       "\n",
       "    .dataframe thead th {\n",
       "        text-align: right;\n",
       "    }\n",
       "</style>\n",
       "<table border=\"1\" class=\"dataframe\">\n",
       "  <thead>\n",
       "    <tr style=\"text-align: right;\">\n",
       "      <th></th>\n",
       "      <th>id</th>\n",
       "      <th>release_date</th>\n",
       "      <th>movie</th>\n",
       "      <th>production_budget</th>\n",
       "      <th>domestic_gross</th>\n",
       "      <th>worldwide_gross</th>\n",
       "    </tr>\n",
       "  </thead>\n",
       "  <tbody>\n",
       "    <tr>\n",
       "      <th>0</th>\n",
       "      <td>1</td>\n",
       "      <td>Dec 18, 2009</td>\n",
       "      <td>Avatar</td>\n",
       "      <td>$425,000,000</td>\n",
       "      <td>$760,507,625</td>\n",
       "      <td>$2,776,345,279</td>\n",
       "    </tr>\n",
       "    <tr>\n",
       "      <th>1</th>\n",
       "      <td>2</td>\n",
       "      <td>May 20, 2011</td>\n",
       "      <td>Pirates of the Caribbean: On Stranger Tides</td>\n",
       "      <td>$410,600,000</td>\n",
       "      <td>$241,063,875</td>\n",
       "      <td>$1,045,663,875</td>\n",
       "    </tr>\n",
       "    <tr>\n",
       "      <th>2</th>\n",
       "      <td>3</td>\n",
       "      <td>Jun 7, 2019</td>\n",
       "      <td>Dark Phoenix</td>\n",
       "      <td>$350,000,000</td>\n",
       "      <td>$42,762,350</td>\n",
       "      <td>$149,762,350</td>\n",
       "    </tr>\n",
       "    <tr>\n",
       "      <th>3</th>\n",
       "      <td>4</td>\n",
       "      <td>May 1, 2015</td>\n",
       "      <td>Avengers: Age of Ultron</td>\n",
       "      <td>$330,600,000</td>\n",
       "      <td>$459,005,868</td>\n",
       "      <td>$1,403,013,963</td>\n",
       "    </tr>\n",
       "    <tr>\n",
       "      <th>4</th>\n",
       "      <td>5</td>\n",
       "      <td>Dec 15, 2017</td>\n",
       "      <td>Star Wars Ep. VIII: The Last Jedi</td>\n",
       "      <td>$317,000,000</td>\n",
       "      <td>$620,181,382</td>\n",
       "      <td>$1,316,721,747</td>\n",
       "    </tr>\n",
       "  </tbody>\n",
       "</table>\n",
       "</div>"
      ],
      "text/plain": [
       "   id  release_date                                        movie  \\\n",
       "0   1  Dec 18, 2009                                       Avatar   \n",
       "1   2  May 20, 2011  Pirates of the Caribbean: On Stranger Tides   \n",
       "2   3   Jun 7, 2019                                 Dark Phoenix   \n",
       "3   4   May 1, 2015                      Avengers: Age of Ultron   \n",
       "4   5  Dec 15, 2017            Star Wars Ep. VIII: The Last Jedi   \n",
       "\n",
       "  production_budget domestic_gross worldwide_gross  \n",
       "0      $425,000,000   $760,507,625  $2,776,345,279  \n",
       "1      $410,600,000   $241,063,875  $1,045,663,875  \n",
       "2      $350,000,000    $42,762,350    $149,762,350  \n",
       "3      $330,600,000   $459,005,868  $1,403,013,963  \n",
       "4      $317,000,000   $620,181,382  $1,316,721,747  "
      ]
     },
     "execution_count": 9,
     "metadata": {},
     "output_type": "execute_result"
    }
   ],
   "source": [
    "# Take a preliminary look at the data\n",
    "budget_df.head()"
   ]
  },
  {
   "cell_type": "code",
   "execution_count": 10,
   "metadata": {
    "ExecuteTime": {
     "end_time": "2022-08-20T22:26:35.859571Z",
     "start_time": "2022-08-20T22:26:35.833575Z"
    },
    "vscode": {
     "languageId": "plaintext"
    }
   },
   "outputs": [
    {
     "name": "stdout",
     "output_type": "stream",
     "text": [
      "<class 'pandas.core.frame.DataFrame'>\n",
      "RangeIndex: 5782 entries, 0 to 5781\n",
      "Data columns (total 6 columns):\n",
      " #   Column             Non-Null Count  Dtype \n",
      "---  ------             --------------  ----- \n",
      " 0   id                 5782 non-null   int64 \n",
      " 1   release_date       5782 non-null   object\n",
      " 2   movie              5782 non-null   object\n",
      " 3   production_budget  5782 non-null   object\n",
      " 4   domestic_gross     5782 non-null   object\n",
      " 5   worldwide_gross    5782 non-null   object\n",
      "dtypes: int64(1), object(5)\n",
      "memory usage: 271.2+ KB\n"
     ]
    }
   ],
   "source": [
    "# Take a look at the data frame information\n",
    "budget_df.info()"
   ]
  },
  {
   "cell_type": "markdown",
   "metadata": {},
   "source": [
    "From looking at the information, we can see a few important things\n",
    "- There are no missing (NaN) values\n",
    "- All of the numerical columns are strings instead of floats"
   ]
  },
  {
   "cell_type": "code",
   "execution_count": 11,
   "metadata": {
    "ExecuteTime": {
     "end_time": "2022-08-20T22:26:36.931579Z",
     "start_time": "2022-08-20T22:26:36.912574Z"
    },
    "vscode": {
     "languageId": "plaintext"
    }
   },
   "outputs": [
    {
     "name": "stdout",
     "output_type": "stream",
     "text": [
      "Number of missing gross values from either column 548\n",
      "Number of missing gross values from both columns 367\n",
      "Number of missing gross values from just domestic 548\n",
      "Number of missing gross values from just worldwide 367\n",
      "Number of items in the entire dataset 5782\n"
     ]
    }
   ],
   "source": [
    "# Lets see if there are any 0 values, which would be considered missing \n",
    "either_miss = len(budget_df[(budget_df['domestic_gross'] == '$0') | (budget_df['worldwide_gross'] == '$0')])\n",
    "both_miss = len(budget_df[(budget_df['domestic_gross'] == '$0') & (budget_df['worldwide_gross'] == '$0')])\n",
    "just_dom = len(budget_df[budget_df['domestic_gross'] == '$0'])\n",
    "just_world = len(budget_df[budget_df['worldwide_gross'] == '$0'])\n",
    "len_dataset = len(budget_df['domestic_gross'])\n",
    "print(f'Number of missing gross values from either column {either_miss}')\n",
    "print(f'Number of missing gross values from both columns {both_miss}')\n",
    "print(f'Number of missing gross values from just domestic {just_dom}')\n",
    "print(f'Number of missing gross values from just worldwide {just_world}')\n",
    "print(f'Number of items in the entire dataset {len_dataset}')"
   ]
  },
  {
   "cell_type": "code",
   "execution_count": 12,
   "metadata": {
    "ExecuteTime": {
     "end_time": "2022-08-20T22:26:37.481967Z",
     "start_time": "2022-08-20T22:26:37.468967Z"
    },
    "vscode": {
     "languageId": "plaintext"
    }
   },
   "outputs": [
    {
     "name": "stdout",
     "output_type": "stream",
     "text": [
      "Percentage of the data that is missing from the domestic gross column 9.47768938083708\n",
      "Percentage of the data that is missing from the worldwide gross column6.347284676582497\n"
     ]
    }
   ],
   "source": [
    "# Because there are numbers with 0 domestic and worldwide gross, lets see what fraction of the dataset it is\n",
    "pct_0_dom = just_dom/len_dataset\n",
    "print(f'Percentage of the data that is missing from the domestic gross column {pct_0_dom*100}')\n",
    "pct_0_world = just_world/len_dataset\n",
    "print(f'Percentage of the data that is missing from the worldwide gross column{pct_0_world*100}')"
   ]
  },
  {
   "cell_type": "markdown",
   "metadata": {},
   "source": [
    "### Understanding IMDB"
   ]
  },
  {
   "cell_type": "code",
   "execution_count": 13,
   "metadata": {
    "ExecuteTime": {
     "end_time": "2022-08-20T22:26:39.314952Z",
     "start_time": "2022-08-20T22:26:38.321894Z"
    },
    "vscode": {
     "languageId": "plaintext"
    }
   },
   "outputs": [],
   "source": [
    "# Establish a connection with SQL databasae and read in the data\n",
    "filename = 'zippedData/im.db'\n",
    "conn = sqlite3.connect(filename)\n",
    "q = \"\"\"SELECT *\n",
    "       FROM movie_ratings\n",
    "       JOIN movie_basics USING(movie_id)\n",
    "       WHERE movie_basics.start_year >= 2010\"\"\"\n",
    "ratings_df = pd.read_sql(q, conn)"
   ]
  },
  {
   "cell_type": "code",
   "execution_count": 14,
   "metadata": {
    "ExecuteTime": {
     "end_time": "2022-08-20T22:26:39.394739Z",
     "start_time": "2022-08-20T22:26:39.365762Z"
    },
    "vscode": {
     "languageId": "plaintext"
    }
   },
   "outputs": [
    {
     "data": {
      "text/html": [
       "<div>\n",
       "<style scoped>\n",
       "    .dataframe tbody tr th:only-of-type {\n",
       "        vertical-align: middle;\n",
       "    }\n",
       "\n",
       "    .dataframe tbody tr th {\n",
       "        vertical-align: top;\n",
       "    }\n",
       "\n",
       "    .dataframe thead th {\n",
       "        text-align: right;\n",
       "    }\n",
       "</style>\n",
       "<table border=\"1\" class=\"dataframe\">\n",
       "  <thead>\n",
       "    <tr style=\"text-align: right;\">\n",
       "      <th></th>\n",
       "      <th>movie_id</th>\n",
       "      <th>averagerating</th>\n",
       "      <th>numvotes</th>\n",
       "      <th>primary_title</th>\n",
       "      <th>original_title</th>\n",
       "      <th>start_year</th>\n",
       "      <th>runtime_minutes</th>\n",
       "      <th>genres</th>\n",
       "    </tr>\n",
       "  </thead>\n",
       "  <tbody>\n",
       "    <tr>\n",
       "      <th>0</th>\n",
       "      <td>tt0063540</td>\n",
       "      <td>7.0</td>\n",
       "      <td>77</td>\n",
       "      <td>Sunghursh</td>\n",
       "      <td>Sunghursh</td>\n",
       "      <td>2013</td>\n",
       "      <td>175.0</td>\n",
       "      <td>Action,Crime,Drama</td>\n",
       "    </tr>\n",
       "    <tr>\n",
       "      <th>1</th>\n",
       "      <td>tt0066787</td>\n",
       "      <td>7.2</td>\n",
       "      <td>43</td>\n",
       "      <td>One Day Before the Rainy Season</td>\n",
       "      <td>Ashad Ka Ek Din</td>\n",
       "      <td>2019</td>\n",
       "      <td>114.0</td>\n",
       "      <td>Biography,Drama</td>\n",
       "    </tr>\n",
       "    <tr>\n",
       "      <th>2</th>\n",
       "      <td>tt0069049</td>\n",
       "      <td>6.9</td>\n",
       "      <td>4517</td>\n",
       "      <td>The Other Side of the Wind</td>\n",
       "      <td>The Other Side of the Wind</td>\n",
       "      <td>2018</td>\n",
       "      <td>122.0</td>\n",
       "      <td>Drama</td>\n",
       "    </tr>\n",
       "    <tr>\n",
       "      <th>3</th>\n",
       "      <td>tt0069204</td>\n",
       "      <td>6.1</td>\n",
       "      <td>13</td>\n",
       "      <td>Sabse Bada Sukh</td>\n",
       "      <td>Sabse Bada Sukh</td>\n",
       "      <td>2018</td>\n",
       "      <td>NaN</td>\n",
       "      <td>Comedy,Drama</td>\n",
       "    </tr>\n",
       "    <tr>\n",
       "      <th>4</th>\n",
       "      <td>tt0100275</td>\n",
       "      <td>6.5</td>\n",
       "      <td>119</td>\n",
       "      <td>The Wandering Soap Opera</td>\n",
       "      <td>La Telenovela Errante</td>\n",
       "      <td>2017</td>\n",
       "      <td>80.0</td>\n",
       "      <td>Comedy,Drama,Fantasy</td>\n",
       "    </tr>\n",
       "  </tbody>\n",
       "</table>\n",
       "</div>"
      ],
      "text/plain": [
       "    movie_id  averagerating  numvotes                    primary_title  \\\n",
       "0  tt0063540            7.0        77                        Sunghursh   \n",
       "1  tt0066787            7.2        43  One Day Before the Rainy Season   \n",
       "2  tt0069049            6.9      4517       The Other Side of the Wind   \n",
       "3  tt0069204            6.1        13                  Sabse Bada Sukh   \n",
       "4  tt0100275            6.5       119         The Wandering Soap Opera   \n",
       "\n",
       "               original_title  start_year  runtime_minutes  \\\n",
       "0                   Sunghursh        2013            175.0   \n",
       "1             Ashad Ka Ek Din        2019            114.0   \n",
       "2  The Other Side of the Wind        2018            122.0   \n",
       "3             Sabse Bada Sukh        2018              NaN   \n",
       "4       La Telenovela Errante        2017             80.0   \n",
       "\n",
       "                 genres  \n",
       "0    Action,Crime,Drama  \n",
       "1       Biography,Drama  \n",
       "2                 Drama  \n",
       "3          Comedy,Drama  \n",
       "4  Comedy,Drama,Fantasy  "
      ]
     },
     "execution_count": 14,
     "metadata": {},
     "output_type": "execute_result"
    }
   ],
   "source": [
    "# Take a preliminary look at the data\n",
    "ratings_df.head()"
   ]
  },
  {
   "cell_type": "code",
   "execution_count": 16,
   "metadata": {
    "ExecuteTime": {
     "end_time": "2022-08-20T22:26:52.310823Z",
     "start_time": "2022-08-20T22:26:52.216590Z"
    },
    "vscode": {
     "languageId": "plaintext"
    }
   },
   "outputs": [
    {
     "name": "stdout",
     "output_type": "stream",
     "text": [
      "<class 'pandas.core.frame.DataFrame'>\n",
      "RangeIndex: 73856 entries, 0 to 73855\n",
      "Data columns (total 8 columns):\n",
      " #   Column           Non-Null Count  Dtype  \n",
      "---  ------           --------------  -----  \n",
      " 0   movie_id         73856 non-null  object \n",
      " 1   averagerating    73856 non-null  float64\n",
      " 2   numvotes         73856 non-null  int64  \n",
      " 3   primary_title    73856 non-null  object \n",
      " 4   original_title   73856 non-null  object \n",
      " 5   start_year       73856 non-null  int64  \n",
      " 6   runtime_minutes  66236 non-null  float64\n",
      " 7   genres           73052 non-null  object \n",
      "dtypes: float64(2), int64(2), object(4)\n",
      "memory usage: 4.5+ MB\n"
     ]
    }
   ],
   "source": [
    "# Take a look at the data frame information\n",
    "ratings_df.info()"
   ]
  },
  {
   "cell_type": "markdown",
   "metadata": {},
   "source": [
    "From looking at the information, we can see that there are some missing values in the runtime column and data types for columns are as expected"
   ]
  },
  {
   "cell_type": "markdown",
   "metadata": {},
   "source": [
    "### Summary \n",
    "The data from Box Office Mojo included movie domestic and foreign gross, and movie production studio.\n",
    "- Dataset contained in a .csv file\n",
    "- Approximately 39% missing data in foreign gross column\n",
    "\n",
    "Data from The Numbers included production budget and worldwide gross information.\n",
    "- Dataset contained in a .csv file\n",
    "- Approximately 6% missing data in worldwide gross\n",
    "\n",
    "Data from IMDB included general movie information such as title, average ratings, and genres.\n",
    "- Data represented as a relational SQL database\n",
    "- Most analysis done using __movie_basics__ and __movie_ratings__ tables\n",
    "\n",
    "We only considered movies in each dataset that had been released in 2010 or later."
   ]
  },
  {
   "cell_type": "markdown",
   "metadata": {},
   "source": [
    "## Data Preparation"
   ]
  },
  {
   "cell_type": "markdown",
   "metadata": {},
   "source": [
    "### Preparing the Box Office Mojo Dataset"
   ]
  },
  {
   "cell_type": "code",
   "execution_count": null,
   "metadata": {},
   "outputs": [],
   "source": [
    "# Lets recast foregin_gross as a float \n",
    "str_to_float = lambda x: float(str(x).replace(',', ''))\n",
    "movie_gross_df['foreign_gross'] = movie_gross_df['foreign_gross'].map(str_to_float)"
   ]
  },
  {
   "cell_type": "code",
   "execution_count": null,
   "metadata": {},
   "outputs": [],
   "source": [
    "# Lets test to see if the data type actually changed \n",
    "assert movie_gross_df['foreign_gross'].dtype  == np.float64"
   ]
  },
  {
   "cell_type": "code",
   "execution_count": null,
   "metadata": {},
   "outputs": [],
   "source": [
    "# Lets replace missing studios with 'IND' representing independent\n",
    "movie_gross_df['studio'] = movie_gross_df['studio'].fillna('IND')"
   ]
  },
  {
   "cell_type": "code",
   "execution_count": null,
   "metadata": {},
   "outputs": [],
   "source": [
    "# Test to see if there are any missing values in the studio column\n",
    "assert movie_gross_df['studio'].isna().sum() == 0"
   ]
  },
  {
   "cell_type": "code",
   "execution_count": null,
   "metadata": {},
   "outputs": [],
   "source": [
    "# The missing % of data for domestic gross is small, so lets delete those rows\n",
    "movie_gross_df = movie_gross_df.dropna(axis=0, subset=['domestic_gross'])"
   ]
  },
  {
   "cell_type": "markdown",
   "metadata": {},
   "source": [
    "Because the amount of missing data from the foreign gross column is too much, we must impute the missing values. We impute missing values by calculating the median % change between foreign and domestic gross and using that to give an estimate of foreign gross as a function of domestic"
   ]
  },
  {
   "cell_type": "code",
   "execution_count": null,
   "metadata": {},
   "outputs": [
    {
     "name": "stdout",
     "output_type": "stream",
     "text": [
      "0.6315266036797613\n"
     ]
    }
   ],
   "source": [
    "# That is too much, so lets find the median pct change between domestic and foreign films\n",
    "med_pct_change = ((movie_gross_df['foreign_gross'] - movie_gross_df['domestic_gross'])/movie_gross_df['domestic_gross']).median()\n",
    "print(med_pct_change)"
   ]
  },
  {
   "cell_type": "code",
   "execution_count": null,
   "metadata": {},
   "outputs": [],
   "source": [
    "# Now that we have the median % change, lets impute the missing foreign values \n",
    "impute_change = movie_gross_df['domestic_gross'] + (movie_gross_df['domestic_gross'] * med_pct_change)\n",
    "movie_gross_df['foreign_gross'] = movie_gross_df['foreign_gross'].fillna(impute_change)"
   ]
  },
  {
   "cell_type": "code",
   "execution_count": null,
   "metadata": {},
   "outputs": [],
   "source": [
    "# Test that we now have no more NaN values in the data \n",
    "assert movie_gross_df['foreign_gross'].isna().sum() == 0"
   ]
  },
  {
   "cell_type": "code",
   "execution_count": null,
   "metadata": {},
   "outputs": [],
   "source": [
    "# Finally, test to see if there are any missing values anywhere in the data \n",
    "assert movie_gross_df.isna().sum().sum() == 0"
   ]
  },
  {
   "cell_type": "code",
   "execution_count": null,
   "metadata": {},
   "outputs": [],
   "source": [
    "# Lets normalize the data to millions to make numbers more manageable\n",
    "movie_gross_df['total_gross'] = movie_gross_df['total_gross']/1000000\n",
    "movie_gross_df['domestic_gross'] = movie_gross_df['domestic_gross']/1000000\n",
    "movie_gross_df['foreign_gross'] = movie_gross_df['foreign_gross']/1000000"
   ]
  },
  {
   "cell_type": "code",
   "execution_count": null,
   "metadata": {},
   "outputs": [],
   "source": [
    "# Lets change the title to avoid any issues with spacing\n",
    "movie_gross_df['title'] = movie_gross_df['title'].map(lambda x: x.strip().lower().replace(\" \", \"\"))"
   ]
  },
  {
   "cell_type": "markdown",
   "metadata": {},
   "source": [
    "### Preparing the Numbers Dataset"
   ]
  },
  {
   "cell_type": "code",
   "execution_count": null,
   "metadata": {},
   "outputs": [],
   "source": [
    "# Lets define a function that will parse through a string of $xxx,xxx,xxx and turn it into a float\n",
    "money_to_float = lambda x: float(x.replace('$','').replace(',',''))"
   ]
  },
  {
   "cell_type": "code",
   "execution_count": null,
   "metadata": {},
   "outputs": [],
   "source": [
    "# Lets test to make sure this function is behaving the way that we anticipate\n",
    "assert money_to_float('$1,000') == 1000"
   ]
  },
  {
   "cell_type": "code",
   "execution_count": null,
   "metadata": {},
   "outputs": [],
   "source": [
    "# Update the dtype of the production_budget column \n",
    "budget_df['production_budget'] = budget_df['production_budget'].map(money_to_float)"
   ]
  },
  {
   "cell_type": "code",
   "execution_count": null,
   "metadata": {},
   "outputs": [],
   "source": [
    "# Update the dtype of the domestic_gross column \n",
    "budget_df['domestic_gross'] = budget_df['domestic_gross'].map(money_to_float)"
   ]
  },
  {
   "cell_type": "code",
   "execution_count": null,
   "metadata": {},
   "outputs": [],
   "source": [
    "# Update the dtype of the worldwide_gross column \n",
    "budget_df['worldwide_gross'] = budget_df['worldwide_gross'].map(money_to_float)"
   ]
  },
  {
   "cell_type": "code",
   "execution_count": null,
   "metadata": {},
   "outputs": [],
   "source": [
    "# Test to make sure it worked\n",
    "assert budget_df['production_budget'].dtype == np.float64"
   ]
  },
  {
   "cell_type": "code",
   "execution_count": null,
   "metadata": {},
   "outputs": [],
   "source": [
    "# Lets make the release date an int dtype that only has the year\n",
    "budget_df['release_date'] = pd.to_datetime(budget_df['release_date']).dt.year"
   ]
  },
  {
   "cell_type": "code",
   "execution_count": null,
   "metadata": {},
   "outputs": [],
   "source": [
    "# Test to make sure the dtype is now correct\n",
    "assert budget_df['release_date'].dtype == np.int64"
   ]
  },
  {
   "cell_type": "code",
   "execution_count": null,
   "metadata": {},
   "outputs": [],
   "source": [
    "# < 10% of data is $0, so lets drop those records\n",
    "budget_df = budget_df[budget_df['domestic_gross'] != 0]"
   ]
  },
  {
   "cell_type": "code",
   "execution_count": null,
   "metadata": {},
   "outputs": [],
   "source": [
    "# Test to make sure we dropped correctly\n",
    "assert len(budget_df[budget_df['domestic_gross'] == 0]) == 0\n",
    "assert len(budget_df[budget_df['worldwide_gross'] == 0]) == 0"
   ]
  },
  {
   "cell_type": "code",
   "execution_count": null,
   "metadata": {},
   "outputs": [],
   "source": [
    "# Finally, we can normalize monetary columns to the millions \n",
    "budget_df['production_budget'] = budget_df['production_budget']/1000000\n",
    "budget_df['domestic_gross'] = budget_df['domestic_gross']/1000000\n",
    "budget_df['worldwide_gross'] = budget_df['worldwide_gross']/1000000"
   ]
  },
  {
   "cell_type": "markdown",
   "metadata": {},
   "source": [
    "### Preparing the IMDB Dataset"
   ]
  },
  {
   "cell_type": "code",
   "execution_count": null,
   "metadata": {},
   "outputs": [],
   "source": [
    "# For the sake of our analysis, we can drop unnecessary columns \n",
    "to_drop = ['movie_id', 'original_title', 'start_year', 'runtime_minutes']\n",
    "ratings_df = rateings_df.drop(labels=to_drop, axis=1)"
   ]
  },
  {
   "cell_type": "code",
   "execution_count": null,
   "metadata": {},
   "outputs": [],
   "source": [
    "# Lets change the titles to avoid any conflicts with spacings\n",
    "rate_genre_df['primary_title'] = rate_genre_df['primary_title'].map(lambda x: x.strip().lower().replace(\" \", \"\"))"
   ]
  },
  {
   "cell_type": "code",
   "execution_count": null,
   "metadata": {},
   "outputs": [],
   "source": [
    "# Lets filter out any movies that have a bottom 25% number of votes \n",
    "ratings_df = ratings_df[ratings_df['numvotes'] >= 62]"
   ]
  },
  {
   "cell_type": "markdown",
   "metadata": {},
   "source": [
    "## Data Analysis & Visualizations\n",
    "(After every visualization that corresponds to our recommendation, mention in **bold** the recommendation that we make)"
   ]
  },
  {
   "cell_type": "markdown",
   "metadata": {},
   "source": [
    "### Box Office Mojo Analysis"
   ]
  },
  {
   "cell_type": "markdown",
   "metadata": {},
   "source": [
    "### The Numbers Analysis"
   ]
  },
  {
   "cell_type": "markdown",
   "metadata": {},
   "source": [
    "### IMDB Analysis \n",
    "(Include IMDB combined with Box Office Mojo data analysis here too)"
   ]
  },
  {
   "cell_type": "code",
   "execution_count": null,
   "metadata": {},
   "outputs": [],
   "source": [
    "# removing rows with any null values\n",
    "ratings_df.dropna(how='any', axis=0, inplace=True)"
   ]
  },
  {
   "cell_type": "code",
   "execution_count": 17,
   "metadata": {
    "ExecuteTime": {
     "end_time": "2022-08-20T22:42:18.567387Z",
     "start_time": "2022-08-20T22:42:18.548387Z"
    }
   },
   "outputs": [],
   "source": [
    "# creating a function to format genres\n",
    "def clean_genres(genres):\n",
    "    '''\n",
    "    Takes a list of genres and builds a string from the list\n",
    "    for easier aggregation and comparison. \n",
    "    -\n",
    "    Input:\n",
    "    genres : list of genres to be converted\n",
    "    -\n",
    "    Output:\n",
    "    lowercase, comma-separated string built from list \n",
    "    '''\n",
    "    genres = str(genres)\n",
    "    genres_list = sorted(genres.lower().split(','))\n",
    "    return ','.join(list(map(str, genres_list)))"
   ]
  },
  {
   "cell_type": "code",
   "execution_count": 18,
   "metadata": {
    "ExecuteTime": {
     "end_time": "2022-08-20T22:43:07.127350Z",
     "start_time": "2022-08-20T22:43:06.941563Z"
    }
   },
   "outputs": [
    {
     "data": {
      "text/html": [
       "<div>\n",
       "<style scoped>\n",
       "    .dataframe tbody tr th:only-of-type {\n",
       "        vertical-align: middle;\n",
       "    }\n",
       "\n",
       "    .dataframe tbody tr th {\n",
       "        vertical-align: top;\n",
       "    }\n",
       "\n",
       "    .dataframe thead th {\n",
       "        text-align: right;\n",
       "    }\n",
       "</style>\n",
       "<table border=\"1\" class=\"dataframe\">\n",
       "  <thead>\n",
       "    <tr style=\"text-align: right;\">\n",
       "      <th></th>\n",
       "      <th>movie_id</th>\n",
       "      <th>averagerating</th>\n",
       "      <th>numvotes</th>\n",
       "      <th>primary_title</th>\n",
       "      <th>original_title</th>\n",
       "      <th>start_year</th>\n",
       "      <th>runtime_minutes</th>\n",
       "      <th>genres</th>\n",
       "    </tr>\n",
       "  </thead>\n",
       "  <tbody>\n",
       "    <tr>\n",
       "      <th>0</th>\n",
       "      <td>tt0063540</td>\n",
       "      <td>7.0</td>\n",
       "      <td>77</td>\n",
       "      <td>Sunghursh</td>\n",
       "      <td>Sunghursh</td>\n",
       "      <td>2013</td>\n",
       "      <td>175.0</td>\n",
       "      <td>action,crime,drama</td>\n",
       "    </tr>\n",
       "    <tr>\n",
       "      <th>1</th>\n",
       "      <td>tt0066787</td>\n",
       "      <td>7.2</td>\n",
       "      <td>43</td>\n",
       "      <td>One Day Before the Rainy Season</td>\n",
       "      <td>Ashad Ka Ek Din</td>\n",
       "      <td>2019</td>\n",
       "      <td>114.0</td>\n",
       "      <td>biography,drama</td>\n",
       "    </tr>\n",
       "    <tr>\n",
       "      <th>2</th>\n",
       "      <td>tt0069049</td>\n",
       "      <td>6.9</td>\n",
       "      <td>4517</td>\n",
       "      <td>The Other Side of the Wind</td>\n",
       "      <td>The Other Side of the Wind</td>\n",
       "      <td>2018</td>\n",
       "      <td>122.0</td>\n",
       "      <td>drama</td>\n",
       "    </tr>\n",
       "    <tr>\n",
       "      <th>3</th>\n",
       "      <td>tt0069204</td>\n",
       "      <td>6.1</td>\n",
       "      <td>13</td>\n",
       "      <td>Sabse Bada Sukh</td>\n",
       "      <td>Sabse Bada Sukh</td>\n",
       "      <td>2018</td>\n",
       "      <td>NaN</td>\n",
       "      <td>comedy,drama</td>\n",
       "    </tr>\n",
       "    <tr>\n",
       "      <th>4</th>\n",
       "      <td>tt0100275</td>\n",
       "      <td>6.5</td>\n",
       "      <td>119</td>\n",
       "      <td>The Wandering Soap Opera</td>\n",
       "      <td>La Telenovela Errante</td>\n",
       "      <td>2017</td>\n",
       "      <td>80.0</td>\n",
       "      <td>comedy,drama,fantasy</td>\n",
       "    </tr>\n",
       "  </tbody>\n",
       "</table>\n",
       "</div>"
      ],
      "text/plain": [
       "    movie_id  averagerating  numvotes                    primary_title  \\\n",
       "0  tt0063540            7.0        77                        Sunghursh   \n",
       "1  tt0066787            7.2        43  One Day Before the Rainy Season   \n",
       "2  tt0069049            6.9      4517       The Other Side of the Wind   \n",
       "3  tt0069204            6.1        13                  Sabse Bada Sukh   \n",
       "4  tt0100275            6.5       119         The Wandering Soap Opera   \n",
       "\n",
       "               original_title  start_year  runtime_minutes  \\\n",
       "0                   Sunghursh        2013            175.0   \n",
       "1             Ashad Ka Ek Din        2019            114.0   \n",
       "2  The Other Side of the Wind        2018            122.0   \n",
       "3             Sabse Bada Sukh        2018              NaN   \n",
       "4       La Telenovela Errante        2017             80.0   \n",
       "\n",
       "                 genres  \n",
       "0    action,crime,drama  \n",
       "1       biography,drama  \n",
       "2                 drama  \n",
       "3          comedy,drama  \n",
       "4  comedy,drama,fantasy  "
      ]
     },
     "execution_count": 18,
     "metadata": {},
     "output_type": "execute_result"
    }
   ],
   "source": [
    "# apply clean_genres function to ratings dataset\n",
    "ratings_df['genres'] = ratings_df['genres'].apply(clean_genres)\n",
    "ratings_df.head()"
   ]
  },
  {
   "cell_type": "markdown",
   "metadata": {},
   "source": [
    "### Highest-Rated Genres"
   ]
  },
  {
   "cell_type": "code",
   "execution_count": 20,
   "metadata": {
    "ExecuteTime": {
     "end_time": "2022-08-20T22:44:15.048195Z",
     "start_time": "2022-08-20T22:44:14.977023Z"
    }
   },
   "outputs": [],
   "source": [
    "# grouping ratings dataset by genre\n",
    "ratings_df['genres'].value_counts()\n",
    "sorted_by_avg = ratings_df.groupby('genres').mean().sort_values(by='averagerating', ascending=False)"
   ]
  },
  {
   "cell_type": "code",
   "execution_count": 21,
   "metadata": {
    "ExecuteTime": {
     "end_time": "2022-08-20T22:44:23.864251Z",
     "start_time": "2022-08-20T22:44:23.844251Z"
    }
   },
   "outputs": [],
   "source": [
    "# filter out movie genres with less than 62 total votes\n",
    "sorted_avg_higher_votes = sorted_by_avg[sorted_by_avg['numvotes'] >= 62].head(15)\n",
    "sorted_avg_higher_votes.reset_index(inplace=True)"
   ]
  },
  {
   "cell_type": "markdown",
   "metadata": {},
   "source": [
    "We decided to filter out genres with less than 62 total votes based on the box-and-whisker plot below. The 25th percentile of votes per genre was 62."
   ]
  },
  {
   "cell_type": "code",
   "execution_count": 22,
   "metadata": {
    "ExecuteTime": {
     "end_time": "2022-08-20T22:44:50.838455Z",
     "start_time": "2022-08-20T22:44:50.556398Z"
    }
   },
   "outputs": [
    {
     "data": {
      "image/png": "[encoded data removed]",
      "text/plain": [
       "<Figure size 432x288 with 1 Axes>"
      ]
     },
     "metadata": {},
     "output_type": "display_data"
    }
   ],
   "source": [
    "# outliers removed to improve quartile readability \n",
    "fig, ax = plt.subplots()\n",
    "sns.boxplot(x = sorted_avg_higher_votes['numvotes'], showfliers=False, color='b');\n",
    "ax.set_title('Distribution of Movie Votes\\n(Outliers Removed)')\n",
    "ax.set_xlabel('Number of Votes')\n",
    "ax.set_xticks(range(0, 1051, 100));"
   ]
  },
  {
   "cell_type": "code",
   "execution_count": 24,
   "metadata": {
    "ExecuteTime": {
     "end_time": "2022-08-20T22:46:38.345944Z",
     "start_time": "2022-08-20T22:46:38.317944Z"
    }
   },
   "outputs": [
    {
     "data": {
      "text/html": [
       "<div>\n",
       "<style scoped>\n",
       "    .dataframe tbody tr th:only-of-type {\n",
       "        vertical-align: middle;\n",
       "    }\n",
       "\n",
       "    .dataframe tbody tr th {\n",
       "        vertical-align: top;\n",
       "    }\n",
       "\n",
       "    .dataframe thead th {\n",
       "        text-align: right;\n",
       "    }\n",
       "</style>\n",
       "<table border=\"1\" class=\"dataframe\">\n",
       "  <thead>\n",
       "    <tr style=\"text-align: right;\">\n",
       "      <th></th>\n",
       "      <th>genres</th>\n",
       "      <th>averagerating</th>\n",
       "    </tr>\n",
       "  </thead>\n",
       "  <tbody>\n",
       "    <tr>\n",
       "      <th>0</th>\n",
       "      <td>mystery,news,thriller</td>\n",
       "      <td>8.40</td>\n",
       "    </tr>\n",
       "    <tr>\n",
       "      <th>1</th>\n",
       "      <td>comedy,history,musical</td>\n",
       "      <td>8.30</td>\n",
       "    </tr>\n",
       "    <tr>\n",
       "      <th>2</th>\n",
       "      <td>documentary,music,war</td>\n",
       "      <td>8.30</td>\n",
       "    </tr>\n",
       "    <tr>\n",
       "      <th>3</th>\n",
       "      <td>animation,documentary,mystery</td>\n",
       "      <td>8.20</td>\n",
       "    </tr>\n",
       "    <tr>\n",
       "      <th>4</th>\n",
       "      <td>romance,thriller,war</td>\n",
       "      <td>8.20</td>\n",
       "    </tr>\n",
       "    <tr>\n",
       "      <th>5</th>\n",
       "      <td>animation,crime,mystery</td>\n",
       "      <td>8.20</td>\n",
       "    </tr>\n",
       "    <tr>\n",
       "      <th>6</th>\n",
       "      <td>comedy,musical,western</td>\n",
       "      <td>8.20</td>\n",
       "    </tr>\n",
       "    <tr>\n",
       "      <th>7</th>\n",
       "      <td>documentary,fantasy,horror</td>\n",
       "      <td>8.10</td>\n",
       "    </tr>\n",
       "    <tr>\n",
       "      <th>8</th>\n",
       "      <td>animation,crime,documentary</td>\n",
       "      <td>8.07</td>\n",
       "    </tr>\n",
       "    <tr>\n",
       "      <th>9</th>\n",
       "      <td>documentary,drama,musical</td>\n",
       "      <td>8.05</td>\n",
       "    </tr>\n",
       "    <tr>\n",
       "      <th>10</th>\n",
       "      <td>comedy,documentary,sport</td>\n",
       "      <td>7.92</td>\n",
       "    </tr>\n",
       "    <tr>\n",
       "      <th>11</th>\n",
       "      <td>documentary,sport,thriller</td>\n",
       "      <td>7.90</td>\n",
       "    </tr>\n",
       "    <tr>\n",
       "      <th>12</th>\n",
       "      <td>action,romance,war</td>\n",
       "      <td>7.87</td>\n",
       "    </tr>\n",
       "    <tr>\n",
       "      <th>13</th>\n",
       "      <td>action,documentary,sport</td>\n",
       "      <td>7.86</td>\n",
       "    </tr>\n",
       "    <tr>\n",
       "      <th>14</th>\n",
       "      <td>adventure,animation,horror</td>\n",
       "      <td>7.83</td>\n",
       "    </tr>\n",
       "  </tbody>\n",
       "</table>\n",
       "</div>"
      ],
      "text/plain": [
       "                           genres  averagerating\n",
       "0           mystery,news,thriller           8.40\n",
       "1          comedy,history,musical           8.30\n",
       "2           documentary,music,war           8.30\n",
       "3   animation,documentary,mystery           8.20\n",
       "4            romance,thriller,war           8.20\n",
       "5         animation,crime,mystery           8.20\n",
       "6          comedy,musical,western           8.20\n",
       "7      documentary,fantasy,horror           8.10\n",
       "8     animation,crime,documentary           8.07\n",
       "9       documentary,drama,musical           8.05\n",
       "10       comedy,documentary,sport           7.92\n",
       "11     documentary,sport,thriller           7.90\n",
       "12             action,romance,war           7.87\n",
       "13       action,documentary,sport           7.86\n",
       "14     adventure,animation,horror           7.83"
      ]
     },
     "execution_count": 24,
     "metadata": {},
     "output_type": "execute_result"
    }
   ],
   "source": [
    "# 15 highest-rated movie genres with more than 62 total votes\n",
    "highest_rated_genres = sorted_avg_higher_votes[['genres', 'averagerating']]\n",
    "highest_rated_genres['averagerating'] = highest_rated_genres['averagerating'].round(2)\n",
    "highest_rated_genres"
   ]
  },
  {
   "cell_type": "code",
   "execution_count": 25,
   "metadata": {
    "ExecuteTime": {
     "end_time": "2022-08-20T22:46:50.644951Z",
     "start_time": "2022-08-20T22:46:50.630962Z"
    }
   },
   "outputs": [],
   "source": [
    "# make count of each of these individual genres in dictionary\n",
    "top_genres = {}\n",
    "for genre in sorted_avg_higher_votes['genres'].value_counts().index:\n",
    "    genre_list = genre.split(',')\n",
    "    for item in genre_list:\n",
    "        if item not in top_genres:\n",
    "            top_genres[item] = 1\n",
    "        elif item in top_genres:\n",
    "            top_genres[item] += 1\n",
    "top_genres = dict(sorted(top_genres.items(), key = lambda x: x[1], reverse=True))"
   ]
  },
  {
   "cell_type": "code",
   "execution_count": 26,
   "metadata": {
    "ExecuteTime": {
     "end_time": "2022-08-20T22:47:03.751802Z",
     "start_time": "2022-08-20T22:47:03.316630Z"
    }
   },
   "outputs": [
    {
     "data": {
      "image/png": "[encoded data removed]",
      "text/plain": [
       "<Figure size 432x288 with 1 Axes>"
      ]
     },
     "metadata": {},
     "output_type": "display_data"
    }
   ],
   "source": [
    "# bar chart showing most-used subgenres within top 15 highest-rated \n",
    "# movie genres\n",
    "fig, ax = plt.subplots()\n",
    "sns.barplot(x = list(top_genres.values()), y = list(top_genres.keys()), color = 'b');\n",
    "ax.set_title('Subgenres of Top 15 Hightest-Rated Genres')\n",
    "ax.set_xlabel('Number of Occurences')\n",
    "ax.set_ylabel('Genre');"
   ]
  },
  {
   "cell_type": "code",
   "execution_count": 27,
   "metadata": {
    "ExecuteTime": {
     "end_time": "2022-08-20T22:47:19.594892Z",
     "start_time": "2022-08-20T22:47:18.249404Z"
    }
   },
   "outputs": [
    {
     "data": {
      "image/png": "[encoded data removed]",
      "text/plain": [
       "<Figure size 432x288 with 1 Axes>"
      ]
     },
     "metadata": {},
     "output_type": "display_data"
    }
   ],
   "source": [
    "# dataframe with movie titles and studio\n",
    "movie_gross_df = pd.read_csv('zippedData/bom.movie_gross.csv.gz')\n",
    "movie_gross_df['title'] = movie_gross_df['title'].str.lower()"
   ]
  },
  {
   "cell_type": "code",
   "execution_count": null,
   "metadata": {},
   "outputs": [],
   "source": [
    "# dataframe from database with movie titles and genres\n",
    "movie_basics_df = pd.read_sql(\"\"\"SELECT *\n",
    "                                 FROM movie_basics\n",
    "                                 WHERE start_year >= 2010\"\"\", conn)\n",
    "movie_basics_df['primary_title'] = movie_basics_df['primary_title'].str.lower()"
   ]
  },
  {
   "cell_type": "code",
   "execution_count": null,
   "metadata": {},
   "outputs": [],
   "source": [
    "# inner join dataframes on title (movie_gross_df), primary_title (movie_basics_df)\n",
    "movie_genre_studio_df = pd.merge(movie_gross_df, movie_basics_df, \n",
    "                                 left_on='title', right_on='primary_title',\n",
    "                                 how='inner')\n",
    "# drop movies with no genres\n",
    "movie_genre_studio_df.dropna(subset=['genres'], inplace=True)\n",
    "# clean genre string for each row\n",
    "movie_genre_studio_df['genres'] = movie_genre_studio_df['genres'].apply(clean_genres)"
   ]
  },
  {
   "cell_type": "code",
   "execution_count": null,
   "metadata": {},
   "outputs": [],
   "source": [
    "# put movies from highest-performing studio into a dataframe\n",
    "bv_studio_movies = movie_genre_studio_df[movie_genre_studio_df['studio'] == 'BV']\n",
    "\n",
    "# bar chart showing number of movies per genre for BV studios\n",
    "fig, ax = plt.subplots()\n",
    "sns.countplot(data=bv_studio_movies, y='genres', \n",
    "              order=bv_studio_movies['genres'].value_counts().iloc[:10].index,\n",
    "              color = 'b')\n",
    "ax.set_xticks(range(0,21,2))\n",
    "ax.set_title('Count of Movies Per Genre Produced by BV Studios')\n",
    "ax.set_xlabel('Movie Count')\n",
    "ax.set_ylabel('Genre(s)');"
   ]
  },
  {
   "cell_type": "markdown",
   "metadata": {},
   "source": [
    "### Budget-to-Box Office Ratio"
   ]
  },
  {
   "cell_type": "markdown",
   "metadata": {},
   "source": [
    "### Highest-Grossing Studios"
   ]
  },
  {
   "cell_type": "markdown",
   "metadata": {},
   "source": [
    "## Statistical Communication"
   ]
  },
  {
   "cell_type": "markdown",
   "metadata": {},
   "source": [
    "After identifying __animation__ as the genre Computer Vision should pursue, we wanted to explore the difference between the genre's foreign and domestic gross. \n",
    "\n",
    "We hypothesized that:\n",
    "- A movie in the animation category will gross higher internationally than domestically. \n",
    "\n",
    "Based on the results of our t-test, we can determine where to allocate more marketing efforts to maximize profitability."
   ]
  },
  {
   "cell_type": "markdown",
   "metadata": {},
   "source": [
    "### T-test\n",
    "We want to know if __animation__ movies gross more internationally or domestically. \n",
    "- We chose the __animation__ genre because it is one of the genres with the highest average ratings, and appears as a genre in highly-grossing films from the highest-grossing studio (BV Studios, which turns out to be Disney/Pixar).\n",
    "\n",
    "Our __null hypothesis__ is that the animation genre grosses the same internationally and domestically.\n",
    "\n",
    "Our __alternative__ hypothesis is that animation movies gross more internationally than domestically. "
   ]
  },
  {
   "cell_type": "code",
   "execution_count": 1,
   "metadata": {
    "ExecuteTime": {
     "end_time": "2022-08-21T17:34:10.626225Z",
     "start_time": "2022-08-21T17:34:10.239454Z"
    }
   },
   "outputs": [
    {
     "ename": "NameError",
     "evalue": "name 'combined' is not defined",
     "output_type": "error",
     "traceback": [
      "\u001b[1;31m---------------------------------------------------------------------------\u001b[0m",
      "\u001b[1;31mNameError\u001b[0m                                 Traceback (most recent call last)",
      "\u001b[1;32m<ipython-input-1-2f045244e64e>\u001b[0m in \u001b[0;36m<module>\u001b[1;34m\u001b[0m\n\u001b[0;32m      2\u001b[0m \u001b[0mgenre_to_grab\u001b[0m \u001b[1;33m=\u001b[0m \u001b[1;34m\"Animation\"\u001b[0m\u001b[1;33m\u001b[0m\u001b[1;33m\u001b[0m\u001b[0m\n\u001b[0;32m      3\u001b[0m \u001b[1;33m\u001b[0m\u001b[0m\n\u001b[1;32m----> 4\u001b[1;33m \u001b[0mttest_df\u001b[0m \u001b[1;33m=\u001b[0m \u001b[0mcombined\u001b[0m\u001b[1;33m[\u001b[0m\u001b[0mcombined\u001b[0m\u001b[1;33m[\u001b[0m\u001b[1;34m'genres'\u001b[0m\u001b[1;33m]\u001b[0m\u001b[1;33m.\u001b[0m\u001b[0mstr\u001b[0m\u001b[1;33m.\u001b[0m\u001b[0mcontains\u001b[0m\u001b[1;33m(\u001b[0m\u001b[0mgenre_to_grab\u001b[0m\u001b[1;33m)\u001b[0m\u001b[1;33m]\u001b[0m\u001b[1;33m[\u001b[0m\u001b[1;33m[\u001b[0m\u001b[1;34m'domestic_gross'\u001b[0m\u001b[1;33m,\u001b[0m \u001b[1;34m'foreign_gross'\u001b[0m\u001b[1;33m]\u001b[0m\u001b[1;33m]\u001b[0m\u001b[1;33m\u001b[0m\u001b[1;33m\u001b[0m\u001b[0m\n\u001b[0m",
      "\u001b[1;31mNameError\u001b[0m: name 'combined' is not defined"
     ]
    }
   ],
   "source": [
    "# First, lets get the dataframe of only animation movies \n",
    "genre_to_grab = \"Animation\"\n",
    "\n",
    "ttest_df = combined[combined['genres'].str.contains(genre_to_grab)][['domestic_gross', 'foreign_gross']]\n"
   ]
  },
  {
   "cell_type": "code",
   "execution_count": null,
   "metadata": {},
   "outputs": [
    {
     "data": {
      "text/plain": [
       "159"
      ]
     },
     "metadata": {},
     "output_type": "display_data"
    }
   ],
   "source": [
    "# Lets check to see if we have enough samples\n",
    "len(ttest_df)"
   ]
  },
  {
   "cell_type": "code",
   "execution_count": null,
   "metadata": {},
   "outputs": [
    {
     "data": {
      "text/html": [
       "<div>\n",
       "<style scoped>\n",
       "    .dataframe tbody tr th:only-of-type {\n",
       "        vertical-align: middle;\n",
       "    }\n",
       "\n",
       "    .dataframe tbody tr th {\n",
       "        vertical-align: top;\n",
       "    }\n",
       "\n",
       "    .dataframe thead th {\n",
       "        text-align: right;\n",
       "    }\n",
       "</style>\n",
       "<table border=\"1\" class=\"dataframe\">\n",
       "  <thead>\n",
       "    <tr style=\"text-align: right;\">\n",
       "      <th></th>\n",
       "      <th>domestic_gross</th>\n",
       "      <th>foreign_gross</th>\n",
       "    </tr>\n",
       "  </thead>\n",
       "  <tbody>\n",
       "    <tr>\n",
       "      <th>count</th>\n",
       "      <td>159.000000</td>\n",
       "      <td>159.000000</td>\n",
       "    </tr>\n",
       "    <tr>\n",
       "      <th>mean</th>\n",
       "      <td>89.131074</td>\n",
       "      <td>164.672467</td>\n",
       "    </tr>\n",
       "    <tr>\n",
       "      <th>std</th>\n",
       "      <td>111.552661</td>\n",
       "      <td>199.679024</td>\n",
       "    </tr>\n",
       "    <tr>\n",
       "      <th>min</th>\n",
       "      <td>0.000600</td>\n",
       "      <td>0.000979</td>\n",
       "    </tr>\n",
       "    <tr>\n",
       "      <th>25%</th>\n",
       "      <td>0.889000</td>\n",
       "      <td>9.781427</td>\n",
       "    </tr>\n",
       "    <tr>\n",
       "      <th>50%</th>\n",
       "      <td>48.000000</td>\n",
       "      <td>75.900000</td>\n",
       "    </tr>\n",
       "    <tr>\n",
       "      <th>75%</th>\n",
       "      <td>145.950000</td>\n",
       "      <td>276.900000</td>\n",
       "    </tr>\n",
       "    <tr>\n",
       "      <th>max</th>\n",
       "      <td>608.600000</td>\n",
       "      <td>875.700000</td>\n",
       "    </tr>\n",
       "  </tbody>\n",
       "</table>\n",
       "</div>"
      ],
      "text/plain": [
       "       domestic_gross  foreign_gross\n",
       "count      159.000000     159.000000\n",
       "mean        89.131074     164.672467\n",
       "std        111.552661     199.679024\n",
       "min          0.000600       0.000979\n",
       "25%          0.889000       9.781427\n",
       "50%         48.000000      75.900000\n",
       "75%        145.950000     276.900000\n",
       "max        608.600000     875.700000"
      ]
     },
     "metadata": {},
     "output_type": "display_data"
    }
   ],
   "source": [
    "# Lets look at the statistics to give us a basis for our intution\n",
    "ttest_df.describe()"
   ]
  },
  {
   "cell_type": "code",
   "execution_count": null,
   "metadata": {},
   "outputs": [],
   "source": [
    "# Lets sample from our data\n",
    "domestic_sample = ttest_df['domestic_gross'].sample(100)\n",
    "foreign_sample = ttest_df['foreign_gross'].sample(100)"
   ]
  },
  {
   "cell_type": "code",
   "execution_count": null,
   "metadata": {},
   "outputs": [
    {
     "name": "stdout",
     "output_type": "stream",
     "text": [
      "Reject null hypothesis\n"
     ]
    }
   ],
   "source": [
    "# Lets perform a one tailed two sample t test\n",
    "import scipy.stats as stats\n",
    "alpha = .05\n",
    "tstat, pvalue = stats.ttest_ind(domestic_sample, foreign_sample, equal_var=False)\n",
    "\n",
    "answer = 'Reject null hypothesis' if pvalue < alpha else 'Fail to reject null hypothesis'\n",
    "print(answer)"
   ]
  },
  {
   "cell_type": "code",
   "execution_count": null,
   "metadata": {},
   "outputs": [],
   "source": [
    "# Plot the t statistic on a t distribution\n",
    "tval_alpha = stats.t.ppf(.05, 99)\n",
    "x = np.linspace(-5,5,1000)\n",
    "y = stats.t.pdf(x, 99)\n",
    "fig, axs = plt.subplots()\n",
    "axs.plot(x,y)\n",
    "axs.axvline(tstat)\n",
    "axs.axvline(tval_alpha)\n",
    "axs.axvspan(-5, tval_alpha, alpha=0.5, color='red')\n",
    "plt.text(tval_alpha + .1 ,.3,'reject region',rotation=90)\n",
    "plt.text(tstat + .1 ,.3,'t statistic',rotation=90)\n",
    "axs.set_title('T-Distribution w/D.F = 99')"
   ]
  },
  {
   "cell_type": "markdown",
   "metadata": {},
   "source": [
    "The results of our statistical test show that with 95% confidence we can conclude foreign gross is significantly greater than domestic gross regarding movies with the __animation__ genre. \n",
    "- This indicates that more money should be spent marketing to foreign markets as opposed to domestic."
   ]
  },
  {
   "cell_type": "markdown",
   "metadata": {},
   "source": [
    "## Conclusion\n",
    "### Recommendations\n",
    "### Next Steps\n",
    "(Emphasize three recommendations here )"
   ]
  }
 ],
 "metadata": {
  "kernelspec": {
   "display_name": "Python (learn-env)",
   "language": "python",
   "name": "learn-env"
  },
  "language_info": {
   "codemirror_mode": {
    "name": "ipython",
    "version": 3
   },
   "file_extension": ".py",
   "mimetype": "text/x-python",
   "name": "python",
   "nbconvert_exporter": "python",
   "pygments_lexer": "ipython3",
   "version": "3.8.5"
  },
  "varInspector": {
   "cols": {
    "lenName": 16,
    "lenType": 16,
    "lenVar": 40
   },
   "kernels_config": {
    "python": {
     "delete_cmd_postfix": "",
     "delete_cmd_prefix": "del ",
     "library": "var_list.py",
     "varRefreshCmd": "print(var_dic_list())"
    },
    "r": {
     "delete_cmd_postfix": ") ",
     "delete_cmd_prefix": "rm(",
     "library": "var_list.r",
     "varRefreshCmd": "cat(var_dic_list()) "
    }
   },
   "types_to_exclude": [
    "module",
    "function",
    "builtin_function_or_method",
    "instance",
    "_Feature"
   ],
   "window_display": false
  }
 },
 "nbformat": 4,
 "nbformat_minor": 4
}
