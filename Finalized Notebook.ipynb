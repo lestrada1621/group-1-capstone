{
 "cells": [
  {
   "cell_type": "markdown",
   "metadata": {},
   "source": [
    "# Computer Vision Business Recommendations\n",
    "#### Luis Estrada, Michael Eugene, Maddie Hince, Kilmar Lazo, Cat Murad, and Elijah Soba"
   ]
  },
  {
   "cell_type": "markdown",
   "metadata": {},
   "source": [
    "## Overview"
   ]
  },
  {
   "cell_type": "markdown",
   "metadata": {},
   "source": [
    "Computer Vision wants to break into the movie production industry, but needs insight regarding what types of movies to make. \n",
    "\n",
    "We have recommended three courses of action that will allow Computer Vision's films to be successful at the box office:\n",
    "- Produce a movie in the animation genre (with a the possibility of a comedy sub-genre)\n",
    "- Allocate $80 million towards movie production. \n",
    "- Allocate more marketing effort towards international audiences (rather than domestic audiences).\n",
    "\n",
    "We based these recommendations off of three high-priority metrics:\n",
    "- Highest-rated movie genres\n",
    "- Budget-to-box office ratio\n",
    "- Which production studios gross the highest\n",
    "    - Which genres of movies these production studios produce"
   ]
  },
  {
   "cell_type": "markdown",
   "metadata": {},
   "source": [
    "## Business Understanding"
   ]
  },
  {
   "cell_type": "markdown",
   "metadata": {},
   "source": [
    "- Computer Vision wants to establish a movie studio to create video and movie content.\n",
    "- Computer Vision is new to the movie / video market and needs guidance regarding what types of movies to create. \n",
    "- Providing insights into what types of movies are doing best at the box office will allow Computer Vision to allocate their budget towards creating a successful film. "
   ]
  },
  {
   "cell_type": "markdown",
   "metadata": {},
   "source": [
    "## Data Understanding"
   ]
  },
  {
   "cell_type": "code",
   "execution_count": 1,
   "metadata": {
    "ExecuteTime": {
     "end_time": "2022-08-21T23:28:28.135120Z",
     "start_time": "2022-08-21T23:28:27.210352Z"
    }
   },
   "outputs": [],
   "source": [
    "# Import all necessary libraries\n",
    "import sqlite3 \n",
    "import pandas as pd\n",
    "import numpy as np\n",
    "import matplotlib.pyplot as plt\n",
    "import seaborn as sns\n",
    "import datetime\n",
    "import warnings\n",
    "\n",
    "# Ignore warnings from library functions\n",
    "warnings.filterwarnings('ignore')\n",
    "\n",
    "# Set the style for plots \n",
    "sns.set_style('darkgrid')\n",
    "sns.set_context('notebook')\n",
    "sns.set()"
   ]
  },
  {
   "cell_type": "markdown",
   "metadata": {},
   "source": [
    "We used data from three main sources to make recommendations for Computer Vision: \n",
    "- Box Office Mojo\n",
    "- The Numbers\n",
    "- IMDB (Internet Movie Database)"
   ]
  },
  {
   "cell_type": "markdown",
   "metadata": {},
   "source": [
    "### Understanding the Box Office Mojo Dataset"
   ]
  },
  {
   "cell_type": "code",
   "execution_count": 2,
   "metadata": {
    "ExecuteTime": {
     "end_time": "2022-08-21T23:28:28.151119Z",
     "start_time": "2022-08-21T23:28:28.137119Z"
    }
   },
   "outputs": [],
   "source": [
    "# Define filepath & read in the data \n",
    "filepath = 'zippedData/bom.movie_gross.csv.gz'\n",
    "movie_gross_df = pd.read_csv(filepath)"
   ]
  },
  {
   "cell_type": "code",
   "execution_count": 3,
   "metadata": {
    "ExecuteTime": {
     "end_time": "2022-08-21T23:28:28.183119Z",
     "start_time": "2022-08-21T23:28:28.154121Z"
    }
   },
   "outputs": [
    {
     "data": {
      "text/html": [
       "<div>\n",
       "<style scoped>\n",
       "    .dataframe tbody tr th:only-of-type {\n",
       "        vertical-align: middle;\n",
       "    }\n",
       "\n",
       "    .dataframe tbody tr th {\n",
       "        vertical-align: top;\n",
       "    }\n",
       "\n",
       "    .dataframe thead th {\n",
       "        text-align: right;\n",
       "    }\n",
       "</style>\n",
       "<table border=\"1\" class=\"dataframe\">\n",
       "  <thead>\n",
       "    <tr style=\"text-align: right;\">\n",
       "      <th></th>\n",
       "      <th>title</th>\n",
       "      <th>studio</th>\n",
       "      <th>domestic_gross</th>\n",
       "      <th>foreign_gross</th>\n",
       "      <th>year</th>\n",
       "    </tr>\n",
       "  </thead>\n",
       "  <tbody>\n",
       "    <tr>\n",
       "      <th>0</th>\n",
       "      <td>Toy Story 3</td>\n",
       "      <td>BV</td>\n",
       "      <td>415000000.0</td>\n",
       "      <td>652000000</td>\n",
       "      <td>2010</td>\n",
       "    </tr>\n",
       "    <tr>\n",
       "      <th>1</th>\n",
       "      <td>Alice in Wonderland (2010)</td>\n",
       "      <td>BV</td>\n",
       "      <td>334200000.0</td>\n",
       "      <td>691300000</td>\n",
       "      <td>2010</td>\n",
       "    </tr>\n",
       "    <tr>\n",
       "      <th>2</th>\n",
       "      <td>Harry Potter and the Deathly Hallows Part 1</td>\n",
       "      <td>WB</td>\n",
       "      <td>296000000.0</td>\n",
       "      <td>664300000</td>\n",
       "      <td>2010</td>\n",
       "    </tr>\n",
       "    <tr>\n",
       "      <th>3</th>\n",
       "      <td>Inception</td>\n",
       "      <td>WB</td>\n",
       "      <td>292600000.0</td>\n",
       "      <td>535700000</td>\n",
       "      <td>2010</td>\n",
       "    </tr>\n",
       "    <tr>\n",
       "      <th>4</th>\n",
       "      <td>Shrek Forever After</td>\n",
       "      <td>P/DW</td>\n",
       "      <td>238700000.0</td>\n",
       "      <td>513900000</td>\n",
       "      <td>2010</td>\n",
       "    </tr>\n",
       "  </tbody>\n",
       "</table>\n",
       "</div>"
      ],
      "text/plain": [
       "                                         title studio  domestic_gross  \\\n",
       "0                                  Toy Story 3     BV     415000000.0   \n",
       "1                   Alice in Wonderland (2010)     BV     334200000.0   \n",
       "2  Harry Potter and the Deathly Hallows Part 1     WB     296000000.0   \n",
       "3                                    Inception     WB     292600000.0   \n",
       "4                          Shrek Forever After   P/DW     238700000.0   \n",
       "\n",
       "  foreign_gross  year  \n",
       "0     652000000  2010  \n",
       "1     691300000  2010  \n",
       "2     664300000  2010  \n",
       "3     535700000  2010  \n",
       "4     513900000  2010  "
      ]
     },
     "execution_count": 3,
     "metadata": {},
     "output_type": "execute_result"
    }
   ],
   "source": [
    "# Take a preliminary look at the data \n",
    "movie_gross_df.head()"
   ]
  },
  {
   "cell_type": "code",
   "execution_count": 4,
   "metadata": {
    "ExecuteTime": {
     "end_time": "2022-08-21T23:28:28.199119Z",
     "start_time": "2022-08-21T23:28:28.185119Z"
    }
   },
   "outputs": [
    {
     "name": "stdout",
     "output_type": "stream",
     "text": [
      "<class 'pandas.core.frame.DataFrame'>\n",
      "RangeIndex: 3387 entries, 0 to 3386\n",
      "Data columns (total 5 columns):\n",
      " #   Column          Non-Null Count  Dtype  \n",
      "---  ------          --------------  -----  \n",
      " 0   title           3387 non-null   object \n",
      " 1   studio          3382 non-null   object \n",
      " 2   domestic_gross  3359 non-null   float64\n",
      " 3   foreign_gross   2037 non-null   object \n",
      " 4   year            3387 non-null   int64  \n",
      "dtypes: float64(1), int64(1), object(3)\n",
      "memory usage: 132.4+ KB\n"
     ]
    }
   ],
   "source": [
    "# Take a look at the data frame information\n",
    "movie_gross_df.info()"
   ]
  },
  {
   "cell_type": "markdown",
   "metadata": {},
   "source": [
    "From looking at the information we can see immediately that there are a couple things wrong with the data:\n",
    "- There are missing values in studio, domestic gross, and foreign gross\n",
    "- Foreign gross is represented as an object instead of a float\n",
    "- Year is represented as an integer, but it is probably better to have it as a datetime object"
   ]
  },
  {
   "cell_type": "code",
   "execution_count": 5,
   "metadata": {
    "ExecuteTime": {
     "end_time": "2022-08-21T23:28:28.215119Z",
     "start_time": "2022-08-21T23:28:28.201120Z"
    }
   },
   "outputs": [
    {
     "name": "stdout",
     "output_type": "stream",
     "text": [
      "Missing studio data represents 0.14762326542663123% of the data\n"
     ]
    }
   ],
   "source": [
    "# Let's see what percentage of the studio data is missing \n",
    "pct_missing_std = movie_gross_df.studio.isna().sum()/len(movie_gross_df.title)\n",
    "print(f'Missing studio data represents {pct_missing_std*100}% of the data')"
   ]
  },
  {
   "cell_type": "code",
   "execution_count": 6,
   "metadata": {
    "ExecuteTime": {
     "end_time": "2022-08-21T23:28:28.231119Z",
     "start_time": "2022-08-21T23:28:28.217120Z"
    }
   },
   "outputs": [
    {
     "name": "stdout",
     "output_type": "stream",
     "text": [
      "Missing domestic gross data represents 0.8266902863891349% of the data\n"
     ]
    }
   ],
   "source": [
    "# Let's see what percentage of the domestic gross data is missing \n",
    "pct_missing_dom = movie_gross_df.domestic_gross.isna().sum()/len(movie_gross_df.title)\n",
    "print(f'Missing domestic gross data represents {pct_missing_dom*100}% of the data')"
   ]
  },
  {
   "cell_type": "code",
   "execution_count": 7,
   "metadata": {
    "ExecuteTime": {
     "end_time": "2022-08-21T23:28:28.246119Z",
     "start_time": "2022-08-21T23:28:28.233119Z"
    }
   },
   "outputs": [
    {
     "name": "stdout",
     "output_type": "stream",
     "text": [
      "Missing foreign gross data represents 39.85828166519043% of the data\n"
     ]
    }
   ],
   "source": [
    "# Let's see what percentage of the foreign gross data is missing \n",
    "pct_missing_for = movie_gross_df.foreign_gross.isna().sum()/len(movie_gross_df.title)\n",
    "print(f'Missing foreign gross data represents {pct_missing_for*100}% of the data')"
   ]
  },
  {
   "cell_type": "markdown",
   "metadata": {},
   "source": [
    "### Understanding The Numbers Dataset"
   ]
  },
  {
   "cell_type": "code",
   "execution_count": 8,
   "metadata": {
    "ExecuteTime": {
     "end_time": "2022-08-21T23:28:28.277119Z",
     "start_time": "2022-08-21T23:28:28.248119Z"
    }
   },
   "outputs": [],
   "source": [
    "# Define filepath & read in the data \n",
    "filepath = 'zippedData/tn.movie_budgets.csv.gz'\n",
    "budget_df = pd.read_csv(filepath)"
   ]
  },
  {
   "cell_type": "code",
   "execution_count": 9,
   "metadata": {
    "ExecuteTime": {
     "end_time": "2022-08-21T23:28:28.292119Z",
     "start_time": "2022-08-21T23:28:28.279119Z"
    }
   },
   "outputs": [
    {
     "data": {
      "text/html": [
       "<div>\n",
       "<style scoped>\n",
       "    .dataframe tbody tr th:only-of-type {\n",
       "        vertical-align: middle;\n",
       "    }\n",
       "\n",
       "    .dataframe tbody tr th {\n",
       "        vertical-align: top;\n",
       "    }\n",
       "\n",
       "    .dataframe thead th {\n",
       "        text-align: right;\n",
       "    }\n",
       "</style>\n",
       "<table border=\"1\" class=\"dataframe\">\n",
       "  <thead>\n",
       "    <tr style=\"text-align: right;\">\n",
       "      <th></th>\n",
       "      <th>id</th>\n",
       "      <th>release_date</th>\n",
       "      <th>movie</th>\n",
       "      <th>production_budget</th>\n",
       "      <th>domestic_gross</th>\n",
       "      <th>worldwide_gross</th>\n",
       "    </tr>\n",
       "  </thead>\n",
       "  <tbody>\n",
       "    <tr>\n",
       "      <th>0</th>\n",
       "      <td>1</td>\n",
       "      <td>Dec 18, 2009</td>\n",
       "      <td>Avatar</td>\n",
       "      <td>$425,000,000</td>\n",
       "      <td>$760,507,625</td>\n",
       "      <td>$2,776,345,279</td>\n",
       "    </tr>\n",
       "    <tr>\n",
       "      <th>1</th>\n",
       "      <td>2</td>\n",
       "      <td>May 20, 2011</td>\n",
       "      <td>Pirates of the Caribbean: On Stranger Tides</td>\n",
       "      <td>$410,600,000</td>\n",
       "      <td>$241,063,875</td>\n",
       "      <td>$1,045,663,875</td>\n",
       "    </tr>\n",
       "    <tr>\n",
       "      <th>2</th>\n",
       "      <td>3</td>\n",
       "      <td>Jun 7, 2019</td>\n",
       "      <td>Dark Phoenix</td>\n",
       "      <td>$350,000,000</td>\n",
       "      <td>$42,762,350</td>\n",
       "      <td>$149,762,350</td>\n",
       "    </tr>\n",
       "    <tr>\n",
       "      <th>3</th>\n",
       "      <td>4</td>\n",
       "      <td>May 1, 2015</td>\n",
       "      <td>Avengers: Age of Ultron</td>\n",
       "      <td>$330,600,000</td>\n",
       "      <td>$459,005,868</td>\n",
       "      <td>$1,403,013,963</td>\n",
       "    </tr>\n",
       "    <tr>\n",
       "      <th>4</th>\n",
       "      <td>5</td>\n",
       "      <td>Dec 15, 2017</td>\n",
       "      <td>Star Wars Ep. VIII: The Last Jedi</td>\n",
       "      <td>$317,000,000</td>\n",
       "      <td>$620,181,382</td>\n",
       "      <td>$1,316,721,747</td>\n",
       "    </tr>\n",
       "  </tbody>\n",
       "</table>\n",
       "</div>"
      ],
      "text/plain": [
       "   id  release_date                                        movie  \\\n",
       "0   1  Dec 18, 2009                                       Avatar   \n",
       "1   2  May 20, 2011  Pirates of the Caribbean: On Stranger Tides   \n",
       "2   3   Jun 7, 2019                                 Dark Phoenix   \n",
       "3   4   May 1, 2015                      Avengers: Age of Ultron   \n",
       "4   5  Dec 15, 2017            Star Wars Ep. VIII: The Last Jedi   \n",
       "\n",
       "  production_budget domestic_gross worldwide_gross  \n",
       "0      $425,000,000   $760,507,625  $2,776,345,279  \n",
       "1      $410,600,000   $241,063,875  $1,045,663,875  \n",
       "2      $350,000,000    $42,762,350    $149,762,350  \n",
       "3      $330,600,000   $459,005,868  $1,403,013,963  \n",
       "4      $317,000,000   $620,181,382  $1,316,721,747  "
      ]
     },
     "execution_count": 9,
     "metadata": {},
     "output_type": "execute_result"
    }
   ],
   "source": [
    "# Take a preliminary look at the data\n",
    "budget_df.head()"
   ]
  },
  {
   "cell_type": "code",
   "execution_count": 10,
   "metadata": {
    "ExecuteTime": {
     "end_time": "2022-08-21T23:28:28.307121Z",
     "start_time": "2022-08-21T23:28:28.293119Z"
    }
   },
   "outputs": [
    {
     "name": "stdout",
     "output_type": "stream",
     "text": [
      "<class 'pandas.core.frame.DataFrame'>\n",
      "RangeIndex: 5782 entries, 0 to 5781\n",
      "Data columns (total 6 columns):\n",
      " #   Column             Non-Null Count  Dtype \n",
      "---  ------             --------------  ----- \n",
      " 0   id                 5782 non-null   int64 \n",
      " 1   release_date       5782 non-null   object\n",
      " 2   movie              5782 non-null   object\n",
      " 3   production_budget  5782 non-null   object\n",
      " 4   domestic_gross     5782 non-null   object\n",
      " 5   worldwide_gross    5782 non-null   object\n",
      "dtypes: int64(1), object(5)\n",
      "memory usage: 271.2+ KB\n"
     ]
    }
   ],
   "source": [
    "# Take a look at the data frame information\n",
    "budget_df.info()"
   ]
  },
  {
   "cell_type": "markdown",
   "metadata": {},
   "source": [
    "From looking at the information, we can see a few important things\n",
    "- There are no missing (NaN) values\n",
    "- All of the numerical columns are strings instead of floats"
   ]
  },
  {
   "cell_type": "code",
   "execution_count": 11,
   "metadata": {
    "ExecuteTime": {
     "end_time": "2022-08-21T23:28:28.323119Z",
     "start_time": "2022-08-21T23:28:28.309118Z"
    }
   },
   "outputs": [
    {
     "name": "stdout",
     "output_type": "stream",
     "text": [
      "Number of missing gross values from either column 548\n",
      "Number of missing gross values from both columns 367\n",
      "Number of missing gross values from just domestic 548\n",
      "Number of missing gross values from just worldwide 367\n",
      "Number of items in the entire dataset 5782\n"
     ]
    }
   ],
   "source": [
    "# Let's see if there are any 0 values, which would be considered missing \n",
    "either_miss = len(budget_df[(budget_df['domestic_gross'] == '$0') | (budget_df['worldwide_gross'] == '$0')])\n",
    "both_miss = len(budget_df[(budget_df['domestic_gross'] == '$0') & (budget_df['worldwide_gross'] == '$0')])\n",
    "just_dom = len(budget_df[budget_df['domestic_gross'] == '$0'])\n",
    "just_world = len(budget_df[budget_df['worldwide_gross'] == '$0'])\n",
    "len_dataset = len(budget_df['domestic_gross'])\n",
    "print(f'Number of missing gross values from either column {either_miss}')\n",
    "print(f'Number of missing gross values from both columns {both_miss}')\n",
    "print(f'Number of missing gross values from just domestic {just_dom}')\n",
    "print(f'Number of missing gross values from just worldwide {just_world}')\n",
    "print(f'Number of items in the entire dataset {len_dataset}')"
   ]
  },
  {
   "cell_type": "code",
   "execution_count": 12,
   "metadata": {
    "ExecuteTime": {
     "end_time": "2022-08-21T23:28:28.339119Z",
     "start_time": "2022-08-21T23:28:28.324120Z"
    }
   },
   "outputs": [
    {
     "name": "stdout",
     "output_type": "stream",
     "text": [
      "Percentage of the data that is missing from the domestic gross column 9.47768938083708\n",
      "Percentage of the data that is missing from the worldwide gross column 6.347284676582497\n"
     ]
    }
   ],
   "source": [
    "# Because there are numbers with 0 domestic and worldwide gross, lets see what fraction of the dataset it is\n",
    "pct_0_dom = just_dom/len_dataset\n",
    "print(f'Percentage of the data that is missing from the domestic gross column {pct_0_dom*100}')\n",
    "pct_0_world = just_world/len_dataset\n",
    "print(f'Percentage of the data that is missing from the worldwide gross column {pct_0_world*100}')"
   ]
  },
  {
   "cell_type": "markdown",
   "metadata": {},
   "source": [
    "### Understanding the IMDB Dataset"
   ]
  },
  {
   "cell_type": "code",
   "execution_count": 13,
   "metadata": {
    "ExecuteTime": {
     "end_time": "2022-08-21T23:28:28.846889Z",
     "start_time": "2022-08-21T23:28:28.342120Z"
    }
   },
   "outputs": [],
   "source": [
    "# Establish a connection with SQL databasae and read in the data\n",
    "filename = 'zippedData/im.db'\n",
    "conn = sqlite3.connect(filename)\n",
    "q = \"\"\"SELECT *\n",
    "       FROM movie_ratings\n",
    "       JOIN movie_basics USING(movie_id)\n",
    "       WHERE movie_basics.start_year >= 2010\"\"\"\n",
    "ratings_df = pd.read_sql(q, conn)"
   ]
  },
  {
   "cell_type": "code",
   "execution_count": 14,
   "metadata": {
    "ExecuteTime": {
     "end_time": "2022-08-21T23:28:28.862889Z",
     "start_time": "2022-08-21T23:28:28.847889Z"
    }
   },
   "outputs": [
    {
     "data": {
      "text/html": [
       "<div>\n",
       "<style scoped>\n",
       "    .dataframe tbody tr th:only-of-type {\n",
       "        vertical-align: middle;\n",
       "    }\n",
       "\n",
       "    .dataframe tbody tr th {\n",
       "        vertical-align: top;\n",
       "    }\n",
       "\n",
       "    .dataframe thead th {\n",
       "        text-align: right;\n",
       "    }\n",
       "</style>\n",
       "<table border=\"1\" class=\"dataframe\">\n",
       "  <thead>\n",
       "    <tr style=\"text-align: right;\">\n",
       "      <th></th>\n",
       "      <th>movie_id</th>\n",
       "      <th>averagerating</th>\n",
       "      <th>numvotes</th>\n",
       "      <th>primary_title</th>\n",
       "      <th>original_title</th>\n",
       "      <th>start_year</th>\n",
       "      <th>runtime_minutes</th>\n",
       "      <th>genres</th>\n",
       "    </tr>\n",
       "  </thead>\n",
       "  <tbody>\n",
       "    <tr>\n",
       "      <th>0</th>\n",
       "      <td>tt0063540</td>\n",
       "      <td>7.0</td>\n",
       "      <td>77</td>\n",
       "      <td>Sunghursh</td>\n",
       "      <td>Sunghursh</td>\n",
       "      <td>2013</td>\n",
       "      <td>175.0</td>\n",
       "      <td>Action,Crime,Drama</td>\n",
       "    </tr>\n",
       "    <tr>\n",
       "      <th>1</th>\n",
       "      <td>tt0066787</td>\n",
       "      <td>7.2</td>\n",
       "      <td>43</td>\n",
       "      <td>One Day Before the Rainy Season</td>\n",
       "      <td>Ashad Ka Ek Din</td>\n",
       "      <td>2019</td>\n",
       "      <td>114.0</td>\n",
       "      <td>Biography,Drama</td>\n",
       "    </tr>\n",
       "    <tr>\n",
       "      <th>2</th>\n",
       "      <td>tt0069049</td>\n",
       "      <td>6.9</td>\n",
       "      <td>4517</td>\n",
       "      <td>The Other Side of the Wind</td>\n",
       "      <td>The Other Side of the Wind</td>\n",
       "      <td>2018</td>\n",
       "      <td>122.0</td>\n",
       "      <td>Drama</td>\n",
       "    </tr>\n",
       "    <tr>\n",
       "      <th>3</th>\n",
       "      <td>tt0069204</td>\n",
       "      <td>6.1</td>\n",
       "      <td>13</td>\n",
       "      <td>Sabse Bada Sukh</td>\n",
       "      <td>Sabse Bada Sukh</td>\n",
       "      <td>2018</td>\n",
       "      <td>NaN</td>\n",
       "      <td>Comedy,Drama</td>\n",
       "    </tr>\n",
       "    <tr>\n",
       "      <th>4</th>\n",
       "      <td>tt0100275</td>\n",
       "      <td>6.5</td>\n",
       "      <td>119</td>\n",
       "      <td>The Wandering Soap Opera</td>\n",
       "      <td>La Telenovela Errante</td>\n",
       "      <td>2017</td>\n",
       "      <td>80.0</td>\n",
       "      <td>Comedy,Drama,Fantasy</td>\n",
       "    </tr>\n",
       "  </tbody>\n",
       "</table>\n",
       "</div>"
      ],
      "text/plain": [
       "    movie_id  averagerating  numvotes                    primary_title  \\\n",
       "0  tt0063540            7.0        77                        Sunghursh   \n",
       "1  tt0066787            7.2        43  One Day Before the Rainy Season   \n",
       "2  tt0069049            6.9      4517       The Other Side of the Wind   \n",
       "3  tt0069204            6.1        13                  Sabse Bada Sukh   \n",
       "4  tt0100275            6.5       119         The Wandering Soap Opera   \n",
       "\n",
       "               original_title  start_year  runtime_minutes  \\\n",
       "0                   Sunghursh        2013            175.0   \n",
       "1             Ashad Ka Ek Din        2019            114.0   \n",
       "2  The Other Side of the Wind        2018            122.0   \n",
       "3             Sabse Bada Sukh        2018              NaN   \n",
       "4       La Telenovela Errante        2017             80.0   \n",
       "\n",
       "                 genres  \n",
       "0    Action,Crime,Drama  \n",
       "1       Biography,Drama  \n",
       "2                 Drama  \n",
       "3          Comedy,Drama  \n",
       "4  Comedy,Drama,Fantasy  "
      ]
     },
     "execution_count": 14,
     "metadata": {},
     "output_type": "execute_result"
    }
   ],
   "source": [
    "# Take a preliminary look at the data\n",
    "ratings_df.head()"
   ]
  },
  {
   "cell_type": "code",
   "execution_count": 15,
   "metadata": {
    "ExecuteTime": {
     "end_time": "2022-08-21T23:28:28.910889Z",
     "start_time": "2022-08-21T23:28:28.864889Z"
    }
   },
   "outputs": [
    {
     "name": "stdout",
     "output_type": "stream",
     "text": [
      "<class 'pandas.core.frame.DataFrame'>\n",
      "RangeIndex: 73856 entries, 0 to 73855\n",
      "Data columns (total 8 columns):\n",
      " #   Column           Non-Null Count  Dtype  \n",
      "---  ------           --------------  -----  \n",
      " 0   movie_id         73856 non-null  object \n",
      " 1   averagerating    73856 non-null  float64\n",
      " 2   numvotes         73856 non-null  int64  \n",
      " 3   primary_title    73856 non-null  object \n",
      " 4   original_title   73856 non-null  object \n",
      " 5   start_year       73856 non-null  int64  \n",
      " 6   runtime_minutes  66236 non-null  float64\n",
      " 7   genres           73052 non-null  object \n",
      "dtypes: float64(2), int64(2), object(4)\n",
      "memory usage: 4.5+ MB\n"
     ]
    }
   ],
   "source": [
    "# Take a look at the data frame information\n",
    "ratings_df.info()"
   ]
  },
  {
   "cell_type": "markdown",
   "metadata": {},
   "source": [
    "From looking at the information, we can see that there are some missing values in the runtime column and data types for columns are as expected"
   ]
  },
  {
   "cell_type": "markdown",
   "metadata": {},
   "source": [
    "### Summary \n",
    "The data from Box Office Mojo included movie domestic and foreign gross, and movie production studio.\n",
    "- Dataset contained in a .csv file\n",
    "- Approximately 39% missing data in foreign gross column\n",
    "\n",
    "Data from The Numbers included production budget and worldwide gross information.\n",
    "- Dataset contained in a .csv file\n",
    "- Approximately 6% missing data in worldwide gross\n",
    "\n",
    "Data from IMDB included general movie information such as title, average ratings, and genres.\n",
    "- Data represented as a relational SQL database\n",
    "- Most analysis done using __movie_basics__ and __movie_ratings__ tables\n",
    "\n",
    "We only considered movies in each dataset that had been released in 2010 or later."
   ]
  },
  {
   "cell_type": "markdown",
   "metadata": {},
   "source": [
    "## Data Preparation"
   ]
  },
  {
   "cell_type": "markdown",
   "metadata": {},
   "source": [
    "### Preparing the Box Office Mojo Dataset"
   ]
  },
  {
   "cell_type": "code",
   "execution_count": 16,
   "metadata": {
    "ExecuteTime": {
     "end_time": "2022-08-21T23:28:28.925890Z",
     "start_time": "2022-08-21T23:28:28.912889Z"
    }
   },
   "outputs": [],
   "source": [
    "# Let's recast foregin_gross as a float \n",
    "str_to_float = lambda x: float(str(x).replace(',', ''))\n",
    "movie_gross_df['foreign_gross'] = movie_gross_df['foreign_gross'].map(str_to_float)"
   ]
  },
  {
   "cell_type": "code",
   "execution_count": 17,
   "metadata": {
    "ExecuteTime": {
     "end_time": "2022-08-21T23:28:28.941889Z",
     "start_time": "2022-08-21T23:28:28.927889Z"
    }
   },
   "outputs": [],
   "source": [
    "# Let's test to see if the data type actually changed \n",
    "assert movie_gross_df['foreign_gross'].dtype  == np.float64"
   ]
  },
  {
   "cell_type": "code",
   "execution_count": 18,
   "metadata": {
    "ExecuteTime": {
     "end_time": "2022-08-21T23:28:28.957889Z",
     "start_time": "2022-08-21T23:28:28.943890Z"
    }
   },
   "outputs": [],
   "source": [
    "# Let's replace missing studios with 'IND' representing independent\n",
    "movie_gross_df['studio'] = movie_gross_df['studio'].fillna('IND')"
   ]
  },
  {
   "cell_type": "code",
   "execution_count": 19,
   "metadata": {
    "ExecuteTime": {
     "end_time": "2022-08-21T23:28:28.973889Z",
     "start_time": "2022-08-21T23:28:28.958889Z"
    }
   },
   "outputs": [],
   "source": [
    "# Test to see if there are any missing values in the studio column\n",
    "assert movie_gross_df['studio'].isna().sum() == 0"
   ]
  },
  {
   "cell_type": "code",
   "execution_count": 20,
   "metadata": {
    "ExecuteTime": {
     "end_time": "2022-08-21T23:28:28.989890Z",
     "start_time": "2022-08-21T23:28:28.975889Z"
    }
   },
   "outputs": [],
   "source": [
    "# The missing % of data for domestic gross is small, so lets delete those rows\n",
    "movie_gross_df = movie_gross_df.dropna(axis=0, subset=['domestic_gross'])"
   ]
  },
  {
   "cell_type": "markdown",
   "metadata": {},
   "source": [
    "Because the amount of missing data from the foreign gross column is too much, we must impute the missing values. We impute missing values by calculating the median % change between foreign and domestic gross and using that to give an estimate of foreign gross as a function of domestic"
   ]
  },
  {
   "cell_type": "code",
   "execution_count": 21,
   "metadata": {
    "ExecuteTime": {
     "end_time": "2022-08-21T23:28:29.005907Z",
     "start_time": "2022-08-21T23:28:28.991889Z"
    }
   },
   "outputs": [
    {
     "name": "stdout",
     "output_type": "stream",
     "text": [
      "0.6315266036797613\n"
     ]
    }
   ],
   "source": [
    "# That is too much, so lets find the median pct change between domestic and foreign films\n",
    "med_pct_change = ((movie_gross_df['foreign_gross'] - movie_gross_df['domestic_gross'])/movie_gross_df['domestic_gross']).median()\n",
    "print(med_pct_change)"
   ]
  },
  {
   "cell_type": "code",
   "execution_count": 22,
   "metadata": {
    "ExecuteTime": {
     "end_time": "2022-08-21T23:28:29.021927Z",
     "start_time": "2022-08-21T23:28:29.007923Z"
    }
   },
   "outputs": [],
   "source": [
    "# Now that we have the median % change, lets impute the missing foreign values \n",
    "impute_change = movie_gross_df['domestic_gross'] + (movie_gross_df['domestic_gross'] * med_pct_change)\n",
    "movie_gross_df['foreign_gross'] = movie_gross_df['foreign_gross'].fillna(impute_change)"
   ]
  },
  {
   "cell_type": "code",
   "execution_count": 23,
   "metadata": {
    "ExecuteTime": {
     "end_time": "2022-08-21T23:28:29.037504Z",
     "start_time": "2022-08-21T23:28:29.025924Z"
    }
   },
   "outputs": [],
   "source": [
    "# Test that we now have no more NaN values in the data \n",
    "assert movie_gross_df['foreign_gross'].isna().sum() == 0"
   ]
  },
  {
   "cell_type": "code",
   "execution_count": 24,
   "metadata": {
    "ExecuteTime": {
     "end_time": "2022-08-21T23:28:29.052954Z",
     "start_time": "2022-08-21T23:28:29.040512Z"
    }
   },
   "outputs": [],
   "source": [
    "# Finally, test to see if there are any missing values anywhere in the data \n",
    "assert movie_gross_df.isna().sum().sum() == 0"
   ]
  },
  {
   "cell_type": "code",
   "execution_count": 25,
   "metadata": {
    "ExecuteTime": {
     "end_time": "2022-08-21T23:28:29.068483Z",
     "start_time": "2022-08-21T23:28:29.054963Z"
    }
   },
   "outputs": [],
   "source": [
    "# Let's feature engineer a new feature that can be useful to our understanding of gross as a whole\n",
    "movie_gross_df['total_gross'] = movie_gross_df['foreign_gross'] + movie_gross_df['domestic_gross']"
   ]
  },
  {
   "cell_type": "code",
   "execution_count": 26,
   "metadata": {},
   "outputs": [],
   "source": [
    "# Test to see that the new column was created correctly \n",
    "assert 'total_gross' in movie_gross_df.columns"
   ]
  },
  {
   "cell_type": "code",
   "execution_count": 27,
   "metadata": {},
   "outputs": [],
   "source": [
    "# Let's normalize the data to millions to make numbers more manageable\n",
    "movie_gross_df['total_gross'] = movie_gross_df['total_gross']/1000000\n",
    "movie_gross_df['domestic_gross'] = movie_gross_df['domestic_gross']/1000000\n",
    "movie_gross_df['foreign_gross'] = movie_gross_df['foreign_gross']/1000000"
   ]
  },
  {
   "cell_type": "code",
   "execution_count": 28,
   "metadata": {
    "ExecuteTime": {
     "end_time": "2022-08-21T23:28:29.084472Z",
     "start_time": "2022-08-21T23:28:29.070490Z"
    }
   },
   "outputs": [],
   "source": [
    "# Let's change the title to avoid any issues with spacing\n",
    "movie_gross_df['title'] = movie_gross_df['title'].map(lambda x: x.strip().lower().replace(\" \", \"\"))"
   ]
  },
  {
   "cell_type": "markdown",
   "metadata": {},
   "source": [
    "### Preparing the Numbers Dataset"
   ]
  },
  {
   "cell_type": "code",
   "execution_count": 29,
   "metadata": {
    "ExecuteTime": {
     "end_time": "2022-08-21T23:28:29.099478Z",
     "start_time": "2022-08-21T23:28:29.086479Z"
    }
   },
   "outputs": [],
   "source": [
    "# Let's define a function that will parse through a string of $xxx,xxx,xxx and turn it into a float\n",
    "money_to_float = lambda x: float(x.replace('$','').replace(',',''))"
   ]
  },
  {
   "cell_type": "code",
   "execution_count": 30,
   "metadata": {
    "ExecuteTime": {
     "end_time": "2022-08-21T23:28:29.114478Z",
     "start_time": "2022-08-21T23:28:29.101478Z"
    }
   },
   "outputs": [],
   "source": [
    "# Let's test to make sure this function is behaving the way that we anticipate\n",
    "assert money_to_float('$1,000') == 1000"
   ]
  },
  {
   "cell_type": "code",
   "execution_count": 31,
   "metadata": {
    "ExecuteTime": {
     "end_time": "2022-08-21T23:28:29.129477Z",
     "start_time": "2022-08-21T23:28:29.116479Z"
    }
   },
   "outputs": [],
   "source": [
    "# Update the dtype of the production_budget column \n",
    "budget_df['production_budget'] = budget_df['production_budget'].map(money_to_float)"
   ]
  },
  {
   "cell_type": "code",
   "execution_count": 32,
   "metadata": {
    "ExecuteTime": {
     "end_time": "2022-08-21T23:28:29.144228Z",
     "start_time": "2022-08-21T23:28:29.130480Z"
    }
   },
   "outputs": [],
   "source": [
    "# Update the dtype of the domestic_gross column \n",
    "budget_df['domestic_gross'] = budget_df['domestic_gross'].map(money_to_float)"
   ]
  },
  {
   "cell_type": "code",
   "execution_count": 33,
   "metadata": {
    "ExecuteTime": {
     "end_time": "2022-08-21T23:28:29.159244Z",
     "start_time": "2022-08-21T23:28:29.145228Z"
    }
   },
   "outputs": [],
   "source": [
    "# Update the dtype of the worldwide_gross column \n",
    "budget_df['worldwide_gross'] = budget_df['worldwide_gross'].map(money_to_float)"
   ]
  },
  {
   "cell_type": "code",
   "execution_count": 34,
   "metadata": {
    "ExecuteTime": {
     "end_time": "2022-08-21T23:28:29.174421Z",
     "start_time": "2022-08-21T23:28:29.161248Z"
    }
   },
   "outputs": [],
   "source": [
    "# Test to make sure it worked\n",
    "assert budget_df['production_budget'].dtype == np.float64"
   ]
  },
  {
   "cell_type": "code",
   "execution_count": 35,
   "metadata": {
    "ExecuteTime": {
     "end_time": "2022-08-21T23:28:29.627817Z",
     "start_time": "2022-08-21T23:28:29.175422Z"
    }
   },
   "outputs": [],
   "source": [
    "# Let's make the release date an int dtype that only has the year\n",
    "budget_df['release_date'] = pd.to_datetime(budget_df['release_date']).dt.year"
   ]
  },
  {
   "cell_type": "code",
   "execution_count": 36,
   "metadata": {
    "ExecuteTime": {
     "end_time": "2022-08-21T23:28:29.642820Z",
     "start_time": "2022-08-21T23:28:29.629819Z"
    }
   },
   "outputs": [],
   "source": [
    "# Test to make sure the dtype is now correct\n",
    "assert budget_df['release_date'].dtype == np.int64"
   ]
  },
  {
   "cell_type": "code",
   "execution_count": 37,
   "metadata": {
    "ExecuteTime": {
     "end_time": "2022-08-21T23:28:29.658929Z",
     "start_time": "2022-08-21T23:28:29.644820Z"
    }
   },
   "outputs": [],
   "source": [
    "# < 10% of data is $0, so lets drop those records\n",
    "budget_df = budget_df[budget_df['domestic_gross'] != 0]"
   ]
  },
  {
   "cell_type": "code",
   "execution_count": 38,
   "metadata": {
    "ExecuteTime": {
     "end_time": "2022-08-21T23:28:29.674450Z",
     "start_time": "2022-08-21T23:28:29.660450Z"
    }
   },
   "outputs": [],
   "source": [
    "# Test to make sure we dropped correctly\n",
    "assert len(budget_df[budget_df['domestic_gross'] == 0]) == 0\n",
    "assert len(budget_df[budget_df['worldwide_gross'] == 0]) == 0"
   ]
  },
  {
   "cell_type": "code",
   "execution_count": 39,
   "metadata": {
    "ExecuteTime": {
     "end_time": "2022-08-21T23:28:29.689957Z",
     "start_time": "2022-08-21T23:28:29.676449Z"
    }
   },
   "outputs": [],
   "source": [
    "# Finally, we can normalize monetary columns to the millions \n",
    "budget_df['production_budget'] = budget_df['production_budget']/1000000\n",
    "budget_df['domestic_gross'] = budget_df['domestic_gross']/1000000\n",
    "budget_df['worldwide_gross'] = budget_df['worldwide_gross']/1000000"
   ]
  },
  {
   "cell_type": "markdown",
   "metadata": {},
   "source": [
    "### Preparing the IMDB Dataset"
   ]
  },
  {
   "cell_type": "code",
   "execution_count": 40,
   "metadata": {
    "ExecuteTime": {
     "end_time": "2022-08-21T23:28:29.705418Z",
     "start_time": "2022-08-21T23:28:29.691958Z"
    }
   },
   "outputs": [],
   "source": [
    "# For the sake of our analysis, we can drop unnecessary columns \n",
    "to_drop = ['movie_id', 'original_title', 'start_year', 'runtime_minutes']\n",
    "ratings_df = ratings_df.drop(labels=to_drop, axis=1)"
   ]
  },
  {
   "cell_type": "code",
   "execution_count": 41,
   "metadata": {
    "ExecuteTime": {
     "end_time": "2022-08-21T23:28:29.753315Z",
     "start_time": "2022-08-21T23:28:29.707416Z"
    }
   },
   "outputs": [],
   "source": [
    "# Let's change the titles to avoid any conflicts with spacings\n",
    "ratings_df['primary_title'] = ratings_df['primary_title'].map(lambda x: x.strip().lower().replace(\" \", \"\"))"
   ]
  },
  {
   "cell_type": "code",
   "execution_count": 42,
   "metadata": {},
   "outputs": [],
   "source": [
    "# Lets create a function to format genres\n",
    "def clean_genres(genres):\n",
    "    '''\n",
    "    Takes a list of genres and builds a string from the list\n",
    "    for easier aggregation and comparison. \n",
    "    -\n",
    "    Input:\n",
    "    genres : list of genres to be converted\n",
    "    -\n",
    "    Output:\n",
    "    lowercase, comma-separated string built from list \n",
    "    '''\n",
    "    genres = str(genres)\n",
    "    genres_list = sorted(genres.lower().split(','))\n",
    "    return ','.join(list(map(str, genres_list)))"
   ]
  },
  {
   "cell_type": "code",
   "execution_count": 43,
   "metadata": {},
   "outputs": [
    {
     "data": {
      "text/html": [
       "<div>\n",
       "<style scoped>\n",
       "    .dataframe tbody tr th:only-of-type {\n",
       "        vertical-align: middle;\n",
       "    }\n",
       "\n",
       "    .dataframe tbody tr th {\n",
       "        vertical-align: top;\n",
       "    }\n",
       "\n",
       "    .dataframe thead th {\n",
       "        text-align: right;\n",
       "    }\n",
       "</style>\n",
       "<table border=\"1\" class=\"dataframe\">\n",
       "  <thead>\n",
       "    <tr style=\"text-align: right;\">\n",
       "      <th></th>\n",
       "      <th>averagerating</th>\n",
       "      <th>numvotes</th>\n",
       "      <th>primary_title</th>\n",
       "      <th>genres</th>\n",
       "    </tr>\n",
       "  </thead>\n",
       "  <tbody>\n",
       "    <tr>\n",
       "      <th>0</th>\n",
       "      <td>7.0</td>\n",
       "      <td>77</td>\n",
       "      <td>sunghursh</td>\n",
       "      <td>action,crime,drama</td>\n",
       "    </tr>\n",
       "    <tr>\n",
       "      <th>1</th>\n",
       "      <td>7.2</td>\n",
       "      <td>43</td>\n",
       "      <td>onedaybeforetherainyseason</td>\n",
       "      <td>biography,drama</td>\n",
       "    </tr>\n",
       "    <tr>\n",
       "      <th>2</th>\n",
       "      <td>6.9</td>\n",
       "      <td>4517</td>\n",
       "      <td>theothersideofthewind</td>\n",
       "      <td>drama</td>\n",
       "    </tr>\n",
       "    <tr>\n",
       "      <th>3</th>\n",
       "      <td>6.1</td>\n",
       "      <td>13</td>\n",
       "      <td>sabsebadasukh</td>\n",
       "      <td>comedy,drama</td>\n",
       "    </tr>\n",
       "    <tr>\n",
       "      <th>4</th>\n",
       "      <td>6.5</td>\n",
       "      <td>119</td>\n",
       "      <td>thewanderingsoapopera</td>\n",
       "      <td>comedy,drama,fantasy</td>\n",
       "    </tr>\n",
       "  </tbody>\n",
       "</table>\n",
       "</div>"
      ],
      "text/plain": [
       "   averagerating  numvotes               primary_title                genres\n",
       "0            7.0        77                   sunghursh    action,crime,drama\n",
       "1            7.2        43  onedaybeforetherainyseason       biography,drama\n",
       "2            6.9      4517       theothersideofthewind                 drama\n",
       "3            6.1        13               sabsebadasukh          comedy,drama\n",
       "4            6.5       119       thewanderingsoapopera  comedy,drama,fantasy"
      ]
     },
     "execution_count": 43,
     "metadata": {},
     "output_type": "execute_result"
    }
   ],
   "source": [
    "# Lets apply clean_genres function to ratings dataset\n",
    "ratings_df['genres'] = ratings_df['genres'].apply(clean_genres)\n",
    "ratings_df.head()"
   ]
  },
  {
   "cell_type": "code",
   "execution_count": 44,
   "metadata": {},
   "outputs": [],
   "source": [
    "# Lets rename primary_title to title to be consistent with Mojo dataset\n",
    "ratings_df = ratings_df.rename({'primary_title':'title'}, axis=1)"
   ]
  },
  {
   "cell_type": "code",
   "execution_count": 45,
   "metadata": {},
   "outputs": [],
   "source": [
    "# Test to see if it worked \n",
    "assert 'title' in ratings_df.columns"
   ]
  },
  {
   "cell_type": "markdown",
   "metadata": {},
   "source": [
    "## Data Analysis & Visualizations"
   ]
  },
  {
   "cell_type": "markdown",
   "metadata": {},
   "source": [
    "### Box Office Mojo Analysis"
   ]
  },
  {
   "cell_type": "code",
   "execution_count": 46,
   "metadata": {
    "ExecuteTime": {
     "end_time": "2022-08-21T23:28:29.784336Z",
     "start_time": "2022-08-21T23:28:29.770315Z"
    },
    "scrolled": true
   },
   "outputs": [
    {
     "data": {
      "text/plain": [
       "1476       0.000263\n",
       "2757       0.000789\n",
       "2756       0.000789\n",
       "2321       0.000789\n",
       "3078       0.001053\n",
       "           ...     \n",
       "2758    1332.600000\n",
       "328     1341.500000\n",
       "3080    1347.000000\n",
       "1875    1405.400000\n",
       "727     1518.900000\n",
       "Name: total_gross, Length: 3359, dtype: float64"
      ]
     },
     "execution_count": 46,
     "metadata": {},
     "output_type": "execute_result"
    }
   ],
   "source": [
    "# Let's take a look at the total gross column we made\n",
    "movie_gross_df['total_gross'].sort_values()"
   ]
  },
  {
   "cell_type": "code",
   "execution_count": 47,
   "metadata": {
    "ExecuteTime": {
     "end_time": "2022-08-21T23:28:29.800341Z",
     "start_time": "2022-08-21T23:28:29.786341Z"
    }
   },
   "outputs": [
    {
     "data": {
      "text/plain": [
       "title             marvel'stheavengers\n",
       "studio                             BV\n",
       "domestic_gross                  623.4\n",
       "foreign_gross                   895.5\n",
       "year                             2012\n",
       "total_gross                    1518.9\n",
       "Name: 727, dtype: object"
      ]
     },
     "execution_count": 47,
     "metadata": {},
     "output_type": "execute_result"
    }
   ],
   "source": [
    "# Let's see what movie grossed the most \n",
    "movie_gross_df.loc[movie_gross_df['total_gross'].idxmax(), :]"
   ]
  },
  {
   "cell_type": "code",
   "execution_count": 48,
   "metadata": {
    "ExecuteTime": {
     "end_time": "2022-08-21T23:28:29.816340Z",
     "start_time": "2022-08-21T23:28:29.801341Z"
    }
   },
   "outputs": [
    {
     "data": {
      "text/plain": [
       "title             starwars:theforceawakens\n",
       "studio                                  BV\n",
       "domestic_gross                       936.7\n",
       "foreign_gross                    0.0011316\n",
       "year                                  2015\n",
       "total_gross                        936.701\n",
       "Name: 1872, dtype: object"
      ]
     },
     "execution_count": 48,
     "metadata": {},
     "output_type": "execute_result"
    }
   ],
   "source": [
    "# Let's see what film did the best in terms of domestic gross \n",
    "movie_gross_df.loc[movie_gross_df['domestic_gross'].idxmax(), :]"
   ]
  },
  {
   "cell_type": "code",
   "execution_count": 49,
   "metadata": {
    "ExecuteTime": {
     "end_time": "2022-08-21T23:28:29.832341Z",
     "start_time": "2022-08-21T23:28:29.817341Z"
    }
   },
   "outputs": [
    {
     "data": {
      "text/plain": [
       "title             harrypotterandthedeathlyhallowspart2\n",
       "studio                                              WB\n",
       "domestic_gross                                     381\n",
       "foreign_gross                                    960.5\n",
       "year                                              2011\n",
       "total_gross                                     1341.5\n",
       "Name: 328, dtype: object"
      ]
     },
     "execution_count": 49,
     "metadata": {},
     "output_type": "execute_result"
    }
   ],
   "source": [
    "# Let's see what film did the best in terms of foreign gross \n",
    "movie_gross_df.loc[movie_gross_df['foreign_gross'].idxmax(), :]"
   ]
  },
  {
   "cell_type": "code",
   "execution_count": 50,
   "metadata": {
    "ExecuteTime": {
     "end_time": "2022-08-21T23:28:30.021341Z",
     "start_time": "2022-08-21T23:28:29.834340Z"
    }
   },
   "outputs": [
    {
     "data": {
      "image/png": "[encoded data removed]",
      "text/plain": [
       "<Figure size 432x288 with 1 Axes>"
      ]
     },
     "metadata": {},
     "output_type": "display_data"
    }
   ],
   "source": [
    "# Lets visualize the distribution of total gross data \n",
    "fig, axs = plt.subplots()\n",
    "movie_gross_df['total_gross'].plot.hist(bins=20, ax=axs)\n",
    "axs.set_title('Distribution of Total Gross Data');"
   ]
  },
  {
   "cell_type": "code",
   "execution_count": 51,
   "metadata": {
    "ExecuteTime": {
     "end_time": "2022-08-21T23:28:30.177340Z",
     "start_time": "2022-08-21T23:28:30.022342Z"
    }
   },
   "outputs": [
    {
     "name": "stderr",
     "output_type": "stream",
     "text": [
      "*c* argument looks like a single numeric RGB or RGBA sequence, which should be avoided as value-mapping will have precedence in case its length matches with *x* & *y*.  Please use the *color* keyword-argument or provide a 2-D array with a single row if you intend to specify the same RGB or RGBA value for all points.\n"
     ]
    },
    {
     "data": {
      "image/png": "[encoded data removed]",
      "text/plain": [
       "<Figure size 432x288 with 1 Axes>"
      ]
     },
     "metadata": {},
     "output_type": "display_data"
    }
   ],
   "source": [
    "# Lets visually see the correlation between domestic and foreign gross\n",
    "fig, axs = plt.subplots()\n",
    "movie_gross_df.plot.scatter('domestic_gross', 'foreign_gross', ax=axs)\n",
    "yhat = np.poly1d(np.polyfit(movie_gross_df['domestic_gross'], movie_gross_df['foreign_gross'],1))(movie_gross_df['domestic_gross'])\n",
    "axs.plot(movie_gross_df['domestic_gross'], yhat, \"r--\")\n",
    "axs.set_title('Foreign Gross vs Domestic Gross')\n",
    "axs.set_xlabel('Domestic Gross in Millions')\n",
    "axs.set_ylabel('Foreign Gross in Millions');"
   ]
  },
  {
   "cell_type": "code",
   "execution_count": 52,
   "metadata": {},
   "outputs": [
    {
     "name": "stdout",
     "output_type": "stream",
     "text": [
      "The correlation between the two variables is 0.7928984029704482\n"
     ]
    }
   ],
   "source": [
    "# Lets actually see what the correlation is between the two\n",
    "corr = np.corrcoef(movie_gross_df['domestic_gross'], movie_gross_df['foreign_gross'])[0][1]\n",
    "print(f'The correlation between the two variables is {corr}')"
   ]
  },
  {
   "cell_type": "markdown",
   "metadata": {},
   "source": [
    "### The Numbers Analysis"
   ]
  },
  {
   "cell_type": "code",
   "execution_count": 53,
   "metadata": {
    "ExecuteTime": {
     "end_time": "2022-08-21T23:28:30.350341Z",
     "start_time": "2022-08-21T23:28:30.179341Z"
    }
   },
   "outputs": [
    {
     "data": {
      "image/png": "[encoded data removed]",
      "text/plain": [
       "<Figure size 432x288 with 1 Axes>"
      ]
     },
     "metadata": {},
     "output_type": "display_data"
    }
   ],
   "source": [
    "# Let's look at the distribution of worldwide gross to see how it is shaped \n",
    "fig, axs = plt.subplots()\n",
    "budget_df['worldwide_gross'].plot.hist(bins=20, ax=axs)\n",
    "axs.set_title('Distribution of Worldwide Gross')\n",
    "axs.set_ylabel('Worldwide Gross in Millions');"
   ]
  },
  {
   "cell_type": "code",
   "execution_count": 54,
   "metadata": {
    "ExecuteTime": {
     "end_time": "2022-08-21T23:28:30.692929Z",
     "start_time": "2022-08-21T23:28:30.523341Z"
    }
   },
   "outputs": [
    {
     "data": {
      "image/png": "[encoded data removed]",
      "text/plain": [
       "<Figure size 432x288 with 1 Axes>"
      ]
     },
     "metadata": {},
     "output_type": "display_data"
    }
   ],
   "source": [
    "# Excludes all of the outliers to get a better visualization \n",
    "fig, axs = plt.subplots()\n",
    "budget_df[budget_df['worldwide_gross'] <= 250]['worldwide_gross'].plot.hist(bins=20, ax=axs)\n",
    "axs.set_title('Distribution Without Outliers')\n",
    "axs.set_xlabel('Worldwide Gross');"
   ]
  },
  {
   "cell_type": "markdown",
   "metadata": {},
   "source": [
    "### IMDB Analysis "
   ]
  },
  {
   "cell_type": "markdown",
   "metadata": {},
   "source": [
    "### Highest-Rated Genres\n",
    "To determine which genres had the highest average ratings, we first joined the __movie_basics__ and __movie_ratings__ tables to relate each movie's ID to its primary title.\n",
    "\n",
    "We then grouped movies by genre and took the average rating of each genre. Through this, we found that the highest-rated genres were __documentary__ and __animation__."
   ]
  },
  {
   "cell_type": "code",
   "execution_count": 55,
   "metadata": {
    "ExecuteTime": {
     "end_time": "2022-08-21T23:28:30.835180Z",
     "start_time": "2022-08-21T23:28:30.805953Z"
    }
   },
   "outputs": [],
   "source": [
    "# grouping ratings dataset by genre\n",
    "ratings_df['genres'].value_counts()\n",
    "sorted_by_avg = ratings_df.groupby('genres').mean().sort_values(by='averagerating', ascending=False)"
   ]
  },
  {
   "cell_type": "code",
   "execution_count": 56,
   "metadata": {
    "ExecuteTime": {
     "end_time": "2022-08-21T23:28:30.850441Z",
     "start_time": "2022-08-21T23:28:30.837186Z"
    }
   },
   "outputs": [],
   "source": [
    "# filter out movie genres with less than 62 total votes\n",
    "sorted_avg_higher_votes = sorted_by_avg[sorted_by_avg['numvotes'] >= 62].head(15)\n",
    "sorted_avg_higher_votes.reset_index(inplace=True)"
   ]
  },
  {
   "cell_type": "markdown",
   "metadata": {},
   "source": [
    "We decided to filter out genres with less than 62 total votes based on the box-and-whisker plot below. The 25th percentile of votes per genre was 62."
   ]
  },
  {
   "cell_type": "code",
   "execution_count": 57,
   "metadata": {
    "ExecuteTime": {
     "end_time": "2022-08-21T23:28:31.040443Z",
     "start_time": "2022-08-21T23:28:30.852442Z"
    }
   },
   "outputs": [
    {
     "data": {
      "image/png": "[encoded data removed]",
      "text/plain": [
       "<Figure size 432x288 with 1 Axes>"
      ]
     },
     "metadata": {},
     "output_type": "display_data"
    }
   ],
   "source": [
    "# outliers removed to improve quartile readability \n",
    "fig, ax = plt.subplots()\n",
    "sns.boxplot(x = sorted_avg_higher_votes['numvotes'], showfliers=False, color='b');\n",
    "ax.set_title('Distribution of Movie Votes\\n(Outliers Removed)')\n",
    "ax.set_xlabel('Number of Votes')\n",
    "ax.set_xticks(range(0, 1051, 100));"
   ]
  },
  {
   "cell_type": "code",
   "execution_count": 58,
   "metadata": {
    "ExecuteTime": {
     "end_time": "2022-08-21T23:28:31.056441Z",
     "start_time": "2022-08-21T23:28:31.042441Z"
    }
   },
   "outputs": [
    {
     "data": {
      "text/html": [
       "<div>\n",
       "<style scoped>\n",
       "    .dataframe tbody tr th:only-of-type {\n",
       "        vertical-align: middle;\n",
       "    }\n",
       "\n",
       "    .dataframe tbody tr th {\n",
       "        vertical-align: top;\n",
       "    }\n",
       "\n",
       "    .dataframe thead th {\n",
       "        text-align: right;\n",
       "    }\n",
       "</style>\n",
       "<table border=\"1\" class=\"dataframe\">\n",
       "  <thead>\n",
       "    <tr style=\"text-align: right;\">\n",
       "      <th></th>\n",
       "      <th>genres</th>\n",
       "      <th>averagerating</th>\n",
       "    </tr>\n",
       "  </thead>\n",
       "  <tbody>\n",
       "    <tr>\n",
       "      <th>0</th>\n",
       "      <td>mystery,news,thriller</td>\n",
       "      <td>8.40</td>\n",
       "    </tr>\n",
       "    <tr>\n",
       "      <th>1</th>\n",
       "      <td>comedy,history,musical</td>\n",
       "      <td>8.30</td>\n",
       "    </tr>\n",
       "    <tr>\n",
       "      <th>2</th>\n",
       "      <td>documentary,music,war</td>\n",
       "      <td>8.30</td>\n",
       "    </tr>\n",
       "    <tr>\n",
       "      <th>3</th>\n",
       "      <td>animation,documentary,mystery</td>\n",
       "      <td>8.20</td>\n",
       "    </tr>\n",
       "    <tr>\n",
       "      <th>4</th>\n",
       "      <td>romance,thriller,war</td>\n",
       "      <td>8.20</td>\n",
       "    </tr>\n",
       "    <tr>\n",
       "      <th>5</th>\n",
       "      <td>animation,crime,mystery</td>\n",
       "      <td>8.20</td>\n",
       "    </tr>\n",
       "    <tr>\n",
       "      <th>6</th>\n",
       "      <td>comedy,musical,western</td>\n",
       "      <td>8.20</td>\n",
       "    </tr>\n",
       "    <tr>\n",
       "      <th>7</th>\n",
       "      <td>documentary,fantasy,horror</td>\n",
       "      <td>8.10</td>\n",
       "    </tr>\n",
       "    <tr>\n",
       "      <th>8</th>\n",
       "      <td>animation,crime,documentary</td>\n",
       "      <td>8.07</td>\n",
       "    </tr>\n",
       "    <tr>\n",
       "      <th>9</th>\n",
       "      <td>documentary,drama,musical</td>\n",
       "      <td>8.05</td>\n",
       "    </tr>\n",
       "    <tr>\n",
       "      <th>10</th>\n",
       "      <td>comedy,documentary,sport</td>\n",
       "      <td>7.92</td>\n",
       "    </tr>\n",
       "    <tr>\n",
       "      <th>11</th>\n",
       "      <td>documentary,sport,thriller</td>\n",
       "      <td>7.90</td>\n",
       "    </tr>\n",
       "    <tr>\n",
       "      <th>12</th>\n",
       "      <td>action,romance,war</td>\n",
       "      <td>7.87</td>\n",
       "    </tr>\n",
       "    <tr>\n",
       "      <th>13</th>\n",
       "      <td>action,documentary,sport</td>\n",
       "      <td>7.86</td>\n",
       "    </tr>\n",
       "    <tr>\n",
       "      <th>14</th>\n",
       "      <td>adventure,animation,horror</td>\n",
       "      <td>7.83</td>\n",
       "    </tr>\n",
       "  </tbody>\n",
       "</table>\n",
       "</div>"
      ],
      "text/plain": [
       "                           genres  averagerating\n",
       "0           mystery,news,thriller           8.40\n",
       "1          comedy,history,musical           8.30\n",
       "2           documentary,music,war           8.30\n",
       "3   animation,documentary,mystery           8.20\n",
       "4            romance,thriller,war           8.20\n",
       "5         animation,crime,mystery           8.20\n",
       "6          comedy,musical,western           8.20\n",
       "7      documentary,fantasy,horror           8.10\n",
       "8     animation,crime,documentary           8.07\n",
       "9       documentary,drama,musical           8.05\n",
       "10       comedy,documentary,sport           7.92\n",
       "11     documentary,sport,thriller           7.90\n",
       "12             action,romance,war           7.87\n",
       "13       action,documentary,sport           7.86\n",
       "14     adventure,animation,horror           7.83"
      ]
     },
     "execution_count": 58,
     "metadata": {},
     "output_type": "execute_result"
    }
   ],
   "source": [
    "# 15 highest-rated movie genres with more than 62 total votes\n",
    "highest_rated_genres = sorted_avg_higher_votes[['genres', 'averagerating']]\n",
    "highest_rated_genres['averagerating'] = highest_rated_genres['averagerating'].round(2)\n",
    "highest_rated_genres"
   ]
  },
  {
   "cell_type": "code",
   "execution_count": 59,
   "metadata": {
    "ExecuteTime": {
     "end_time": "2022-08-21T23:28:31.072441Z",
     "start_time": "2022-08-21T23:28:31.058442Z"
    }
   },
   "outputs": [],
   "source": [
    "# make count of each of these individual genres in dictionary\n",
    "top_genres = {}\n",
    "for genre in sorted_avg_higher_votes['genres'].value_counts().index:\n",
    "    genre_list = genre.split(',')\n",
    "    for item in genre_list:\n",
    "        if item not in top_genres:\n",
    "            top_genres[item] = 1\n",
    "        elif item in top_genres:\n",
    "            top_genres[item] += 1\n",
    "top_genres = dict(sorted(top_genres.items(), key = lambda x: x[1], reverse=True))"
   ]
  },
  {
   "cell_type": "markdown",
   "metadata": {},
   "source": [
    "The chart below shows that the top two highest rated genres are __documentary__ and __animation__."
   ]
  },
  {
   "cell_type": "code",
   "execution_count": 60,
   "metadata": {
    "ExecuteTime": {
     "end_time": "2022-08-21T23:28:31.294440Z",
     "start_time": "2022-08-21T23:28:31.074443Z"
    }
   },
   "outputs": [
    {
     "data": {
      "image/png": "[encoded data removed]",
      "text/plain": [
       "<Figure size 432x288 with 1 Axes>"
      ]
     },
     "metadata": {},
     "output_type": "display_data"
    }
   ],
   "source": [
    "# bar chart showing most-used subgenres within top 15 highest-rated \n",
    "# movie genres\n",
    "fig, ax = plt.subplots()\n",
    "sns.barplot(x = list(top_genres.values()), y = list(top_genres.keys()), color = 'b');\n",
    "ax.set_title('Subgenres of Top 15 Hightest-Rated Genres')\n",
    "ax.set_xlabel('Number of Occurences')\n",
    "ax.set_ylabel('Genre');"
   ]
  },
  {
   "cell_type": "markdown",
   "metadata": {},
   "source": [
    "#### The Highest Performning Studio"
   ]
  },
  {
   "cell_type": "code",
   "execution_count": 61,
   "metadata": {
    "ExecuteTime": {
     "end_time": "2022-08-21T23:28:31.310500Z",
     "start_time": "2022-08-21T23:28:31.296444Z"
    }
   },
   "outputs": [
    {
     "data": {
      "text/plain": [
       "IFC           166\n",
       "Uni.          147\n",
       "WB            140\n",
       "Magn.         136\n",
       "Fox           136\n",
       "             ... \n",
       "U/P             1\n",
       "Dreamwest       1\n",
       "Synergetic      1\n",
       "SMod            1\n",
       "TAFC            1\n",
       "Name: studio, Length: 256, dtype: int64"
      ]
     },
     "execution_count": 61,
     "metadata": {},
     "output_type": "execute_result"
    }
   ],
   "source": [
    "# Lets inspect all of the studios to see if there is any duplicates w/misspellings\n",
    "movie_gross_df['studio'].value_counts().sort_values(ascending=False)"
   ]
  },
  {
   "cell_type": "code",
   "execution_count": 62,
   "metadata": {
    "ExecuteTime": {
     "end_time": "2022-08-21T23:28:31.326024Z",
     "start_time": "2022-08-21T23:28:31.312024Z"
    }
   },
   "outputs": [],
   "source": [
    "# Let's only look at studios that have more than 50 movies \n",
    "studio_50 = movie_gross_df.groupby(\"studio\").filter(lambda x: len(x) > 50)"
   ]
  },
  {
   "cell_type": "code",
   "execution_count": 63,
   "metadata": {
    "ExecuteTime": {
     "end_time": "2022-08-21T23:28:31.496634Z",
     "start_time": "2022-08-21T23:28:31.328025Z"
    }
   },
   "outputs": [
    {
     "data": {
      "image/png": "[encoded data removed]",
      "text/plain": [
       "<Figure size 432x288 with 1 Axes>"
      ]
     },
     "metadata": {},
     "output_type": "display_data"
    }
   ],
   "source": [
    "# Let's use the top 10 highest earners\n",
    "fig, axs = plt.subplots()\n",
    "studio_50.groupby('studio').mean()['total_gross'].sort_values(ascending=False)[:10].plot.bar(ax = axs)\n",
    "axs.set_title('Top 10 Highest Earning Studios')\n",
    "axs.set_ylabel('Total Gross in Millions')\n",
    "axs.set_xlabel('Studio');"
   ]
  },
  {
   "cell_type": "code",
   "execution_count": 64,
   "metadata": {
    "ExecuteTime": {
     "end_time": "2022-08-21T23:28:31.512642Z",
     "start_time": "2022-08-21T23:28:31.497633Z"
    }
   },
   "outputs": [
    {
     "data": {
      "text/html": [
       "<div>\n",
       "<style scoped>\n",
       "    .dataframe tbody tr th:only-of-type {\n",
       "        vertical-align: middle;\n",
       "    }\n",
       "\n",
       "    .dataframe tbody tr th {\n",
       "        vertical-align: top;\n",
       "    }\n",
       "\n",
       "    .dataframe thead th {\n",
       "        text-align: right;\n",
       "    }\n",
       "</style>\n",
       "<table border=\"1\" class=\"dataframe\">\n",
       "  <thead>\n",
       "    <tr style=\"text-align: right;\">\n",
       "      <th></th>\n",
       "      <th>title</th>\n",
       "      <th>studio</th>\n",
       "      <th>domestic_gross</th>\n",
       "      <th>foreign_gross</th>\n",
       "      <th>year</th>\n",
       "      <th>total_gross</th>\n",
       "    </tr>\n",
       "  </thead>\n",
       "  <tbody>\n",
       "    <tr>\n",
       "      <th>0</th>\n",
       "      <td>toystory3</td>\n",
       "      <td>BV</td>\n",
       "      <td>415.0</td>\n",
       "      <td>652.0</td>\n",
       "      <td>2010</td>\n",
       "      <td>1067.0</td>\n",
       "    </tr>\n",
       "    <tr>\n",
       "      <th>1</th>\n",
       "      <td>aliceinwonderland(2010)</td>\n",
       "      <td>BV</td>\n",
       "      <td>334.2</td>\n",
       "      <td>691.3</td>\n",
       "      <td>2010</td>\n",
       "      <td>1025.5</td>\n",
       "    </tr>\n",
       "    <tr>\n",
       "      <th>7</th>\n",
       "      <td>tangled</td>\n",
       "      <td>BV</td>\n",
       "      <td>200.8</td>\n",
       "      <td>391.0</td>\n",
       "      <td>2010</td>\n",
       "      <td>591.8</td>\n",
       "    </tr>\n",
       "    <tr>\n",
       "      <th>13</th>\n",
       "      <td>tronlegacy</td>\n",
       "      <td>BV</td>\n",
       "      <td>172.1</td>\n",
       "      <td>228.0</td>\n",
       "      <td>2010</td>\n",
       "      <td>400.1</td>\n",
       "    </tr>\n",
       "    <tr>\n",
       "      <th>15</th>\n",
       "      <td>princeofpersia:thesandsoftime</td>\n",
       "      <td>BV</td>\n",
       "      <td>90.8</td>\n",
       "      <td>245.6</td>\n",
       "      <td>2010</td>\n",
       "      <td>336.4</td>\n",
       "    </tr>\n",
       "    <tr>\n",
       "      <th>...</th>\n",
       "      <td>...</td>\n",
       "      <td>...</td>\n",
       "      <td>...</td>\n",
       "      <td>...</td>\n",
       "      <td>...</td>\n",
       "      <td>...</td>\n",
       "    </tr>\n",
       "    <tr>\n",
       "      <th>3101</th>\n",
       "      <td>solo:astarwarsstory</td>\n",
       "      <td>BV</td>\n",
       "      <td>213.8</td>\n",
       "      <td>179.2</td>\n",
       "      <td>2018</td>\n",
       "      <td>393.0</td>\n",
       "    </tr>\n",
       "    <tr>\n",
       "      <th>3107</th>\n",
       "      <td>marypoppinsreturns</td>\n",
       "      <td>BV</td>\n",
       "      <td>172.0</td>\n",
       "      <td>177.6</td>\n",
       "      <td>2018</td>\n",
       "      <td>349.6</td>\n",
       "    </tr>\n",
       "    <tr>\n",
       "      <th>3120</th>\n",
       "      <td>disney'schristopherrobin</td>\n",
       "      <td>BV</td>\n",
       "      <td>99.2</td>\n",
       "      <td>98.5</td>\n",
       "      <td>2018</td>\n",
       "      <td>197.7</td>\n",
       "    </tr>\n",
       "    <tr>\n",
       "      <th>3122</th>\n",
       "      <td>thenutcrackerandthefourrealms</td>\n",
       "      <td>BV</td>\n",
       "      <td>54.9</td>\n",
       "      <td>119.1</td>\n",
       "      <td>2018</td>\n",
       "      <td>174.0</td>\n",
       "    </tr>\n",
       "    <tr>\n",
       "      <th>3129</th>\n",
       "      <td>awrinkleintime</td>\n",
       "      <td>BV</td>\n",
       "      <td>100.5</td>\n",
       "      <td>32.2</td>\n",
       "      <td>2018</td>\n",
       "      <td>132.7</td>\n",
       "    </tr>\n",
       "  </tbody>\n",
       "</table>\n",
       "<p>106 rows × 6 columns</p>\n",
       "</div>"
      ],
      "text/plain": [
       "                              title studio  domestic_gross  foreign_gross  \\\n",
       "0                         toystory3     BV           415.0          652.0   \n",
       "1           aliceinwonderland(2010)     BV           334.2          691.3   \n",
       "7                           tangled     BV           200.8          391.0   \n",
       "13                       tronlegacy     BV           172.1          228.0   \n",
       "15    princeofpersia:thesandsoftime     BV            90.8          245.6   \n",
       "...                             ...    ...             ...            ...   \n",
       "3101            solo:astarwarsstory     BV           213.8          179.2   \n",
       "3107             marypoppinsreturns     BV           172.0          177.6   \n",
       "3120       disney'schristopherrobin     BV            99.2           98.5   \n",
       "3122  thenutcrackerandthefourrealms     BV            54.9          119.1   \n",
       "3129                 awrinkleintime     BV           100.5           32.2   \n",
       "\n",
       "      year  total_gross  \n",
       "0     2010       1067.0  \n",
       "1     2010       1025.5  \n",
       "7     2010        591.8  \n",
       "13    2010        400.1  \n",
       "15    2010        336.4  \n",
       "...    ...          ...  \n",
       "3101  2018        393.0  \n",
       "3107  2018        349.6  \n",
       "3120  2018        197.7  \n",
       "3122  2018        174.0  \n",
       "3129  2018        132.7  \n",
       "\n",
       "[106 rows x 6 columns]"
      ]
     },
     "execution_count": 64,
     "metadata": {},
     "output_type": "execute_result"
    }
   ],
   "source": [
    "# Lets look at the movies that studio BV has done\n",
    "movie_gross_df[movie_gross_df['studio'] == 'BV']"
   ]
  },
  {
   "cell_type": "markdown",
   "metadata": {},
   "source": [
    "We wanted to compare the top-rated genres the genres of movies produced by the top-grossing movie production studio, which was Disney-Pixar (represented as BV studios in this dataset)."
   ]
  },
  {
   "cell_type": "code",
   "execution_count": 65,
   "metadata": {
    "ExecuteTime": {
     "end_time": "2022-08-21T23:28:31.528633Z",
     "start_time": "2022-08-21T23:28:31.513635Z"
    }
   },
   "outputs": [],
   "source": [
    "# Lets combine the dataframe with movie titles and studios\n",
    "combined = pd.merge(movie_gross_df, ratings_df, on=\"title\")"
   ]
  },
  {
   "cell_type": "code",
   "execution_count": 66,
   "metadata": {},
   "outputs": [
    {
     "name": "stdout",
     "output_type": "stream",
     "text": [
      "<class 'pandas.core.frame.DataFrame'>\n",
      "Int64Index: 3135 entries, 0 to 3134\n",
      "Data columns (total 9 columns):\n",
      " #   Column          Non-Null Count  Dtype  \n",
      "---  ------          --------------  -----  \n",
      " 0   title           3135 non-null   object \n",
      " 1   studio          3135 non-null   object \n",
      " 2   domestic_gross  3135 non-null   float64\n",
      " 3   foreign_gross   3135 non-null   float64\n",
      " 4   year            3135 non-null   int64  \n",
      " 5   total_gross     3135 non-null   float64\n",
      " 6   averagerating   3135 non-null   float64\n",
      " 7   numvotes        3135 non-null   int64  \n",
      " 8   genres          3135 non-null   object \n",
      "dtypes: float64(4), int64(2), object(3)\n",
      "memory usage: 244.9+ KB\n"
     ]
    }
   ],
   "source": [
    "combined.info()"
   ]
  },
  {
   "cell_type": "code",
   "execution_count": 67,
   "metadata": {},
   "outputs": [
    {
     "data": {
      "text/plain": [
       "drama                            333\n",
       "comedy,drama                     142\n",
       "comedy,drama,romance             136\n",
       "drama,romance                    118\n",
       "documentary                      115\n",
       "                                ... \n",
       "biography,documentary,mystery      1\n",
       "biography,history,thriller         1\n",
       "animation,crime,drama              1\n",
       "comedy,crime,mystery               1\n",
       "action,documentary,history         1\n",
       "Name: genres, Length: 324, dtype: int64"
      ]
     },
     "execution_count": 67,
     "metadata": {},
     "output_type": "execute_result"
    }
   ],
   "source": [
    "# Lets take a look at the genre column \n",
    "combined['genres'].value_counts()"
   ]
  },
  {
   "cell_type": "code",
   "execution_count": 68,
   "metadata": {},
   "outputs": [
    {
     "data": {
      "text/plain": [
       "Text(0.5, 1.0, 'Top 20 Most Commonly Represented Genres')"
      ]
     },
     "execution_count": 68,
     "metadata": {},
     "output_type": "execute_result"
    },
    {
     "data": {
      "image/png": "[encoded data removed]",
      "text/plain": [
       "<Figure size 720x720 with 1 Axes>"
      ]
     },
     "metadata": {},
     "output_type": "display_data"
    }
   ],
   "source": [
    "# Lets see what genres are more represented in the data now that it is combined\n",
    "fig, axs = plt.subplots(figsize=(10,10))\n",
    "combined[combined['numvotes'] >= 62].genres.value_counts()[:20].sort_values().plot.barh(ax=axs)\n",
    "axs.set_title('Top 20 Most Commonly Represented Genres')"
   ]
  },
  {
   "cell_type": "code",
   "execution_count": 69,
   "metadata": {},
   "outputs": [],
   "source": [
    "# To not skew our groupbys with genres represented a small amount of times, lets filter those out\n",
    "combined_100 = combined.groupby(\"genres\").filter(lambda x: len(x) > 30)"
   ]
  },
  {
   "cell_type": "code",
   "execution_count": 70,
   "metadata": {},
   "outputs": [
    {
     "data": {
      "image/png": "[encoded data removed]",
      "text/plain": [
       "<Figure size 720x720 with 1 Axes>"
      ]
     },
     "metadata": {},
     "output_type": "display_data"
    }
   ],
   "source": [
    "# Lets plot the median gross per genre of movie\n",
    "medians = combined_100.groupby('genres').median()\n",
    "fig, axs = plt.subplots(figsize=(10,10))\n",
    "medians.reset_index().sort_values(by='total_gross', ascending=True)[:10].plot.barh('genres', 'total_gross', ax=axs)\n",
    "axs.set_title('Median Gross Per Movie Genre')\n",
    "axs.set_ylabel('Genres')\n",
    "axs.get_legend().remove()"
   ]
  },
  {
   "cell_type": "code",
   "execution_count": 71,
   "metadata": {},
   "outputs": [
    {
     "data": {
      "image/png": "[encoded data removed]",
      "text/plain": [
       "<Figure size 432x288 with 1 Axes>"
      ]
     },
     "metadata": {},
     "output_type": "display_data"
    }
   ],
   "source": [
    "# put movies from highest-performing studio into a dataframe\n",
    "bv_studio_movies = combined[combined['studio'] == 'BV']\n",
    "\n",
    "# bar chart showing number of movies per genre for BV studios\n",
    "fig, ax = plt.subplots()\n",
    "sns.countplot(data=bv_studio_movies, y='genres', \n",
    "              order=bv_studio_movies['genres'].value_counts().iloc[:10].index,\n",
    "              color = 'b')\n",
    "ax.set_xticks(range(0,21,2))\n",
    "ax.set_title('Count of Movies Per Genre Produced by BV Studios')\n",
    "ax.set_xlabel('Movie Count')\n",
    "ax.set_ylabel('Genre(s)');\n"
   ]
  },
  {
   "cell_type": "markdown",
   "metadata": {},
   "source": [
    "### Recommendation 1\n",
    "Because animation was present in both the top-rated genres and the list of genres from movies made by the highest-grossing production studio, __we recommend that Computer Vision produce a movie in the animation category.__"
   ]
  },
  {
   "cell_type": "markdown",
   "metadata": {},
   "source": [
    "### Budget-to-Box Office Ratio"
   ]
  },
  {
   "cell_type": "code",
   "execution_count": 72,
   "metadata": {
    "ExecuteTime": {
     "end_time": "2022-08-21T23:28:32.268230Z",
     "start_time": "2022-08-21T23:28:32.255232Z"
    }
   },
   "outputs": [],
   "source": [
    "# Remove the years before 2010 where we saw a jump in worldwide gross\n",
    "budget_df = budget_df[budget_df['release_date'] >= 2010]"
   ]
  },
  {
   "cell_type": "code",
   "execution_count": 73,
   "metadata": {
    "ExecuteTime": {
     "end_time": "2022-08-21T23:28:32.427229Z",
     "start_time": "2022-08-21T23:28:32.276234Z"
    }
   },
   "outputs": [
    {
     "name": "stderr",
     "output_type": "stream",
     "text": [
      "*c* argument looks like a single numeric RGB or RGBA sequence, which should be avoided as value-mapping will have precedence in case its length matches with *x* & *y*.  Please use the *color* keyword-argument or provide a 2-D array with a single row if you intend to specify the same RGB or RGBA value for all points.\n"
     ]
    },
    {
     "data": {
      "image/png": "[encoded data removed]",
      "text/plain": [
       "<Figure size 432x288 with 1 Axes>"
      ]
     },
     "metadata": {},
     "output_type": "display_data"
    }
   ],
   "source": [
    "# Let's start off by checking the scatter plot of budget and worldwide gross to gain intuition\n",
    "fig, axs = plt.subplots()\n",
    "budget_df.plot.scatter('production_budget', 'worldwide_gross', ax = axs)\n",
    "yhat = np.poly1d(np.polyfit(budget_df['production_budget'], budget_df['worldwide_gross'],1))(budget_df['production_budget'])\n",
    "axs.plot(budget_df['production_budget'], yhat, \"r--\")\n",
    "axs.set_title('Worldwide Gross vs Production Budget')\n",
    "axs.set_xlabel('Production Budget in Millions')\n",
    "axs.set_ylabel('Worldwide Gross in Millions');"
   ]
  },
  {
   "cell_type": "code",
   "execution_count": 74,
   "metadata": {
    "ExecuteTime": {
     "end_time": "2022-08-21T23:28:32.442230Z",
     "start_time": "2022-08-21T23:28:32.431231Z"
    }
   },
   "outputs": [
    {
     "name": "stdout",
     "output_type": "stream",
     "text": [
      "The correlation between production budget and worldwide gross is 0.7872721892906527\n"
     ]
    }
   ],
   "source": [
    "# To be more concrete, lets also print out the correlation coefficient \n",
    "corr = np.corrcoef(budget_df['production_budget'], budget_df['worldwide_gross'])[0][1]\n",
    "print(f'The correlation between production budget and worldwide gross is {corr}')"
   ]
  },
  {
   "cell_type": "code",
   "execution_count": 75,
   "metadata": {
    "ExecuteTime": {
     "end_time": "2022-08-21T23:28:32.458232Z",
     "start_time": "2022-08-21T23:28:32.444230Z"
    }
   },
   "outputs": [
    {
     "data": {
      "text/plain": [
       "1    2.546673\n",
       "2    0.427892\n",
       "3    4.243841\n",
       "4    4.153696\n",
       "5    6.710167\n",
       "Name: bg_ratio, dtype: float64"
      ]
     },
     "execution_count": 75,
     "metadata": {},
     "output_type": "execute_result"
    }
   ],
   "source": [
    "# Lets define a feature called budget to gross ratio \n",
    "budget_df['bg_ratio'] = budget_df['worldwide_gross']/budget_df['production_budget']\n",
    "budget_df.bg_ratio.head()"
   ]
  },
  {
   "cell_type": "code",
   "execution_count": 76,
   "metadata": {
    "ExecuteTime": {
     "end_time": "2022-08-21T23:28:32.666229Z",
     "start_time": "2022-08-21T23:28:32.460234Z"
    }
   },
   "outputs": [
    {
     "data": {
      "image/png": "[encoded data removed]",
      "text/plain": [
       "<Figure size 432x288 with 1 Axes>"
      ]
     },
     "metadata": {},
     "output_type": "display_data"
    }
   ],
   "source": [
    "# Lets see the top 10 best films in terms of bg_ratio\n",
    "fig, axs = plt.subplots()\n",
    "budget_df['movie'] = budget_df['movie'].map(lambda x: x.replace('Godâs', \"God's\"))\n",
    "budget_df.sort_values(by='bg_ratio', ascending=False)[:10].plot.barh('movie', 'bg_ratio', ax = axs, legend='Box Office to Gross Ratio')\n",
    "axs.set_title('Recent Movies with Large Box Office to Gross Ratios')\n",
    "axs.get_legend().remove()\n",
    "axs.set_xlabel('Box Office to Gross Ratio')\n",
    "axs.set_ylabel('Movie Title');"
   ]
  },
  {
   "cell_type": "code",
   "execution_count": 77,
   "metadata": {
    "ExecuteTime": {
     "end_time": "2022-08-21T23:28:32.681307Z",
     "start_time": "2022-08-21T23:28:32.667229Z"
    }
   },
   "outputs": [
    {
     "data": {
      "text/plain": [
       "42.87490355344152"
      ]
     },
     "execution_count": 77,
     "metadata": {},
     "output_type": "execute_result"
    }
   ],
   "source": [
    "# Let's give some ordinality to our budgets to define low budget and high budget movies\n",
    "avg_budget = budget_df['production_budget'].mean()\n",
    "avg_budget"
   ]
  },
  {
   "cell_type": "code",
   "execution_count": 78,
   "metadata": {
    "ExecuteTime": {
     "end_time": "2022-08-21T23:28:32.696825Z",
     "start_time": "2022-08-21T23:28:32.682824Z"
    }
   },
   "outputs": [],
   "source": [
    "# Create a column that represents high budget and low budget movies\n",
    "budget_df['high_budget'] = (budget_df['production_budget'] > avg_budget).astype(int)"
   ]
  },
  {
   "cell_type": "code",
   "execution_count": 79,
   "metadata": {},
   "outputs": [],
   "source": [
    "# Define a function for changing 0 & 1 to High and Low\n",
    "def change(x):\n",
    "    if x == 1:\n",
    "        return 'High Budget'\n",
    "    else:\n",
    "        return 'Low Budget'"
   ]
  },
  {
   "cell_type": "code",
   "execution_count": 80,
   "metadata": {
    "ExecuteTime": {
     "end_time": "2022-08-21T23:28:32.839824Z",
     "start_time": "2022-08-21T23:28:32.698827Z"
    }
   },
   "outputs": [
    {
     "data": {
      "image/png": "[encoded data removed]",
      "text/plain": [
       "<Figure size 432x288 with 1 Axes>"
      ]
     },
     "metadata": {},
     "output_type": "display_data"
    }
   ],
   "source": [
    "# Lets see the average and median bg_ratio for high budget and low budget films\n",
    "budget_df['high_budget'] = budget_df['high_budget'].map(change)\n",
    "fig, axs = plt.subplots()\n",
    "colors = ['r', 'b']\n",
    "budget_df.groupby('high_budget').median()['bg_ratio'].plot.bar(ax=axs, color = colors)\n",
    "labels = ['> $37 Million', '< $37 Million']\n",
    "handles = [plt.Rectangle((0,0),1,1, color=c) for c in colors]\n",
    "plt.legend(handles, labels)\n",
    "axs.set_title('Median Box Office to Gross Ratio for High/Low Budget Films')\n",
    "axs.set_xlabel('Budget')\n",
    "axs.set_ylabel('Box Office to Gross Ratio');"
   ]
  },
  {
   "cell_type": "code",
   "execution_count": 81,
   "metadata": {
    "ExecuteTime": {
     "end_time": "2022-08-21T23:28:32.855823Z",
     "start_time": "2022-08-21T23:28:32.841824Z"
    }
   },
   "outputs": [
    {
     "data": {
      "text/html": [
       "<div>\n",
       "<style scoped>\n",
       "    .dataframe tbody tr th:only-of-type {\n",
       "        vertical-align: middle;\n",
       "    }\n",
       "\n",
       "    .dataframe tbody tr th {\n",
       "        vertical-align: top;\n",
       "    }\n",
       "\n",
       "    .dataframe thead th {\n",
       "        text-align: right;\n",
       "    }\n",
       "</style>\n",
       "<table border=\"1\" class=\"dataframe\">\n",
       "  <thead>\n",
       "    <tr style=\"text-align: right;\">\n",
       "      <th></th>\n",
       "      <th>id</th>\n",
       "      <th>release_date</th>\n",
       "      <th>production_budget</th>\n",
       "      <th>domestic_gross</th>\n",
       "      <th>worldwide_gross</th>\n",
       "      <th>bg_ratio</th>\n",
       "    </tr>\n",
       "    <tr>\n",
       "      <th>high_budget</th>\n",
       "      <th></th>\n",
       "      <th></th>\n",
       "      <th></th>\n",
       "      <th></th>\n",
       "      <th></th>\n",
       "      <th></th>\n",
       "    </tr>\n",
       "  </thead>\n",
       "  <tbody>\n",
       "    <tr>\n",
       "      <th>High Budget</th>\n",
       "      <td>29.039698</td>\n",
       "      <td>2.690428</td>\n",
       "      <td>59.838864</td>\n",
       "      <td>120.784789</td>\n",
       "      <td>324.756359</td>\n",
       "      <td>2.287961</td>\n",
       "    </tr>\n",
       "    <tr>\n",
       "      <th>Low Budget</th>\n",
       "      <td>28.111439</td>\n",
       "      <td>2.613051</td>\n",
       "      <td>12.233320</td>\n",
       "      <td>33.501665</td>\n",
       "      <td>68.331144</td>\n",
       "      <td>13.629455</td>\n",
       "    </tr>\n",
       "  </tbody>\n",
       "</table>\n",
       "</div>"
      ],
      "text/plain": [
       "                    id  release_date  production_budget  domestic_gross  \\\n",
       "high_budget                                                               \n",
       "High Budget  29.039698      2.690428          59.838864      120.784789   \n",
       "Low Budget   28.111439      2.613051          12.233320       33.501665   \n",
       "\n",
       "             worldwide_gross   bg_ratio  \n",
       "high_budget                              \n",
       "High Budget       324.756359   2.287961  \n",
       "Low Budget         68.331144  13.629455  "
      ]
     },
     "execution_count": 81,
     "metadata": {},
     "output_type": "execute_result"
    }
   ],
   "source": [
    "# Lets take a look at the variances\n",
    "budget_df.groupby('high_budget').std()"
   ]
  },
  {
   "cell_type": "markdown",
   "metadata": {},
   "source": [
    "As represented in the table above, high budget movies have a very low bg_ratio standard deviation, meaning that they are more consistent. This means it might be more profitable for Computer Vision to put forth a higher budget for their movie production. "
   ]
  },
  {
   "cell_type": "code",
   "execution_count": 82,
   "metadata": {
    "ExecuteTime": {
     "end_time": "2022-08-21T23:28:32.871824Z",
     "start_time": "2022-08-21T23:28:32.857826Z"
    }
   },
   "outputs": [],
   "source": [
    "# To be concrete in giving a number, lets look at the top 300 best bg_ratio films and see what their average budget is \n",
    "prod_bud_bg = budget_df.sort_values(by='bg_ratio', ascending=False)['production_budget'][:300].mean()"
   ]
  },
  {
   "cell_type": "code",
   "execution_count": 83,
   "metadata": {
    "ExecuteTime": {
     "end_time": "2022-08-21T23:28:32.887824Z",
     "start_time": "2022-08-21T23:28:32.873826Z"
    }
   },
   "outputs": [],
   "source": [
    "# Next lets look at the top 300 best worldwide grossing films and see what that average is \n",
    "prod_bud_ww = budget_df.sort_values(by='worldwide_gross', ascending=False)['production_budget'][:300].mean()"
   ]
  },
  {
   "cell_type": "code",
   "execution_count": 84,
   "metadata": {
    "ExecuteTime": {
     "end_time": "2022-08-21T23:28:32.903840Z",
     "start_time": "2022-08-21T23:28:32.889826Z"
    }
   },
   "outputs": [
    {
     "name": "stdout",
     "output_type": "stream",
     "text": [
      "The studio should spend 80.29773941666667 on the film\n"
     ]
    }
   ],
   "source": [
    "# To give a concrete number on how much to spend, lets average these two together\n",
    "print(f'The studio should spend {(prod_bud_bg + prod_bud_ww)/2} on the film')"
   ]
  },
  {
   "cell_type": "markdown",
   "metadata": {},
   "source": [
    "### Recommendation 2\n",
    "Based on the budget-to-box office gross ratio and the high positive correlation between production budget and worldwide gross, __we recommend that Computer Vision spend approximately $80 million on producing their first movie.__"
   ]
  },
  {
   "cell_type": "markdown",
   "metadata": {},
   "source": [
    "## Statistical Communication"
   ]
  },
  {
   "cell_type": "markdown",
   "metadata": {},
   "source": [
    "After identifying __animation__ as the genre Computer Vision should pursue, we wanted to explore the difference between the genre's foreign and domestic gross. \n",
    "\n",
    "We hypothesized that:\n",
    "- A movie in the animation category will gross higher internationally than domestically. \n",
    "\n",
    "Based on the results of our t-test, we can determine where to allocate more marketing efforts to maximize profitability."
   ]
  },
  {
   "cell_type": "markdown",
   "metadata": {},
   "source": [
    "### T-test\n",
    "We want to know if __animation__ movies gross more internationally or domestically. \n",
    "- We chose the __animation__ genre because it is one of the genres with the highest average ratings, and appears as a genre in highly-grossing films from the highest-grossing studio (BV Studios, which turns out to be Disney/Pixar).\n",
    "\n",
    "Our __null hypothesis__ is that the animation genre grosses the same internationally and domestically.\n",
    "\n",
    "Our __alternative__ hypothesis is that animation movies gross more internationally than domestically. "
   ]
  },
  {
   "cell_type": "code",
   "execution_count": 85,
   "metadata": {},
   "outputs": [
    {
     "data": {
      "text/html": [
       "<div>\n",
       "<style scoped>\n",
       "    .dataframe tbody tr th:only-of-type {\n",
       "        vertical-align: middle;\n",
       "    }\n",
       "\n",
       "    .dataframe tbody tr th {\n",
       "        vertical-align: top;\n",
       "    }\n",
       "\n",
       "    .dataframe thead th {\n",
       "        text-align: right;\n",
       "    }\n",
       "</style>\n",
       "<table border=\"1\" class=\"dataframe\">\n",
       "  <thead>\n",
       "    <tr style=\"text-align: right;\">\n",
       "      <th></th>\n",
       "      <th>title</th>\n",
       "      <th>studio</th>\n",
       "      <th>domestic_gross</th>\n",
       "      <th>foreign_gross</th>\n",
       "      <th>year</th>\n",
       "      <th>total_gross</th>\n",
       "      <th>genres</th>\n",
       "      <th>averagerating</th>\n",
       "      <th>numvotes</th>\n",
       "    </tr>\n",
       "  </thead>\n",
       "  <tbody>\n",
       "    <tr>\n",
       "      <th>0</th>\n",
       "      <td>toystory3</td>\n",
       "      <td>BV</td>\n",
       "      <td>415.0</td>\n",
       "      <td>652.0</td>\n",
       "      <td>2010</td>\n",
       "      <td>1067.0</td>\n",
       "      <td>Adventure,Animation,Comedy</td>\n",
       "      <td>8.3</td>\n",
       "      <td>682218</td>\n",
       "    </tr>\n",
       "    <tr>\n",
       "      <th>1</th>\n",
       "      <td>inception</td>\n",
       "      <td>WB</td>\n",
       "      <td>292.6</td>\n",
       "      <td>535.7</td>\n",
       "      <td>2010</td>\n",
       "      <td>828.3</td>\n",
       "      <td>Action,Adventure,Sci-Fi</td>\n",
       "      <td>8.8</td>\n",
       "      <td>1841066</td>\n",
       "    </tr>\n",
       "    <tr>\n",
       "      <th>2</th>\n",
       "      <td>shrekforeverafter</td>\n",
       "      <td>P/DW</td>\n",
       "      <td>238.7</td>\n",
       "      <td>513.9</td>\n",
       "      <td>2010</td>\n",
       "      <td>752.6</td>\n",
       "      <td>Adventure,Animation,Comedy</td>\n",
       "      <td>6.3</td>\n",
       "      <td>167532</td>\n",
       "    </tr>\n",
       "    <tr>\n",
       "      <th>3</th>\n",
       "      <td>thetwilightsaga:eclipse</td>\n",
       "      <td>Sum.</td>\n",
       "      <td>300.5</td>\n",
       "      <td>398.0</td>\n",
       "      <td>2010</td>\n",
       "      <td>698.5</td>\n",
       "      <td>Adventure,Drama,Fantasy</td>\n",
       "      <td>5.0</td>\n",
       "      <td>211733</td>\n",
       "    </tr>\n",
       "    <tr>\n",
       "      <th>4</th>\n",
       "      <td>ironman2</td>\n",
       "      <td>Par.</td>\n",
       "      <td>312.4</td>\n",
       "      <td>311.5</td>\n",
       "      <td>2010</td>\n",
       "      <td>623.9</td>\n",
       "      <td>Action,Adventure,Sci-Fi</td>\n",
       "      <td>7.0</td>\n",
       "      <td>657690</td>\n",
       "    </tr>\n",
       "  </tbody>\n",
       "</table>\n",
       "</div>"
      ],
      "text/plain": [
       "                     title studio  domestic_gross  foreign_gross  year  \\\n",
       "0                toystory3     BV           415.0          652.0  2010   \n",
       "1                inception     WB           292.6          535.7  2010   \n",
       "2        shrekforeverafter   P/DW           238.7          513.9  2010   \n",
       "3  thetwilightsaga:eclipse   Sum.           300.5          398.0  2010   \n",
       "4                 ironman2   Par.           312.4          311.5  2010   \n",
       "\n",
       "   total_gross                      genres  averagerating  numvotes  \n",
       "0       1067.0  Adventure,Animation,Comedy            8.3    682218  \n",
       "1        828.3     Action,Adventure,Sci-Fi            8.8   1841066  \n",
       "2        752.6  Adventure,Animation,Comedy            6.3    167532  \n",
       "3        698.5     Adventure,Drama,Fantasy            5.0    211733  \n",
       "4        623.9     Action,Adventure,Sci-Fi            7.0    657690  "
      ]
     },
     "execution_count": 85,
     "metadata": {},
     "output_type": "execute_result"
    }
   ],
   "source": [
    "# First, lets get the dataframe of only animation movies without the filtering we did above \n",
    "# Connect to the database\n",
    "conn = sqlite3.connect('zippedData/im.db')\n",
    "\n",
    "# Define a query to view data in the database and store it as a df\n",
    "q = '''\n",
    "select *\n",
    "from movie_basics\n",
    "join movie_ratings\n",
    "using(movie_id)\n",
    "where movie_basics.start_year > 2009\n",
    "'''\n",
    "\n",
    "rate_genre_df = pd.read_sql(q,conn)\n",
    "rate_genre_df.head()\n",
    "\n",
    "# Drop irrelevant columns \n",
    "to_drop = ['movie_id', 'original_title', 'start_year', 'runtime_minutes']\n",
    "rate_genre_df = rate_genre_df.drop(labels=to_drop, axis=1)\n",
    "\n",
    "# Change the title\n",
    "rate_genre_df['primary_title'] = rate_genre_df['primary_title'].map(lambda x: x.strip().lower().replace(\" \", \"\"))\n",
    "\n",
    "# Lets rename the the primary_title column to be consistent with the title column\n",
    "rate_genre_df = rate_genre_df.rename({'primary_title':'title'}, axis=1)\n",
    "\n",
    "# LMerge the two together again \n",
    "combined = pd.merge(movie_gross_df, rate_genre_df, on=\"title\").dropna()\n",
    "combined.head()\n"
   ]
  },
  {
   "cell_type": "code",
   "execution_count": 86,
   "metadata": {
    "ExecuteTime": {
     "end_time": "2022-08-21T23:28:32.951841Z",
     "start_time": "2022-08-21T23:28:32.937843Z"
    }
   },
   "outputs": [],
   "source": [
    "# First, lets get the dataframe of only animation movies \n",
    "genre_to_grab = \"Animation\"\n",
    "\n",
    "ttest_df = combined[combined['genres'].str.contains(genre_to_grab)][['domestic_gross', 'foreign_gross']]\n"
   ]
  },
  {
   "cell_type": "code",
   "execution_count": 87,
   "metadata": {
    "ExecuteTime": {
     "end_time": "2022-08-21T23:28:32.967842Z",
     "start_time": "2022-08-21T23:28:32.953843Z"
    }
   },
   "outputs": [
    {
     "data": {
      "text/plain": [
       "159"
      ]
     },
     "execution_count": 87,
     "metadata": {},
     "output_type": "execute_result"
    }
   ],
   "source": [
    "# Lets check to see if we have enough samples\n",
    "len(ttest_df)"
   ]
  },
  {
   "cell_type": "code",
   "execution_count": 88,
   "metadata": {
    "ExecuteTime": {
     "end_time": "2022-08-21T23:28:32.983841Z",
     "start_time": "2022-08-21T23:28:32.969843Z"
    }
   },
   "outputs": [
    {
     "data": {
      "text/html": [
       "<div>\n",
       "<style scoped>\n",
       "    .dataframe tbody tr th:only-of-type {\n",
       "        vertical-align: middle;\n",
       "    }\n",
       "\n",
       "    .dataframe tbody tr th {\n",
       "        vertical-align: top;\n",
       "    }\n",
       "\n",
       "    .dataframe thead th {\n",
       "        text-align: right;\n",
       "    }\n",
       "</style>\n",
       "<table border=\"1\" class=\"dataframe\">\n",
       "  <thead>\n",
       "    <tr style=\"text-align: right;\">\n",
       "      <th></th>\n",
       "      <th>domestic_gross</th>\n",
       "      <th>foreign_gross</th>\n",
       "    </tr>\n",
       "  </thead>\n",
       "  <tbody>\n",
       "    <tr>\n",
       "      <th>count</th>\n",
       "      <td>159.000000</td>\n",
       "      <td>159.000000</td>\n",
       "    </tr>\n",
       "    <tr>\n",
       "      <th>mean</th>\n",
       "      <td>89.131074</td>\n",
       "      <td>164.672467</td>\n",
       "    </tr>\n",
       "    <tr>\n",
       "      <th>std</th>\n",
       "      <td>111.552661</td>\n",
       "      <td>199.679024</td>\n",
       "    </tr>\n",
       "    <tr>\n",
       "      <th>min</th>\n",
       "      <td>0.000600</td>\n",
       "      <td>0.000979</td>\n",
       "    </tr>\n",
       "    <tr>\n",
       "      <th>25%</th>\n",
       "      <td>0.889000</td>\n",
       "      <td>9.781427</td>\n",
       "    </tr>\n",
       "    <tr>\n",
       "      <th>50%</th>\n",
       "      <td>48.000000</td>\n",
       "      <td>75.900000</td>\n",
       "    </tr>\n",
       "    <tr>\n",
       "      <th>75%</th>\n",
       "      <td>145.950000</td>\n",
       "      <td>276.900000</td>\n",
       "    </tr>\n",
       "    <tr>\n",
       "      <th>max</th>\n",
       "      <td>608.600000</td>\n",
       "      <td>875.700000</td>\n",
       "    </tr>\n",
       "  </tbody>\n",
       "</table>\n",
       "</div>"
      ],
      "text/plain": [
       "       domestic_gross  foreign_gross\n",
       "count      159.000000     159.000000\n",
       "mean        89.131074     164.672467\n",
       "std        111.552661     199.679024\n",
       "min          0.000600       0.000979\n",
       "25%          0.889000       9.781427\n",
       "50%         48.000000      75.900000\n",
       "75%        145.950000     276.900000\n",
       "max        608.600000     875.700000"
      ]
     },
     "execution_count": 88,
     "metadata": {},
     "output_type": "execute_result"
    }
   ],
   "source": [
    "# Lets look at the statistics to give us a basis for our intuition\n",
    "ttest_df.describe()"
   ]
  },
  {
   "cell_type": "code",
   "execution_count": 89,
   "metadata": {
    "ExecuteTime": {
     "end_time": "2022-08-21T23:28:33.361490Z",
     "start_time": "2022-08-21T23:28:32.985843Z"
    }
   },
   "outputs": [],
   "source": [
    "# Lets sample from our data\n",
    "domestic_sample = ttest_df['domestic_gross'].sample(100)\n",
    "foreign_sample = ttest_df['foreign_gross'].sample(100)"
   ]
  },
  {
   "cell_type": "code",
   "execution_count": 90,
   "metadata": {
    "ExecuteTime": {
     "end_time": "2022-08-21T23:28:33.371494Z",
     "start_time": "2022-08-21T23:28:27.305Z"
    }
   },
   "outputs": [
    {
     "name": "stdout",
     "output_type": "stream",
     "text": [
      "Reject null hypothesis\n"
     ]
    }
   ],
   "source": [
    "# Lets perform a one tailed two sample t test\n",
    "import scipy.stats as stats\n",
    "alpha = .05\n",
    "tstat, pvalue = stats.ttest_ind(domestic_sample, foreign_sample, equal_var=False)\n",
    "\n",
    "answer = 'Reject null hypothesis' if pvalue < alpha else 'Fail to reject null hypothesis'\n",
    "print(answer)"
   ]
  },
  {
   "cell_type": "code",
   "execution_count": 91,
   "metadata": {
    "ExecuteTime": {
     "end_time": "2022-08-21T23:28:33.372492Z",
     "start_time": "2022-08-21T23:28:27.307Z"
    }
   },
   "outputs": [
    {
     "data": {
      "image/png": "[encoded data removed]",
      "text/plain": [
       "<Figure size 432x288 with 1 Axes>"
      ]
     },
     "metadata": {},
     "output_type": "display_data"
    }
   ],
   "source": [
    "# Plot the t statistic on a t distribution\n",
    "tval_alpha = stats.t.ppf(.05, 99)\n",
    "x = np.linspace(-5,5,1000)\n",
    "y = stats.t.pdf(x, 99)\n",
    "fig, axs = plt.subplots()\n",
    "axs.plot(x,y)\n",
    "axs.axvline(tstat)\n",
    "axs.axvline(tval_alpha)\n",
    "axs.axvspan(-5, tval_alpha, alpha=0.5, color='red')\n",
    "plt.text(tval_alpha + .1 ,.3,'reject region',rotation=90)\n",
    "plt.text(tstat + .1 ,.3,'t statistic',rotation=90)\n",
    "axs.set_title('T-Distribution w/D.F = 99');"
   ]
  },
  {
   "cell_type": "markdown",
   "metadata": {},
   "source": [
    "The results of our statistical test show that with 95% confidence we can conclude foreign gross is significantly greater than domestic gross regarding movies with the __animation__ genre. \n",
    "- This indicates that more money should be spent marketing to foreign markets as opposed to domestic."
   ]
  },
  {
   "cell_type": "markdown",
   "metadata": {},
   "source": [
    "### Recommendation 3\n",
    "Based on the above analysis, __we recommend that Computer Vision focus marketing efforts towards international audiences over domestic audiences.__"
   ]
  },
  {
   "cell_type": "markdown",
   "metadata": {},
   "source": [
    "## Conclusion\n",
    "Computer Vision tasked us with providing insight regarding what types of movies to make, as they would like to establish a movie production studio. \n",
    "\n",
    "We have recommended three courses of action based on thorough data exploration and analysis, and the three high-priority metrics mentioned previously. "
   ]
  },
  {
   "cell_type": "markdown",
   "metadata": {},
   "source": [
    "### Summary of Recommendations\n",
    "- __Computer Vision should produce a movie in the animation genre.__\n",
    "- __Computer vision should spend approximately $80 million towards the production of their first movie.__\n",
    "- __Computer vision should allocate more marketing efforts and funds towards the international market versus the domestic market.__"
   ]
  },
  {
   "cell_type": "markdown",
   "metadata": {},
   "source": [
    "### Next Steps\n",
    "- We would like to continue to test our hypothesis and compare our recommendations to those that would be produced from unused datasets. \n",
    "- We would like to collect more recent movie rating and box office data for analysis .\n",
    "- We would like to conduct more thorough analysis regarding how much money should be allocated towards international versus domestic marketing efforts. "
   ]
  }
 ],
 "metadata": {
  "kernelspec": {
   "display_name": "Python (learn-env)",
   "language": "python",
   "name": "learn-env"
  },
  "language_info": {
   "codemirror_mode": {
    "name": "ipython",
    "version": 3
   },
   "file_extension": ".py",
   "mimetype": "text/x-python",
   "name": "python",
   "nbconvert_exporter": "python",
   "pygments_lexer": "ipython3",
   "version": "3.8.5"
  },
  "varInspector": {
   "cols": {
    "lenName": 16,
    "lenType": 16,
    "lenVar": 40
   },
   "kernels_config": {
    "python": {
     "delete_cmd_postfix": "",
     "delete_cmd_prefix": "del ",
     "library": "var_list.py",
     "varRefreshCmd": "print(var_dic_list())"
    },
    "r": {
     "delete_cmd_postfix": ") ",
     "delete_cmd_prefix": "rm(",
     "library": "var_list.r",
     "varRefreshCmd": "cat(var_dic_list()) "
    }
   },
   "types_to_exclude": [
    "module",
    "function",
    "builtin_function_or_method",
    "instance",
    "_Feature"
   ],
   "window_display": false
  }
 },
 "nbformat": 4,
 "nbformat_minor": 4
}
