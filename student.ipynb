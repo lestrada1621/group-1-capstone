{
 "cells": [
  {
   "cell_type": "markdown",
   "metadata": {},
   "source": [
    "# Group 1 Capstone Project Work\n",
    "### Make sure to make / checkout your own branch before making changes"
   ]
  },
  {
   "cell_type": "markdown",
   "metadata": {},
   "source": [
    "# Maddie Hince"
   ]
  },
  {
   "cell_type": "code",
maddie-branch
   "execution_count": 279,
   "metadata": {
    "ExecuteTime": {
     "end_time": "2022-08-17T19:52:02.914857Z",
     "start_time": "2022-08-17T19:52:02.905856Z"
main
    }
   },
   "outputs": [],
   "source": [
    "import pandas as pd\n",
    "import sqlite3\n",
maddie-branch
    "import warnings\n",
    "warnings.filterwarnings('ignore')\n",
    "\n",
    "conn = sqlite3.connect('zippedData/im.db')"
   ]
  },
  {
   "cell_type": "code",
   "execution_count": 280,
   "metadata": {
    "ExecuteTime": {
     "end_time": "2022-08-17T19:52:03.754028Z",
     "start_time": "2022-08-17T19:52:03.344031Z"
    }
   },
   "outputs": [],
   "source": [
    "ratings_df = pd.read_sql(\"\"\"SELECT movie_ratings.movie_id, movie_ratings.averagerating, \n",
    "                                   movie_ratings.numvotes, movie_basics.primary_title, \n",
    "                                   movie_basics.start_year, movie_basics.genres \n",
    "                            FROM movie_ratings\n",
    "                            JOIN movie_basics USING(movie_id)\n",
    "                            WHERE movie_basics.start_year >= 2010\"\"\", conn)"
   ]
  },
  {
   "cell_type": "code",
   "execution_count": 281,
   "metadata": {
    "ExecuteTime": {
     "end_time": "2022-08-17T19:52:03.928029Z",
     "start_time": "2022-08-17T19:52:03.883028Z"
    }
   },
   "outputs": [],
   "source": [
    "ratings_df.dropna(how='any', axis=0, inplace=True)"
   ]
  },
  {
   "cell_type": "code",
   "execution_count": 282,
   "metadata": {
    "ExecuteTime": {
     "end_time": "2022-08-17T19:52:04.070896Z",
     "start_time": "2022-08-17T19:52:04.057559Z"
    }
   },
   "outputs": [],
   "source": [
    "def clean_genres(genres):\n",
    "    genres = str(genres)\n",
    "    genres_list = sorted(genres.lower().split(','))\n",
    "    return ','.join(list(map(str, genres_list)))"
   ]
  },
  {
   "cell_type": "code",
   "execution_count": 283,
   "metadata": {
    "ExecuteTime": {
     "end_time": "2022-08-17T19:52:04.307132Z",
     "start_time": "2022-08-17T19:52:04.197498Z"
    }
   },
   "outputs": [
    {
     "data": {
      "text/html": [
       "<div>\n",
       "<style scoped>\n",
       "    .dataframe tbody tr th:only-of-type {\n",
       "        vertical-align: middle;\n",
       "    }\n",
       "\n",
       "    .dataframe tbody tr th {\n",
       "        vertical-align: top;\n",
       "    }\n",
       "\n",
       "    .dataframe thead th {\n",
       "        text-align: right;\n",
       "    }\n",
       "</style>\n",
       "<table border=\"1\" class=\"dataframe\">\n",
       "  <thead>\n",
       "    <tr style=\"text-align: right;\">\n",
       "      <th></th>\n",
       "      <th>movie_id</th>\n",
       "      <th>averagerating</th>\n",
       "      <th>numvotes</th>\n",
       "      <th>primary_title</th>\n",
       "      <th>start_year</th>\n",
       "      <th>genres</th>\n",
       "    </tr>\n",
       "  </thead>\n",
       "  <tbody>\n",
       "    <tr>\n",
       "      <th>0</th>\n",
       "      <td>tt0063540</td>\n",
       "      <td>7.0</td>\n",
       "      <td>77</td>\n",
       "      <td>Sunghursh</td>\n",
       "      <td>2013</td>\n",
       "      <td>action,crime,drama</td>\n",
       "    </tr>\n",
       "    <tr>\n",
       "      <th>1</th>\n",
       "      <td>tt0066787</td>\n",
       "      <td>7.2</td>\n",
       "      <td>43</td>\n",
       "      <td>One Day Before the Rainy Season</td>\n",
       "      <td>2019</td>\n",
       "      <td>biography,drama</td>\n",
       "    </tr>\n",
       "    <tr>\n",
       "      <th>2</th>\n",
       "      <td>tt0069049</td>\n",
       "      <td>6.9</td>\n",
       "      <td>4517</td>\n",
       "      <td>The Other Side of the Wind</td>\n",
       "      <td>2018</td>\n",
       "      <td>drama</td>\n",
       "    </tr>\n",
       "    <tr>\n",
       "      <th>3</th>\n",
       "      <td>tt0069204</td>\n",
       "      <td>6.1</td>\n",
       "      <td>13</td>\n",
       "      <td>Sabse Bada Sukh</td>\n",
       "      <td>2018</td>\n",
       "      <td>comedy,drama</td>\n",
       "    </tr>\n",
       "    <tr>\n",
       "      <th>4</th>\n",
       "      <td>tt0100275</td>\n",
       "      <td>6.5</td>\n",
       "      <td>119</td>\n",
       "      <td>The Wandering Soap Opera</td>\n",
       "      <td>2017</td>\n",
       "      <td>comedy,drama,fantasy</td>\n",
       "    </tr>\n",
       "  </tbody>\n",
       "</table>\n",
       "</div>"
      ],
      "text/plain": [
       "    movie_id  averagerating  numvotes                    primary_title  \\\n",
       "0  tt0063540            7.0        77                        Sunghursh   \n",
       "1  tt0066787            7.2        43  One Day Before the Rainy Season   \n",
       "2  tt0069049            6.9      4517       The Other Side of the Wind   \n",
       "3  tt0069204            6.1        13                  Sabse Bada Sukh   \n",
       "4  tt0100275            6.5       119         The Wandering Soap Opera   \n",
       "\n",
       "   start_year                genres  \n",
       "0        2013    action,crime,drama  \n",
       "1        2019       biography,drama  \n",
       "2        2018                 drama  \n",
       "3        2018          comedy,drama  \n",
       "4        2017  comedy,drama,fantasy  "
      ]
     },
     "execution_count": 283,
     "metadata": {},
     "output_type": "execute_result"
    }
   ],
   "source": [
    "ratings_df['genres'] = ratings_df['genres'].apply(clean_genres)\n",
    "ratings_df.head()"
   ]
  },
  {
   "cell_type": "code",
   "execution_count": 284,
   "metadata": {
    "ExecuteTime": {
     "end_time": "2022-08-17T19:52:04.480270Z",
     "start_time": "2022-08-17T19:52:04.435195Z"
    }
   },
   "outputs": [],
   "source": [
    "ratings_df['genres'].value_counts()\n",
    "sorted_by_avg = ratings_df.groupby('genres').mean().sort_values(by='averagerating', ascending=False)"
   ]
  },
  {
   "cell_type": "code",
   "execution_count": 285,
   "metadata": {
    "ExecuteTime": {
     "end_time": "2022-08-17T19:52:04.623299Z",
     "start_time": "2022-08-17T19:52:04.610098Z"
    }
   },
   "outputs": [],
   "source": [
    "# filter out movie genres with less than 62 total votes\n",
    "sorted_avg_higher_votes = sorted_by_avg[sorted_by_avg['numvotes'] >= 62].head(15)\n",
    "sorted_avg_higher_votes.reset_index(inplace=True)"
   ]
  },
  {
   "cell_type": "code",
   "execution_count": 286,
   "metadata": {
    "ExecuteTime": {
     "end_time": "2022-08-17T19:52:04.904875Z",
     "start_time": "2022-08-17T19:52:04.772877Z"
    },
    "scrolled": true
   },
   "outputs": [
    {
     "data": {
      "image/png": "iVBORw0KGgoAAAANSUhEUgAAAWAAAAEiCAYAAADH8QgrAAAAOXRFWHRTb2Z0d2FyZQBNYXRwbG90bGliIHZlcnNpb24zLjMuMSwgaHR0cHM6Ly9tYXRwbG90bGliLm9yZy/d3fzzAAAACXBIWXMAAAsTAAALEwEAmpwYAAAjh0lEQVR4nO3deVxU5f4H8M8IKAomkYpexTJTMeuKuwjohZJFllFEw4VS0lzDJVzTcMvcUgQU81rWzQVS3AhTcscV159YuGSikAheFWQRZph5fn/w4lwJFAyZJ+Xzfr18vTzr93nOjB/PnDPnGZUQQoCIiAyuhuwGEBFVVwxgIiJJGMBERJIwgImIJGEAExFJwgAmIpKEAfwcSU1NRZs2baBWq6FWq+Hl5QU/Pz/s2rVLWWfFihXYvn37E/cTHh6OvXv3lrns0e1bt26Ne/fuPVUbL1y4gM8++wwAkJiYiMDAwKfa/q/Q6XQYPXo0XF1dsX79+hLLwsLC0Lp1a0RHR5eYn5eXh/bt22PkyJF/ua5arcaDBw8qvL6/vz/WrFlTav4333yD0aNHP3HbgICAp34t6O/PWHYD6OmYmppix44dyvQff/yBoUOHwsjICK6urhg/fny5+zh58iTeeOONMpdVZPsn+e2335Ceng4AePvttxEaGlqp/VVEeno6jhw5gvPnz8PIyKjU8n/84x/YsWMH+vXrp8yLi4tDnTp1KlX30dehIgYNGoSQkBB89NFHJeb/8MMPmDlz5hO3PXr06FO3j/7+eAb8nGvSpAkCAwPx9ddfAwCmTZum/D00NBReXl7w8fHBhx9+iIyMDGzYsAEXL17E4sWL8fPPP2PatGkYNWoUPDw8sGTJkhLbA0BISAj69u0LtVqNAwcOAAC2bt1a4syxeDotLQ2hoaE4ffo0pk+fjpMnT8LT0xMAkJ2djaCgIHh6esLLywuLFy9GYWEhgKKgDgsLg5+fH5ydnbFx48Yy+3r69GkMGDBA6dPhw4eRk5OD4cOHo7CwED4+Prh582ap7RwdHfHbb7/h9u3byrxt27bB29tbmX5c+6KiojBq1ChlvWvXrsHR0RE6na7EJ4TNmzfDx8cHffr0wdChQ3Ht2rVS7ejVqxfy8vJw+vRpZV5CQgKEELC3t8fVq1fh7+8PLy8veHt7K59Epk+fDgD44IMPkJaWhvT0dIwdOxY+Pj7w8vLC6tWrAQCFhYUIDg5Wjk9gYCByc3PLPJb098AAfgHY2NjgypUrJealpaXhu+++Q3R0NLZu3Qp7e3tcuHABgwcPxltvvYUpU6agV69eAID8/HzExsZi8uTJpfbdtGlTbNu2TQnnJ30Mbty4MQIDA9GpUyd88cUXJZbNnz8fFhYWiImJQXR0NC5fvoxvvvkGAKDRaPDyyy8jMjISoaGh+OKLL1BQUFBi+/v37yMwMBCffvopYmJisGjRIkyePBn379/HmjVrlE8GzZo1K9UuY2NjuLu7Y+fOnQCAW7duITc3Fy1btiy3fR4eHjhz5gzu3LkDoOg/Gx8fnxJn2gkJCdi+fTs2bNiA7du3Y/jw4Rg3blyZ7RgwYAC2bNmizIuKisKgQYOUyyj+/v6IiYnBv//9byxbtgznzp1TjuV3332Hxo0bY/LkyejXrx+2bt2KLVu24NixY9i1axfOnz+PhIQE7Ny5E1u3boW1tTUuX7782NeL5GMAvwBUKhVMTU1LzLOysoKNjQ369u2LRYsWoU2bNnj33XfL3L5jx46P3ffAgQMBAK1atUKLFi1w7ty5v9TGw4cPY8iQIVCpVKhZsyb8/Pxw+PBhZfk777wDAGjbti00Gg3y8vJKbH/hwgU0a9YM7dq1AwC0bNkSHTp0QEJCQoXqq9VqxMTEACi6dNCnT58Ktc/c3By9evXCzp07odPpEBMTA19f3xLbHjx4EDdu3ICfnx/UajWWLFmCBw8eIDMzs1Q7BgwYgL179yInJweZmZk4cuQIfHx8kJycjIKCAri4uAAoev1cXFwQHx9fYvu8vDycOnUKK1asgFqtxoABA5CWloZLly6hVatWMDIyQv/+/RESEgJXV1d06NChQseH5OA14BdAYmIiWrVqVWJejRo1sH79eiQmJuL48eNYsGABHB0dMWXKlFLbP+laaI0a//s/Wq/Xw9jYGCqVCo8OIaLVastto16vh0qlKjFdfAkCAGrVqgUAyjp/HqJEp9OV2L54nUf38ST//Oc/odPpkJSUhF27duH777/H/v37K9S+AQMGYNasWWjRogVatGgBa2vrUn1Tq9XKJwi9Xo+MjAzUq1evVDusrKzQvXt37Nq1C3l5eXB1dUXdunVx69atCvVPr9dDCIHIyEjUrl0bAHDv3j3UqlULZmZm2LFjB86ePYsTJ05gwoQJ+PDDDzF48OAKHSMyPJ4BP+euX7+OVatWISAgoMT8S5cuwdPTEy1atMDIkSMxdOhQJCYmAgCMjIwqHFzbtm0DAPzyyy+4efMm2rVrB0tLS1y9ehUFBQXQarXYs2ePsv7j9u3g4ID169dDCAGNRoMffvgB3bt3r3A/bW1t8fvvv+PChQsAgKtXr+LUqVPo0qVLhfehVquxYMECNG/eHBYWFhVun62tLQBg5cqV6N+/f5l9i42NRUZGBgBg06ZN+OCDDx7bjsGDByMmJgbbt29XwvH111+HsbEx4uLiABTdWNyzZ4/ShuLjam5uDltbW6xbtw4A8ODBAwwcOBD79u3DgQMHMHToULRv3x4ff/wx+vTpg4sXL1b4+JDh8Qz4OZOfnw+1Wg2g6Oy0Vq1amDRpEv71r3+VWM/Gxgbu7u7o168f6tSpA1NTU+VOu7OzM5YtW1ahM9eUlBT06dMHKpUKy5Ytg4WFBezt7dG5c2e4u7ujQYMG6Nq1q3Kt0dbWFitXrsS4cePg7++v7GfmzJmYP38+vLy8oNVq4ejoWOLmVnksLS2xYsUKzJs3D/n5+VCpVPjiiy/QvHlzpKamVmgf3t7eCAkJwapVq0otK699/fv3x6pVq8q8jOPg4IARI0YgICAAKpUK5ubmCA8PL3VGW6xr166YP38+6tWrh9atWwMATExMsGrVKsyfPx9hYWHQ6XQYO3YsunXrBgBwc3ODv78/wsLCsHTpUsybNw9eXl7QaDTw9PSEt7c3dDodDh8+DE9PT9SpUwf16tXDvHnzKnRsSA4Vh6MkIpKDlyCIiCRhABMRScIAJiKShAFcjS1ZsgRHjhxRpjdt2gRvb2/07t0bHh4emDx5Mm7dulWhfc2cOVO54+7v74/du3cjPT0dfn5+VdL2P4+LoVar0atXL/j7+yMlJaVKaj5rc+fORVhYGABg4cKFOHnypOQWkaExgKup8+fP49q1a3BwcAAALFq0CHFxcfjqq6+wa9cuxMTEwN7eHu+9916JR3gf59ixY6W+u2tlZYXIyMgqaT/wv3Exiv/ExcWhVatWWL58eZXVrCpjx47F/PnzkZ+fL7spZED8Glo1FRYWhiFDhgAAbt++jcjISBw8eFB5eKBGjRrK90i/+uorBAcHw9nZGStWrMDbb78NAMr03r17kZGRgaCgICxevFipkZqaCi8vL+XpuYiICMTFxUGv16NJkyYIDg6GlZUV/P39Ua9ePfz+++8YOHAgrKysEBERAZVKBSMjI0yZMgWdO3cut08FBQXIyMhA/fr1ARQ94rx06VKcOnUKOp0Ob775JmbOnAlzc3M4OzvD09MTJ06cQFZWFoYPH46zZ8/il19+gbGxMSIiImBlZYWrV69i7ty5yMzMhEqlQkBAAPr06YNPPvkEbdu2Vb5/vXHjRiQkJCAkJAT79+9HREQEtFotTE1NMXXqVLRv3x45OTn49NNPcenSJTRs2BBGRkbKU4h169ZF+/btERUV9cTvENMLRlC1k5WVJdq1aycKCgqEEELs3r1b+Pj4lLnuvn37hJeXlxBCCCcnJ3HhwgVl2aPTj/59yJAh4qeffhIpKSnC1tZWCCHEtm3bxIQJE4RWqxVCCBEZGSmGDx+urD99+nRlv++88444d+6cEEKI+Ph4ERYWVqpdKSkpwsbGRnh7ewtPT09hZ2cn3NzcxLJly0ROTo4QQoiwsDCxcOFCodfrhRBCfPnllyI4OFhp74IFC4QQQsTGxgobGxuRlJQkhBBizJgxIiIiQmi1WvHOO++IPXv2CCGEuH37tnB0dBRnz54Vx48fF56enkp7fH19xdGjR8X169eFp6enuHfvnhBCiCtXrgh7e3uRm5srPv/8czFlyhSh1+vF3bt3RY8ePURoaKiyjz179ojBgweX+TrQi4lnwNXQjRs30KBBA9SsWVOZ97gn4zQazWMfKHgaBw4cQGJiojIkpF6vx8OHD5XlnTp1Uv7u4eGBcePGoWfPnrC3t8eIESPK3OejQ3PGx8dj8uTJcHJygpmZGYCiMRqys7Nx7NgxAEWPTL/yyivK9sXjLlhbW6N+/fqwsbEBADRr1gxZWVlPHJ/h448/RkFBARITE1G7dm3cu3cPdnZ22LhxIzIyMjB06FCljkqlws2bN3H8+HHMmDEDKpUKlpaWymBIxZo2bYrr168//cGl5xYDuBpSqVTQ6/XKtK2tLW7cuIE7d+6gQYMGJdY9efIk2rdvr0yLR67zajSaCtfU6/UYPnw4Bg0apGyblZWlLH90PIqJEyeiX79+OHr0KLZu3YpvvvmmxAhiZXF0dMSwYcMwfvx4xMbGwtzcHHq9HjNmzEDPnj0BALm5uSVGWXv0PyATE5NS+3zS+BMqlQq+vr7YsWMHTExM4OvrqxxXOzs7hISEKNukpaWhYcOGyvbF/jx2sbGxcYmxN+jFx1e7GmrWrBnu3r2rhFHxddhJkyYpg6kDQHR0NOLi4pQzUEtLS+WbDidPnlSGaATKH1/CwcEBW7ZsQU5ODoCiX94oa2CgwsJCODs74+HDhxg4cCCCg4Nx+fLlCoV9QEAAzMzMlEHgHRwcsGHDBmg0Guj1esyaNQvLli0rdz/FyhufoW/fvti/fz/27NkDHx8fAICdnR2OHj2qjAd86NAheHt7Iz8/H46OjtiyZQv0ej2ysrKwb9++EvVSU1Px+uuvV7h99PzjGXA19NJLL6Fjx444ceKEcnb4ySefYPPmzRg9ejQ0Gg00Gg3efvttREZGokmTJgCAoKAgzJ49G1FRUWjbti3atm2r7LNXr16YPHkyZs+eXWbN/v37Iz09HQMGDIBKpULjxo2xcOHCUusZGxtjxowZCAoKUkZeW7BgQYmz1ccxMTHBrFmzMHz4cPj6+mLMmDFYtGgR+vbtC51OhzZt2mDatGkVPk7ljc/QoEEDvPnmmygsLISVlRUA4I033sDcuXMxadIkCCGUG3pmZmb4+OOPERwcDHd3d1haWpYawS4+Ph5ubm4Vbh89/zgWRDV19uxZrF69uszfKCPDy8nJgZ+fH6Kjo5WhOenFx0sQ1VSHDh3QvHnzEoOikzxhYWGYMWMGw7ea4RkwEZEkPAMmIpKkQjfh9Ho9cnNzYWJi8ky+E0pEVB0IIaDVamFmZlbmVwwrFMC5ubmlfnWXiIgqplWrVqhbt26p+RUK4OIvqbdq1apCXweqChcvXsRbb71V7WpX9/rsO/v+PNfXaDS4cuVKmQ/6ABUM4OLLDjVr1pR6l7a61q7u9dl3edj3Z+Nxl255E46ISBIGMBGRJAxgIiJJGMBERJIwgImIJGEAExFJwgAmIpKEAUxEJAkDmIhIEgYwEZEkDGAiIkkYwEREkjCAiYgkYQATEUnCACYikoQBTEQkCQOYiEgSBjARkSQV+kmiF9G6deuQnJxcoXWzs7Oxc+dOZGZmAgAsLCyqrF1Pqi+LzPrPU99fe+01DBs2rIpbRC+SahvAycnJ+PXSb1CZ1q/YBnczIfL/CwBIy6y6dj2pvlQy6z8HfS9+bxA9jWobwACgMq0P41f7Vnj9whvbAOCptqHqofi9QfQ0eA2YiEgSBjARkSQMYCIiSRjARESSMICJiCRhABMRScIAJiKShAFMRCQJA5iISBIGMBGRJAxgIiJJGMBERJIwgImIJGEAExFJwgAmIpKEAUxEJAkDmIhIEgYwEZEkDGAiIkkYwEREkjCAiYgkYQATEUnCACYikoQBTEQkCQOYiEgSBjARkSQMYCIiSRjARESSMICJiCRhABMRScIAJiKShAFMRCQJA5iISBIGMBGRJAxgIiJJGMBERJIwgImIJGEAExFJwgAmIpKEAUxEJMnfJoAPHTqEQ4cOyW4GEVEJVZlNxlWy179g//79AICePXtKbgkR0f9UZTb9bc6AiYiqGwYwEZEkDGAiIkkYwEREkjCAiYgkYQATEUnCACYikoQBTEQkCQOYiEgSBjARkSQMYCIiSRjARESSMICJiCRhABMRScIAJiKShAFMRCQJA5iISBIGMBGRJAxgIiJJGMBERJIwgImIJGEAExFJwgAmIpKEAUxEJAkDmIhIEgYwEZEkDGAiIkkYwEREkjCAiYgkYQATEUnCACYikoQBTEQkCQOYiEgSBjARkSQMYCIiSRjARESSMICJiCRhABMRScIAJiKShAFMRCQJA5iISBIGMBGRJMayG1AsMzMTmZmZCA4OLnN5dnY2du7c+czqJScnQxTWfGb7o+pNFOYhOfnx79+/4lm/55+n+n+nvicnJ8PCwqJK6vAMmIhIkr/NGbCFhQUsLCwwZ86cMpefOXMGHTt2fGb1goODkZSc+cz2R9WbyrgOXnvtH499//4Vz/o9/zzV/zv1/Vl+qvkzngETEUnCACYikoQBTEQkCQOYiEgSBjARkSQMYCIiSRjARESSMICJiCRhABMRScIAJiKShAFMRCQJA5iISBIGMBGRJAxgIiJJGMBERJIwgImIJGEAExFJwgAmIpKEAUxEJAkDmIhIEgYwEZEkDGAiIkkYwEREkjCAiYgkYQATEUnCACYikoQBTEQkCQOYiEgSBjARkSQMYCIiSRjARESSMICJiCRhABMRScIAJiKShAFMRCQJA5iISBIGMBGRJAxgIiJJGMBERJIwgImIJGEAExFJYiy7AcWcnZ1lN4GIqJSqzKa/TQD37NlTdhOIiEqpymziJQgiIkkYwEREkjCAiYgkYQATEUnCACYikoQBTEQkCQOYiEgSBjARkSQMYCIiSRjARESSMICJiCRhABMRScIAJiKShAFMRCQJA5iISBIGMBGRJAxgIiJJGMBERJIwgImIJGEAExFJwgAmIpKEAUxEJAkDmIhIEgYwEZEkDGAiIkkYwEREkjCAiYgkYQATEUnCACYikoQBTEQkCQOYiEgSBjARkSQMYCIiSRjARESSMICJiCRhABMRScIAJiKShAFMRCQJA5iISBIGMBGRJAxgIiJJjGU3QCaR/18U3tj2VOsDeKptqHooem9YyG4GPWeqbQC/9tprFV43OzsbdevWRWZm0bSFhUVVNKnc+rLIrP/89N3iqd5TREA1DuBhw4ZVeN0zZ86gY8eOVdga1v871v471KcXG68BExFJwgAmIpKEAUxEJAkDmIhIEgYwEZEkDGAiIkkYwEREkjCAiYgkYQATEUnCACYikoQBTEQkCQOYiEgSBjARkSQMYCIiSRjARESSMICJiCRhABMRScIAJiKSpEI/SSSEAABoNJoqbUx5CgoKqmXt6l6ffZeHfa+c4swsztA/U4nHLXlEdnY2rly5UunGEBFVR61atSrzx10rFMB6vR65ubkwMTGBSqWqkgYSEb1ohBDQarUwMzNDjRqlr/hWKICJiOjZ4004IiJJGMBERJIwgImIJGEAExFJwgAmIpKEAUxEJAkDmIhIEgYwEZEkFQrgmJgY9O7dGy4uLtiwYUOVNSYnJweenp5ITU0FABw7dgxeXl5wcXHB8uXLlfWSkpLg4+MDV1dXfPrppygsLKx07fDwcHh4eMDDwwOLFy82aP0VK1agd+/e8PDwwLp16wxa+1GLFi3CtGnTDFrf398fHh4eUKvVUKvV+L//+z+D9n3//v3w8fGBu7s75s+fD8Bwfd+8ebPSb7VajY4dO2Lu3LkGq79jxw7lPb9o0SIAhn3frVmzBq6urvDy8kJERIRB6lc2Y27duoXBgwfDzc0No0ePRm5u7l/tfhFRjtu3bwsnJydx//59kZubK7y8vMTVq1fL2+ypnT9/Xnh6eoq2bduKlJQU8fDhQ9GzZ09x8+ZNodVqRUBAgDh48KAQQggPDw9x7tw5IYQQ06dPFxs2bKhU7aNHj4r33ntPFBQUCI1GI95//30RExNjkPonT54Ufn5+QqvViocPHwonJyeRlJRksL4XO3bsmOjatauYOnWqwY69Xq8XDg4OQqvVKvMM+brfvHlTODg4iLS0NKHRaMTAgQPFwYMHDX7shRDiypUrolevXuLWrVsGqZ+Xlyc6d+4s7t69K7RarfD19RX79u0z6L85T09PkZ2dLQoLC8XIkSPFjh07qrT+s8iYjz76SPz4449CCCHCw8PF4sWLK3Ucyj0DPnbsGLp16wYLCwvUqVMHrq6u2L17d+VSvww//PADgoOD0bBhQwDAhQsX8Oqrr8La2hrGxsbw8vLC7t278ccffyA/Px+2trYAAB8fn0q3p0GDBpg2bRpq1qwJExMTtGjRAsnJyQap36VLF/znP/+BsbEx7t69C51OhwcPHhis7wCQmZmJ5cuXY9SoUQAMd+x///13AEBAQAC8vb2xfv16g77uP//8M3r37o1GjRrBxMQEy5cvR+3atQ167IvNnj0bEydOREpKikHq63Q66PV6PHz4EIWFhSgsLIS5ubnB+v7rr7/CwcEB5ubmMDIygqOjIzZv3lyl9SubMVqtFqdOnYKrq+szOw7lBnBGRgYaNGigTDds2BDp6emVKlqWzz//HJ06dSq37p/nN2jQoNLtadmypXKwk5OT8dNPP0GlUhmsvomJCUJDQ+Hh4QE7OzuD9h0APvvsM0ycOBEvvfQSAMMd+wcPHsDOzg4rV67Et99+i8jISNy6dctgfb9x4wZ0Oh1GjRoFtVqNjRs3GvzYA0UnOfn5+XB3dzdYfXNzc4wfPx7u7u7o2bMnmjRpYtC+t23bFkeOHEFmZiYKCgqwf/9+nD17tkrrVzZj7t+/D3NzcxgbG1eqHY8qN4D1en2JEdCEEAYZEe1xdauyPVevXkVAQACmTJkCa2trg9YPDAzE8ePHkZaWhuTkZIPV3rx5Mxo3bgw7OztlnqGOffv27bF48WLUrVsXlpaW8PX1RWhoqMH6rtPpcPz4cSxYsABRUVG4cOECUlJSDP6+i4yMxLBhwwAY7thfunQJ0dHROHDgAOLj41GjRg2Dvu/s7Ozg4+MDf39/DB8+HB07dkRhYaFBj/3THuuy6la2HeUOyN6oUSOcPn1amb5z545yCl+VGjVqhDt37pSq++f5//3vf59Je86cOYPAwEDMmDEDHh4eSEhIMEj9a9euQaPRoE2bNqhduzZcXFywe/duGBkZVXltANi1axfu3LkDtVqNrKws5OXl4Y8//jBI/dOnT0Or1SrhL4RAkyZNDPa6169fH3Z2drC0tAQAvPvuuwY99kDRgN2nTp3CwoULARjufX/kyBHY2dnhlVdeAVD0cfrrr782WN9zcnLg4uKi/Mezdu1adOnSxaD/5p/2WFtaWiI7Oxs6nQ5GRkbPJAvLPQPu3r07jh8/jnv37uHhw4eIi4tDjx49KlW0Itq1a4fr168rHxN//PFH9OjRA02aNEGtWrVw5swZAEV3civbnrS0NIwdOxZLly6Fh4eHQeunpqZi5syZ0Gg00Gg02LdvH/z8/AzW93Xr1uHHH3/Ejh07EBgYCGdnZ6xdu9Yg9bOzs7F48WIUFBQgJycH27Ztw6RJkwzWdycnJxw5cgQPHjyATqdDfHw83NzcDFYfAC5fvozXXnsNderUAWC4952NjQ2OHTuGvLw8CCGwf/9+g/6bS01NxZgxY1BYWIjs7Gxs2bIFEyZMMOixf9r+mpiYoFOnTti1axcAYPv27ZVvR0Xu1O3cuVN4eHgIFxcXsWbNmkrd9SuPk5OTSElJEUIU3Zn38vISLi4u4vPPPxd6vV4IIURSUpLo16+fcHV1FZMmTRIFBQWVqjlv3jxha2srvL29lT8bN240WP3Q0FDh7u4uPD09RWhoqEH7/qjo6GgxdepUg9Zfvny5cHNzEy4uLuLbb781aG0hhNi8ebPy3p4zZ47Q6XQGrR8bGysmTJhQYp6h6n/11VfC1dVVeHp6iunTp4v8/HyD9j08PFy4u7sLFxcXsXHjRiGEYfpemYxJTU0VQ4YMEe7u7iIgIEBkZmZW5hAIDshORCQJn4QjIpKEAUxEJAkDmIhIEgYwEZEkDGAiIkkYwFRKamoqWrdujc2bN5eY//XXXyujpT0Lzs7OSExMfGb7e5KcnBz4+fnBw8MDcXFxyvyEhAR07twZ+fn5JdbXaDTo2rUrfv3118fu8+DBg1ixYkWVtZlefAxgKlONGjWwaNEiZcCc511SUhLu3r2L2NhYuLi4KPO7dOkCKyurEqEMAHFxcWjevDnefPPNx+4zMTERWVlZVdZmevGV+ygyVU+mpqYYNmwYgoKCEBkZiZo1a5ZYPm3aNLRs2RIffvhhqWlnZ2d4enrixIkTyMrKwvDhw3H27Fn88ssvMDY2RkREBKysrAAAGzduxKVLl6DRaDBs2DD4+voCKBqnNyIiAlqtFqamppg6dSrat2+PsLAwnD9/HhkZGWjdujWWLl1aol179+5FeHg49Ho9zMzMMH36dJibm2PGjBlIT0+HWq1GVFQUTE1NlW0GDhyI6OhoeHt7K/OioqIwePBgAMDKlSsRGxsLIyMjNG/eHLNmzcKtW7cQGRkJnU6HunXrYuLEidi8eTM2bdoEvV4PCwsLzJo1Cy1atMDp06excOFC6PV6AMDIkSOVEbWomqvUYxz0QkpJSRG2trZCp9OJwYMHi4ULFwohhFi7dq3ypNzUqVPF2rVrlW0enXZychILFiwQQhQ96WVjYyOSkpKEEEKMGTNGREREKOsFBwcLIYrGnbazsxNXrlwR169fF56enuLevXtCiKKxcu3t7UVubq4IDQ0Vrq6uJcYQLvbbb7+J7t27i5s3bwohip5ysre3F9nZ2eLEiRPCw8OjzP5mZ2eLDh06KNtdv35d2Nvbi4KCArFlyxbx3nvvidzcXCFE0VOLAQEByt/nzJkjhCga13nQoEEiLy9PCCFEfHy8cHNzE0II8f777ytjyCYlJYnZs2dX9KWgFxzPgOmxatSogSVLlqBPnz5wcHB4qm2LP+ZbW1ujfv36sLGxAQA0a9asxMd2Pz8/AICVlRXs7e1x/PhxGBkZISMjA0OHDlXWU6lUuHnzJgDA1tZWGRLwUSdOnEC3bt1gbW0NAMpAOxcvXnziqFXm5ubw9vbG1q1bMX78eERFRcHX1xc1a9bE4cOH4ePjo4zV8P7772P16tXQaDQl9nHw4EHcuHFD6Q9QNNxmZmYm3N3dMXfuXOzfvx/du3fHpEmTKnwc6cXGAKYnaty4MebMmYOpU6eiT58+yvzi4fmKabXaEts9esnCxMTksfuvUeN/tyH0ej2MjY2h0+lgZ2eHkJAQZVlaWhoaNmyIn3/+WQnDP/vzMIJA0QhrhYWFT2wDAAwaNAgjRozAqFGjEBMTgy1btpS5T71eX+bP4ej1eqjVakyePFmZzsjIQL169eDn5wcnJyccPXoU8fHxCA8Px+7du1GrVq0ntolefLwJR+Vyc3NDjx498N133ynzXn75ZVy8eBEAkJ6ejoSEhL+0723btgEo+q2t48ePw87ODnZ2djh69CiuXbsGADh06BC8vb1LfVPhz+zs7HDkyBGkpKQAgDK+crt27cptR8uWLWFtbY0vv/wSHTp0QKNGjQAAjo6OiI6ORl5eHgDg+++/R+fOnVGzZk0YGRkpYezg4IDY2FhkZGQAADZt2oQPPvgAQNFZfvFvjM2bNw8PHjwoMdwhVV88A6YKmTlzpjI8H1D0Y5pBQUFwdXVF06ZN0a1bt7+034KCAvTt2xdarRYzZ85E8+bNAQBz587FpEmTIIRQbtyZmZk9cV9vvPEGgoODMW7cOOh0OpiammL16tWoW7duhdoyaNAgTJw4Ed9++60yz9fXF2lpaejfvz/0ej1effVV5cZft27dEBQUhHnz5mHWrFkYMWIEAgICoFKpYG5ujvDwcKhUKgQFBWHBggUICQmBSqXCuHHj0LRp0790vOjFwtHQiIgk4SUIIiJJGMBERJIwgImIJGEAExFJwgAmIpKEAUxEJAkDmIhIkv8HruuQrM0VXCIAAAAASUVORK5CYII=\n",
      "text/plain": [
       "<Figure size 432x288 with 1 Axes>"
      ]
     },
     "metadata": {},
     "output_type": "display_data"
    }
   ],
   "source": [
    "# visualizations\n",
    "import seaborn as sns\n",
    "import matplotlib.pyplot as plt\n",
    "\n",
    "sns.set_theme(style = 'whitegrid')\n",
    "sns.set_color_codes('muted')\n",
    "\n",
    "# outliers removed to improve quartile readability \n",
    "fig, ax = plt.subplots()\n",
    "sns.boxplot(x = sorted_avg_higher_votes['numvotes'], showfliers=False, color='b');\n",
    "ax.set_title('Distribution of Movie Votes\\n(Outliers Removed)')\n",
    "ax.set_xlabel('Number of Votes')\n",
    "ax.set_xticks(range(0, 1051, 100));"
   ]
  },
  {
   "cell_type": "code",
   "execution_count": 288,
   "metadata": {
    "ExecuteTime": {
     "end_time": "2022-08-17T19:52:19.429594Z",
     "start_time": "2022-08-17T19:52:19.405594Z"
    },
    "scrolled": true
   },
   "outputs": [
    {
     "data": {
      "text/html": [
       "<div>\n",
       "<style scoped>\n",
       "    .dataframe tbody tr th:only-of-type {\n",
       "        vertical-align: middle;\n",
       "    }\n",
       "\n",
       "    .dataframe tbody tr th {\n",
       "        vertical-align: top;\n",
       "    }\n",
       "\n",
       "    .dataframe thead th {\n",
       "        text-align: right;\n",
       "    }\n",
       "</style>\n",
       "<table border=\"1\" class=\"dataframe\">\n",
       "  <thead>\n",
       "    <tr style=\"text-align: right;\">\n",
       "      <th></th>\n",
       "      <th>genres</th>\n",
       "      <th>averagerating</th>\n",
       "    </tr>\n",
       "  </thead>\n",
       "  <tbody>\n",
       "    <tr>\n",
       "      <th>0</th>\n",
       "      <td>mystery,news,thriller</td>\n",
       "      <td>8.40</td>\n",
       "    </tr>\n",
       "    <tr>\n",
       "      <th>1</th>\n",
       "      <td>documentary,music,war</td>\n",
       "      <td>8.30</td>\n",
       "    </tr>\n",
       "    <tr>\n",
       "      <th>2</th>\n",
       "      <td>comedy,history,musical</td>\n",
       "      <td>8.30</td>\n",
       "    </tr>\n",
       "    <tr>\n",
       "      <th>3</th>\n",
       "      <td>animation,crime,mystery</td>\n",
       "      <td>8.20</td>\n",
       "    </tr>\n",
       "    <tr>\n",
       "      <th>4</th>\n",
       "      <td>romance,thriller,war</td>\n",
       "      <td>8.20</td>\n",
       "    </tr>\n",
       "    <tr>\n",
       "      <th>5</th>\n",
       "      <td>comedy,musical,western</td>\n",
       "      <td>8.20</td>\n",
       "    </tr>\n",
       "    <tr>\n",
       "      <th>6</th>\n",
       "      <td>animation,documentary,mystery</td>\n",
       "      <td>8.20</td>\n",
       "    </tr>\n",
       "    <tr>\n",
       "      <th>7</th>\n",
       "      <td>documentary,fantasy,horror</td>\n",
       "      <td>8.10</td>\n",
       "    </tr>\n",
       "    <tr>\n",
       "      <th>8</th>\n",
       "      <td>animation,crime,documentary</td>\n",
       "      <td>8.07</td>\n",
       "    </tr>\n",
       "    <tr>\n",
       "      <th>9</th>\n",
       "      <td>documentary,drama,musical</td>\n",
       "      <td>8.05</td>\n",
       "    </tr>\n",
       "    <tr>\n",
       "      <th>10</th>\n",
       "      <td>comedy,documentary,sport</td>\n",
       "      <td>7.92</td>\n",
       "    </tr>\n",
       "    <tr>\n",
       "      <th>11</th>\n",
       "      <td>documentary,sport,thriller</td>\n",
       "      <td>7.90</td>\n",
       "    </tr>\n",
       "    <tr>\n",
       "      <th>12</th>\n",
       "      <td>action,romance,war</td>\n",
       "      <td>7.87</td>\n",
       "    </tr>\n",
       "    <tr>\n",
       "      <th>13</th>\n",
       "      <td>action,documentary,sport</td>\n",
       "      <td>7.86</td>\n",
       "    </tr>\n",
       "    <tr>\n",
       "      <th>14</th>\n",
       "      <td>adventure,animation,horror</td>\n",
       "      <td>7.83</td>\n",
       "    </tr>\n",
       "  </tbody>\n",
       "</table>\n",
       "</div>"
      ],
      "text/plain": [
       "                           genres  averagerating\n",
       "0           mystery,news,thriller           8.40\n",
       "1           documentary,music,war           8.30\n",
       "2          comedy,history,musical           8.30\n",
       "3         animation,crime,mystery           8.20\n",
       "4            romance,thriller,war           8.20\n",
       "5          comedy,musical,western           8.20\n",
       "6   animation,documentary,mystery           8.20\n",
       "7      documentary,fantasy,horror           8.10\n",
       "8     animation,crime,documentary           8.07\n",
       "9       documentary,drama,musical           8.05\n",
       "10       comedy,documentary,sport           7.92\n",
       "11     documentary,sport,thriller           7.90\n",
       "12             action,romance,war           7.87\n",
       "13       action,documentary,sport           7.86\n",
       "14     adventure,animation,horror           7.83"
      ]
     },
     "execution_count": 288,
     "metadata": {},
     "output_type": "execute_result"
    }
   ],
   "source": [
    "# bar chart showing 15 highest-rated movie genres with more than 62 total votes\n",
    "highest_rated_genres = sorted_avg_higher_votes[['genres', 'averagerating']]\n",
    "highest_rated_genres['averagerating'] = highest_rated_genres['averagerating'].round(2)\n",
    "highest_rated_genres"
   ]
  },
  {
   "cell_type": "code",
   "execution_count": 289,
   "metadata": {
    "ExecuteTime": {
     "end_time": "2022-08-17T19:52:29.912500Z",
     "start_time": "2022-08-17T19:52:29.897501Z"
    }
   },
   "outputs": [],
   "source": [
    "# make count of each of these individual genres in dictionary\n",
    "top_genres = {}\n",
    "for genre in sorted_avg_higher_votes['genres'].value_counts().index:\n",
    "    genre_list = genre.split(',')\n",
    "    for item in genre_list:\n",
    "        if item not in top_genres:\n",
    "            top_genres[item] = 1\n",
    "        elif item in top_genres:\n",
    "            top_genres[item] += 1\n",
    "top_genres = dict(sorted(top_genres.items(), key = lambda x: x[1], reverse=True))"
   ]
  },
  {
   "cell_type": "code",
   "execution_count": 206,
   "metadata": {
    "ExecuteTime": {
     "end_time": "2022-08-17T19:16:35.220186Z",
     "start_time": "2022-08-17T19:16:34.986469Z"
    }
   },
   "outputs": [
    {
     "data": {
      "image/png": "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\n",
      "text/plain": [
       "<Figure size 432x288 with 1 Axes>"
      ]
     },
     "metadata": {},
     "output_type": "display_data"
    }
   ],
   "source": [
    "# bar chart showing most-used subgenres within top 15 highest-rated \n",
    "# movie genres\n",
    "fig, ax = plt.subplots()\n",
    "sns.barplot(x = list(top_genres.values()), y = list(top_genres.keys()), color = 'b');\n",
    "ax.set_title('Subgenres of Top 15 Hightest-Rated Genres')\n",
    "ax.set_xlabel('Number of Occurences')\n",
    "ax.set_ylabel('Genre');"
   ]
  },
  {
   "cell_type": "code",
   "execution_count": 292,
   "metadata": {
    "ExecuteTime": {
     "end_time": "2022-08-17T19:52:55.763139Z",
     "start_time": "2022-08-17T19:52:54.892965Z"
    }
   },
   "outputs": [
    {
     "data": {
      "image/png": "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\n",
      "text/plain": [
       "<Figure size 432x288 with 1 Axes>"
      ]
     },
     "metadata": {},
     "output_type": "display_data"
    }
   ],
   "source": [
    "# dataframe with movie titles and studio\n",
    "movie_gross_df = pd.read_csv('zippedData/bom.movie_gross.csv.gz')\n",
    "movie_gross_df['title'] = movie_gross_df['title'].str.lower()\n",
    "\n",
    "# dataframe from database with movie titles and genres\n",
    "movie_basics_df = pd.read_sql(\"\"\"SELECT *\n",
    "                                 FROM movie_basics\n",
    "                                 WHERE start_year >= 2010\"\"\", conn)\n",
    "movie_basics_df['primary_title'] = movie_basics_df['primary_title'].str.lower()\n",
    "\n",
    "# inner join dataframes on title (movie_gross_df), primary_title (movie_basics_df)\n",
    "movie_genre_studio_df = pd.merge(movie_gross_df, movie_basics_df, \n",
    "                                 left_on='title', right_on='primary_title',\n",
    "                                 how='inner')\n",
    "# drop movies with no genres\n",
    "movie_genre_studio_df.dropna(subset=['genres'], inplace=True)\n",
    "# clean genre string for each row\n",
    "movie_genre_studio_df['genres'] = movie_genre_studio_df['genres'].apply(clean_genres)\n",
    "\n",
    "# put movies from highest-performing studio into a dataframe\n",
    "bv_studio_movies = movie_genre_studio_df[movie_genre_studio_df['studio'] == 'BV']\n",
    "\n",
    "# bar chart showing number of movies per genre for BV studios\n",
    "fig, ax = plt.subplots()\n",
    "sns.countplot(data=bv_studio_movies, y='genres', \n",
    "              order=bv_studio_movies['genres'].value_counts().iloc[:10].index,\n",
    "              color = 'b')\n",
    "ax.set_xticks(range(0,21,2))\n",
    "ax.set_title('Count of Movies Per Genre Produced by BV Studios')\n",
    "ax.set_xlabel('Movie Count')\n",
    "ax.set_ylabel('Genre(s)');"
main
   ]
  },
  {
   "cell_type": "markdown",
   "metadata": {},
   "source": [
    "# Cat Murad"
   ]
  },
  {
   "cell_type": "code",
   "execution_count": null,
   "metadata": {},
   "outputs": [],
   "source": []
  },
  {
   "cell_type": "markdown",
   "metadata": {},
   "source": [
    "# Elijah Soba"
   ]
  },
  {
   "cell_type": "code",
   "execution_count": null,
   "metadata": {},
   "outputs": [],
   "source": []
  },
  {
   "cell_type": "markdown",
   "metadata": {},
   "source": [
    "# Luis Estrada "
   ]
  },
  {
   "cell_type": "code",
   "execution_count": null,
   "metadata": {},
   "outputs": [],
   "source": []
  },
  {
   "cell_type": "markdown",
   "metadata": {},
   "source": [
    "# Kilmar Lazo "
   ]
  },
  {
   "cell_type": "code",
   "execution_count": null,
   "metadata": {},
   "outputs": [],
   "source": []
  },
  {
   "cell_type": "markdown",
   "metadata": {},
   "source": [
    "# Michael Eugene"
   ]
  },
  {
   "cell_type": "code",
   "execution_count": 80,
   "metadata": {
    "ExecuteTime": {
     "end_time": "2022-08-17T18:53:16.370141Z",
     "start_time": "2022-08-17T18:53:16.104320Z"
    }
   },
   "outputs": [],
   "source": [
    "import pandas as pd\n",
    "import sqlite3\n",
    "import matplotlib.pyplot as plt\n",
    "%matplotlib inline\n",
    "import seaborn as sns\n",
    "import numpy as np\n",
    "\n",
    "movie_gross_df = pd.read_csv('zippedData/bom.movie_gross.csv.gz')\n",
    "                              \n",
    "movie_info_df = pd.read_csv('zippedData/rt.movie_info.tsv.gz', delimiter= '\\t')\n",
    "                            \n",
    "reviews_df = pd.read_csv('zippedData/rt.reviews.tsv.gz', delimiter='\\t', encoding = 'latin')\n",
    "\n",
    "movies_df = pd.read_csv('zippedData/tmdb.movies.csv.gz')\n",
    "                            \n",
    "movie_budgets_df = pd.read_csv(\"zippedData/tn.movie_budgets.csv.gz\",index_col=0)\n",
    "\n",
    "conn = sqlite3.connect('zippedData/im.db')"
   ]
  },
  {
   "cell_type": "code",
   "execution_count": 81,
   "metadata": {
    "ExecuteTime": {
     "end_time": "2022-08-17T18:53:20.154551Z",
     "start_time": "2022-08-17T18:53:20.140306Z"
    }
   },
   "outputs": [],
   "source": [
    "df = movie_budgets_df"
   ]
  },
  {
   "cell_type": "code",
   "execution_count": 82,
   "metadata": {
    "ExecuteTime": {
     "end_time": "2022-08-17T18:53:20.884312Z",
     "start_time": "2022-08-17T18:53:20.875310Z"
    }
   },
   "outputs": [
    {
     "name": "stdout",
     "output_type": "stream",
     "text": [
      "<class 'pandas.core.frame.DataFrame'>\n",
      "Int64Index: 5782 entries, 1 to 82\n",
      "Data columns (total 5 columns):\n",
      " #   Column             Non-Null Count  Dtype \n",
      "---  ------             --------------  ----- \n",
      " 0   release_date       5782 non-null   object\n",
      " 1   movie              5782 non-null   object\n",
      " 2   production_budget  5782 non-null   object\n",
      " 3   domestic_gross     5782 non-null   object\n",
      " 4   worldwide_gross    5782 non-null   object\n",
      "dtypes: object(5)\n",
      "memory usage: 271.0+ KB\n"
     ]
    }
   ],
   "source": [
    "movie_budgets_df.info()"
   ]
  },
  {
   "cell_type": "markdown",
   "metadata": {},
   "source": [
    "## Data Cleaning"
   ]
  },
  {
   "cell_type": "markdown",
   "metadata": {},
   "source": [
    "removing the commas and dollar signs from the columns so that it would easier to do calculations."
   ]
  },
  {
   "cell_type": "code",
   "execution_count": 83,
   "metadata": {
    "ExecuteTime": {
     "end_time": "2022-08-17T18:54:40.865172Z",
     "start_time": "2022-08-17T18:54:40.834583Z"
    }
   },
   "outputs": [],
   "source": [
    "df = df.apply(lambda x: x.str.replace(',',''))\n",
    "df['domestic_gross'] = df['domestic_gross'].fillna(0.0).str.replace('[$,]', '').astype('float')"
   ]
  },
  {
   "cell_type": "code",
   "execution_count": 84,
   "metadata": {
    "ExecuteTime": {
     "end_time": "2022-08-17T18:54:42.092467Z",
     "start_time": "2022-08-17T18:54:42.075456Z"
    }
   },
   "outputs": [],
   "source": [
    "df['domestic_gross'] = df['domestic_gross'].replace(',', '')\n",
    "df['domestic_gross'] = df['domestic_gross'].replace('$', '')\n"
   ]
  },
  {
   "cell_type": "code",
   "execution_count": 85,
   "metadata": {
    "ExecuteTime": {
     "end_time": "2022-08-17T18:54:49.218563Z",
     "start_time": "2022-08-17T18:54:49.207556Z"
    }
   },
   "outputs": [],
   "source": [
    "df['production_budget'] = df['production_budget'].str.replace(',', '')\n",
    "df['production_budget'] = df['production_budget'].str.replace('$', '')\n"
   ]
  },
  {
   "cell_type": "code",
   "execution_count": 86,
   "metadata": {
    "ExecuteTime": {
     "end_time": "2022-08-17T18:54:50.025692Z",
     "start_time": "2022-08-17T18:54:50.017577Z"
    }
   },
   "outputs": [],
   "source": [
    "df = df.apply(lambda x: x.replace('$',''))\n",
    "df['production_budget'] = df['production_budget'].fillna(0.0).replace('[$,]', '').astype('float')"
   ]
  },
  {
   "cell_type": "code",
   "execution_count": 89,
   "metadata": {
    "ExecuteTime": {
     "end_time": "2022-08-17T18:54:55.132252Z",
     "start_time": "2022-08-17T18:54:55.123610Z"
    }
   },
   "outputs": [],
   "source": [
    "df = df.apply(lambda x: x.replace('$',''))\n",
    "df['worldwide_gross'] = df['worldwide_gross'].fillna(0.0).replace('[$,]', '').astype('float')"
   ]
  },
  {
   "cell_type": "code",
   "execution_count": 88,
   "metadata": {
    "ExecuteTime": {
     "end_time": "2022-08-17T18:54:53.354220Z",
     "start_time": "2022-08-17T18:54:53.334627Z"
    }
   },
   "outputs": [],
   "source": [
    "df['worldwide_gross'] = df['worldwide_gross'].str.replace(',', '')\n",
    "df['worldwide_gross'] = df['worldwide_gross'].str.replace('$', '')\n"
   ]
  },
  {
   "cell_type": "markdown",
   "metadata": {},
   "source": [
    "## Data exploration "
   ]
  },
  {
   "cell_type": "markdown",
   "metadata": {},
   "source": [
    "Taking a look at the top 15 movies with the highest production budget"
   ]
  },
  {
   "cell_type": "code",
   "execution_count": 90,
   "metadata": {
    "ExecuteTime": {
     "end_time": "2022-08-17T18:55:31.716928Z",
     "start_time": "2022-08-17T18:55:31.702912Z"
    }
   },
   "outputs": [
    {
     "data": {
      "text/html": [
       "<div>\n",
       "<style scoped>\n",
       "    .dataframe tbody tr th:only-of-type {\n",
       "        vertical-align: middle;\n",
       "    }\n",
       "\n",
       "    .dataframe tbody tr th {\n",
       "        vertical-align: top;\n",
       "    }\n",
       "\n",
       "    .dataframe thead th {\n",
       "        text-align: right;\n",
       "    }\n",
       "</style>\n",
       "<table border=\"1\" class=\"dataframe\">\n",
       "  <thead>\n",
       "    <tr style=\"text-align: right;\">\n",
       "      <th></th>\n",
       "      <th>release_date</th>\n",
       "      <th>movie</th>\n",
       "      <th>production_budget</th>\n",
       "      <th>domestic_gross</th>\n",
       "      <th>worldwide_gross</th>\n",
       "    </tr>\n",
       "    <tr>\n",
       "      <th>id</th>\n",
       "      <th></th>\n",
       "      <th></th>\n",
       "      <th></th>\n",
       "      <th></th>\n",
       "      <th></th>\n",
       "    </tr>\n",
       "  </thead>\n",
       "  <tbody>\n",
       "    <tr>\n",
       "      <th>1</th>\n",
       "      <td>Dec 18 2009</td>\n",
       "      <td>Avatar</td>\n",
       "      <td>425000000.0</td>\n",
       "      <td>760507625.0</td>\n",
       "      <td>2.776345e+09</td>\n",
       "    </tr>\n",
       "    <tr>\n",
       "      <th>2</th>\n",
       "      <td>May 20 2011</td>\n",
       "      <td>Pirates of the Caribbean: On Stranger Tides</td>\n",
       "      <td>410600000.0</td>\n",
       "      <td>241063875.0</td>\n",
       "      <td>1.045664e+09</td>\n",
       "    </tr>\n",
       "    <tr>\n",
       "      <th>3</th>\n",
       "      <td>Jun 7 2019</td>\n",
       "      <td>Dark Phoenix</td>\n",
       "      <td>350000000.0</td>\n",
       "      <td>42762350.0</td>\n",
       "      <td>1.497624e+08</td>\n",
       "    </tr>\n",
       "    <tr>\n",
       "      <th>4</th>\n",
       "      <td>May 1 2015</td>\n",
       "      <td>Avengers: Age of Ultron</td>\n",
       "      <td>330600000.0</td>\n",
       "      <td>459005868.0</td>\n",
       "      <td>1.403014e+09</td>\n",
       "    </tr>\n",
       "    <tr>\n",
       "      <th>5</th>\n",
       "      <td>Dec 15 2017</td>\n",
       "      <td>Star Wars Ep. VIII: The Last Jedi</td>\n",
       "      <td>317000000.0</td>\n",
       "      <td>620181382.0</td>\n",
       "      <td>1.316722e+09</td>\n",
       "    </tr>\n",
       "  </tbody>\n",
       "</table>\n",
       "</div>"
      ],
      "text/plain": [
       "   release_date                                        movie  \\\n",
       "id                                                             \n",
       "1   Dec 18 2009                                       Avatar   \n",
       "2   May 20 2011  Pirates of the Caribbean: On Stranger Tides   \n",
       "3    Jun 7 2019                                 Dark Phoenix   \n",
       "4    May 1 2015                      Avengers: Age of Ultron   \n",
       "5   Dec 15 2017            Star Wars Ep. VIII: The Last Jedi   \n",
       "\n",
       "    production_budget  domestic_gross  worldwide_gross  \n",
       "id                                                      \n",
       "1         425000000.0     760507625.0     2.776345e+09  \n",
       "2         410600000.0     241063875.0     1.045664e+09  \n",
       "3         350000000.0      42762350.0     1.497624e+08  \n",
       "4         330600000.0     459005868.0     1.403014e+09  \n",
       "5         317000000.0     620181382.0     1.316722e+09  "
      ]
     },
     "execution_count": 90,
     "metadata": {},
     "output_type": "execute_result"
    }
   ],
   "source": [
    "sorted_df=df.sort_values(by ='production_budget', ascending = False)\n",
    "sorted_df.head()"
   ]
  },
  {
   "cell_type": "code",
   "execution_count": 91,
   "metadata": {
    "ExecuteTime": {
     "end_time": "2022-08-17T18:55:37.530635Z",
     "start_time": "2022-08-17T18:55:37.519367Z"
    }
   },
   "outputs": [],
   "source": [
    "my_fn =lambda x:float(x.replace(',',''))"
   ]
  },
  {
   "cell_type": "markdown",
   "metadata": {},
   "source": [
    "Looking at the movies with the highest domestic_ gross"
   ]
  },
  {
   "cell_type": "code",
   "execution_count": 92,
   "metadata": {
    "ExecuteTime": {
     "end_time": "2022-08-17T18:55:51.633828Z",
     "start_time": "2022-08-17T18:55:51.620826Z"
    }
   },
   "outputs": [
    {
     "data": {
      "text/html": [
       "<div>\n",
       "<style scoped>\n",
       "    .dataframe tbody tr th:only-of-type {\n",
       "        vertical-align: middle;\n",
       "    }\n",
       "\n",
       "    .dataframe tbody tr th {\n",
       "        vertical-align: top;\n",
       "    }\n",
       "\n",
       "    .dataframe thead th {\n",
       "        text-align: right;\n",
       "    }\n",
       "</style>\n",
       "<table border=\"1\" class=\"dataframe\">\n",
       "  <thead>\n",
       "    <tr style=\"text-align: right;\">\n",
       "      <th></th>\n",
       "      <th>release_date</th>\n",
       "      <th>movie</th>\n",
       "      <th>production_budget</th>\n",
       "      <th>domestic_gross</th>\n",
       "      <th>worldwide_gross</th>\n",
       "    </tr>\n",
       "    <tr>\n",
       "      <th>id</th>\n",
       "      <th></th>\n",
       "      <th></th>\n",
       "      <th></th>\n",
       "      <th></th>\n",
       "      <th></th>\n",
       "    </tr>\n",
       "  </thead>\n",
       "  <tbody>\n",
       "    <tr>\n",
       "      <th>6</th>\n",
       "      <td>Dec 18 2015</td>\n",
       "      <td>Star Wars Ep. VII: The Force Awakens</td>\n",
       "      <td>306000000.0</td>\n",
       "      <td>936662225.0</td>\n",
       "      <td>2.053311e+09</td>\n",
       "    </tr>\n",
       "    <tr>\n",
       "      <th>1</th>\n",
       "      <td>Dec 18 2009</td>\n",
       "      <td>Avatar</td>\n",
       "      <td>425000000.0</td>\n",
       "      <td>760507625.0</td>\n",
       "      <td>2.776345e+09</td>\n",
       "    </tr>\n",
       "    <tr>\n",
       "      <th>42</th>\n",
       "      <td>Feb 16 2018</td>\n",
       "      <td>Black Panther</td>\n",
       "      <td>200000000.0</td>\n",
       "      <td>700059566.0</td>\n",
       "      <td>1.348258e+09</td>\n",
       "    </tr>\n",
       "    <tr>\n",
       "      <th>7</th>\n",
       "      <td>Apr 27 2018</td>\n",
       "      <td>Avengers: Infinity War</td>\n",
       "      <td>300000000.0</td>\n",
       "      <td>678815482.0</td>\n",
       "      <td>2.048134e+09</td>\n",
       "    </tr>\n",
       "    <tr>\n",
       "      <th>43</th>\n",
       "      <td>Dec 19 1997</td>\n",
       "      <td>Titanic</td>\n",
       "      <td>200000000.0</td>\n",
       "      <td>659363944.0</td>\n",
       "      <td>2.208208e+09</td>\n",
       "    </tr>\n",
       "  </tbody>\n",
       "</table>\n",
       "</div>"
      ],
      "text/plain": [
       "   release_date                                 movie  production_budget  \\\n",
       "id                                                                         \n",
       "6   Dec 18 2015  Star Wars Ep. VII: The Force Awakens        306000000.0   \n",
       "1   Dec 18 2009                                Avatar        425000000.0   \n",
       "42  Feb 16 2018                         Black Panther        200000000.0   \n",
       "7   Apr 27 2018                Avengers: Infinity War        300000000.0   \n",
       "43  Dec 19 1997                               Titanic        200000000.0   \n",
       "\n",
       "    domestic_gross  worldwide_gross  \n",
       "id                                   \n",
       "6      936662225.0     2.053311e+09  \n",
       "1      760507625.0     2.776345e+09  \n",
       "42     700059566.0     1.348258e+09  \n",
       "7      678815482.0     2.048134e+09  \n",
       "43     659363944.0     2.208208e+09  "
      ]
     },
     "execution_count": 92,
     "metadata": {},
     "output_type": "execute_result"
    }
   ],
   "source": [
    "sorted_df=df.sort_values(by ='domestic_gross', ascending = False)\n",
    "sorted_df.head()"
   ]
  },
  {
   "cell_type": "markdown",
   "metadata": {},
   "source": [
    "Looking the movies with highest worldwide_gross"
   ]
  },
  {
   "cell_type": "code",
   "execution_count": 93,
   "metadata": {
    "ExecuteTime": {
     "end_time": "2022-08-17T18:56:01.977342Z",
     "start_time": "2022-08-17T18:56:01.954337Z"
    }
   },
   "outputs": [
    {
     "data": {
      "text/html": [
       "<div>\n",
       "<style scoped>\n",
       "    .dataframe tbody tr th:only-of-type {\n",
       "        vertical-align: middle;\n",
       "    }\n",
       "\n",
       "    .dataframe tbody tr th {\n",
       "        vertical-align: top;\n",
       "    }\n",
       "\n",
       "    .dataframe thead th {\n",
       "        text-align: right;\n",
       "    }\n",
       "</style>\n",
       "<table border=\"1\" class=\"dataframe\">\n",
       "  <thead>\n",
       "    <tr style=\"text-align: right;\">\n",
       "      <th></th>\n",
       "      <th>release_date</th>\n",
       "      <th>movie</th>\n",
       "      <th>production_budget</th>\n",
       "      <th>domestic_gross</th>\n",
       "      <th>worldwide_gross</th>\n",
       "    </tr>\n",
       "    <tr>\n",
       "      <th>id</th>\n",
       "      <th></th>\n",
       "      <th></th>\n",
       "      <th></th>\n",
       "      <th></th>\n",
       "      <th></th>\n",
       "    </tr>\n",
       "  </thead>\n",
       "  <tbody>\n",
       "    <tr>\n",
       "      <th>1</th>\n",
       "      <td>Dec 18 2009</td>\n",
       "      <td>Avatar</td>\n",
       "      <td>425000000.0</td>\n",
       "      <td>760507625.0</td>\n",
       "      <td>2.776345e+09</td>\n",
       "    </tr>\n",
       "    <tr>\n",
       "      <th>43</th>\n",
       "      <td>Dec 19 1997</td>\n",
       "      <td>Titanic</td>\n",
       "      <td>200000000.0</td>\n",
       "      <td>659363944.0</td>\n",
       "      <td>2.208208e+09</td>\n",
       "    </tr>\n",
       "    <tr>\n",
       "      <th>6</th>\n",
       "      <td>Dec 18 2015</td>\n",
       "      <td>Star Wars Ep. VII: The Force Awakens</td>\n",
       "      <td>306000000.0</td>\n",
       "      <td>936662225.0</td>\n",
       "      <td>2.053311e+09</td>\n",
       "    </tr>\n",
       "    <tr>\n",
       "      <th>7</th>\n",
       "      <td>Apr 27 2018</td>\n",
       "      <td>Avengers: Infinity War</td>\n",
       "      <td>300000000.0</td>\n",
       "      <td>678815482.0</td>\n",
       "      <td>2.048134e+09</td>\n",
       "    </tr>\n",
       "    <tr>\n",
       "      <th>34</th>\n",
       "      <td>Jun 12 2015</td>\n",
       "      <td>Jurassic World</td>\n",
       "      <td>215000000.0</td>\n",
       "      <td>652270625.0</td>\n",
       "      <td>1.648855e+09</td>\n",
       "    </tr>\n",
       "  </tbody>\n",
       "</table>\n",
       "</div>"
      ],
      "text/plain": [
       "   release_date                                 movie  production_budget  \\\n",
       "id                                                                         \n",
       "1   Dec 18 2009                                Avatar        425000000.0   \n",
       "43  Dec 19 1997                               Titanic        200000000.0   \n",
       "6   Dec 18 2015  Star Wars Ep. VII: The Force Awakens        306000000.0   \n",
       "7   Apr 27 2018                Avengers: Infinity War        300000000.0   \n",
       "34  Jun 12 2015                        Jurassic World        215000000.0   \n",
       "\n",
       "    domestic_gross  worldwide_gross  \n",
       "id                                   \n",
       "1      760507625.0     2.776345e+09  \n",
       "43     659363944.0     2.208208e+09  \n",
       "6      936662225.0     2.053311e+09  \n",
       "7      678815482.0     2.048134e+09  \n",
       "34     652270625.0     1.648855e+09  "
      ]
     },
     "execution_count": 93,
     "metadata": {},
     "output_type": "execute_result"
    }
   ],
   "source": [
    "sorted_df=df.sort_values(by ='worldwide_gross', ascending = False)\n",
    "sorted_df.head()"
   ]
  },
  {
   "cell_type": "code",
   "execution_count": 94,
   "metadata": {
    "ExecuteTime": {
     "end_time": "2022-08-17T18:56:15.836491Z",
     "start_time": "2022-08-17T18:56:15.801331Z"
    }
   },
   "outputs": [
    {
     "data": {
      "text/plain": [
       "production_budget    3.158776e+07\n",
       "domestic_gross       4.187333e+07\n",
       "worldwide_gross      9.148746e+07\n",
       "dtype: float64"
      ]
     },
     "execution_count": 94,
     "metadata": {},
     "output_type": "execute_result"
    }
   ],
   "source": [
    "sorted_df=df.sort_values(by ='worldwide_gross', ascending = False).mean()\n",
    "sorted_df.head(10)"
   ]
  },
  {
   "cell_type": "code",
   "execution_count": 95,
   "metadata": {
    "ExecuteTime": {
     "end_time": "2022-08-17T18:56:16.826811Z",
     "start_time": "2022-08-17T18:56:16.808803Z"
    }
   },
   "outputs": [],
   "source": [
    "my_fn =lambda x:float(x)\n"
   ]
  },
  {
   "cell_type": "markdown",
   "metadata": {},
   "source": [
    "Ordering movies by the year "
   ]
  },
  {
   "cell_type": "code",
   "execution_count": 96,
   "metadata": {
    "ExecuteTime": {
     "end_time": "2022-08-17T18:56:22.407516Z",
     "start_time": "2022-08-17T18:56:21.999929Z"
    }
   },
   "outputs": [
    {
     "data": {
      "text/html": [
       "<div>\n",
       "<style scoped>\n",
       "    .dataframe tbody tr th:only-of-type {\n",
       "        vertical-align: middle;\n",
       "    }\n",
       "\n",
       "    .dataframe tbody tr th {\n",
       "        vertical-align: top;\n",
       "    }\n",
       "\n",
       "    .dataframe thead th {\n",
       "        text-align: right;\n",
       "    }\n",
       "</style>\n",
       "<table border=\"1\" class=\"dataframe\">\n",
       "  <thead>\n",
       "    <tr style=\"text-align: right;\">\n",
       "      <th></th>\n",
       "      <th>release_date</th>\n",
       "      <th>movie</th>\n",
       "      <th>production_budget</th>\n",
       "      <th>domestic_gross</th>\n",
       "      <th>worldwide_gross</th>\n",
       "    </tr>\n",
       "    <tr>\n",
       "      <th>id</th>\n",
       "      <th></th>\n",
       "      <th></th>\n",
       "      <th></th>\n",
       "      <th></th>\n",
       "      <th></th>\n",
       "    </tr>\n",
       "  </thead>\n",
       "  <tbody>\n",
       "    <tr>\n",
       "      <th>1</th>\n",
       "      <td>2009</td>\n",
       "      <td>Avatar</td>\n",
       "      <td>425000000.0</td>\n",
       "      <td>760507625.0</td>\n",
       "      <td>2.776345e+09</td>\n",
       "    </tr>\n",
       "    <tr>\n",
       "      <th>2</th>\n",
       "      <td>2011</td>\n",
       "      <td>Pirates of the Caribbean: On Stranger Tides</td>\n",
       "      <td>410600000.0</td>\n",
       "      <td>241063875.0</td>\n",
       "      <td>1.045664e+09</td>\n",
       "    </tr>\n",
       "    <tr>\n",
       "      <th>3</th>\n",
       "      <td>2019</td>\n",
       "      <td>Dark Phoenix</td>\n",
       "      <td>350000000.0</td>\n",
       "      <td>42762350.0</td>\n",
       "      <td>1.497624e+08</td>\n",
       "    </tr>\n",
       "    <tr>\n",
       "      <th>4</th>\n",
       "      <td>2015</td>\n",
       "      <td>Avengers: Age of Ultron</td>\n",
       "      <td>330600000.0</td>\n",
       "      <td>459005868.0</td>\n",
       "      <td>1.403014e+09</td>\n",
       "    </tr>\n",
       "    <tr>\n",
       "      <th>5</th>\n",
       "      <td>2017</td>\n",
       "      <td>Star Wars Ep. VIII: The Last Jedi</td>\n",
       "      <td>317000000.0</td>\n",
       "      <td>620181382.0</td>\n",
       "      <td>1.316722e+09</td>\n",
       "    </tr>\n",
       "  </tbody>\n",
       "</table>\n",
       "</div>"
      ],
      "text/plain": [
       "    release_date                                        movie  \\\n",
       "id                                                              \n",
       "1           2009                                       Avatar   \n",
       "2           2011  Pirates of the Caribbean: On Stranger Tides   \n",
       "3           2019                                 Dark Phoenix   \n",
       "4           2015                      Avengers: Age of Ultron   \n",
       "5           2017            Star Wars Ep. VIII: The Last Jedi   \n",
       "\n",
       "    production_budget  domestic_gross  worldwide_gross  \n",
       "id                                                      \n",
       "1         425000000.0     760507625.0     2.776345e+09  \n",
       "2         410600000.0     241063875.0     1.045664e+09  \n",
       "3         350000000.0      42762350.0     1.497624e+08  \n",
       "4         330600000.0     459005868.0     1.403014e+09  \n",
       "5         317000000.0     620181382.0     1.316722e+09  "
      ]
     },
     "execution_count": 96,
     "metadata": {},
     "output_type": "execute_result"
    }
   ],
   "source": [
    "df['release_date'] = pd.to_datetime(df['release_date']).dt.year\n",
    "df.head()"
   ]
  },
  {
   "cell_type": "code",
   "execution_count": 97,
   "metadata": {
    "ExecuteTime": {
     "end_time": "2022-08-17T18:56:30.890456Z",
     "start_time": "2022-08-17T18:56:30.873962Z"
    }
   },
   "outputs": [
    {
     "data": {
      "text/html": [
       "<div>\n",
       "<style scoped>\n",
       "    .dataframe tbody tr th:only-of-type {\n",
       "        vertical-align: middle;\n",
       "    }\n",
       "\n",
       "    .dataframe tbody tr th {\n",
       "        vertical-align: top;\n",
       "    }\n",
       "\n",
       "    .dataframe thead th {\n",
       "        text-align: right;\n",
       "    }\n",
       "</style>\n",
       "<table border=\"1\" class=\"dataframe\">\n",
       "  <thead>\n",
       "    <tr style=\"text-align: right;\">\n",
       "      <th></th>\n",
       "      <th>release_date</th>\n",
       "      <th>movie</th>\n",
       "      <th>production_budget</th>\n",
       "      <th>domestic_gross</th>\n",
       "      <th>worldwide_gross</th>\n",
       "    </tr>\n",
       "    <tr>\n",
       "      <th>id</th>\n",
       "      <th></th>\n",
       "      <th></th>\n",
       "      <th></th>\n",
       "      <th></th>\n",
       "      <th></th>\n",
       "    </tr>\n",
       "  </thead>\n",
       "  <tbody>\n",
       "    <tr>\n",
       "      <th>95</th>\n",
       "      <td>2020</td>\n",
       "      <td>Moonfall</td>\n",
       "      <td>150000000.0</td>\n",
       "      <td>0.0</td>\n",
       "      <td>0.0</td>\n",
       "    </tr>\n",
       "    <tr>\n",
       "      <th>36</th>\n",
       "      <td>2020</td>\n",
       "      <td>Call of the Wild</td>\n",
       "      <td>82000000.0</td>\n",
       "      <td>0.0</td>\n",
       "      <td>0.0</td>\n",
       "    </tr>\n",
       "    <tr>\n",
       "      <th>6</th>\n",
       "      <td>2020</td>\n",
       "      <td>Hannibal the Conqueror</td>\n",
       "      <td>50000000.0</td>\n",
       "      <td>0.0</td>\n",
       "      <td>0.0</td>\n",
       "    </tr>\n",
       "    <tr>\n",
       "      <th>30</th>\n",
       "      <td>2019</td>\n",
       "      <td>Unhinged</td>\n",
       "      <td>29000000.0</td>\n",
       "      <td>0.0</td>\n",
       "      <td>0.0</td>\n",
       "    </tr>\n",
       "    <tr>\n",
       "      <th>71</th>\n",
       "      <td>2019</td>\n",
       "      <td>PLAYMOBIL</td>\n",
       "      <td>75000000.0</td>\n",
       "      <td>0.0</td>\n",
       "      <td>0.0</td>\n",
       "    </tr>\n",
       "  </tbody>\n",
       "</table>\n",
       "</div>"
      ],
      "text/plain": [
       "    release_date                   movie  production_budget  domestic_gross  \\\n",
       "id                                                                            \n",
       "95          2020                Moonfall        150000000.0             0.0   \n",
       "36          2020        Call of the Wild         82000000.0             0.0   \n",
       "6           2020  Hannibal the Conqueror         50000000.0             0.0   \n",
       "30          2019                Unhinged         29000000.0             0.0   \n",
       "71          2019               PLAYMOBIL         75000000.0             0.0   \n",
       "\n",
       "    worldwide_gross  \n",
       "id                   \n",
       "95              0.0  \n",
       "36              0.0  \n",
       "6               0.0  \n",
       "30              0.0  \n",
       "71              0.0  "
      ]
     },
     "execution_count": 97,
     "metadata": {},
     "output_type": "execute_result"
    }
   ],
   "source": [
    "sorted_df=df.sort_values(by ='release_date', ascending = False)\n",
    "sorted_df.head()"
   ]
  },
  {
   "cell_type": "markdown",
   "metadata": {},
   "source": [
    "Mean of the top 300 grossing movies worldwide"
   ]
  },
  {
   "cell_type": "code",
   "execution_count": 98,
   "metadata": {
    "ExecuteTime": {
     "end_time": "2022-08-17T18:58:09.388881Z",
     "start_time": "2022-08-17T18:58:09.377498Z"
    }
   },
   "outputs": [
    {
     "data": {
      "text/plain": [
       "685175373.19"
      ]
     },
     "execution_count": 98,
     "metadata": {},
     "output_type": "execute_result"
    }
   ],
   "source": [
    "sorted_df.sort_values(by = 'worldwide_gross', ascending=False)['worldwide_gross'][:300].mean()"
   ]
  },
  {
   "cell_type": "markdown",
   "metadata": {},
   "source": [
    "Mean of the top 300 grossing movies production budget."
   ]
  },
  {
   "cell_type": "code",
   "execution_count": 74,
   "metadata": {
    "ExecuteTime": {
     "end_time": "2022-08-17T18:24:13.491943Z",
     "start_time": "2022-08-17T18:24:13.482940Z"
    }
   },
   "outputs": [
    {
     "data": {
      "text/plain": [
       "134329408.73"
      ]
     },
     "execution_count": 74,
     "metadata": {},
     "output_type": "execute_result"
    }
   ],
   "source": [
    "sorted_df.sort_values(by = 'worldwide_gross', ascending=False)['production_budget'][:300].mean()"
   ]
  },
  {
   "cell_type": "markdown",
   "metadata": {},
   "source": [
    "## Visualization "
   ]
  },
  {
   "cell_type": "code",
   "execution_count": 74,
   "metadata": {
    "ExecuteTime": {
     "end_time": "2022-08-16T20:54:25.499474Z",
     "start_time": "2022-08-16T20:54:25.378491Z"
    },
    "scrolled": true
   },
   "outputs": [
    {
     "data": {
      "image/png": "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\n",
      "text/plain": [
       "<Figure size 432x288 with 1 Axes>"
      ]
     },
     "metadata": {
      "needs_background": "light"
     },
     "output_type": "display_data"
    }
   ],
   "source": [
    "df.plot.scatter(x = 'production_budget', y = 'domestic_gross', s = 20);\n"
   ]
  },
  {
   "cell_type": "markdown",
   "metadata": {},
   "source": [
    "Looking at the correlation between budget and gross"
   ]
  },
  {
   "cell_type": "code",
   "execution_count": 99,
   "metadata": {
    "ExecuteTime": {
     "end_time": "2022-08-17T19:02:08.977781Z",
     "start_time": "2022-08-17T19:02:08.959938Z"
    }
   },
   "outputs": [
    {
     "data": {
      "text/plain": [
       "0.7483059765694757"
      ]
     },
     "execution_count": 99,
     "metadata": {},
     "output_type": "execute_result"
    }
   ],
   "source": [
    "np.corrcoef(sorted_df['production_budget'], sorted_df['worldwide_gross'])[0][1]"
   ]
  },
  {
   "cell_type": "markdown",
   "metadata": {},
   "source": [
    "Top 30 years that producted the most movies."
   ]
  },
  {
   "cell_type": "code",
   "execution_count": 100,
   "metadata": {
    "ExecuteTime": {
     "end_time": "2022-08-17T19:02:13.018065Z",
     "start_time": "2022-08-17T19:02:12.741727Z"
    }
   },
   "outputs": [
    {
     "data": {
      "text/plain": [
       "<AxesSubplot:>"
      ]
     },
     "execution_count": 100,
     "metadata": {},
     "output_type": "execute_result"
    },
    {
     "data": {
      "image/png": "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\n",
      "text/plain": [
       "<Figure size 432x288 with 1 Axes>"
      ]
     },
     "metadata": {
      "needs_background": "light"
     },
     "output_type": "display_data"
    }
   ],
   "source": [
    "sorted_df['release_date'].value_counts().sort_index(ascending=False)[:30].plot.bar()"
   ]
  },
  {
   "cell_type": "markdown",
   "metadata": {},
   "source": [
    "Looking at how many movies came per year since 2000"
   ]
  },
  {
   "cell_type": "code",
   "execution_count": 101,
   "metadata": {
    "ExecuteTime": {
     "end_time": "2022-08-17T19:02:18.235804Z",
     "start_time": "2022-08-17T19:02:18.223787Z"
    }
   },
   "outputs": [],
   "source": [
    "sorted_df = sorted_df[sorted_df['release_date'] > 2000]"
   ]
  },
  {
   "cell_type": "code",
   "execution_count": 103,
   "metadata": {
    "ExecuteTime": {
     "end_time": "2022-08-17T19:02:48.321883Z",
     "start_time": "2022-08-17T19:02:48.310881Z"
    }
   },
   "outputs": [
    {
     "data": {
      "text/html": [
       "<div>\n",
       "<style scoped>\n",
       "    .dataframe tbody tr th:only-of-type {\n",
       "        vertical-align: middle;\n",
       "    }\n",
       "\n",
       "    .dataframe tbody tr th {\n",
       "        vertical-align: top;\n",
       "    }\n",
       "\n",
       "    .dataframe thead th {\n",
       "        text-align: right;\n",
       "    }\n",
       "</style>\n",
       "<table border=\"1\" class=\"dataframe\">\n",
       "  <thead>\n",
       "    <tr style=\"text-align: right;\">\n",
       "      <th></th>\n",
       "      <th>release_date</th>\n",
       "      <th>movie</th>\n",
       "      <th>production_budget</th>\n",
       "      <th>domestic_gross</th>\n",
       "      <th>worldwide_gross</th>\n",
       "    </tr>\n",
       "    <tr>\n",
       "      <th>id</th>\n",
       "      <th></th>\n",
       "      <th></th>\n",
       "      <th></th>\n",
       "      <th></th>\n",
       "      <th></th>\n",
       "    </tr>\n",
       "  </thead>\n",
       "  <tbody>\n",
       "    <tr>\n",
       "      <th>1</th>\n",
       "      <td>2009</td>\n",
       "      <td>Avatar</td>\n",
       "      <td>425000000.0</td>\n",
       "      <td>760507625.0</td>\n",
       "      <td>2.776345e+09</td>\n",
       "    </tr>\n",
       "    <tr>\n",
       "      <th>2</th>\n",
       "      <td>2011</td>\n",
       "      <td>Pirates of the Caribbean: On Stranger Tides</td>\n",
       "      <td>410600000.0</td>\n",
       "      <td>241063875.0</td>\n",
       "      <td>1.045664e+09</td>\n",
       "    </tr>\n",
       "    <tr>\n",
       "      <th>3</th>\n",
       "      <td>2019</td>\n",
       "      <td>Dark Phoenix</td>\n",
       "      <td>350000000.0</td>\n",
       "      <td>42762350.0</td>\n",
       "      <td>1.497624e+08</td>\n",
       "    </tr>\n",
       "    <tr>\n",
       "      <th>4</th>\n",
       "      <td>2015</td>\n",
       "      <td>Avengers: Age of Ultron</td>\n",
       "      <td>330600000.0</td>\n",
       "      <td>459005868.0</td>\n",
       "      <td>1.403014e+09</td>\n",
       "    </tr>\n",
       "    <tr>\n",
       "      <th>5</th>\n",
       "      <td>2017</td>\n",
       "      <td>Star Wars Ep. VIII: The Last Jedi</td>\n",
       "      <td>317000000.0</td>\n",
       "      <td>620181382.0</td>\n",
       "      <td>1.316722e+09</td>\n",
       "    </tr>\n",
       "  </tbody>\n",
       "</table>\n",
       "</div>"
      ],
      "text/plain": [
       "    release_date                                        movie  \\\n",
       "id                                                              \n",
       "1           2009                                       Avatar   \n",
       "2           2011  Pirates of the Caribbean: On Stranger Tides   \n",
       "3           2019                                 Dark Phoenix   \n",
       "4           2015                      Avengers: Age of Ultron   \n",
       "5           2017            Star Wars Ep. VIII: The Last Jedi   \n",
       "\n",
       "    production_budget  domestic_gross  worldwide_gross  \n",
       "id                                                      \n",
       "1         425000000.0     760507625.0     2.776345e+09  \n",
       "2         410600000.0     241063875.0     1.045664e+09  \n",
       "3         350000000.0      42762350.0     1.497624e+08  \n",
       "4         330600000.0     459005868.0     1.403014e+09  \n",
       "5         317000000.0     620181382.0     1.316722e+09  "
      ]
     },
     "execution_count": 103,
     "metadata": {},
     "output_type": "execute_result"
    }
   ],
   "source": [
    "sorted_df['release_date'].value_counts()\n",
    "df.head()"
   ]
  },
  {
   "cell_type": "markdown",
   "metadata": {},
   "source": [
    "Taking a look at meadian movie gross "
   ]
  },
  {
   "cell_type": "code",
   "execution_count": 104,
   "metadata": {
    "ExecuteTime": {
     "end_time": "2022-08-17T19:03:06.198736Z",
     "start_time": "2022-08-17T19:03:05.916274Z"
    }
   },
   "outputs": [
    {
     "data": {
      "text/plain": [
       "<AxesSubplot:xlabel='release_date', ylabel='worldwide_gross'>"
      ]
     },
     "execution_count": 104,
     "metadata": {},
     "output_type": "execute_result"
    },
    {
     "data": {
      "image/png": "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\n",
      "text/plain": [
       "<Figure size 432x288 with 1 Axes>"
      ]
     },
     "metadata": {
      "needs_background": "light"
     },
     "output_type": "display_data"
    }
   ],
   "source": [
    "sorted_df.groupby('release_date').mean().reset_index().plot.scatter('release_date', 'worldwide_gross')"
   ]
  }
 ],
 "metadata": {
  "kernelspec": {
   "display_name": "Python 3",
   "language": "python",
   "name": "python3"
  },
  "language_info": {
   "codemirror_mode": {
    "name": "ipython",
    "version": 3
   },
   "file_extension": ".py",
   "mimetype": "text/x-python",
   "name": "python",
   "nbconvert_exporter": "python",
   "pygments_lexer": "ipython3",
   "version": "3.8.5"
  },
  "toc": {
   "base_numbering": 1,
   "nav_menu": {},
   "number_sections": true,
   "sideBar": true,
   "skip_h1_title": false,
   "title_cell": "Table of Contents",
   "title_sidebar": "Contents",
   "toc_cell": false,
   "toc_position": {},
   "toc_section_display": true,
   "toc_window_display": false
  },
  "varInspector": {
   "cols": {
    "lenName": 16,
    "lenType": 16,
    "lenVar": 40
   },
   "kernels_config": {
    "python": {
     "delete_cmd_postfix": "",
     "delete_cmd_prefix": "del ",
     "library": "var_list.py",
     "varRefreshCmd": "print(var_dic_list())"
    },
    "r": {
     "delete_cmd_postfix": ") ",
     "delete_cmd_prefix": "rm(",
     "library": "var_list.r",
     "varRefreshCmd": "cat(var_dic_list()) "
    }
   },
   "types_to_exclude": [
    "module",
    "function",
    "builtin_function_or_method",
    "instance",
    "_Feature"
   ],
   "window_display": false
  }
 },
 "nbformat": 4,
 "nbformat_minor": 2
}
