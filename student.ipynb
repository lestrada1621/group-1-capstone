{
 "cells": [
  {
   "cell_type": "markdown",
   "metadata": {},
   "source": [
    "# Group 1 Capstone Project Work\n",
    "### Make sure to make / checkout your own branch before making changes"
   ]
  },
  {
   "cell_type": "markdown",
   "metadata": {},
   "source": [
    "# Maddie Hince"
   ]
  },
  {
   "cell_type": "code",
   "execution_count": 10,
   "metadata": {
    "ExecuteTime": {
     "end_time": "2022-08-12T20:58:07.753030Z",
     "start_time": "2022-08-12T20:58:07.724033Z"
    }
   },
   "outputs": [
    {
     "ename": "DatabaseError",
     "evalue": "Execution failed on sql '\nSELECT *\nFROM im\n': file is not a database",
     "output_type": "error",
     "traceback": [
      "\u001b[1;31m---------------------------------------------------------------------------\u001b[0m",
      "\u001b[1;31mDatabaseError\u001b[0m                             Traceback (most recent call last)",
      "\u001b[1;32m~\\Anaconda3\\envs\\learn-env\\lib\\site-packages\\pandas\\io\\sql.py\u001b[0m in \u001b[0;36mexecute\u001b[1;34m(self, *args, **kwargs)\u001b[0m\n\u001b[0;32m   1680\u001b[0m         \u001b[1;32mtry\u001b[0m\u001b[1;33m:\u001b[0m\u001b[1;33m\u001b[0m\u001b[1;33m\u001b[0m\u001b[0m\n\u001b[1;32m-> 1681\u001b[1;33m             \u001b[0mcur\u001b[0m\u001b[1;33m.\u001b[0m\u001b[0mexecute\u001b[0m\u001b[1;33m(\u001b[0m\u001b[1;33m*\u001b[0m\u001b[0margs\u001b[0m\u001b[1;33m,\u001b[0m \u001b[1;33m**\u001b[0m\u001b[0mkwargs\u001b[0m\u001b[1;33m)\u001b[0m\u001b[1;33m\u001b[0m\u001b[1;33m\u001b[0m\u001b[0m\n\u001b[0m\u001b[0;32m   1682\u001b[0m             \u001b[1;32mreturn\u001b[0m \u001b[0mcur\u001b[0m\u001b[1;33m\u001b[0m\u001b[1;33m\u001b[0m\u001b[0m\n",
      "\u001b[1;31mDatabaseError\u001b[0m: file is not a database",
      "\nThe above exception was the direct cause of the following exception:\n",
      "\u001b[1;31mDatabaseError\u001b[0m                             Traceback (most recent call last)",
      "\u001b[1;32m<ipython-input-10-aab0b0d462c6>\u001b[0m in \u001b[0;36m<module>\u001b[1;34m\u001b[0m\n\u001b[0;32m      6\u001b[0m \u001b[1;33m\u001b[0m\u001b[0m\n\u001b[0;32m      7\u001b[0m \u001b[0mconn\u001b[0m \u001b[1;33m=\u001b[0m \u001b[0msqlite3\u001b[0m\u001b[1;33m.\u001b[0m\u001b[0mconnect\u001b[0m\u001b[1;33m(\u001b[0m\u001b[1;34m'zippedData/im.db.zip'\u001b[0m\u001b[1;33m)\u001b[0m\u001b[1;33m\u001b[0m\u001b[1;33m\u001b[0m\u001b[0m\n\u001b[1;32m----> 8\u001b[1;33m pd.read_sql('''\n\u001b[0m\u001b[0;32m      9\u001b[0m \u001b[0mSELECT\u001b[0m \u001b[1;33m*\u001b[0m\u001b[1;33m\u001b[0m\u001b[1;33m\u001b[0m\u001b[0m\n\u001b[0;32m     10\u001b[0m \u001b[0mFROM\u001b[0m \u001b[0mim\u001b[0m\u001b[1;33m\u001b[0m\u001b[1;33m\u001b[0m\u001b[0m\n",
      "\u001b[1;32m~\\Anaconda3\\envs\\learn-env\\lib\\site-packages\\pandas\\io\\sql.py\u001b[0m in \u001b[0;36mread_sql\u001b[1;34m(sql, con, index_col, coerce_float, params, parse_dates, columns, chunksize)\u001b[0m\n\u001b[0;32m    481\u001b[0m \u001b[1;33m\u001b[0m\u001b[0m\n\u001b[0;32m    482\u001b[0m     \u001b[1;32mif\u001b[0m \u001b[0misinstance\u001b[0m\u001b[1;33m(\u001b[0m\u001b[0mpandas_sql\u001b[0m\u001b[1;33m,\u001b[0m \u001b[0mSQLiteDatabase\u001b[0m\u001b[1;33m)\u001b[0m\u001b[1;33m:\u001b[0m\u001b[1;33m\u001b[0m\u001b[1;33m\u001b[0m\u001b[0m\n\u001b[1;32m--> 483\u001b[1;33m         return pandas_sql.read_query(\n\u001b[0m\u001b[0;32m    484\u001b[0m             \u001b[0msql\u001b[0m\u001b[1;33m,\u001b[0m\u001b[1;33m\u001b[0m\u001b[1;33m\u001b[0m\u001b[0m\n\u001b[0;32m    485\u001b[0m             \u001b[0mindex_col\u001b[0m\u001b[1;33m=\u001b[0m\u001b[0mindex_col\u001b[0m\u001b[1;33m,\u001b[0m\u001b[1;33m\u001b[0m\u001b[1;33m\u001b[0m\u001b[0m\n",
      "\u001b[1;32m~\\Anaconda3\\envs\\learn-env\\lib\\site-packages\\pandas\\io\\sql.py\u001b[0m in \u001b[0;36mread_query\u001b[1;34m(self, sql, index_col, coerce_float, params, parse_dates, chunksize)\u001b[0m\n\u001b[0;32m   1725\u001b[0m \u001b[1;33m\u001b[0m\u001b[0m\n\u001b[0;32m   1726\u001b[0m         \u001b[0margs\u001b[0m \u001b[1;33m=\u001b[0m \u001b[0m_convert_params\u001b[0m\u001b[1;33m(\u001b[0m\u001b[0msql\u001b[0m\u001b[1;33m,\u001b[0m \u001b[0mparams\u001b[0m\u001b[1;33m)\u001b[0m\u001b[1;33m\u001b[0m\u001b[1;33m\u001b[0m\u001b[0m\n\u001b[1;32m-> 1727\u001b[1;33m         \u001b[0mcursor\u001b[0m \u001b[1;33m=\u001b[0m \u001b[0mself\u001b[0m\u001b[1;33m.\u001b[0m\u001b[0mexecute\u001b[0m\u001b[1;33m(\u001b[0m\u001b[1;33m*\u001b[0m\u001b[0margs\u001b[0m\u001b[1;33m)\u001b[0m\u001b[1;33m\u001b[0m\u001b[1;33m\u001b[0m\u001b[0m\n\u001b[0m\u001b[0;32m   1728\u001b[0m         \u001b[0mcolumns\u001b[0m \u001b[1;33m=\u001b[0m \u001b[1;33m[\u001b[0m\u001b[0mcol_desc\u001b[0m\u001b[1;33m[\u001b[0m\u001b[1;36m0\u001b[0m\u001b[1;33m]\u001b[0m \u001b[1;32mfor\u001b[0m \u001b[0mcol_desc\u001b[0m \u001b[1;32min\u001b[0m \u001b[0mcursor\u001b[0m\u001b[1;33m.\u001b[0m\u001b[0mdescription\u001b[0m\u001b[1;33m]\u001b[0m\u001b[1;33m\u001b[0m\u001b[1;33m\u001b[0m\u001b[0m\n\u001b[0;32m   1729\u001b[0m \u001b[1;33m\u001b[0m\u001b[0m\n",
      "\u001b[1;32m~\\Anaconda3\\envs\\learn-env\\lib\\site-packages\\pandas\\io\\sql.py\u001b[0m in \u001b[0;36mexecute\u001b[1;34m(self, *args, **kwargs)\u001b[0m\n\u001b[0;32m   1691\u001b[0m \u001b[1;33m\u001b[0m\u001b[0m\n\u001b[0;32m   1692\u001b[0m             \u001b[0mex\u001b[0m \u001b[1;33m=\u001b[0m \u001b[0mDatabaseError\u001b[0m\u001b[1;33m(\u001b[0m\u001b[1;34mf\"Execution failed on sql '{args[0]}': {exc}\"\u001b[0m\u001b[1;33m)\u001b[0m\u001b[1;33m\u001b[0m\u001b[1;33m\u001b[0m\u001b[0m\n\u001b[1;32m-> 1693\u001b[1;33m             \u001b[1;32mraise\u001b[0m \u001b[0mex\u001b[0m \u001b[1;32mfrom\u001b[0m \u001b[0mexc\u001b[0m\u001b[1;33m\u001b[0m\u001b[1;33m\u001b[0m\u001b[0m\n\u001b[0m\u001b[0;32m   1694\u001b[0m \u001b[1;33m\u001b[0m\u001b[0m\n\u001b[0;32m   1695\u001b[0m     \u001b[1;33m@\u001b[0m\u001b[0mstaticmethod\u001b[0m\u001b[1;33m\u001b[0m\u001b[1;33m\u001b[0m\u001b[0m\n",
      "\u001b[1;31mDatabaseError\u001b[0m: Execution failed on sql '\nSELECT *\nFROM im\n': file is not a database"
     ]
    }
   ],
   "source": [
    "import pandas as pd\n",
    "import sqlite3\n",
    "\n",
    "df = pd.read_csv('zippedData/bom.movie_gross.csv.gz')\n",
    "df.head()\n",
    "\n",
    "\n",
    "conn = sqlite3.connect('zippedData/im.db.zip')\n",
    "pd.read_sql(\"\"\"SELECT *\"\"\")"
   ]
  },
  {
   "cell_type": "markdown",
   "metadata": {},
   "source": [
    "# Cat Murad"
   ]
  },
  {
   "cell_type": "code",
   "execution_count": null,
   "metadata": {},
   "outputs": [],
   "source": []
  },
  {
   "cell_type": "markdown",
   "metadata": {},
   "source": [
    "# Elijah Soba\n",
    "\n",
    "Working on: Gross dataset and Movie Budgets dataset"
   ]
  },
  {
   "cell_type": "code",
   "execution_count": 82,
   "metadata": {},
   "outputs": [],
   "source": [
    "# Import statements\n",
    "import sqlite3 \n",
    "import pandas as pd\n",
    "import numpy as np\n",
    "import matplotlib.pyplot as plt\n",
    "import seaborn as sns\n",
    "import os\n",
    "import datetime"
   ]
  },
  {
   "cell_type": "markdown",
   "metadata": {},
   "source": [
    "# Gross Dataset"
   ]
  },
  {
   "cell_type": "code",
   "execution_count": 83,
   "metadata": {},
   "outputs": [],
   "source": [
    "# Define filepath & read in the data \n",
    "filepath = 'zippedData/bom.movie_gross.csv.gz'\n",
    "movie_gross_df = pd.read_csv(filepath)"
   ]
  },
  {
   "cell_type": "code",
   "execution_count": 84,
   "metadata": {},
   "outputs": [
    {
     "data": {
      "text/html": [
       "<div>\n",
       "<style scoped>\n",
       "    .dataframe tbody tr th:only-of-type {\n",
       "        vertical-align: middle;\n",
       "    }\n",
       "\n",
       "    .dataframe tbody tr th {\n",
       "        vertical-align: top;\n",
       "    }\n",
       "\n",
       "    .dataframe thead th {\n",
       "        text-align: right;\n",
       "    }\n",
       "</style>\n",
       "<table border=\"1\" class=\"dataframe\">\n",
       "  <thead>\n",
       "    <tr style=\"text-align: right;\">\n",
       "      <th></th>\n",
       "      <th>title</th>\n",
       "      <th>studio</th>\n",
       "      <th>domestic_gross</th>\n",
       "      <th>foreign_gross</th>\n",
       "      <th>year</th>\n",
       "    </tr>\n",
       "  </thead>\n",
       "  <tbody>\n",
       "    <tr>\n",
       "      <th>0</th>\n",
       "      <td>Toy Story 3</td>\n",
       "      <td>BV</td>\n",
       "      <td>415000000.0</td>\n",
       "      <td>652000000</td>\n",
       "      <td>2010</td>\n",
       "    </tr>\n",
       "    <tr>\n",
       "      <th>1</th>\n",
       "      <td>Alice in Wonderland (2010)</td>\n",
       "      <td>BV</td>\n",
       "      <td>334200000.0</td>\n",
       "      <td>691300000</td>\n",
       "      <td>2010</td>\n",
       "    </tr>\n",
       "    <tr>\n",
       "      <th>2</th>\n",
       "      <td>Harry Potter and the Deathly Hallows Part 1</td>\n",
       "      <td>WB</td>\n",
       "      <td>296000000.0</td>\n",
       "      <td>664300000</td>\n",
       "      <td>2010</td>\n",
       "    </tr>\n",
       "    <tr>\n",
       "      <th>3</th>\n",
       "      <td>Inception</td>\n",
       "      <td>WB</td>\n",
       "      <td>292600000.0</td>\n",
       "      <td>535700000</td>\n",
       "      <td>2010</td>\n",
       "    </tr>\n",
       "    <tr>\n",
       "      <th>4</th>\n",
       "      <td>Shrek Forever After</td>\n",
       "      <td>P/DW</td>\n",
       "      <td>238700000.0</td>\n",
       "      <td>513900000</td>\n",
       "      <td>2010</td>\n",
       "    </tr>\n",
       "  </tbody>\n",
       "</table>\n",
       "</div>"
      ],
      "text/plain": [
       "                                         title studio  domestic_gross  \\\n",
       "0                                  Toy Story 3     BV     415000000.0   \n",
       "1                   Alice in Wonderland (2010)     BV     334200000.0   \n",
       "2  Harry Potter and the Deathly Hallows Part 1     WB     296000000.0   \n",
       "3                                    Inception     WB     292600000.0   \n",
       "4                          Shrek Forever After   P/DW     238700000.0   \n",
       "\n",
       "  foreign_gross  year  \n",
       "0     652000000  2010  \n",
       "1     691300000  2010  \n",
       "2     664300000  2010  \n",
       "3     535700000  2010  \n",
       "4     513900000  2010  "
      ]
     },
     "execution_count": 84,
     "metadata": {},
     "output_type": "execute_result"
    }
   ],
   "source": [
    "# Take a prelimary look at the data\n",
    "movie_gross_df.head()"
   ]
  },
  {
   "cell_type": "code",
   "execution_count": 85,
   "metadata": {},
   "outputs": [
    {
     "name": "stdout",
     "output_type": "stream",
     "text": [
      "<class 'pandas.core.frame.DataFrame'>\n",
      "RangeIndex: 3387 entries, 0 to 3386\n",
      "Data columns (total 5 columns):\n",
      " #   Column          Non-Null Count  Dtype  \n",
      "---  ------          --------------  -----  \n",
      " 0   title           3387 non-null   object \n",
      " 1   studio          3382 non-null   object \n",
      " 2   domestic_gross  3359 non-null   float64\n",
      " 3   foreign_gross   2037 non-null   object \n",
      " 4   year            3387 non-null   int64  \n",
      "dtypes: float64(1), int64(1), object(3)\n",
      "memory usage: 132.4+ KB\n"
     ]
    }
   ],
   "source": [
    "# Take a look at the data frame information\n",
    "movie_gross_df.info()"
   ]
  },
  {
   "cell_type": "markdown",
   "metadata": {},
   "source": [
    "From looking at the information we can see immediately that there are a couple things wrong with the data:\n",
    "- There are missing values in studio, domestic gross, and foreign gross\n",
    "- Foreign gross is represented as an object instead of a float\n",
    "- Year is represented as an integer, but it is probably better to have it as a datetime object"
   ]
  },
  {
   "cell_type": "markdown",
   "metadata": {},
   "source": [
    "## Cleaning Step 1: Change Dtypes\n",
    "\n",
    "We want to be sure that all of the dtypes that we are working with are acurately represented by the correct python type that we expect. Looking at the data frame information, we see that `foreign_gross` is represented as an `object` when we would expect to see it as a `float`. In addition, year is represented as an `int` when we would expect it to be a `datetime` object. We can use Pandas to change this data to meet our data type expectations"
   ]
  },
  {
   "cell_type": "code",
   "execution_count": 86,
   "metadata": {},
   "outputs": [],
   "source": [
    "# Lets recast foregin_gross as a float \n",
    "str_to_float = lambda x: float(str(x).replace(',', ''))\n",
    "movie_gross_df['foreign_gross'] = movie_gross_df['foreign_gross'].map(str_to_float)"
   ]
  },
  {
   "cell_type": "code",
   "execution_count": 87,
   "metadata": {},
   "outputs": [],
   "source": [
    "# Lets test to see if the data type actually changed \n",
    "assert movie_gross_df['foreign_gross'].dtype  == np.float64"
   ]
  },
  {
   "cell_type": "code",
   "execution_count": 88,
   "metadata": {},
   "outputs": [],
   "source": [
    "# Lets recast year as a datetime object \n",
    "movie_gross_df['year'] = pd.to_datetime(movie_gross_df['year'], format='%Y')"
   ]
  },
  {
   "cell_type": "code",
   "execution_count": 89,
   "metadata": {},
   "outputs": [],
   "source": [
    "# Lets test to see if this worked\n",
    "assert movie_gross_df['year'].dtype != np.int64"
   ]
  },
  {
   "cell_type": "markdown",
   "metadata": {},
   "source": [
    "## Cleaning Step 2: Handle Missing Data\n",
    "\n",
    "First, we look at the `studio` column because that is the column with the least amount of missing data. In addition, it is the easiest to deal with because missing values can be replaced with 'IND' standing for independent film \n",
    "\n",
    "Next, we look at the `domestic_gross` column which is one of the primary sources of data in this table. We check to see what percentage of the data is corrupted, and if it is small we will simply delete those rows. If it is not, we will explore data imputation techniques\n",
    "\n",
    "Finally, we look at the `foreign_gross` column and perform the same analysis as the `domestic_gross`. Seeing that it is a big chunk of the data, we will most likely have to impute. Imputation can be done by looking at a summary statistic of the percent change between `foreign_gross` and `domestic_gross` and using that to make up a value for `foreign gross` as a function of `domestic_gross`. \n"
   ]
  },
  {
   "cell_type": "code",
   "execution_count": 90,
   "metadata": {},
   "outputs": [],
   "source": [
    "# Lets replace missing studios with 'IND' representing independent\n",
    "movie_gross_df['studio'] = movie_gross_df['studio'].fillna('IND')"
   ]
  },
  {
   "cell_type": "code",
   "execution_count": 91,
   "metadata": {},
   "outputs": [],
   "source": [
    "# Test to see if there are any missing values in the studio column\n",
    "assert movie_gross_df['studio'].isna().sum() == 0"
   ]
  },
  {
   "cell_type": "code",
   "execution_count": 92,
   "metadata": {},
   "outputs": [
    {
     "name": "stdout",
     "output_type": "stream",
     "text": [
      "Missing domestic gross data represents 0.8266902863891349% of the data\n"
     ]
    }
   ],
   "source": [
    "# Lets see what percentage of the domestic gross data is missing \n",
    "pct_missing_dom = movie_gross_df.domestic_gross.isna().sum()/len(movie_gross_df.title)\n",
    "print(f'Missing domestic gross data represents {pct_missing_dom*100}% of the data')"
   ]
  },
  {
   "cell_type": "code",
   "execution_count": 93,
   "metadata": {},
   "outputs": [],
   "source": [
    "# The missing data is a very small fraction, so lets delete those rows\n",
    "movie_gross_df = movie_gross_df.dropna(axis=0, subset=['domestic_gross'])"
   ]
  },
  {
   "cell_type": "code",
   "execution_count": 94,
   "metadata": {},
   "outputs": [],
   "source": [
    "# Test to see whether that deletion worked\n",
    "assert movie_gross_df['domestic_gross'].isna().sum() == 0"
   ]
  },
  {
   "cell_type": "code",
   "execution_count": 95,
   "metadata": {},
   "outputs": [
    {
     "name": "stdout",
     "output_type": "stream",
     "text": [
      "Missing domestic gross data represents 40.190532896695444% of the data\n"
     ]
    }
   ],
   "source": [
    "# Lets see what percentage of the foreign gross data is missing \n",
    "pct_missing_dom = movie_gross_df.foreign_gross.isna().sum()/len(movie_gross_df.title)\n",
    "print(f'Missing domestic gross data represents {pct_missing_dom*100}% of the data')"
   ]
  },
  {
   "cell_type": "code",
   "execution_count": 96,
   "metadata": {},
   "outputs": [
    {
     "name": "stdout",
     "output_type": "stream",
     "text": [
      "0.6315266036797613\n"
     ]
    }
   ],
   "source": [
    "# That is too much, so lets find the median pct change between domestic and foreign films\n",
    "med_pct_change = ((movie_gross_df['foreign_gross'] - movie_gross_df['domestic_gross'])/movie_gross_df['domestic_gross']).median()\n",
    "print(med_pct_change)"
   ]
  },
  {
   "cell_type": "code",
   "execution_count": 97,
   "metadata": {},
   "outputs": [],
   "source": [
    "# Now that we have the median % change, lets impute the missing foreign values \n",
    "impute_change = movie_gross_df['domestic_gross'] + (movie_gross_df['domestic_gross'] * med_pct_change)\n",
    "movie_gross_df['foreign_gross'] = movie_gross_df['foreign_gross'].fillna(impute_change)"
   ]
  },
  {
   "cell_type": "code",
   "execution_count": 98,
   "metadata": {},
   "outputs": [],
   "source": [
    "# Test that we now have no more NaN values in the data \n",
    "assert movie_gross_df['foreign_gross'].isna().sum() == 0"
   ]
  },
  {
   "cell_type": "code",
   "execution_count": 99,
   "metadata": {},
   "outputs": [],
   "source": [
    "# Finally, test to see if there are any missing values anywhere in the data \n",
    "assert movie_gross_df.isna().sum().sum() == 0"
   ]
  },
  {
   "cell_type": "markdown",
   "metadata": {},
   "source": [
    "## Data Exploration: \n",
    "\n",
    "Now that we do not have any more missing values, we can begin data exploration. Because we want to see what contributes to a successful movie, we can look at how gross changes depending on different factors such as year and studio. In addition, we can explore the relationships within and between these variables to see if any meaningful conclusions can be drawn."
   ]
  },
  {
   "cell_type": "markdown",
   "metadata": {},
   "source": [
    "## Step 1: Explore Values in the Gross Columns"
   ]
  },
  {
   "cell_type": "code",
   "execution_count": 100,
   "metadata": {},
   "outputs": [],
   "source": [
    "# Lets feature engineer a new feature that can be useful to our understanding of gross as a whole\n",
    "movie_gross_df['total_gross'] = movie_gross_df['foreign_gross'] + movie_gross_df['domestic_gross']"
   ]
  },
  {
   "cell_type": "code",
   "execution_count": 101,
   "metadata": {},
   "outputs": [],
   "source": [
    "# Test to see whether that column was successfully created \n",
    "assert 'total_gross' in movie_gross_df.columns"
   ]
  },
  {
   "cell_type": "code",
   "execution_count": 102,
   "metadata": {},
   "outputs": [
    {
     "data": {
      "text/plain": [
       "1476    2.631527e+02\n",
       "2757    7.894580e+02\n",
       "2756    7.894580e+02\n",
       "2321    7.894580e+02\n",
       "3078    1.052611e+03\n",
       "            ...     \n",
       "2758    1.332600e+09\n",
       "328     1.341500e+09\n",
       "3080    1.347000e+09\n",
       "1875    1.405400e+09\n",
       "727     1.518900e+09\n",
       "Name: total_gross, Length: 3359, dtype: float64"
      ]
     },
     "execution_count": 102,
     "metadata": {},
     "output_type": "execute_result"
    }
   ],
   "source": [
    "# Lets take a look at that newly created column \n",
    "movie_gross_df['total_gross'].sort_values()"
   ]
  },
  {
   "cell_type": "code",
   "execution_count": 103,
   "metadata": {},
   "outputs": [],
   "source": [
    "# Lets normalize the data to millions to make numbers more manageable\n",
    "movie_gross_df['total_gross'] = movie_gross_df['total_gross']/1000000\n",
    "movie_gross_df['domestic_gross'] = movie_gross_df['domestic_gross']/1000000\n",
    "movie_gross_df['foreign_gross'] = movie_gross_df['foreign_gross']/1000000"
   ]
  },
  {
   "cell_type": "code",
   "execution_count": 104,
   "metadata": {},
   "outputs": [
    {
     "data": {
      "text/plain": [
       "1476       0.000263\n",
       "2757       0.000789\n",
       "2756       0.000789\n",
       "2321       0.000789\n",
       "3078       0.001053\n",
       "           ...     \n",
       "2758    1332.600000\n",
       "328     1341.500000\n",
       "3080    1347.000000\n",
       "1875    1405.400000\n",
       "727     1518.900000\n",
       "Name: total_gross, Length: 3359, dtype: float64"
      ]
     },
     "execution_count": 104,
     "metadata": {},
     "output_type": "execute_result"
    }
   ],
   "source": [
    "# Lets take another look \n",
    "movie_gross_df['total_gross'].sort_values()"
   ]
  },
  {
   "cell_type": "code",
   "execution_count": 105,
   "metadata": {},
   "outputs": [
    {
     "data": {
      "text/plain": [
       "title             Marvel's The Avengers\n",
       "studio                               BV\n",
       "domestic_gross                    623.4\n",
       "foreign_gross                     895.5\n",
       "year                2012-01-01 00:00:00\n",
       "total_gross                      1518.9\n",
       "Name: 727, dtype: object"
      ]
     },
     "execution_count": 105,
     "metadata": {},
     "output_type": "execute_result"
    }
   ],
   "source": [
    "# Lets see what movie grossed the most \n",
    "movie_gross_df.loc[movie_gross_df['total_gross'].idxmax(), :]"
   ]
  },
  {
   "cell_type": "code",
   "execution_count": 106,
   "metadata": {},
   "outputs": [
    {
     "data": {
      "text/plain": [
       "title             Star Wars: The Force Awakens\n",
       "studio                                      BV\n",
       "domestic_gross                           936.7\n",
       "foreign_gross                        0.0011316\n",
       "year                       2015-01-01 00:00:00\n",
       "total_gross                            936.701\n",
       "Name: 1872, dtype: object"
      ]
     },
     "execution_count": 106,
     "metadata": {},
     "output_type": "execute_result"
    }
   ],
   "source": [
    "# Lets see what film did the best in terms of domestic gross \n",
    "movie_gross_df.loc[movie_gross_df['domestic_gross'].idxmax(), :]"
   ]
  },
  {
   "cell_type": "code",
   "execution_count": 107,
   "metadata": {},
   "outputs": [
    {
     "data": {
      "text/plain": [
       "title             Harry Potter and the Deathly Hallows Part 2\n",
       "studio                                                     WB\n",
       "domestic_gross                                            381\n",
       "foreign_gross                                           960.5\n",
       "year                                      2011-01-01 00:00:00\n",
       "total_gross                                            1341.5\n",
       "Name: 328, dtype: object"
      ]
     },
     "execution_count": 107,
     "metadata": {},
     "output_type": "execute_result"
    }
   ],
   "source": [
    "# Lets see what film did the best in terms of foreign gross \n",
    "movie_gross_df.loc[movie_gross_df['foreign_gross'].idxmax(), :]"
   ]
  },
  {
   "cell_type": "code",
   "execution_count": 108,
   "metadata": {},
   "outputs": [
    {
     "data": {
      "text/plain": [
       "<AxesSubplot:ylabel='Frequency'>"
      ]
     },
     "execution_count": 108,
     "metadata": {},
     "output_type": "execute_result"
    },
    {
     "data": {
      "image/png": "[encoded data removed]",
      "text/plain": [
       "<Figure size 432x288 with 1 Axes>"
      ]
     },
     "metadata": {
      "needs_background": "light"
     },
     "output_type": "display_data"
    }
   ],
   "source": [
    "# Lets visualize the distribution of total gross data \n",
    "movie_gross_df['total_gross'].plot.hist()"
   ]
  },
  {
   "cell_type": "code",
   "execution_count": 109,
   "metadata": {},
   "outputs": [
    {
     "data": {
      "text/plain": [
       "<AxesSubplot:xlabel='domestic_gross', ylabel='foreign_gross'>"
      ]
     },
     "execution_count": 109,
     "metadata": {},
     "output_type": "execute_result"
    },
    {
     "data": {
      "image/png": "[encoded data removed]",
      "text/plain": [
       "<Figure size 432x288 with 1 Axes>"
      ]
     },
     "metadata": {
      "needs_background": "light"
     },
     "output_type": "display_data"
    }
   ],
   "source": [
    "# Lets visually see the correlation between domestic and foreign gross\n",
    "movie_gross_df.plot.scatter('domestic_gross', 'foreign_gross')"
   ]
  },
  {
   "cell_type": "markdown",
   "metadata": {},
   "source": [
    "By looking at the scatter plot, we can notice two main things. \n",
    "- There is a positive correlation between domestic gross and foreign gross which is expected \n",
    "- There are a lot of data points that seemingly have 0 domestic gross and non-zero foreign gross (and vice versa)"
   ]
  },
  {
   "cell_type": "code",
   "execution_count": 110,
   "metadata": {},
   "outputs": [],
   "source": [
    "# Lets quickly verify that there are no films with 0 domestic gross \n",
    "assert movie_gross_df[movie_gross_df['domestic_gross'] == 0.0].sum()[0] == 0"
   ]
  },
  {
   "cell_type": "code",
   "execution_count": 111,
   "metadata": {},
   "outputs": [],
   "source": [
    "# Lets quickly verify that there are no films with 0 domestic gross \n",
    "assert movie_gross_df[movie_gross_df['foreign_gross'] == 0.0].sum()[0] == 0"
   ]
  },
  {
   "cell_type": "markdown",
   "metadata": {},
   "source": [
    "## Step 2: Looking at the Gross Data over time"
   ]
  },
  {
   "cell_type": "code",
   "execution_count": 112,
   "metadata": {},
   "outputs": [
    {
     "data": {
      "text/plain": [
       "2015-01-01    449\n",
       "2016-01-01    433\n",
       "2011-01-01    397\n",
       "2012-01-01    393\n",
       "2014-01-01    391\n",
       "2013-01-01    345\n",
       "2010-01-01    323\n",
       "2017-01-01    320\n",
       "2018-01-01    308\n",
       "Name: year, dtype: int64"
      ]
     },
     "execution_count": 112,
     "metadata": {},
     "output_type": "execute_result"
    }
   ],
   "source": [
    "# Lets see which years are represented in the data\n",
    "movie_gross_df['year'].value_counts()"
   ]
  },
  {
   "cell_type": "code",
   "execution_count": 113,
   "metadata": {},
   "outputs": [
    {
     "data": {
      "text/plain": [
       "<AxesSubplot:xlabel='year', ylabel='domestic_gross'>"
      ]
     },
     "execution_count": 113,
     "metadata": {},
     "output_type": "execute_result"
    },
    {
     "data": {
      "image/png": "[encoded data removed]",
      "text/plain": [
       "<Figure size 432x288 with 1 Axes>"
      ]
     },
     "metadata": {
      "needs_background": "light"
     },
     "output_type": "display_data"
    }
   ],
   "source": [
    "# Lets see how the average domestic gross varied over the years \n",
    "movie_gross_df.groupby('year').mean().reset_index().plot.scatter('year', 'domestic_gross')"
   ]
  },
  {
   "cell_type": "code",
   "execution_count": 114,
   "metadata": {},
   "outputs": [
    {
     "data": {
      "text/plain": [
       "<AxesSubplot:xlabel='year', ylabel='foreign_gross'>"
      ]
     },
     "execution_count": 114,
     "metadata": {},
     "output_type": "execute_result"
    },
    {
     "data": {
      "image/png": "[encoded data removed]",
      "text/plain": [
       "<Figure size 432x288 with 1 Axes>"
      ]
     },
     "metadata": {
      "needs_background": "light"
     },
     "output_type": "display_data"
    }
   ],
   "source": [
    "# Lets see how the average foreign gross varied over the years \n",
    "movie_gross_df.groupby('year').mean().reset_index().plot.scatter('year', 'foreign_gross')"
   ]
  },
  {
   "cell_type": "code",
   "execution_count": 115,
   "metadata": {},
   "outputs": [
    {
     "data": {
      "text/plain": [
       "<AxesSubplot:xlabel='year', ylabel='total_gross'>"
      ]
     },
     "execution_count": 115,
     "metadata": {},
     "output_type": "execute_result"
    },
    {
     "data": {
      "image/png": "[encoded data removed]",
      "text/plain": [
       "<Figure size 432x288 with 1 Axes>"
      ]
     },
     "metadata": {
      "needs_background": "light"
     },
     "output_type": "display_data"
    }
   ],
   "source": [
    "# Lets see how the average total gross varied over the years \n",
    "movie_gross_df.groupby('year').mean().reset_index().plot.scatter('year', 'total_gross')"
   ]
  },
  {
   "cell_type": "markdown",
   "metadata": {},
   "source": [
    "## Step 3: How Well Did Specific Studios Do?"
   ]
  },
  {
   "cell_type": "code",
   "execution_count": 116,
   "metadata": {},
   "outputs": [
    {
     "data": {
      "text/plain": [
       "IFC      166\n",
       "Uni.     147\n",
       "WB       140\n",
       "Magn.    136\n",
       "Fox      136\n",
       "        ... \n",
       "DR         1\n",
       "BSC        1\n",
       "CLF        1\n",
       "NAV        1\n",
       "Asp.       1\n",
       "Name: studio, Length: 256, dtype: int64"
      ]
     },
     "execution_count": 116,
     "metadata": {},
     "output_type": "execute_result"
    }
   ],
   "source": [
    "# Lets inspect all of the studios to see if there is any duplicates w/misspellings\n",
    "movie_gross_df['studio'].value_counts().sort_values(ascending=False)"
   ]
  },
  {
   "cell_type": "code",
   "execution_count": 117,
   "metadata": {},
   "outputs": [
    {
     "data": {
      "text/plain": [
       "<AxesSubplot:xlabel='studio'>"
      ]
     },
     "execution_count": 117,
     "metadata": {},
     "output_type": "execute_result"
    },
    {
     "data": {
      "image/png": "[encoded data removed]",
      "text/plain": [
       "<Figure size 432x288 with 1 Axes>"
      ]
     },
     "metadata": {
      "needs_background": "light"
     },
     "output_type": "display_data"
    }
   ],
   "source": [
    "# Lets see how the top 10 most producing studios did in terms of average total gross\n",
    "top10_prod = list(movie_gross_df['studio'].value_counts().sort_values(ascending=False)[:10].index)\n",
    "movie_gross_df.groupby('studio').mean()['total_gross'].loc[top10_prod].plot.bar()"
   ]
  },
  {
   "cell_type": "code",
   "execution_count": 118,
   "metadata": {},
   "outputs": [
    {
     "data": {
      "text/plain": [
       "<AxesSubplot:xlabel='studio'>"
      ]
     },
     "execution_count": 118,
     "metadata": {},
     "output_type": "execute_result"
    },
    {
     "data": {
      "image/png": "[encoded data removed]",
      "text/plain": [
       "<Figure size 432x288 with 1 Axes>"
      ]
     },
     "metadata": {
      "needs_background": "light"
     },
     "output_type": "display_data"
    }
   ],
   "source": [
    "# Instead, lets use the top 10 highest earners\n",
    "movie_gross_df.groupby('studio').mean()['total_gross'].sort_values(ascending=False)[:10].plot.bar()"
   ]
  },
  {
   "cell_type": "code",
   "execution_count": 122,
   "metadata": {},
   "outputs": [
    {
     "data": {
      "text/plain": [
       "studio\n",
       "3D       False\n",
       "A23      False\n",
       "A24       True\n",
       "ADC      False\n",
       "AF        True\n",
       "         ...  \n",
       "XL       False\n",
       "YFG      False\n",
       "Yash      True\n",
       "Zee      False\n",
       "Zeit.     True\n",
       "Name: title, Length: 256, dtype: bool"
      ]
     },
     "execution_count": 122,
     "metadata": {},
     "output_type": "execute_result"
    }
   ],
   "source": [
    "movie_gross_df.groupby('studio').count()['title'] > 5"
   ]
  },
  {
   "cell_type": "markdown",
   "metadata": {},
   "source": [
    "# Budget Dataset"
   ]
  },
  {
   "cell_type": "code",
   "execution_count": 125,
   "metadata": {},
   "outputs": [],
   "source": [
    "# Load in the data into pandas\n",
    "filepath = 'zippedData/tn.movie_budgets.csv.gz'\n",
    "budget_df = pd.read_csv(filepath)"
   ]
  },
  {
   "cell_type": "code",
   "execution_count": 126,
   "metadata": {},
   "outputs": [
    {
     "data": {
      "text/html": [
       "<div>\n",
       "<style scoped>\n",
       "    .dataframe tbody tr th:only-of-type {\n",
       "        vertical-align: middle;\n",
       "    }\n",
       "\n",
       "    .dataframe tbody tr th {\n",
       "        vertical-align: top;\n",
       "    }\n",
       "\n",
       "    .dataframe thead th {\n",
       "        text-align: right;\n",
       "    }\n",
       "</style>\n",
       "<table border=\"1\" class=\"dataframe\">\n",
       "  <thead>\n",
       "    <tr style=\"text-align: right;\">\n",
       "      <th></th>\n",
       "      <th>id</th>\n",
       "      <th>release_date</th>\n",
       "      <th>movie</th>\n",
       "      <th>production_budget</th>\n",
       "      <th>domestic_gross</th>\n",
       "      <th>worldwide_gross</th>\n",
       "    </tr>\n",
       "  </thead>\n",
       "  <tbody>\n",
       "    <tr>\n",
       "      <th>0</th>\n",
       "      <td>1</td>\n",
       "      <td>Dec 18, 2009</td>\n",
       "      <td>Avatar</td>\n",
       "      <td>$425,000,000</td>\n",
       "      <td>$760,507,625</td>\n",
       "      <td>$2,776,345,279</td>\n",
       "    </tr>\n",
       "    <tr>\n",
       "      <th>1</th>\n",
       "      <td>2</td>\n",
       "      <td>May 20, 2011</td>\n",
       "      <td>Pirates of the Caribbean: On Stranger Tides</td>\n",
       "      <td>$410,600,000</td>\n",
       "      <td>$241,063,875</td>\n",
       "      <td>$1,045,663,875</td>\n",
       "    </tr>\n",
       "    <tr>\n",
       "      <th>2</th>\n",
       "      <td>3</td>\n",
       "      <td>Jun 7, 2019</td>\n",
       "      <td>Dark Phoenix</td>\n",
       "      <td>$350,000,000</td>\n",
       "      <td>$42,762,350</td>\n",
       "      <td>$149,762,350</td>\n",
       "    </tr>\n",
       "    <tr>\n",
       "      <th>3</th>\n",
       "      <td>4</td>\n",
       "      <td>May 1, 2015</td>\n",
       "      <td>Avengers: Age of Ultron</td>\n",
       "      <td>$330,600,000</td>\n",
       "      <td>$459,005,868</td>\n",
       "      <td>$1,403,013,963</td>\n",
       "    </tr>\n",
       "    <tr>\n",
       "      <th>4</th>\n",
       "      <td>5</td>\n",
       "      <td>Dec 15, 2017</td>\n",
       "      <td>Star Wars Ep. VIII: The Last Jedi</td>\n",
       "      <td>$317,000,000</td>\n",
       "      <td>$620,181,382</td>\n",
       "      <td>$1,316,721,747</td>\n",
       "    </tr>\n",
       "  </tbody>\n",
       "</table>\n",
       "</div>"
      ],
      "text/plain": [
       "   id  release_date                                        movie  \\\n",
       "0   1  Dec 18, 2009                                       Avatar   \n",
       "1   2  May 20, 2011  Pirates of the Caribbean: On Stranger Tides   \n",
       "2   3   Jun 7, 2019                                 Dark Phoenix   \n",
       "3   4   May 1, 2015                      Avengers: Age of Ultron   \n",
       "4   5  Dec 15, 2017            Star Wars Ep. VIII: The Last Jedi   \n",
       "\n",
       "  production_budget domestic_gross worldwide_gross  \n",
       "0      $425,000,000   $760,507,625  $2,776,345,279  \n",
       "1      $410,600,000   $241,063,875  $1,045,663,875  \n",
       "2      $350,000,000    $42,762,350    $149,762,350  \n",
       "3      $330,600,000   $459,005,868  $1,403,013,963  \n",
       "4      $317,000,000   $620,181,382  $1,316,721,747  "
      ]
     },
     "execution_count": 126,
     "metadata": {},
     "output_type": "execute_result"
    }
   ],
   "source": [
    "# Lets take a glimpse at the data set \n",
    "budget_df.head()"
   ]
  },
  {
   "cell_type": "code",
   "execution_count": 127,
   "metadata": {},
   "outputs": [
    {
     "name": "stdout",
     "output_type": "stream",
     "text": [
      "<class 'pandas.core.frame.DataFrame'>\n",
      "RangeIndex: 5782 entries, 0 to 5781\n",
      "Data columns (total 6 columns):\n",
      " #   Column             Non-Null Count  Dtype \n",
      "---  ------             --------------  ----- \n",
      " 0   id                 5782 non-null   int64 \n",
      " 1   release_date       5782 non-null   object\n",
      " 2   movie              5782 non-null   object\n",
      " 3   production_budget  5782 non-null   object\n",
      " 4   domestic_gross     5782 non-null   object\n",
      " 5   worldwide_gross    5782 non-null   object\n",
      "dtypes: int64(1), object(5)\n",
      "memory usage: 271.2+ KB\n"
     ]
    }
   ],
   "source": [
    "# Take a look at the data frame information\n",
    "budget_df.info()"
   ]
  },
  {
   "cell_type": "markdown",
   "metadata": {},
   "source": [
    "From looking at the information we can immediately see a few important things:\n",
    "- There are no missing values\n",
    "- The release date is a string and not a datetime object \n",
    "- All of the numerical columns are strings instead of floats\n",
    "- We have an id column\n"
   ]
  },
  {
   "cell_type": "markdown",
   "metadata": {},
   "source": [
    "## Data Cleaning \n",
    "\n",
    "Because there is no missing data, our cleaning step will involve changing the dtype of all the variables to match our expectations, checking to see if there are any placeholder values that replace NaNs, and normalizing the data to the millions so that the numbers are more manageable"
   ]
  },
  {
   "cell_type": "code",
   "execution_count": 128,
   "metadata": {},
   "outputs": [],
   "source": [
    "# Lets define a function that will parse through a string of $xxx,xxx,xxx and turn it into a float\n",
    "money_to_float = lambda x: float(x.replace('$','').replace(',',''))"
   ]
  },
  {
   "cell_type": "code",
   "execution_count": 129,
   "metadata": {},
   "outputs": [],
   "source": [
    "# Lets test to make sure this function is behaving the way that we anticipate\n",
    "assert money_to_float('$1,000') == 1000"
   ]
  },
  {
   "cell_type": "code",
   "execution_count": 130,
   "metadata": {},
   "outputs": [],
   "source": [
    "# Update the dtype of the production_budget column \n",
    "budget_df['production_budget'] = budget_df['production_budget'].map(money_to_float)"
   ]
  },
  {
   "cell_type": "code",
   "execution_count": 131,
   "metadata": {},
   "outputs": [],
   "source": [
    "# Update the dtype of the domestic_gross column \n",
    "budget_df['domestic_gross'] = budget_df['domestic_gross'].map(money_to_float)"
   ]
  },
  {
   "cell_type": "code",
   "execution_count": 132,
   "metadata": {},
   "outputs": [],
   "source": [
    "# Update the dtype of the worldwide_gross column \n",
    "budget_df['worldwide_gross'] = budget_df['worldwide_gross'].map(money_to_float)"
   ]
  },
  {
   "cell_type": "code",
   "execution_count": 133,
   "metadata": {},
   "outputs": [],
   "source": [
    "# Test to make sure it worked\n",
    "assert budget_df['production_budget'].dtype == np.float64"
   ]
  },
  {
   "cell_type": "code",
   "execution_count": 134,
   "metadata": {},
   "outputs": [],
   "source": [
    "# Lets make the release date an int dtype that only has the year\n",
    "budget_df['release_date'] = pd.to_datetime(budget_df['release_date']).dt.year"
   ]
  },
  {
   "cell_type": "code",
   "execution_count": 135,
   "metadata": {},
   "outputs": [],
   "source": [
    "# Test to make sure the dtype is now correct\n",
    "assert budget_df['release_date'].dtype == np.int64"
   ]
  },
  {
   "cell_type": "code",
   "execution_count": 136,
   "metadata": {},
   "outputs": [
    {
     "data": {
      "text/html": [
       "<div>\n",
       "<style scoped>\n",
       "    .dataframe tbody tr th:only-of-type {\n",
       "        vertical-align: middle;\n",
       "    }\n",
       "\n",
       "    .dataframe tbody tr th {\n",
       "        vertical-align: top;\n",
       "    }\n",
       "\n",
       "    .dataframe thead th {\n",
       "        text-align: right;\n",
       "    }\n",
       "</style>\n",
       "<table border=\"1\" class=\"dataframe\">\n",
       "  <thead>\n",
       "    <tr style=\"text-align: right;\">\n",
       "      <th></th>\n",
       "      <th>id</th>\n",
       "      <th>release_date</th>\n",
       "      <th>movie</th>\n",
       "      <th>production_budget</th>\n",
       "      <th>domestic_gross</th>\n",
       "      <th>worldwide_gross</th>\n",
       "    </tr>\n",
       "  </thead>\n",
       "  <tbody>\n",
       "    <tr>\n",
       "      <th>194</th>\n",
       "      <td>95</td>\n",
       "      <td>2020</td>\n",
       "      <td>Moonfall</td>\n",
       "      <td>150000000.0</td>\n",
       "      <td>0.0</td>\n",
       "      <td>0.0</td>\n",
       "    </tr>\n",
       "    <tr>\n",
       "      <th>479</th>\n",
       "      <td>80</td>\n",
       "      <td>2017</td>\n",
       "      <td>Bright</td>\n",
       "      <td>90000000.0</td>\n",
       "      <td>0.0</td>\n",
       "      <td>0.0</td>\n",
       "    </tr>\n",
       "    <tr>\n",
       "      <th>480</th>\n",
       "      <td>81</td>\n",
       "      <td>2019</td>\n",
       "      <td>Army of the Dead</td>\n",
       "      <td>90000000.0</td>\n",
       "      <td>0.0</td>\n",
       "      <td>0.0</td>\n",
       "    </tr>\n",
       "    <tr>\n",
       "      <th>535</th>\n",
       "      <td>36</td>\n",
       "      <td>2020</td>\n",
       "      <td>Call of the Wild</td>\n",
       "      <td>82000000.0</td>\n",
       "      <td>0.0</td>\n",
       "      <td>0.0</td>\n",
       "    </tr>\n",
       "    <tr>\n",
       "      <th>617</th>\n",
       "      <td>18</td>\n",
       "      <td>2012</td>\n",
       "      <td>AstÃ©rix et ObÃ©lix: Au service de Sa MajestÃ©</td>\n",
       "      <td>77600000.0</td>\n",
       "      <td>0.0</td>\n",
       "      <td>60680125.0</td>\n",
       "    </tr>\n",
       "    <tr>\n",
       "      <th>...</th>\n",
       "      <td>...</td>\n",
       "      <td>...</td>\n",
       "      <td>...</td>\n",
       "      <td>...</td>\n",
       "      <td>...</td>\n",
       "      <td>...</td>\n",
       "    </tr>\n",
       "    <tr>\n",
       "      <th>5761</th>\n",
       "      <td>62</td>\n",
       "      <td>2014</td>\n",
       "      <td>Stories of Our Lives</td>\n",
       "      <td>15000.0</td>\n",
       "      <td>0.0</td>\n",
       "      <td>0.0</td>\n",
       "    </tr>\n",
       "    <tr>\n",
       "      <th>5764</th>\n",
       "      <td>65</td>\n",
       "      <td>2007</td>\n",
       "      <td>Tin Can Man</td>\n",
       "      <td>12000.0</td>\n",
       "      <td>0.0</td>\n",
       "      <td>0.0</td>\n",
       "    </tr>\n",
       "    <tr>\n",
       "      <th>5771</th>\n",
       "      <td>72</td>\n",
       "      <td>2015</td>\n",
       "      <td>Family Motocross</td>\n",
       "      <td>10000.0</td>\n",
       "      <td>0.0</td>\n",
       "      <td>0.0</td>\n",
       "    </tr>\n",
       "    <tr>\n",
       "      <th>5777</th>\n",
       "      <td>78</td>\n",
       "      <td>2018</td>\n",
       "      <td>Red 11</td>\n",
       "      <td>7000.0</td>\n",
       "      <td>0.0</td>\n",
       "      <td>0.0</td>\n",
       "    </tr>\n",
       "    <tr>\n",
       "      <th>5780</th>\n",
       "      <td>81</td>\n",
       "      <td>2015</td>\n",
       "      <td>A Plague So Pleasant</td>\n",
       "      <td>1400.0</td>\n",
       "      <td>0.0</td>\n",
       "      <td>0.0</td>\n",
       "    </tr>\n",
       "  </tbody>\n",
       "</table>\n",
       "<p>548 rows × 6 columns</p>\n",
       "</div>"
      ],
      "text/plain": [
       "      id  release_date                                           movie  \\\n",
       "194   95          2020                                        Moonfall   \n",
       "479   80          2017                                          Bright   \n",
       "480   81          2019                                Army of the Dead   \n",
       "535   36          2020                                Call of the Wild   \n",
       "617   18          2012  AstÃ©rix et ObÃ©lix: Au service de Sa MajestÃ©   \n",
       "...   ..           ...                                             ...   \n",
       "5761  62          2014                            Stories of Our Lives   \n",
       "5764  65          2007                                     Tin Can Man   \n",
       "5771  72          2015                                Family Motocross   \n",
       "5777  78          2018                                          Red 11   \n",
       "5780  81          2015                            A Plague So Pleasant   \n",
       "\n",
       "      production_budget  domestic_gross  worldwide_gross  \n",
       "194         150000000.0             0.0              0.0  \n",
       "479          90000000.0             0.0              0.0  \n",
       "480          90000000.0             0.0              0.0  \n",
       "535          82000000.0             0.0              0.0  \n",
       "617          77600000.0             0.0       60680125.0  \n",
       "...                 ...             ...              ...  \n",
       "5761            15000.0             0.0              0.0  \n",
       "5764            12000.0             0.0              0.0  \n",
       "5771            10000.0             0.0              0.0  \n",
       "5777             7000.0             0.0              0.0  \n",
       "5780             1400.0             0.0              0.0  \n",
       "\n",
       "[548 rows x 6 columns]"
      ]
     },
     "execution_count": 136,
     "metadata": {},
     "output_type": "execute_result"
    }
   ],
   "source": [
    "# Lets see if any of the gross values are equal to 0, a number that does not make sense in this context\n",
    "budget_df[budget_df['domestic_gross'] == 0]"
   ]
  },
  {
   "cell_type": "code",
   "execution_count": 137,
   "metadata": {},
   "outputs": [
    {
     "data": {
      "text/html": [
       "<div>\n",
       "<style scoped>\n",
       "    .dataframe tbody tr th:only-of-type {\n",
       "        vertical-align: middle;\n",
       "    }\n",
       "\n",
       "    .dataframe tbody tr th {\n",
       "        vertical-align: top;\n",
       "    }\n",
       "\n",
       "    .dataframe thead th {\n",
       "        text-align: right;\n",
       "    }\n",
       "</style>\n",
       "<table border=\"1\" class=\"dataframe\">\n",
       "  <thead>\n",
       "    <tr style=\"text-align: right;\">\n",
       "      <th></th>\n",
       "      <th>id</th>\n",
       "      <th>release_date</th>\n",
       "      <th>movie</th>\n",
       "      <th>production_budget</th>\n",
       "      <th>domestic_gross</th>\n",
       "      <th>worldwide_gross</th>\n",
       "    </tr>\n",
       "  </thead>\n",
       "  <tbody>\n",
       "  </tbody>\n",
       "</table>\n",
       "</div>"
      ],
      "text/plain": [
       "Empty DataFrame\n",
       "Columns: [id, release_date, movie, production_budget, domestic_gross, worldwide_gross]\n",
       "Index: []"
      ]
     },
     "execution_count": 137,
     "metadata": {},
     "output_type": "execute_result"
    }
   ],
   "source": [
    "# Lets see if any of the production values are equal to 0, a number that does not make sense in this context\n",
    "budget_df[budget_df['production_budget'] == 0]"
   ]
  },
  {
   "cell_type": "markdown",
   "metadata": {},
   "source": [
    "We see that there are indeed values that can be considered corrupted in the gross columns, but not in the production column. What we can do with this is see what percentage of data is 0 from the domestic_gross and worldwide_gross. If it is a small percentage, we can just drop the values but if it is a large percentage we can find a way to impute it. "
   ]
  },
  {
   "cell_type": "code",
   "execution_count": 138,
   "metadata": {},
   "outputs": [
    {
     "name": "stdout",
     "output_type": "stream",
     "text": [
      "548\n",
      "367\n",
      "548\n",
      "367\n",
      "5782\n"
     ]
    }
   ],
   "source": [
    "# Lets see the profile of our \"missing\" gross values\n",
    "either_miss = len(budget_df[(budget_df['domestic_gross'] == 0) | (budget_df['worldwide_gross'] == 0)])\n",
    "both_miss = len(budget_df[(budget_df['domestic_gross'] == 0) & (budget_df['worldwide_gross'] == 0)])\n",
    "just_dom = len(budget_df[budget_df['domestic_gross'] == 0])\n",
    "just_world = len(budget_df[budget_df['worldwide_gross'] == 0])\n",
    "len_dataset = len(budget_df['domestic_gross'])\n",
    "print(either_miss)\n",
    "print(both_miss)\n",
    "print(just_dom)\n",
    "print(just_world)\n",
    "print(len_dataset)"
   ]
  },
  {
   "cell_type": "code",
   "execution_count": 139,
   "metadata": {},
   "outputs": [
    {
     "name": "stdout",
     "output_type": "stream",
     "text": [
      "9.47768938083708\n",
      "6.347284676582497\n"
     ]
    }
   ],
   "source": [
    "# Because there are numbers with 0 domestic and worldwide gross, lets see what fraction of the dataset it is\n",
    "pct_0_dom = just_dom/len_dataset\n",
    "print(pct_0_dom*100)\n",
    "pct_0_world = just_world/len_dataset\n",
    "print(pct_0_world*100)"
   ]
  },
  {
   "cell_type": "code",
   "execution_count": 140,
   "metadata": {},
   "outputs": [],
   "source": [
    "# Both values are < 10% of the data, which for now we will consider as small enough to just drop\n",
    "budget_df = budget_df[budget_df['domestic_gross'] != 0]"
   ]
  },
  {
   "cell_type": "code",
   "execution_count": 141,
   "metadata": {},
   "outputs": [],
   "source": [
    "# Test to make sure we dropped correctly\n",
    "assert len(budget_df[budget_df['domestic_gross'] == 0]) == 0\n",
    "assert len(budget_df[budget_df['worldwide_gross'] == 0]) == 0"
   ]
  },
  {
   "cell_type": "code",
   "execution_count": 142,
   "metadata": {},
   "outputs": [],
   "source": [
    "# Finally, we can normalize monetary columns to the millions \n",
    "budget_df['production_budget'] = budget_df['production_budget']/1000000\n",
    "budget_df['domestic_gross'] = budget_df['domestic_gross']/1000000\n",
    "budget_df['worldwide_gross'] = budget_df['worldwide_gross']/1000000"
   ]
  },
  {
   "cell_type": "markdown",
   "metadata": {},
   "source": [
    "## Data Exploration\n",
    "\n",
    "Now that all of the data types are what we expect, we will explore the data. First, we look at the `id` column to see what relevance it has to the dataset. Then, we will create some features to explore the relationship between a movies budget and how much it grosses both domestically and worldwide. Finally, we will look at the data over time to see if older movies would give our clients outdated information. "
   ]
  },
  {
   "cell_type": "markdown",
   "metadata": {},
   "source": [
    "## Step 1: What do the ID's mean?"
   ]
  },
  {
   "cell_type": "code",
   "execution_count": 143,
   "metadata": {},
   "outputs": [
    {
     "data": {
      "text/plain": [
       "79    56\n",
       "77    55\n",
       "47    55\n",
       "78    55\n",
       "37    55\n",
       "      ..\n",
       "63    49\n",
       "55    49\n",
       "62    49\n",
       "95    49\n",
       "56    47\n",
       "Name: id, Length: 100, dtype: int64"
      ]
     },
     "execution_count": 143,
     "metadata": {},
     "output_type": "execute_result"
    }
   ],
   "source": [
    "# Lets look at the value counts for the id's \n",
    "budget_df['id'].value_counts()"
   ]
  },
  {
   "cell_type": "markdown",
   "metadata": {},
   "source": [
    "It looks like each of the ID's have the same number of entries meaning that there could be something more to them than it seems. Lets take a quick look at some of the respective index values to see if maybe groups have something in common"
   ]
  },
  {
   "cell_type": "code",
   "execution_count": 144,
   "metadata": {},
   "outputs": [
    {
     "data": {
      "text/html": [
       "<div>\n",
       "<style scoped>\n",
       "    .dataframe tbody tr th:only-of-type {\n",
       "        vertical-align: middle;\n",
       "    }\n",
       "\n",
       "    .dataframe tbody tr th {\n",
       "        vertical-align: top;\n",
       "    }\n",
       "\n",
       "    .dataframe thead th {\n",
       "        text-align: right;\n",
       "    }\n",
       "</style>\n",
       "<table border=\"1\" class=\"dataframe\">\n",
       "  <thead>\n",
       "    <tr style=\"text-align: right;\">\n",
       "      <th></th>\n",
       "      <th>id</th>\n",
       "      <th>release_date</th>\n",
       "      <th>movie</th>\n",
       "      <th>production_budget</th>\n",
       "      <th>domestic_gross</th>\n",
       "      <th>worldwide_gross</th>\n",
       "    </tr>\n",
       "  </thead>\n",
       "  <tbody>\n",
       "    <tr>\n",
       "      <th>3</th>\n",
       "      <td>4</td>\n",
       "      <td>2015</td>\n",
       "      <td>Avengers: Age of Ultron</td>\n",
       "      <td>330.6</td>\n",
       "      <td>459.005868</td>\n",
       "      <td>1403.013963</td>\n",
       "    </tr>\n",
       "    <tr>\n",
       "      <th>103</th>\n",
       "      <td>4</td>\n",
       "      <td>2009</td>\n",
       "      <td>Monsters vs. Aliens</td>\n",
       "      <td>175.0</td>\n",
       "      <td>198.351526</td>\n",
       "      <td>381.687380</td>\n",
       "    </tr>\n",
       "    <tr>\n",
       "      <th>203</th>\n",
       "      <td>4</td>\n",
       "      <td>2016</td>\n",
       "      <td>Ghostbusters</td>\n",
       "      <td>144.0</td>\n",
       "      <td>128.350574</td>\n",
       "      <td>229.008658</td>\n",
       "    </tr>\n",
       "    <tr>\n",
       "      <th>303</th>\n",
       "      <td>4</td>\n",
       "      <td>1999</td>\n",
       "      <td>Star Wars Ep. I: The Phantom Menace</td>\n",
       "      <td>115.0</td>\n",
       "      <td>474.544677</td>\n",
       "      <td>1027.044677</td>\n",
       "    </tr>\n",
       "    <tr>\n",
       "      <th>403</th>\n",
       "      <td>4</td>\n",
       "      <td>2018</td>\n",
       "      <td>Mortal Engines</td>\n",
       "      <td>100.0</td>\n",
       "      <td>15.951040</td>\n",
       "      <td>85.287417</td>\n",
       "    </tr>\n",
       "    <tr>\n",
       "      <th>503</th>\n",
       "      <td>4</td>\n",
       "      <td>2006</td>\n",
       "      <td>Open Season</td>\n",
       "      <td>85.0</td>\n",
       "      <td>85.105259</td>\n",
       "      <td>191.932158</td>\n",
       "    </tr>\n",
       "    <tr>\n",
       "      <th>603</th>\n",
       "      <td>4</td>\n",
       "      <td>1997</td>\n",
       "      <td>The Postman</td>\n",
       "      <td>80.0</td>\n",
       "      <td>17.650704</td>\n",
       "      <td>20.841123</td>\n",
       "    </tr>\n",
       "    <tr>\n",
       "      <th>703</th>\n",
       "      <td>4</td>\n",
       "      <td>2003</td>\n",
       "      <td>S.W.A.T.</td>\n",
       "      <td>70.0</td>\n",
       "      <td>116.877597</td>\n",
       "      <td>207.154748</td>\n",
       "    </tr>\n",
       "    <tr>\n",
       "      <th>803</th>\n",
       "      <td>4</td>\n",
       "      <td>2012</td>\n",
       "      <td>Resident Evil: Retribution</td>\n",
       "      <td>65.0</td>\n",
       "      <td>42.345531</td>\n",
       "      <td>240.647629</td>\n",
       "    </tr>\n",
       "    <tr>\n",
       "      <th>903</th>\n",
       "      <td>4</td>\n",
       "      <td>2013</td>\n",
       "      <td>Gangster Squad</td>\n",
       "      <td>60.0</td>\n",
       "      <td>46.000903</td>\n",
       "      <td>104.100903</td>\n",
       "    </tr>\n",
       "  </tbody>\n",
       "</table>\n",
       "</div>"
      ],
      "text/plain": [
       "     id  release_date                                movie  production_budget  \\\n",
       "3     4          2015              Avengers: Age of Ultron              330.6   \n",
       "103   4          2009                  Monsters vs. Aliens              175.0   \n",
       "203   4          2016                         Ghostbusters              144.0   \n",
       "303   4          1999  Star Wars Ep. I: The Phantom Menace              115.0   \n",
       "403   4          2018                       Mortal Engines              100.0   \n",
       "503   4          2006                          Open Season               85.0   \n",
       "603   4          1997                          The Postman               80.0   \n",
       "703   4          2003                             S.W.A.T.               70.0   \n",
       "803   4          2012           Resident Evil: Retribution               65.0   \n",
       "903   4          2013                       Gangster Squad               60.0   \n",
       "\n",
       "     domestic_gross  worldwide_gross  \n",
       "3        459.005868      1403.013963  \n",
       "103      198.351526       381.687380  \n",
       "203      128.350574       229.008658  \n",
       "303      474.544677      1027.044677  \n",
       "403       15.951040        85.287417  \n",
       "503       85.105259       191.932158  \n",
       "603       17.650704        20.841123  \n",
       "703      116.877597       207.154748  \n",
       "803       42.345531       240.647629  \n",
       "903       46.000903       104.100903  "
      ]
     },
     "execution_count": 144,
     "metadata": {},
     "output_type": "execute_result"
    }
   ],
   "source": [
    "# Investigate group 4\n",
    "budget_df[budget_df['id'] == 4].head(10)"
   ]
  },
  {
   "cell_type": "code",
   "execution_count": 145,
   "metadata": {},
   "outputs": [
    {
     "data": {
      "text/html": [
       "<div>\n",
       "<style scoped>\n",
       "    .dataframe tbody tr th:only-of-type {\n",
       "        vertical-align: middle;\n",
       "    }\n",
       "\n",
       "    .dataframe tbody tr th {\n",
       "        vertical-align: top;\n",
       "    }\n",
       "\n",
       "    .dataframe thead th {\n",
       "        text-align: right;\n",
       "    }\n",
       "</style>\n",
       "<table border=\"1\" class=\"dataframe\">\n",
       "  <thead>\n",
       "    <tr style=\"text-align: right;\">\n",
       "      <th></th>\n",
       "      <th>id</th>\n",
       "      <th>release_date</th>\n",
       "      <th>movie</th>\n",
       "      <th>production_budget</th>\n",
       "      <th>domestic_gross</th>\n",
       "      <th>worldwide_gross</th>\n",
       "    </tr>\n",
       "  </thead>\n",
       "  <tbody>\n",
       "    <tr>\n",
       "      <th>7</th>\n",
       "      <td>8</td>\n",
       "      <td>2007</td>\n",
       "      <td>Pirates of the Caribbean: At Worldâs End</td>\n",
       "      <td>300.0</td>\n",
       "      <td>309.420425</td>\n",
       "      <td>963.420425</td>\n",
       "    </tr>\n",
       "    <tr>\n",
       "      <th>107</th>\n",
       "      <td>8</td>\n",
       "      <td>2008</td>\n",
       "      <td>The Mummy: Tomb of the Dragon Emperor</td>\n",
       "      <td>175.0</td>\n",
       "      <td>102.491776</td>\n",
       "      <td>405.760225</td>\n",
       "    </tr>\n",
       "    <tr>\n",
       "      <th>207</th>\n",
       "      <td>8</td>\n",
       "      <td>1998</td>\n",
       "      <td>Armageddon</td>\n",
       "      <td>140.0</td>\n",
       "      <td>201.578182</td>\n",
       "      <td>554.600000</td>\n",
       "    </tr>\n",
       "    <tr>\n",
       "      <th>307</th>\n",
       "      <td>8</td>\n",
       "      <td>2013</td>\n",
       "      <td>The Wolverine</td>\n",
       "      <td>115.0</td>\n",
       "      <td>132.556852</td>\n",
       "      <td>416.456852</td>\n",
       "    </tr>\n",
       "    <tr>\n",
       "      <th>407</th>\n",
       "      <td>8</td>\n",
       "      <td>2019</td>\n",
       "      <td>The LEGO Movie 2: The Second Part</td>\n",
       "      <td>99.0</td>\n",
       "      <td>105.806508</td>\n",
       "      <td>190.325698</td>\n",
       "    </tr>\n",
       "    <tr>\n",
       "      <th>507</th>\n",
       "      <td>8</td>\n",
       "      <td>2006</td>\n",
       "      <td>The Holiday</td>\n",
       "      <td>85.0</td>\n",
       "      <td>63.280000</td>\n",
       "      <td>205.190324</td>\n",
       "    </tr>\n",
       "    <tr>\n",
       "      <th>607</th>\n",
       "      <td>8</td>\n",
       "      <td>2005</td>\n",
       "      <td>A Sound of Thunder</td>\n",
       "      <td>80.0</td>\n",
       "      <td>1.900451</td>\n",
       "      <td>6.300451</td>\n",
       "    </tr>\n",
       "    <tr>\n",
       "      <th>707</th>\n",
       "      <td>8</td>\n",
       "      <td>1997</td>\n",
       "      <td>Hercules</td>\n",
       "      <td>70.0</td>\n",
       "      <td>99.112101</td>\n",
       "      <td>250.700000</td>\n",
       "    </tr>\n",
       "    <tr>\n",
       "      <th>807</th>\n",
       "      <td>8</td>\n",
       "      <td>1996</td>\n",
       "      <td>The Long Kiss Goodnight</td>\n",
       "      <td>65.0</td>\n",
       "      <td>33.447612</td>\n",
       "      <td>33.447612</td>\n",
       "    </tr>\n",
       "    <tr>\n",
       "      <th>907</th>\n",
       "      <td>8</td>\n",
       "      <td>2010</td>\n",
       "      <td>Edge of Darkness</td>\n",
       "      <td>60.0</td>\n",
       "      <td>43.313890</td>\n",
       "      <td>82.812456</td>\n",
       "    </tr>\n",
       "  </tbody>\n",
       "</table>\n",
       "</div>"
      ],
      "text/plain": [
       "     id  release_date                                       movie  \\\n",
       "7     8          2007  Pirates of the Caribbean: At Worldâs End   \n",
       "107   8          2008       The Mummy: Tomb of the Dragon Emperor   \n",
       "207   8          1998                                  Armageddon   \n",
       "307   8          2013                               The Wolverine   \n",
       "407   8          2019           The LEGO Movie 2: The Second Part   \n",
       "507   8          2006                                 The Holiday   \n",
       "607   8          2005                          A Sound of Thunder   \n",
       "707   8          1997                                    Hercules   \n",
       "807   8          1996                     The Long Kiss Goodnight   \n",
       "907   8          2010                            Edge of Darkness   \n",
       "\n",
       "     production_budget  domestic_gross  worldwide_gross  \n",
       "7                300.0      309.420425       963.420425  \n",
       "107              175.0      102.491776       405.760225  \n",
       "207              140.0      201.578182       554.600000  \n",
       "307              115.0      132.556852       416.456852  \n",
       "407               99.0      105.806508       190.325698  \n",
       "507               85.0       63.280000       205.190324  \n",
       "607               80.0        1.900451         6.300451  \n",
       "707               70.0       99.112101       250.700000  \n",
       "807               65.0       33.447612        33.447612  \n",
       "907               60.0       43.313890        82.812456  "
      ]
     },
     "execution_count": 145,
     "metadata": {},
     "output_type": "execute_result"
    }
   ],
   "source": [
    "# Investigate group 8\n",
    "budget_df[budget_df['id'] == 8].head(10)"
   ]
  },
  {
   "cell_type": "markdown",
   "metadata": {},
   "source": [
    "The only similarity between the two groups is that production budgets seem to line up in similar decreasing fashions. This most likely means all of this data was ordered by production_budget and each group was concatenated with each other to make one big dataset. Until we receive any new information, let us just not worry about the ID column. "
   ]
  },
  {
   "cell_type": "markdown",
   "metadata": {},
   "source": [
    "## Step 2: How do Old Movies Compare to Newer Movies?"
   ]
  },
  {
   "cell_type": "code",
   "execution_count": 146,
   "metadata": {},
   "outputs": [
    {
     "name": "stdout",
     "output_type": "stream",
     "text": [
      "id                         1\n",
      "release_date            2009\n",
      "movie                 Avatar\n",
      "production_budget        425\n",
      "domestic_gross       760.508\n",
      "worldwide_gross      2776.35\n",
      "Name: 0, dtype: object\n",
      "id                                                      6\n",
      "release_date                                         2015\n",
      "movie                Star Wars Ep. VII: The Force Awakens\n",
      "production_budget                                     306\n",
      "domestic_gross                                    936.662\n",
      "worldwide_gross                                   2053.31\n",
      "Name: 5, dtype: object\n"
     ]
    }
   ],
   "source": [
    "# First, lets look at the highest grossing films worldwide and domestic\n",
    "print(budget_df.loc[budget_df['worldwide_gross'].idxmax(), :])\n",
    "print(budget_df.loc[budget_df['domestic_gross'].idxmax(), :])"
   ]
  },
  {
   "cell_type": "code",
   "execution_count": 147,
   "metadata": {},
   "outputs": [
    {
     "data": {
      "text/plain": [
       "2019     44\n",
       "2018    137\n",
       "2017    149\n",
       "2016    192\n",
       "2015    208\n",
       "       ... \n",
       "1929      1\n",
       "1925      2\n",
       "1920      1\n",
       "1916      1\n",
       "1915      1\n",
       "Name: release_date, Length: 92, dtype: int64"
      ]
     },
     "execution_count": 147,
     "metadata": {},
     "output_type": "execute_result"
    }
   ],
   "source": [
    "# Lets look at the value count of all the years\n",
    "budget_df['release_date'].value_counts().sort_index(ascending=False)"
   ]
  },
  {
   "cell_type": "code",
   "execution_count": 148,
   "metadata": {},
   "outputs": [
    {
     "data": {
      "text/plain": [
       "<AxesSubplot:>"
      ]
     },
     "execution_count": 148,
     "metadata": {},
     "output_type": "execute_result"
    },
    {
     "data": {
      "image/png": "[encoded data removed]",
      "text/plain": [
       "<Figure size 432x288 with 1 Axes>"
      ]
     },
     "metadata": {
      "needs_background": "light"
     },
     "output_type": "display_data"
    }
   ],
   "source": [
    "# Already we can see some years have very little movies. Let us filter the top 30 \n",
    "budget_df['release_date'].value_counts().sort_index(ascending=False)[:30].plot.bar()"
   ]
  },
  {
   "cell_type": "markdown",
   "metadata": {},
   "source": [
    "It seems like after 1997 there was a big boom in the number of movies that were made. From the standpoint of quantity of movies, there is no indication that we should only look at a more recent subset. Lets check out how much movies grossed based on year starting with the year that the boom happened"
   ]
  },
  {
   "cell_type": "code",
   "execution_count": 149,
   "metadata": {},
   "outputs": [],
   "source": [
    "# Lets filter out the older dates\n",
    "budget_df = budget_df[budget_df['release_date'] > 1997]"
   ]
  },
  {
   "cell_type": "code",
   "execution_count": 150,
   "metadata": {},
   "outputs": [
    {
     "data": {
      "text/plain": [
       "2006    247\n",
       "2010    246\n",
       "2008    239\n",
       "2011    227\n",
       "2005    214\n",
       "2002    209\n",
       "2015    208\n",
       "2009    205\n",
       "2007    203\n",
       "2004    200\n",
       "2012    200\n",
       "2003    195\n",
       "2013    193\n",
       "2016    192\n",
       "2014    191\n",
       "2000    189\n",
       "1999    181\n",
       "2001    177\n",
       "1998    151\n",
       "2017    149\n",
       "2018    137\n",
       "2019     44\n",
       "Name: release_date, dtype: int64"
      ]
     },
     "execution_count": 150,
     "metadata": {},
     "output_type": "execute_result"
    }
   ],
   "source": [
    "# Check our new filtered years\n",
    "budget_df['release_date'].value_counts()"
   ]
  },
  {
   "cell_type": "code",
   "execution_count": 152,
   "metadata": {},
   "outputs": [
    {
     "data": {
      "text/plain": [
       "<AxesSubplot:xlabel='release_date', ylabel='worldwide_gross'>"
      ]
     },
     "execution_count": 152,
     "metadata": {},
     "output_type": "execute_result"
    },
    {
     "data": {
      "image/png": "[encoded data removed]",
      "text/plain": [
       "<Figure size 432x288 with 1 Axes>"
      ]
     },
     "metadata": {
      "needs_background": "light"
     },
     "output_type": "display_data"
    }
   ],
   "source": [
    "# Lets groupby the year and see the median amount movies grossed worldwide\n",
    "budget_df.groupby('release_date').mean().reset_index().plot.scatter('release_date', 'worldwide_gross')"
   ]
  },
  {
   "cell_type": "markdown",
   "metadata": {},
   "source": [
    "From the graph, it is obvious that there is an upward trend in worldwide gross over the years. Because we know our other dataset starts movie data at 2010 and after 2010 the worldwide gross is higher than the years prior by a substantial margin, we can consider deleting those years prior."
   ]
  },
  {
   "cell_type": "code",
   "execution_count": 66,
   "metadata": {},
   "outputs": [],
   "source": [
    "# Remove the years before 2010 where we saw a jump in worldwide gross\n",
    "budget_df = budget_df[budget_df['release_date'] >= 2010]"
   ]
  },
  {
   "cell_type": "markdown",
   "metadata": {},
   "source": [
    "## Step 3: How does Production Budget Affect Gross?"
   ]
  },
  {
   "cell_type": "code",
   "execution_count": 68,
   "metadata": {},
   "outputs": [
    {
     "data": {
      "text/plain": [
       "<AxesSubplot:xlabel='production_budget', ylabel='worldwide_gross'>"
      ]
     },
     "execution_count": 68,
     "metadata": {},
     "output_type": "execute_result"
    },
    {
     "data": {
      "image/png": "[encoded data removed]",
      "text/plain": [
       "<Figure size 432x288 with 1 Axes>"
      ]
     },
     "metadata": {
      "needs_background": "light"
     },
     "output_type": "display_data"
    }
   ],
   "source": [
    "# Lets start off by checking the scatter plot of budget and worldwide gross to gain intuition\n",
    "budget_df.plot.scatter('production_budget', 'worldwide_gross')"
   ]
  },
  {
   "cell_type": "code",
   "execution_count": 71,
   "metadata": {},
   "outputs": [
    {
     "data": {
      "text/plain": [
       "0.7872721892906527"
      ]
     },
     "execution_count": 71,
     "metadata": {},
     "output_type": "execute_result"
    }
   ],
   "source": [
    "# To be more concrete, lets also print out the correlation coefficient \n",
    "np.corrcoef(budget_df['production_budget'], budget_df['worldwide_gross'])[0][1]"
   ]
  },
  {
   "cell_type": "markdown",
   "metadata": {},
   "source": [
    "From the scatter plot, it looks like there is a positive correlation (.787) but not as much as we would expect. This indicates that spending more money on a film may not mean more gross "
   ]
  },
  {
   "cell_type": "code",
   "execution_count": 69,
   "metadata": {},
   "outputs": [
    {
     "data": {
      "text/plain": [
       "<AxesSubplot:ylabel='Frequency'>"
      ]
     },
     "execution_count": 69,
     "metadata": {},
     "output_type": "execute_result"
    },
    {
     "data": {
      "image/png": "[encoded data removed]",
      "text/plain": [
       "<Figure size 432x288 with 1 Axes>"
      ]
     },
     "metadata": {
      "needs_background": "light"
     },
     "output_type": "display_data"
    }
   ],
   "source": [
    "# Lets look at the distribution of worldwide gross to see how it is shaped \n",
    "budget_df['worldwide_gross'].plot.hist()"
   ]
  },
  {
   "cell_type": "markdown",
   "metadata": {},
   "source": [
    "It seems like a majority of films fall into the same bucket, but we want to give a suggestions that will get our movie studio into the tail end of the distribution. Lets see if the production budget can give us more information related to this"
   ]
  },
  {
   "cell_type": "code",
   "execution_count": 160,
   "metadata": {},
   "outputs": [
    {
     "data": {
      "text/plain": [
       "0    6.532577\n",
       "1    2.546673\n",
       "2    0.427892\n",
       "3    4.243841\n",
       "4    4.153696\n",
       "Name: bg_ratio, dtype: float64"
      ]
     },
     "execution_count": 160,
     "metadata": {},
     "output_type": "execute_result"
    }
   ],
   "source": [
    "# Lets define a feature called budget to gross ratio \n",
    "budget_df['bg_ratio'] = budget_df['worldwide_gross']/budget_df['production_budget']\n",
    "budget_df.bg_ratio.head()"
   ]
  },
  {
   "cell_type": "markdown",
   "metadata": {},
   "source": [
    "This ratio can be interpreted as \"for every dollar spent on production, how much did it gross worldwide?\""
   ]
  },
  {
   "cell_type": "code",
   "execution_count": 161,
   "metadata": {},
   "outputs": [
    {
     "data": {
      "text/plain": [
       "<AxesSubplot:ylabel='Frequency'>"
      ]
     },
     "execution_count": 161,
     "metadata": {},
     "output_type": "execute_result"
    },
    {
     "data": {
      "image/png": "[encoded data removed]",
      "text/plain": [
       "<Figure size 432x288 with 1 Axes>"
      ]
     },
     "metadata": {
      "needs_background": "light"
     },
     "output_type": "display_data"
    }
   ],
   "source": [
    "# Lets look at the distribution of the bg ratio\n",
    "budget_df['bg_ratio'].plot.hist()"
   ]
  },
  {
   "cell_type": "code",
   "execution_count": 162,
   "metadata": {},
   "outputs": [
    {
     "data": {
      "text/plain": [
       "<AxesSubplot:ylabel='movie'>"
      ]
     },
     "execution_count": 162,
     "metadata": {},
     "output_type": "execute_result"
    },
    {
     "data": {
      "image/png": "[encoded data removed]",
      "text/plain": [
       "<Figure size 432x288 with 1 Axes>"
      ]
     },
     "metadata": {
      "needs_background": "light"
     },
     "output_type": "display_data"
    }
   ],
   "source": [
    "# It looks like there is are some outliers, lets see the top 10 best films in terms of bg_ratio\n",
    "budget_df.sort_values(by='bg_ratio', ascending=False)[:10].plot.barh('movie', 'bg_ratio')"
   ]
  },
  {
   "cell_type": "markdown",
   "metadata": {},
   "source": [
    "Off first glance it seems like a lot of these are horror films, indicating that the best bang for your buck is to do horror."
   ]
  },
  {
   "cell_type": "code",
   "execution_count": 163,
   "metadata": {},
   "outputs": [
    {
     "data": {
      "text/plain": [
       "37.39333318084346"
      ]
     },
     "execution_count": 163,
     "metadata": {},
     "output_type": "execute_result"
    }
   ],
   "source": [
    "# Lets give some ordinality to our budgets to define low budget and high budget movies\n",
    "avg_budget = budget_df['production_budget'].mean()\n",
    "avg_budget"
   ]
  },
  {
   "cell_type": "code",
   "execution_count": 164,
   "metadata": {},
   "outputs": [],
   "source": [
    "# Create a column that represents high budget and low budget movies\n",
    "budget_df['high_budget'] = (budget_df['production_budget'] > avg_budget).astype(int)"
   ]
  },
  {
   "cell_type": "code",
   "execution_count": 167,
   "metadata": {},
   "outputs": [
    {
     "data": {
      "text/plain": [
       "<AxesSubplot:xlabel='high_budget'>"
      ]
     },
     "execution_count": 167,
     "metadata": {},
     "output_type": "execute_result"
    },
    {
     "data": {
      "image/png": "[encoded data removed]",
      "text/plain": [
       "<Figure size 432x288 with 1 Axes>"
      ]
     },
     "metadata": {
      "needs_background": "light"
     },
     "output_type": "display_data"
    }
   ],
   "source": [
    "# Lets see the average and median bg_ratio for high budget and low budget films\n",
    "budget_df.groupby('high_budget').median()['bg_ratio'].plot.bar()"
   ]
  },
  {
   "cell_type": "code",
   "execution_count": 168,
   "metadata": {},
   "outputs": [
    {
     "data": {
      "text/plain": [
       "<AxesSubplot:xlabel='high_budget'>"
      ]
     },
     "execution_count": 168,
     "metadata": {},
     "output_type": "execute_result"
    },
    {
     "data": {
      "image/png": "[encoded data removed]",
      "text/plain": [
       "<Figure size 432x288 with 1 Axes>"
      ]
     },
     "metadata": {
      "needs_background": "light"
     },
     "output_type": "display_data"
    }
   ],
   "source": [
    "budget_df.groupby('high_budget').mean()['bg_ratio'].plot.bar()"
   ]
  },
  {
   "cell_type": "markdown",
   "metadata": {},
   "source": [
    "We can see that there is a difference between mean and median, and it likely has to do with the fact that there are some very highly grossing movies that spent basically nothing on production. Maybe we can do a hypothesis test here to determine if bg_ratio mean is significantly different? "
   ]
  },
  {
   "cell_type": "code",
   "execution_count": 169,
   "metadata": {},
   "outputs": [
    {
     "data": {
      "text/html": [
       "<div>\n",
       "<style scoped>\n",
       "    .dataframe tbody tr th:only-of-type {\n",
       "        vertical-align: middle;\n",
       "    }\n",
       "\n",
       "    .dataframe tbody tr th {\n",
       "        vertical-align: top;\n",
       "    }\n",
       "\n",
       "    .dataframe thead th {\n",
       "        text-align: right;\n",
       "    }\n",
       "</style>\n",
       "<table border=\"1\" class=\"dataframe\">\n",
       "  <thead>\n",
       "    <tr style=\"text-align: right;\">\n",
       "      <th></th>\n",
       "      <th>id</th>\n",
       "      <th>release_date</th>\n",
       "      <th>production_budget</th>\n",
       "      <th>domestic_gross</th>\n",
       "      <th>worldwide_gross</th>\n",
       "      <th>bg_ratio</th>\n",
       "    </tr>\n",
       "    <tr>\n",
       "      <th>high_budget</th>\n",
       "      <th></th>\n",
       "      <th></th>\n",
       "      <th></th>\n",
       "      <th></th>\n",
       "      <th></th>\n",
       "      <th></th>\n",
       "    </tr>\n",
       "  </thead>\n",
       "  <tbody>\n",
       "    <tr>\n",
       "      <th>0</th>\n",
       "      <td>816.391252</td>\n",
       "      <td>32.609952</td>\n",
       "      <td>111.062855</td>\n",
       "      <td>970.819247</td>\n",
       "      <td>3449.031944</td>\n",
       "      <td>306.627911</td>\n",
       "    </tr>\n",
       "    <tr>\n",
       "      <th>1</th>\n",
       "      <td>823.278158</td>\n",
       "      <td>35.528362</td>\n",
       "      <td>2676.252320</td>\n",
       "      <td>9985.159605</td>\n",
       "      <td>74423.551400</td>\n",
       "      <td>4.697645</td>\n",
       "    </tr>\n",
       "  </tbody>\n",
       "</table>\n",
       "</div>"
      ],
      "text/plain": [
       "                     id  release_date  production_budget  domestic_gross  \\\n",
       "high_budget                                                                \n",
       "0            816.391252     32.609952         111.062855      970.819247   \n",
       "1            823.278158     35.528362        2676.252320     9985.159605   \n",
       "\n",
       "             worldwide_gross    bg_ratio  \n",
       "high_budget                               \n",
       "0                3449.031944  306.627911  \n",
       "1               74423.551400    4.697645  "
      ]
     },
     "execution_count": 169,
     "metadata": {},
     "output_type": "execute_result"
    }
   ],
   "source": [
    "# Lets see if the variances are equal \n",
    "budget_df.groupby('high_budget').var()"
   ]
  },
  {
   "cell_type": "markdown",
   "metadata": {},
   "source": [
    "The variances are not equal at all (most likely due to the outliers) so maybe a t test here is not appropriate. "
   ]
  },
  {
   "cell_type": "markdown",
   "metadata": {},
   "source": [
    "# IMDB Database"
   ]
  },
  {
   "cell_type": "code",
   "execution_count": null,
   "metadata": {},
   "outputs": [],
   "source": []
  },
  {
   "cell_type": "code",
   "execution_count": null,
   "metadata": {},
   "outputs": [],
   "source": []
  },
  {
   "cell_type": "code",
   "execution_count": null,
   "metadata": {},
   "outputs": [],
   "source": []
  },
  {
   "cell_type": "code",
   "execution_count": null,
   "metadata": {},
   "outputs": [],
   "source": []
  },
  {
   "cell_type": "code",
   "execution_count": null,
   "metadata": {},
   "outputs": [],
   "source": []
  },
  {
   "cell_type": "code",
   "execution_count": null,
   "metadata": {},
   "outputs": [],
   "source": []
  },
  {
   "cell_type": "code",
   "execution_count": null,
   "metadata": {},
   "outputs": [],
   "source": []
  },
  {
   "cell_type": "code",
   "execution_count": null,
   "metadata": {},
   "outputs": [],
   "source": []
  },
  {
   "cell_type": "markdown",
   "metadata": {},
   "source": [
    "# Luis Estrada "
   ]
  },
  {
   "cell_type": "code",
   "execution_count": null,
   "metadata": {},
   "outputs": [],
   "source": []
  },
  {
   "cell_type": "markdown",
   "metadata": {},
   "source": [
    "# Kilmar Lazo "
   ]
  },
  {
   "cell_type": "code",
   "execution_count": null,
   "metadata": {},
   "outputs": [],
   "source": []
  },
  {
   "cell_type": "markdown",
   "metadata": {},
   "source": [
    "# Michael Eugene"
   ]
  },
  {
   "cell_type": "code",
   "execution_count": null,
   "metadata": {},
   "outputs": [],
   "source": []
  }
 ],
 "metadata": {
  "kernelspec": {
   "display_name": "Python 3.8.5 ('PythonCPU')",
   "language": "python",
   "name": "python3"
  },
  "language_info": {
   "codemirror_mode": {
    "name": "ipython",
    "version": 3
   },
   "file_extension": ".py",
   "mimetype": "text/x-python",
   "name": "python",
   "nbconvert_exporter": "python",
   "pygments_lexer": "ipython3",
   "version": "3.8.5"
  },
  "varInspector": {
   "cols": {
    "lenName": 16,
    "lenType": 16,
    "lenVar": 40
   },
   "kernels_config": {
    "python": {
     "delete_cmd_postfix": "",
     "delete_cmd_prefix": "del ",
     "library": "var_list.py",
     "varRefreshCmd": "print(var_dic_list())"
    },
    "r": {
     "delete_cmd_postfix": ") ",
     "delete_cmd_prefix": "rm(",
     "library": "var_list.r",
     "varRefreshCmd": "cat(var_dic_list()) "
    }
   },
   "types_to_exclude": [
    "module",
    "function",
    "builtin_function_or_method",
    "instance",
    "_Feature"
   ],
   "window_display": false
  },
  "vscode": {
   "interpreter": {
    "hash": "9cca26b304747954b89d6fec9a2f0dee8e78fc34983bf7a6f8cdded16a177a0b"
   }
  }
 },
 "nbformat": 4,
 "nbformat_minor": 2
}
