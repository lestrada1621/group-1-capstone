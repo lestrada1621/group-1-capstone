{
 "cells": [
  {
   "cell_type": "markdown",
   "metadata": {},
   "source": [
    "# Group 1 Capstone Project Work\n",
    "### Make sure to make / checkout your own branch before making changes"
   ]
  },
  {
   "cell_type": "markdown",
   "metadata": {},
   "source": [
    "# Maddie Hince"
   ]
  },
  {
   "cell_type": "code",
   "execution_count": 318,
   "metadata": {
    "ExecuteTime": {
     "end_time": "2022-08-15T20:48:02.493562Z",
     "start_time": "2022-08-15T20:48:02.220561Z"
    }
   },
   "outputs": [],
   "source": [
    "import pandas as pd\n",
    "import sqlite3\n",
    "import matplotlib.pyplot as plt\n",
    "%matplotlib inline\n",
    "import seaborn as sns\n",
    "\n",
    "\n",
    "movie_gross_df = pd.read_csv('zippedData/bom.movie_gross.csv.gz')\n",
    "                              \n",
    "movie_info_df = pd.read_csv('zippedData/rt.movie_info.tsv.gz', delimiter= '\\t')\n",
    "                            \n",
    "reviews_df = pd.read_csv('zippedData/rt.reviews.tsv.gz', delimiter='\\t', encoding = 'latin')\n",
    "\n",
    "movies_df = pd.read_csv('zippedData/tmdb.movies.csv.gz')\n",
    "                            \n",
    "movie_budgets_df = pd.read_csv(\"zippedData/tn.movie_budgets.csv.gz\",index_col=0)\n",
    "\n",
    "conn = sqlite3.connect('zippedData/im.db')\n",
    "\n"
   ]
  },
  {
   "cell_type": "markdown",
   "metadata": {},
   "source": [
    "# Cat Murad"
   ]
  },
  {
   "cell_type": "code",
   "execution_count": null,
   "metadata": {},
   "outputs": [],
   "source": []
  },
  {
   "cell_type": "markdown",
   "metadata": {},
   "source": [
    "# Elijah Soba"
   ]
  },
  {
   "cell_type": "code",
   "execution_count": null,
   "metadata": {},
   "outputs": [],
   "source": []
  },
  {
   "cell_type": "markdown",
   "metadata": {},
   "source": [
    "# Luis Estrada "
   ]
  },
  {
   "cell_type": "code",
   "execution_count": null,
   "metadata": {},
   "outputs": [],
   "source": []
  },
  {
   "cell_type": "markdown",
   "metadata": {},
   "source": [
    "# Kilmar Lazo "
   ]
  },
  {
   "cell_type": "code",
   "execution_count": null,
   "metadata": {},
   "outputs": [],
   "source": []
  },
  {
   "cell_type": "markdown",
   "metadata": {},
   "source": [
    "# Michael Eugene"
   ]
  },
  {
   "cell_type": "code",
   "execution_count": 56,
   "metadata": {
    "ExecuteTime": {
     "end_time": "2022-08-16T20:52:31.219786Z",
     "start_time": "2022-08-16T20:52:30.944306Z"
    }
   },
   "outputs": [],
   "source": [
    "import pandas as pd\n",
    "import sqlite3\n",
    "import matplotlib.pyplot as plt\n",
    "%matplotlib inline\n",
    "import seaborn as sns\n",
    "import numpy as np\n",
    "\n",
    "movie_gross_df = pd.read_csv('zippedData/bom.movie_gross.csv.gz')\n",
    "                              \n",
    "movie_info_df = pd.read_csv('zippedData/rt.movie_info.tsv.gz', delimiter= '\\t')\n",
    "                            \n",
    "reviews_df = pd.read_csv('zippedData/rt.reviews.tsv.gz', delimiter='\\t', encoding = 'latin')\n",
    "\n",
    "movies_df = pd.read_csv('zippedData/tmdb.movies.csv.gz')\n",
    "                            \n",
    "movie_budgets_df = pd.read_csv(\"zippedData/tn.movie_budgets.csv.gz\",index_col=0)\n",
    "\n",
    "conn = sqlite3.connect('zippedData/im.db')"
   ]
  },
  {
   "cell_type": "code",
   "execution_count": 57,
   "metadata": {
    "ExecuteTime": {
     "end_time": "2022-08-16T20:52:32.850457Z",
     "start_time": "2022-08-16T20:52:32.839784Z"
    }
   },
   "outputs": [],
   "source": [
    "df = movie_budgets_df"
   ]
  },
  {
   "cell_type": "code",
   "execution_count": 58,
   "metadata": {
    "ExecuteTime": {
     "end_time": "2022-08-16T20:52:33.675319Z",
     "start_time": "2022-08-16T20:52:33.664766Z"
    }
   },
   "outputs": [
    {
     "name": "stdout",
     "output_type": "stream",
     "text": [
      "<class 'pandas.core.frame.DataFrame'>\n",
      "Int64Index: 5782 entries, 1 to 82\n",
      "Data columns (total 5 columns):\n",
      " #   Column             Non-Null Count  Dtype \n",
      "---  ------             --------------  ----- \n",
      " 0   release_date       5782 non-null   object\n",
      " 1   movie              5782 non-null   object\n",
      " 2   production_budget  5782 non-null   object\n",
      " 3   domestic_gross     5782 non-null   object\n",
      " 4   worldwide_gross    5782 non-null   object\n",
      "dtypes: object(5)\n",
      "memory usage: 271.0+ KB\n"
     ]
    }
   ],
   "source": [
    "movie_budgets_df.info()"
   ]
  },
  {
   "cell_type": "markdown",
   "metadata": {},
   "source": [
    " Data Cleaning"
   ]
  },
  {
   "cell_type": "code",
   "execution_count": 59,
   "metadata": {
    "ExecuteTime": {
     "end_time": "2022-08-16T20:52:35.582911Z",
     "start_time": "2022-08-16T20:52:35.556218Z"
    }
   },
   "outputs": [],
   "source": [
    "df = df.apply(lambda x: x.str.replace(',',''))\n",
    "df['domestic_gross'] = df['domestic_gross'].fillna(0.0).str.replace('[$,]', '').astype('float')"
   ]
  },
  {
   "cell_type": "code",
   "execution_count": 60,
   "metadata": {
    "ExecuteTime": {
     "end_time": "2022-08-16T20:52:38.655061Z",
     "start_time": "2022-08-16T20:52:38.636752Z"
    }
   },
   "outputs": [],
   "source": [
    "df['domestic_gross'] = df['domestic_gross'].replace(',', '')\n",
    "df['domestic_gross'] = df['domestic_gross'].replace('$', '')\n"
   ]
  },
  {
   "cell_type": "code",
   "execution_count": 61,
   "metadata": {
    "ExecuteTime": {
     "end_time": "2022-08-16T20:52:39.726913Z",
     "start_time": "2022-08-16T20:52:39.712461Z"
    }
   },
   "outputs": [],
   "source": [
    "df['production_budget'] = df['production_budget'].str.replace(',', '')\n",
    "df['production_budget'] = df['production_budget'].str.replace('$', '')\n"
   ]
  },
  {
   "cell_type": "code",
   "execution_count": 62,
   "metadata": {
    "ExecuteTime": {
     "end_time": "2022-08-16T20:52:41.515502Z",
     "start_time": "2022-08-16T20:52:41.495304Z"
    }
   },
   "outputs": [],
   "source": [
    "df = df.apply(lambda x: x.replace('$',''))\n",
    "df['production_budget'] = df['production_budget'].fillna(0.0).replace('[$,]', '').astype('float')"
   ]
  },
  {
   "cell_type": "code",
   "execution_count": 80,
   "metadata": {
    "ExecuteTime": {
     "end_time": "2022-08-16T20:55:45.750410Z",
     "start_time": "2022-08-16T20:55:45.740418Z"
    }
   },
   "outputs": [],
   "source": [
    "df['worldwide_gross'] = df['worldwide_gross'].str.replace(',', '')\n",
    "df['worldwide_gross'] = df['worldwide_gross'].str.replace('$', '')\n"
   ]
  },
  {
   "cell_type": "code",
   "execution_count": 81,
   "metadata": {
    "ExecuteTime": {
     "end_time": "2022-08-16T20:55:51.643016Z",
     "start_time": "2022-08-16T20:55:51.616786Z"
    }
   },
   "outputs": [
    {
     "data": {
      "text/html": [
       "<div>\n",
       "<style scoped>\n",
       "    .dataframe tbody tr th:only-of-type {\n",
       "        vertical-align: middle;\n",
       "    }\n",
       "\n",
       "    .dataframe tbody tr th {\n",
       "        vertical-align: top;\n",
       "    }\n",
       "\n",
       "    .dataframe thead th {\n",
       "        text-align: right;\n",
       "    }\n",
       "</style>\n",
       "<table border=\"1\" class=\"dataframe\">\n",
       "  <thead>\n",
       "    <tr style=\"text-align: right;\">\n",
       "      <th></th>\n",
       "      <th>release_date</th>\n",
       "      <th>movie</th>\n",
       "      <th>production_budget</th>\n",
       "      <th>domestic_gross</th>\n",
       "      <th>worldwide_gross</th>\n",
       "    </tr>\n",
       "    <tr>\n",
       "      <th>id</th>\n",
       "      <th></th>\n",
       "      <th></th>\n",
       "      <th></th>\n",
       "      <th></th>\n",
       "      <th></th>\n",
       "    </tr>\n",
       "  </thead>\n",
       "  <tbody>\n",
       "    <tr>\n",
       "      <th>1</th>\n",
       "      <td>2009</td>\n",
       "      <td>Avatar</td>\n",
       "      <td>425000000.0</td>\n",
       "      <td>760507625.0</td>\n",
       "      <td>2776345279</td>\n",
       "    </tr>\n",
       "    <tr>\n",
       "      <th>2</th>\n",
       "      <td>2011</td>\n",
       "      <td>Pirates of the Caribbean: On Stranger Tides</td>\n",
       "      <td>410600000.0</td>\n",
       "      <td>241063875.0</td>\n",
       "      <td>1045663875</td>\n",
       "    </tr>\n",
       "    <tr>\n",
       "      <th>3</th>\n",
       "      <td>2019</td>\n",
       "      <td>Dark Phoenix</td>\n",
       "      <td>350000000.0</td>\n",
       "      <td>42762350.0</td>\n",
       "      <td>149762350</td>\n",
       "    </tr>\n",
       "    <tr>\n",
       "      <th>4</th>\n",
       "      <td>2015</td>\n",
       "      <td>Avengers: Age of Ultron</td>\n",
       "      <td>330600000.0</td>\n",
       "      <td>459005868.0</td>\n",
       "      <td>1403013963</td>\n",
       "    </tr>\n",
       "    <tr>\n",
       "      <th>5</th>\n",
       "      <td>2017</td>\n",
       "      <td>Star Wars Ep. VIII: The Last Jedi</td>\n",
       "      <td>317000000.0</td>\n",
       "      <td>620181382.0</td>\n",
       "      <td>1316721747</td>\n",
       "    </tr>\n",
       "    <tr>\n",
       "      <th>6</th>\n",
       "      <td>2015</td>\n",
       "      <td>Star Wars Ep. VII: The Force Awakens</td>\n",
       "      <td>306000000.0</td>\n",
       "      <td>936662225.0</td>\n",
       "      <td>2053311220</td>\n",
       "    </tr>\n",
       "    <tr>\n",
       "      <th>7</th>\n",
       "      <td>2018</td>\n",
       "      <td>Avengers: Infinity War</td>\n",
       "      <td>300000000.0</td>\n",
       "      <td>678815482.0</td>\n",
       "      <td>2048134200</td>\n",
       "    </tr>\n",
       "    <tr>\n",
       "      <th>8</th>\n",
       "      <td>2007</td>\n",
       "      <td>Pirates of the Caribbean: At Worldâs End</td>\n",
       "      <td>300000000.0</td>\n",
       "      <td>309420425.0</td>\n",
       "      <td>963420425</td>\n",
       "    </tr>\n",
       "    <tr>\n",
       "      <th>9</th>\n",
       "      <td>2017</td>\n",
       "      <td>Justice League</td>\n",
       "      <td>300000000.0</td>\n",
       "      <td>229024295.0</td>\n",
       "      <td>655945209</td>\n",
       "    </tr>\n",
       "    <tr>\n",
       "      <th>10</th>\n",
       "      <td>2015</td>\n",
       "      <td>Spectre</td>\n",
       "      <td>300000000.0</td>\n",
       "      <td>200074175.0</td>\n",
       "      <td>879620923</td>\n",
       "    </tr>\n",
       "    <tr>\n",
       "      <th>11</th>\n",
       "      <td>2012</td>\n",
       "      <td>The Dark Knight Rises</td>\n",
       "      <td>275000000.0</td>\n",
       "      <td>448139099.0</td>\n",
       "      <td>1084439099</td>\n",
       "    </tr>\n",
       "    <tr>\n",
       "      <th>12</th>\n",
       "      <td>2018</td>\n",
       "      <td>Solo: A Star Wars Story</td>\n",
       "      <td>275000000.0</td>\n",
       "      <td>213767512.0</td>\n",
       "      <td>393151347</td>\n",
       "    </tr>\n",
       "    <tr>\n",
       "      <th>13</th>\n",
       "      <td>2013</td>\n",
       "      <td>The Lone Ranger</td>\n",
       "      <td>275000000.0</td>\n",
       "      <td>89302115.0</td>\n",
       "      <td>260002115</td>\n",
       "    </tr>\n",
       "    <tr>\n",
       "      <th>14</th>\n",
       "      <td>2012</td>\n",
       "      <td>John Carter</td>\n",
       "      <td>275000000.0</td>\n",
       "      <td>73058679.0</td>\n",
       "      <td>282778100</td>\n",
       "    </tr>\n",
       "    <tr>\n",
       "      <th>15</th>\n",
       "      <td>2010</td>\n",
       "      <td>Tangled</td>\n",
       "      <td>260000000.0</td>\n",
       "      <td>200821936.0</td>\n",
       "      <td>586477240</td>\n",
       "    </tr>\n",
       "  </tbody>\n",
       "</table>\n",
       "</div>"
      ],
      "text/plain": [
       "    release_date                                        movie  \\\n",
       "id                                                              \n",
       "1           2009                                       Avatar   \n",
       "2           2011  Pirates of the Caribbean: On Stranger Tides   \n",
       "3           2019                                 Dark Phoenix   \n",
       "4           2015                      Avengers: Age of Ultron   \n",
       "5           2017            Star Wars Ep. VIII: The Last Jedi   \n",
       "6           2015         Star Wars Ep. VII: The Force Awakens   \n",
       "7           2018                       Avengers: Infinity War   \n",
       "8           2007   Pirates of the Caribbean: At Worldâs End   \n",
       "9           2017                               Justice League   \n",
       "10          2015                                      Spectre   \n",
       "11          2012                        The Dark Knight Rises   \n",
       "12          2018                      Solo: A Star Wars Story   \n",
       "13          2013                              The Lone Ranger   \n",
       "14          2012                                  John Carter   \n",
       "15          2010                                      Tangled   \n",
       "\n",
       "    production_budget  domestic_gross worldwide_gross  \n",
       "id                                                     \n",
       "1         425000000.0     760507625.0      2776345279  \n",
       "2         410600000.0     241063875.0      1045663875  \n",
       "3         350000000.0      42762350.0       149762350  \n",
       "4         330600000.0     459005868.0      1403013963  \n",
       "5         317000000.0     620181382.0      1316721747  \n",
       "6         306000000.0     936662225.0      2053311220  \n",
       "7         300000000.0     678815482.0      2048134200  \n",
       "8         300000000.0     309420425.0       963420425  \n",
       "9         300000000.0     229024295.0       655945209  \n",
       "10        300000000.0     200074175.0       879620923  \n",
       "11        275000000.0     448139099.0      1084439099  \n",
       "12        275000000.0     213767512.0       393151347  \n",
       "13        275000000.0      89302115.0       260002115  \n",
       "14        275000000.0      73058679.0       282778100  \n",
       "15        260000000.0     200821936.0       586477240  "
      ]
     },
     "execution_count": 81,
     "metadata": {},
     "output_type": "execute_result"
    }
   ],
   "source": [
    "sorted_df=df.sort_values(by ='production_budget', ascending = False)\n",
    "sorted_df.head(15)"
   ]
  },
  {
   "cell_type": "code",
   "execution_count": 14,
   "metadata": {
    "ExecuteTime": {
     "end_time": "2022-08-16T20:37:45.703915Z",
     "start_time": "2022-08-16T20:37:45.694913Z"
    }
   },
   "outputs": [],
   "source": [
    "my_fn =lambda x:float(x.replace(',',''))"
   ]
  },
  {
   "cell_type": "code",
   "execution_count": 16,
   "metadata": {
    "ExecuteTime": {
     "end_time": "2022-08-16T20:37:53.800198Z",
     "start_time": "2022-08-16T20:37:53.787196Z"
    }
   },
   "outputs": [],
   "source": [
    "df[\"domestic_gross\"] =df[\"domestic_gross\"].map(my_fn) "
   ]
  },
  {
   "cell_type": "code",
   "execution_count": 65,
   "metadata": {
    "ExecuteTime": {
     "end_time": "2022-08-16T20:53:09.879636Z",
     "start_time": "2022-08-16T20:53:09.860364Z"
    }
   },
   "outputs": [
    {
     "data": {
      "text/html": [
       "<div>\n",
       "<style scoped>\n",
       "    .dataframe tbody tr th:only-of-type {\n",
       "        vertical-align: middle;\n",
       "    }\n",
       "\n",
       "    .dataframe tbody tr th {\n",
       "        vertical-align: top;\n",
       "    }\n",
       "\n",
       "    .dataframe thead th {\n",
       "        text-align: right;\n",
       "    }\n",
       "</style>\n",
       "<table border=\"1\" class=\"dataframe\">\n",
       "  <thead>\n",
       "    <tr style=\"text-align: right;\">\n",
       "      <th></th>\n",
       "      <th>release_date</th>\n",
       "      <th>movie</th>\n",
       "      <th>production_budget</th>\n",
       "      <th>domestic_gross</th>\n",
       "      <th>worldwide_gross</th>\n",
       "    </tr>\n",
       "    <tr>\n",
       "      <th>id</th>\n",
       "      <th></th>\n",
       "      <th></th>\n",
       "      <th></th>\n",
       "      <th></th>\n",
       "      <th></th>\n",
       "    </tr>\n",
       "  </thead>\n",
       "  <tbody>\n",
       "    <tr>\n",
       "      <th>6</th>\n",
       "      <td>Dec 18 2015</td>\n",
       "      <td>Star Wars Ep. VII: The Force Awakens</td>\n",
       "      <td>306000000.0</td>\n",
       "      <td>936662225.0</td>\n",
       "      <td>2053311220</td>\n",
       "    </tr>\n",
       "    <tr>\n",
       "      <th>1</th>\n",
       "      <td>Dec 18 2009</td>\n",
       "      <td>Avatar</td>\n",
       "      <td>425000000.0</td>\n",
       "      <td>760507625.0</td>\n",
       "      <td>2776345279</td>\n",
       "    </tr>\n",
       "    <tr>\n",
       "      <th>42</th>\n",
       "      <td>Feb 16 2018</td>\n",
       "      <td>Black Panther</td>\n",
       "      <td>200000000.0</td>\n",
       "      <td>700059566.0</td>\n",
       "      <td>1348258224</td>\n",
       "    </tr>\n",
       "    <tr>\n",
       "      <th>7</th>\n",
       "      <td>Apr 27 2018</td>\n",
       "      <td>Avengers: Infinity War</td>\n",
       "      <td>300000000.0</td>\n",
       "      <td>678815482.0</td>\n",
       "      <td>2048134200</td>\n",
       "    </tr>\n",
       "    <tr>\n",
       "      <th>43</th>\n",
       "      <td>Dec 19 1997</td>\n",
       "      <td>Titanic</td>\n",
       "      <td>200000000.0</td>\n",
       "      <td>659363944.0</td>\n",
       "      <td>2208208395</td>\n",
       "    </tr>\n",
       "    <tr>\n",
       "      <th>34</th>\n",
       "      <td>Jun 12 2015</td>\n",
       "      <td>Jurassic World</td>\n",
       "      <td>215000000.0</td>\n",
       "      <td>652270625.0</td>\n",
       "      <td>1648854864</td>\n",
       "    </tr>\n",
       "    <tr>\n",
       "      <th>27</th>\n",
       "      <td>May 4 2012</td>\n",
       "      <td>The Avengers</td>\n",
       "      <td>225000000.0</td>\n",
       "      <td>623279547.0</td>\n",
       "      <td>1517935897</td>\n",
       "    </tr>\n",
       "    <tr>\n",
       "      <th>5</th>\n",
       "      <td>Dec 15 2017</td>\n",
       "      <td>Star Wars Ep. VIII: The Last Jedi</td>\n",
       "      <td>317000000.0</td>\n",
       "      <td>620181382.0</td>\n",
       "      <td>1316721747</td>\n",
       "    </tr>\n",
       "    <tr>\n",
       "      <th>44</th>\n",
       "      <td>Jun 15 2018</td>\n",
       "      <td>Incredibles 2</td>\n",
       "      <td>200000000.0</td>\n",
       "      <td>608581744.0</td>\n",
       "      <td>1242520711</td>\n",
       "    </tr>\n",
       "    <tr>\n",
       "      <th>75</th>\n",
       "      <td>Jul 18 2008</td>\n",
       "      <td>The Dark Knight</td>\n",
       "      <td>185000000.0</td>\n",
       "      <td>533720947.0</td>\n",
       "      <td>1001996207</td>\n",
       "    </tr>\n",
       "    <tr>\n",
       "      <th>45</th>\n",
       "      <td>Dec 16 2016</td>\n",
       "      <td>Rogue One: A Star Wars Story</td>\n",
       "      <td>200000000.0</td>\n",
       "      <td>532177324.0</td>\n",
       "      <td>1049102856</td>\n",
       "    </tr>\n",
       "    <tr>\n",
       "      <th>35</th>\n",
       "      <td>Mar 17 2017</td>\n",
       "      <td>Beauty and the Beast</td>\n",
       "      <td>160000000.0</td>\n",
       "      <td>504014165.0</td>\n",
       "      <td>1259199706</td>\n",
       "    </tr>\n",
       "    <tr>\n",
       "      <th>46</th>\n",
       "      <td>Jun 17 2016</td>\n",
       "      <td>Finding Dory</td>\n",
       "      <td>200000000.0</td>\n",
       "      <td>486295561.0</td>\n",
       "      <td>1021215193</td>\n",
       "    </tr>\n",
       "    <tr>\n",
       "      <th>4</th>\n",
       "      <td>May 19 1999</td>\n",
       "      <td>Star Wars Ep. I: The Phantom Menace</td>\n",
       "      <td>115000000.0</td>\n",
       "      <td>474544677.0</td>\n",
       "      <td>1027044677</td>\n",
       "    </tr>\n",
       "    <tr>\n",
       "      <th>65</th>\n",
       "      <td>May 25 1977</td>\n",
       "      <td>Star Wars Ep. IV: A New Hope</td>\n",
       "      <td>11000000.0</td>\n",
       "      <td>460998007.0</td>\n",
       "      <td>786598007</td>\n",
       "    </tr>\n",
       "  </tbody>\n",
       "</table>\n",
       "</div>"
      ],
      "text/plain": [
       "   release_date                                 movie  production_budget  \\\n",
       "id                                                                         \n",
       "6   Dec 18 2015  Star Wars Ep. VII: The Force Awakens        306000000.0   \n",
       "1   Dec 18 2009                                Avatar        425000000.0   \n",
       "42  Feb 16 2018                         Black Panther        200000000.0   \n",
       "7   Apr 27 2018                Avengers: Infinity War        300000000.0   \n",
       "43  Dec 19 1997                               Titanic        200000000.0   \n",
       "34  Jun 12 2015                        Jurassic World        215000000.0   \n",
       "27   May 4 2012                          The Avengers        225000000.0   \n",
       "5   Dec 15 2017     Star Wars Ep. VIII: The Last Jedi        317000000.0   \n",
       "44  Jun 15 2018                         Incredibles 2        200000000.0   \n",
       "75  Jul 18 2008                       The Dark Knight        185000000.0   \n",
       "45  Dec 16 2016          Rogue One: A Star Wars Story        200000000.0   \n",
       "35  Mar 17 2017                  Beauty and the Beast        160000000.0   \n",
       "46  Jun 17 2016                          Finding Dory        200000000.0   \n",
       "4   May 19 1999   Star Wars Ep. I: The Phantom Menace        115000000.0   \n",
       "65  May 25 1977          Star Wars Ep. IV: A New Hope         11000000.0   \n",
       "\n",
       "    domestic_gross worldwide_gross  \n",
       "id                                  \n",
       "6      936662225.0      2053311220  \n",
       "1      760507625.0      2776345279  \n",
       "42     700059566.0      1348258224  \n",
       "7      678815482.0      2048134200  \n",
       "43     659363944.0      2208208395  \n",
       "34     652270625.0      1648854864  \n",
       "27     623279547.0      1517935897  \n",
       "5      620181382.0      1316721747  \n",
       "44     608581744.0      1242520711  \n",
       "75     533720947.0      1001996207  \n",
       "45     532177324.0      1049102856  \n",
       "35     504014165.0      1259199706  \n",
       "46     486295561.0      1021215193  \n",
       "4      474544677.0      1027044677  \n",
       "65     460998007.0       786598007  "
      ]
     },
     "execution_count": 65,
     "metadata": {},
     "output_type": "execute_result"
    }
   ],
   "source": [
    "sorted_df=df.sort_values(by ='domestic_gross', ascending = False)\n",
    "sorted_df.head(15)"
   ]
  },
  {
   "cell_type": "code",
   "execution_count": 66,
   "metadata": {
    "ExecuteTime": {
     "end_time": "2022-08-16T20:53:24.762562Z",
     "start_time": "2022-08-16T20:53:24.742537Z"
    }
   },
   "outputs": [
    {
     "data": {
      "text/html": [
       "<div>\n",
       "<style scoped>\n",
       "    .dataframe tbody tr th:only-of-type {\n",
       "        vertical-align: middle;\n",
       "    }\n",
       "\n",
       "    .dataframe tbody tr th {\n",
       "        vertical-align: top;\n",
       "    }\n",
       "\n",
       "    .dataframe thead th {\n",
       "        text-align: right;\n",
       "    }\n",
       "</style>\n",
       "<table border=\"1\" class=\"dataframe\">\n",
       "  <thead>\n",
       "    <tr style=\"text-align: right;\">\n",
       "      <th></th>\n",
       "      <th>release_date</th>\n",
       "      <th>movie</th>\n",
       "      <th>production_budget</th>\n",
       "      <th>domestic_gross</th>\n",
       "      <th>worldwide_gross</th>\n",
       "    </tr>\n",
       "    <tr>\n",
       "      <th>id</th>\n",
       "      <th></th>\n",
       "      <th></th>\n",
       "      <th></th>\n",
       "      <th></th>\n",
       "      <th></th>\n",
       "    </tr>\n",
       "  </thead>\n",
       "  <tbody>\n",
       "    <tr>\n",
       "      <th>1</th>\n",
       "      <td>Dec 18 2009</td>\n",
       "      <td>Avatar</td>\n",
       "      <td>425000000.0</td>\n",
       "      <td>760507625.0</td>\n",
       "      <td>2776345279</td>\n",
       "    </tr>\n",
       "    <tr>\n",
       "      <th>2</th>\n",
       "      <td>May 20 2011</td>\n",
       "      <td>Pirates of the Caribbean: On Stranger Tides</td>\n",
       "      <td>410600000.0</td>\n",
       "      <td>241063875.0</td>\n",
       "      <td>1045663875</td>\n",
       "    </tr>\n",
       "    <tr>\n",
       "      <th>3</th>\n",
       "      <td>Jun 7 2019</td>\n",
       "      <td>Dark Phoenix</td>\n",
       "      <td>350000000.0</td>\n",
       "      <td>42762350.0</td>\n",
       "      <td>149762350</td>\n",
       "    </tr>\n",
       "    <tr>\n",
       "      <th>4</th>\n",
       "      <td>May 1 2015</td>\n",
       "      <td>Avengers: Age of Ultron</td>\n",
       "      <td>330600000.0</td>\n",
       "      <td>459005868.0</td>\n",
       "      <td>1403013963</td>\n",
       "    </tr>\n",
       "    <tr>\n",
       "      <th>5</th>\n",
       "      <td>Dec 15 2017</td>\n",
       "      <td>Star Wars Ep. VIII: The Last Jedi</td>\n",
       "      <td>317000000.0</td>\n",
       "      <td>620181382.0</td>\n",
       "      <td>1316721747</td>\n",
       "    </tr>\n",
       "    <tr>\n",
       "      <th>6</th>\n",
       "      <td>Dec 18 2015</td>\n",
       "      <td>Star Wars Ep. VII: The Force Awakens</td>\n",
       "      <td>306000000.0</td>\n",
       "      <td>936662225.0</td>\n",
       "      <td>2053311220</td>\n",
       "    </tr>\n",
       "    <tr>\n",
       "      <th>7</th>\n",
       "      <td>Apr 27 2018</td>\n",
       "      <td>Avengers: Infinity War</td>\n",
       "      <td>300000000.0</td>\n",
       "      <td>678815482.0</td>\n",
       "      <td>2048134200</td>\n",
       "    </tr>\n",
       "    <tr>\n",
       "      <th>8</th>\n",
       "      <td>May 24 2007</td>\n",
       "      <td>Pirates of the Caribbean: At Worldâs End</td>\n",
       "      <td>300000000.0</td>\n",
       "      <td>309420425.0</td>\n",
       "      <td>963420425</td>\n",
       "    </tr>\n",
       "    <tr>\n",
       "      <th>9</th>\n",
       "      <td>Nov 17 2017</td>\n",
       "      <td>Justice League</td>\n",
       "      <td>300000000.0</td>\n",
       "      <td>229024295.0</td>\n",
       "      <td>655945209</td>\n",
       "    </tr>\n",
       "    <tr>\n",
       "      <th>10</th>\n",
       "      <td>Nov 6 2015</td>\n",
       "      <td>Spectre</td>\n",
       "      <td>300000000.0</td>\n",
       "      <td>200074175.0</td>\n",
       "      <td>879620923</td>\n",
       "    </tr>\n",
       "    <tr>\n",
       "      <th>11</th>\n",
       "      <td>Jul 20 2012</td>\n",
       "      <td>The Dark Knight Rises</td>\n",
       "      <td>275000000.0</td>\n",
       "      <td>448139099.0</td>\n",
       "      <td>1084439099</td>\n",
       "    </tr>\n",
       "    <tr>\n",
       "      <th>12</th>\n",
       "      <td>May 25 2018</td>\n",
       "      <td>Solo: A Star Wars Story</td>\n",
       "      <td>275000000.0</td>\n",
       "      <td>213767512.0</td>\n",
       "      <td>393151347</td>\n",
       "    </tr>\n",
       "    <tr>\n",
       "      <th>13</th>\n",
       "      <td>Jul 2 2013</td>\n",
       "      <td>The Lone Ranger</td>\n",
       "      <td>275000000.0</td>\n",
       "      <td>89302115.0</td>\n",
       "      <td>260002115</td>\n",
       "    </tr>\n",
       "    <tr>\n",
       "      <th>14</th>\n",
       "      <td>Mar 9 2012</td>\n",
       "      <td>John Carter</td>\n",
       "      <td>275000000.0</td>\n",
       "      <td>73058679.0</td>\n",
       "      <td>282778100</td>\n",
       "    </tr>\n",
       "    <tr>\n",
       "      <th>15</th>\n",
       "      <td>Nov 24 2010</td>\n",
       "      <td>Tangled</td>\n",
       "      <td>260000000.0</td>\n",
       "      <td>200821936.0</td>\n",
       "      <td>586477240</td>\n",
       "    </tr>\n",
       "  </tbody>\n",
       "</table>\n",
       "</div>"
      ],
      "text/plain": [
       "   release_date                                        movie  \\\n",
       "id                                                             \n",
       "1   Dec 18 2009                                       Avatar   \n",
       "2   May 20 2011  Pirates of the Caribbean: On Stranger Tides   \n",
       "3    Jun 7 2019                                 Dark Phoenix   \n",
       "4    May 1 2015                      Avengers: Age of Ultron   \n",
       "5   Dec 15 2017            Star Wars Ep. VIII: The Last Jedi   \n",
       "6   Dec 18 2015         Star Wars Ep. VII: The Force Awakens   \n",
       "7   Apr 27 2018                       Avengers: Infinity War   \n",
       "8   May 24 2007   Pirates of the Caribbean: At Worldâs End   \n",
       "9   Nov 17 2017                               Justice League   \n",
       "10   Nov 6 2015                                      Spectre   \n",
       "11  Jul 20 2012                        The Dark Knight Rises   \n",
       "12  May 25 2018                      Solo: A Star Wars Story   \n",
       "13   Jul 2 2013                              The Lone Ranger   \n",
       "14   Mar 9 2012                                  John Carter   \n",
       "15  Nov 24 2010                                      Tangled   \n",
       "\n",
       "    production_budget  domestic_gross worldwide_gross  \n",
       "id                                                     \n",
       "1         425000000.0     760507625.0      2776345279  \n",
       "2         410600000.0     241063875.0      1045663875  \n",
       "3         350000000.0      42762350.0       149762350  \n",
       "4         330600000.0     459005868.0      1403013963  \n",
       "5         317000000.0     620181382.0      1316721747  \n",
       "6         306000000.0     936662225.0      2053311220  \n",
       "7         300000000.0     678815482.0      2048134200  \n",
       "8         300000000.0     309420425.0       963420425  \n",
       "9         300000000.0     229024295.0       655945209  \n",
       "10        300000000.0     200074175.0       879620923  \n",
       "11        275000000.0     448139099.0      1084439099  \n",
       "12        275000000.0     213767512.0       393151347  \n",
       "13        275000000.0      89302115.0       260002115  \n",
       "14        275000000.0      73058679.0       282778100  \n",
       "15        260000000.0     200821936.0       586477240  "
      ]
     },
     "execution_count": 66,
     "metadata": {},
     "output_type": "execute_result"
    }
   ],
   "source": [
    "sorted_df=df.sort_values(by ='production_budget', ascending = False)\n",
    "sorted_df.head(15)"
   ]
  },
  {
   "cell_type": "code",
   "execution_count": 67,
   "metadata": {
    "ExecuteTime": {
     "end_time": "2022-08-16T20:53:32.020434Z",
     "start_time": "2022-08-16T20:53:31.994409Z"
    }
   },
   "outputs": [
    {
     "data": {
      "text/html": [
       "<div>\n",
       "<style scoped>\n",
       "    .dataframe tbody tr th:only-of-type {\n",
       "        vertical-align: middle;\n",
       "    }\n",
       "\n",
       "    .dataframe tbody tr th {\n",
       "        vertical-align: top;\n",
       "    }\n",
       "\n",
       "    .dataframe thead th {\n",
       "        text-align: right;\n",
       "    }\n",
       "</style>\n",
       "<table border=\"1\" class=\"dataframe\">\n",
       "  <thead>\n",
       "    <tr style=\"text-align: right;\">\n",
       "      <th></th>\n",
       "      <th>release_date</th>\n",
       "      <th>movie</th>\n",
       "      <th>production_budget</th>\n",
       "      <th>domestic_gross</th>\n",
       "      <th>worldwide_gross</th>\n",
       "    </tr>\n",
       "    <tr>\n",
       "      <th>id</th>\n",
       "      <th></th>\n",
       "      <th></th>\n",
       "      <th></th>\n",
       "      <th></th>\n",
       "      <th></th>\n",
       "    </tr>\n",
       "  </thead>\n",
       "  <tbody>\n",
       "    <tr>\n",
       "      <th>63</th>\n",
       "      <td>Apr 1 2011</td>\n",
       "      <td>Insidious</td>\n",
       "      <td>1500000.0</td>\n",
       "      <td>54009150.0</td>\n",
       "      <td>99870886</td>\n",
       "    </tr>\n",
       "    <tr>\n",
       "      <th>48</th>\n",
       "      <td>Oct 27 2017</td>\n",
       "      <td>Thank You for Your Service</td>\n",
       "      <td>20000000.0</td>\n",
       "      <td>9479390.0</td>\n",
       "      <td>9985316</td>\n",
       "    </tr>\n",
       "    <tr>\n",
       "      <th>84</th>\n",
       "      <td>Apr 2 2004</td>\n",
       "      <td>Hellboy</td>\n",
       "      <td>60000000.0</td>\n",
       "      <td>59623958.0</td>\n",
       "      <td>99823958</td>\n",
       "    </tr>\n",
       "    <tr>\n",
       "      <th>98</th>\n",
       "      <td>Aug 8 2001</td>\n",
       "      <td>The Deep End</td>\n",
       "      <td>3000000.0</td>\n",
       "      <td>8823109.0</td>\n",
       "      <td>9981635</td>\n",
       "    </tr>\n",
       "    <tr>\n",
       "      <th>38</th>\n",
       "      <td>Aug 21 2009</td>\n",
       "      <td>Fifty Dead Men Walking</td>\n",
       "      <td>10000000.0</td>\n",
       "      <td>0.0</td>\n",
       "      <td>997921</td>\n",
       "    </tr>\n",
       "    <tr>\n",
       "      <th>14</th>\n",
       "      <td>Mar 21 1980</td>\n",
       "      <td>Mad Max</td>\n",
       "      <td>200000.0</td>\n",
       "      <td>8750000.0</td>\n",
       "      <td>99750000</td>\n",
       "    </tr>\n",
       "    <tr>\n",
       "      <th>62</th>\n",
       "      <td>Dec 31 2016</td>\n",
       "      <td>Airlift (2016)</td>\n",
       "      <td>4400000.0</td>\n",
       "      <td>0.0</td>\n",
       "      <td>9969237</td>\n",
       "    </tr>\n",
       "    <tr>\n",
       "      <th>79</th>\n",
       "      <td>Aug 17 2018</td>\n",
       "      <td>Alpha</td>\n",
       "      <td>51000000.0</td>\n",
       "      <td>35851379.0</td>\n",
       "      <td>99624873</td>\n",
       "    </tr>\n",
       "    <tr>\n",
       "      <th>33</th>\n",
       "      <td>Sep 30 2005</td>\n",
       "      <td>Duma</td>\n",
       "      <td>12000000.0</td>\n",
       "      <td>870067.0</td>\n",
       "      <td>994790</td>\n",
       "    </tr>\n",
       "    <tr>\n",
       "      <th>83</th>\n",
       "      <td>Dec 23 1994</td>\n",
       "      <td>Street Fighter</td>\n",
       "      <td>35000000.0</td>\n",
       "      <td>33423000.0</td>\n",
       "      <td>99423000</td>\n",
       "    </tr>\n",
       "    <tr>\n",
       "      <th>100</th>\n",
       "      <td>Dec 18 1985</td>\n",
       "      <td>Brazil</td>\n",
       "      <td>15000000.0</td>\n",
       "      <td>9929135.0</td>\n",
       "      <td>9932146</td>\n",
       "    </tr>\n",
       "    <tr>\n",
       "      <th>93</th>\n",
       "      <td>Jun 16 2006</td>\n",
       "      <td>Nacho Libre</td>\n",
       "      <td>32000000.0</td>\n",
       "      <td>80197993.0</td>\n",
       "      <td>99296462</td>\n",
       "    </tr>\n",
       "    <tr>\n",
       "      <th>74</th>\n",
       "      <td>Jun 4 1999</td>\n",
       "      <td>Desert Blue</td>\n",
       "      <td>5000000.0</td>\n",
       "      <td>99147.0</td>\n",
       "      <td>99147</td>\n",
       "    </tr>\n",
       "    <tr>\n",
       "      <th>44</th>\n",
       "      <td>Nov 21 2007</td>\n",
       "      <td>Hitman</td>\n",
       "      <td>24000000.0</td>\n",
       "      <td>39687694.0</td>\n",
       "      <td>99135571</td>\n",
       "    </tr>\n",
       "    <tr>\n",
       "      <th>82</th>\n",
       "      <td>Oct 16 2009</td>\n",
       "      <td>Where the Wild Things Are</td>\n",
       "      <td>100000000.0</td>\n",
       "      <td>77233467.0</td>\n",
       "      <td>99123656</td>\n",
       "    </tr>\n",
       "  </tbody>\n",
       "</table>\n",
       "</div>"
      ],
      "text/plain": [
       "    release_date                       movie  production_budget  \\\n",
       "id                                                                \n",
       "63    Apr 1 2011                   Insidious          1500000.0   \n",
       "48   Oct 27 2017  Thank You for Your Service         20000000.0   \n",
       "84    Apr 2 2004                     Hellboy         60000000.0   \n",
       "98    Aug 8 2001                The Deep End          3000000.0   \n",
       "38   Aug 21 2009      Fifty Dead Men Walking         10000000.0   \n",
       "14   Mar 21 1980                     Mad Max           200000.0   \n",
       "62   Dec 31 2016              Airlift (2016)          4400000.0   \n",
       "79   Aug 17 2018                       Alpha         51000000.0   \n",
       "33   Sep 30 2005                        Duma         12000000.0   \n",
       "83   Dec 23 1994              Street Fighter         35000000.0   \n",
       "100  Dec 18 1985                      Brazil         15000000.0   \n",
       "93   Jun 16 2006                 Nacho Libre         32000000.0   \n",
       "74    Jun 4 1999                 Desert Blue          5000000.0   \n",
       "44   Nov 21 2007                      Hitman         24000000.0   \n",
       "82   Oct 16 2009   Where the Wild Things Are        100000000.0   \n",
       "\n",
       "     domestic_gross worldwide_gross  \n",
       "id                                   \n",
       "63       54009150.0        99870886  \n",
       "48        9479390.0         9985316  \n",
       "84       59623958.0        99823958  \n",
       "98        8823109.0         9981635  \n",
       "38              0.0          997921  \n",
       "14        8750000.0        99750000  \n",
       "62              0.0         9969237  \n",
       "79       35851379.0        99624873  \n",
       "33         870067.0          994790  \n",
       "83       33423000.0        99423000  \n",
       "100       9929135.0         9932146  \n",
       "93       80197993.0        99296462  \n",
       "74          99147.0           99147  \n",
       "44       39687694.0        99135571  \n",
       "82       77233467.0        99123656  "
      ]
     },
     "execution_count": 67,
     "metadata": {},
     "output_type": "execute_result"
    }
   ],
   "source": [
    "sorted_df=df.sort_values(by ='worldwide_gross', ascending = False)\n",
    "sorted_df.head(15)"
   ]
  },
  {
   "cell_type": "code",
   "execution_count": 78,
   "metadata": {
    "ExecuteTime": {
     "end_time": "2022-08-16T20:55:02.496204Z",
     "start_time": "2022-08-16T20:55:02.482704Z"
    }
   },
   "outputs": [
    {
     "data": {
      "text/html": [
       "<div>\n",
       "<style scoped>\n",
       "    .dataframe tbody tr th:only-of-type {\n",
       "        vertical-align: middle;\n",
       "    }\n",
       "\n",
       "    .dataframe tbody tr th {\n",
       "        vertical-align: top;\n",
       "    }\n",
       "\n",
       "    .dataframe thead th {\n",
       "        text-align: right;\n",
       "    }\n",
       "</style>\n",
       "<table border=\"1\" class=\"dataframe\">\n",
       "  <thead>\n",
       "    <tr style=\"text-align: right;\">\n",
       "      <th></th>\n",
       "      <th>release_date</th>\n",
       "      <th>movie</th>\n",
       "      <th>production_budget</th>\n",
       "      <th>domestic_gross</th>\n",
       "      <th>worldwide_gross</th>\n",
       "    </tr>\n",
       "    <tr>\n",
       "      <th>id</th>\n",
       "      <th></th>\n",
       "      <th></th>\n",
       "      <th></th>\n",
       "      <th></th>\n",
       "      <th></th>\n",
       "    </tr>\n",
       "  </thead>\n",
       "  <tbody>\n",
       "    <tr>\n",
       "      <th>63</th>\n",
       "      <td>Apr 1 2011</td>\n",
       "      <td>Insidious</td>\n",
       "      <td>1500000.0</td>\n",
       "      <td>54009150.0</td>\n",
       "      <td>99870886</td>\n",
       "    </tr>\n",
       "    <tr>\n",
       "      <th>48</th>\n",
       "      <td>Oct 27 2017</td>\n",
       "      <td>Thank You for Your Service</td>\n",
       "      <td>20000000.0</td>\n",
       "      <td>9479390.0</td>\n",
       "      <td>9985316</td>\n",
       "    </tr>\n",
       "    <tr>\n",
       "      <th>84</th>\n",
       "      <td>Apr 2 2004</td>\n",
       "      <td>Hellboy</td>\n",
       "      <td>60000000.0</td>\n",
       "      <td>59623958.0</td>\n",
       "      <td>99823958</td>\n",
       "    </tr>\n",
       "    <tr>\n",
       "      <th>98</th>\n",
       "      <td>Aug 8 2001</td>\n",
       "      <td>The Deep End</td>\n",
       "      <td>3000000.0</td>\n",
       "      <td>8823109.0</td>\n",
       "      <td>9981635</td>\n",
       "    </tr>\n",
       "    <tr>\n",
       "      <th>38</th>\n",
       "      <td>Aug 21 2009</td>\n",
       "      <td>Fifty Dead Men Walking</td>\n",
       "      <td>10000000.0</td>\n",
       "      <td>0.0</td>\n",
       "      <td>997921</td>\n",
       "    </tr>\n",
       "  </tbody>\n",
       "</table>\n",
       "</div>"
      ],
      "text/plain": [
       "   release_date                       movie  production_budget  \\\n",
       "id                                                               \n",
       "63   Apr 1 2011                   Insidious          1500000.0   \n",
       "48  Oct 27 2017  Thank You for Your Service         20000000.0   \n",
       "84   Apr 2 2004                     Hellboy         60000000.0   \n",
       "98   Aug 8 2001                The Deep End          3000000.0   \n",
       "38  Aug 21 2009      Fifty Dead Men Walking         10000000.0   \n",
       "\n",
       "    domestic_gross worldwide_gross  \n",
       "id                                  \n",
       "63      54009150.0        99870886  \n",
       "48       9479390.0         9985316  \n",
       "84      59623958.0        99823958  \n",
       "98       8823109.0         9981635  \n",
       "38             0.0          997921  "
      ]
     },
     "execution_count": 78,
     "metadata": {},
     "output_type": "execute_result"
    }
   ],
   "source": [
    "sorted_df.head()"
   ]
  },
  {
   "cell_type": "code",
   "execution_count": 70,
   "metadata": {
    "ExecuteTime": {
     "end_time": "2022-08-16T20:53:55.983591Z",
     "start_time": "2022-08-16T20:53:55.978591Z"
    }
   },
   "outputs": [],
   "source": [
    "my_fn =lambda x:float(x)\n"
   ]
  },
  {
   "cell_type": "code",
   "execution_count": 72,
   "metadata": {
    "ExecuteTime": {
     "end_time": "2022-08-16T20:54:18.226256Z",
     "start_time": "2022-08-16T20:54:18.177474Z"
    }
   },
   "outputs": [
    {
     "data": {
      "text/html": [
       "<div>\n",
       "<style scoped>\n",
       "    .dataframe tbody tr th:only-of-type {\n",
       "        vertical-align: middle;\n",
       "    }\n",
       "\n",
       "    .dataframe tbody tr th {\n",
       "        vertical-align: top;\n",
       "    }\n",
       "\n",
       "    .dataframe thead th {\n",
       "        text-align: right;\n",
       "    }\n",
       "</style>\n",
       "<table border=\"1\" class=\"dataframe\">\n",
       "  <thead>\n",
       "    <tr style=\"text-align: right;\">\n",
       "      <th></th>\n",
       "      <th>release_date</th>\n",
       "      <th>movie</th>\n",
       "      <th>production_budget</th>\n",
       "      <th>domestic_gross</th>\n",
       "      <th>worldwide_gross</th>\n",
       "    </tr>\n",
       "    <tr>\n",
       "      <th>id</th>\n",
       "      <th></th>\n",
       "      <th></th>\n",
       "      <th></th>\n",
       "      <th></th>\n",
       "      <th></th>\n",
       "    </tr>\n",
       "  </thead>\n",
       "  <tbody>\n",
       "    <tr>\n",
       "      <th>1</th>\n",
       "      <td>2009</td>\n",
       "      <td>Avatar</td>\n",
       "      <td>425000000.0</td>\n",
       "      <td>760507625.0</td>\n",
       "      <td>2776345279</td>\n",
       "    </tr>\n",
       "    <tr>\n",
       "      <th>2</th>\n",
       "      <td>2011</td>\n",
       "      <td>Pirates of the Caribbean: On Stranger Tides</td>\n",
       "      <td>410600000.0</td>\n",
       "      <td>241063875.0</td>\n",
       "      <td>1045663875</td>\n",
       "    </tr>\n",
       "    <tr>\n",
       "      <th>3</th>\n",
       "      <td>2019</td>\n",
       "      <td>Dark Phoenix</td>\n",
       "      <td>350000000.0</td>\n",
       "      <td>42762350.0</td>\n",
       "      <td>149762350</td>\n",
       "    </tr>\n",
       "    <tr>\n",
       "      <th>4</th>\n",
       "      <td>2015</td>\n",
       "      <td>Avengers: Age of Ultron</td>\n",
       "      <td>330600000.0</td>\n",
       "      <td>459005868.0</td>\n",
       "      <td>1403013963</td>\n",
       "    </tr>\n",
       "    <tr>\n",
       "      <th>5</th>\n",
       "      <td>2017</td>\n",
       "      <td>Star Wars Ep. VIII: The Last Jedi</td>\n",
       "      <td>317000000.0</td>\n",
       "      <td>620181382.0</td>\n",
       "      <td>1316721747</td>\n",
       "    </tr>\n",
       "  </tbody>\n",
       "</table>\n",
       "</div>"
      ],
      "text/plain": [
       "    release_date                                        movie  \\\n",
       "id                                                              \n",
       "1           2009                                       Avatar   \n",
       "2           2011  Pirates of the Caribbean: On Stranger Tides   \n",
       "3           2019                                 Dark Phoenix   \n",
       "4           2015                      Avengers: Age of Ultron   \n",
       "5           2017            Star Wars Ep. VIII: The Last Jedi   \n",
       "\n",
       "    production_budget  domestic_gross worldwide_gross  \n",
       "id                                                     \n",
       "1         425000000.0     760507625.0      2776345279  \n",
       "2         410600000.0     241063875.0      1045663875  \n",
       "3         350000000.0      42762350.0       149762350  \n",
       "4         330600000.0     459005868.0      1403013963  \n",
       "5         317000000.0     620181382.0      1316721747  "
      ]
     },
     "execution_count": 72,
     "metadata": {},
     "output_type": "execute_result"
    }
   ],
   "source": [
    "df['release_date'] = pd.to_datetime(df['release_date']).dt.year\n",
    "df.head()"
   ]
  },
  {
   "cell_type": "code",
   "execution_count": 51,
   "metadata": {
    "ExecuteTime": {
     "end_time": "2022-08-16T20:51:36.600770Z",
     "start_time": "2022-08-16T20:51:36.586689Z"
    }
   },
   "outputs": [
    {
     "data": {
      "text/html": [
       "<div>\n",
       "<style scoped>\n",
       "    .dataframe tbody tr th:only-of-type {\n",
       "        vertical-align: middle;\n",
       "    }\n",
       "\n",
       "    .dataframe tbody tr th {\n",
       "        vertical-align: top;\n",
       "    }\n",
       "\n",
       "    .dataframe thead th {\n",
       "        text-align: right;\n",
       "    }\n",
       "</style>\n",
       "<table border=\"1\" class=\"dataframe\">\n",
       "  <thead>\n",
       "    <tr style=\"text-align: right;\">\n",
       "      <th></th>\n",
       "      <th>release_date</th>\n",
       "      <th>movie</th>\n",
       "      <th>production_budget</th>\n",
       "      <th>domestic_gross</th>\n",
       "      <th>worldwide_gross</th>\n",
       "    </tr>\n",
       "    <tr>\n",
       "      <th>id</th>\n",
       "      <th></th>\n",
       "      <th></th>\n",
       "      <th></th>\n",
       "      <th></th>\n",
       "      <th></th>\n",
       "    </tr>\n",
       "  </thead>\n",
       "  <tbody>\n",
       "    <tr>\n",
       "      <th>95</th>\n",
       "      <td>2020</td>\n",
       "      <td>Moonfall</td>\n",
       "      <td>150000000.0</td>\n",
       "      <td>0.0</td>\n",
       "      <td>0</td>\n",
       "    </tr>\n",
       "    <tr>\n",
       "      <th>36</th>\n",
       "      <td>2020</td>\n",
       "      <td>Call of the Wild</td>\n",
       "      <td>82000000.0</td>\n",
       "      <td>0.0</td>\n",
       "      <td>0</td>\n",
       "    </tr>\n",
       "    <tr>\n",
       "      <th>6</th>\n",
       "      <td>2020</td>\n",
       "      <td>Hannibal the Conqueror</td>\n",
       "      <td>50000000.0</td>\n",
       "      <td>0.0</td>\n",
       "      <td>0</td>\n",
       "    </tr>\n",
       "    <tr>\n",
       "      <th>30</th>\n",
       "      <td>2019</td>\n",
       "      <td>Unhinged</td>\n",
       "      <td>29000000.0</td>\n",
       "      <td>0.0</td>\n",
       "      <td>0</td>\n",
       "    </tr>\n",
       "    <tr>\n",
       "      <th>71</th>\n",
       "      <td>2019</td>\n",
       "      <td>PLAYMOBIL</td>\n",
       "      <td>75000000.0</td>\n",
       "      <td>0.0</td>\n",
       "      <td>0</td>\n",
       "    </tr>\n",
       "    <tr>\n",
       "      <th>96</th>\n",
       "      <td>2019</td>\n",
       "      <td>Captain Marvel</td>\n",
       "      <td>175000000.0</td>\n",
       "      <td>426525952.0</td>\n",
       "      <td>1123061550</td>\n",
       "    </tr>\n",
       "    <tr>\n",
       "      <th>75</th>\n",
       "      <td>2019</td>\n",
       "      <td>Long Shot</td>\n",
       "      <td>40000000.0</td>\n",
       "      <td>30202860.0</td>\n",
       "      <td>43711031</td>\n",
       "    </tr>\n",
       "    <tr>\n",
       "      <th>33</th>\n",
       "      <td>2019</td>\n",
       "      <td>Unplanned</td>\n",
       "      <td>6000000.0</td>\n",
       "      <td>18107621.0</td>\n",
       "      <td>18107621</td>\n",
       "    </tr>\n",
       "    <tr>\n",
       "      <th>35</th>\n",
       "      <td>2019</td>\n",
       "      <td>Late Night</td>\n",
       "      <td>4000000.0</td>\n",
       "      <td>246305.0</td>\n",
       "      <td>246305</td>\n",
       "    </tr>\n",
       "    <tr>\n",
       "      <th>36</th>\n",
       "      <td>2019</td>\n",
       "      <td>The Prodigy</td>\n",
       "      <td>6000000.0</td>\n",
       "      <td>14856291.0</td>\n",
       "      <td>19789712</td>\n",
       "    </tr>\n",
       "    <tr>\n",
       "      <th>26</th>\n",
       "      <td>2019</td>\n",
       "      <td>The Professor and the Madman</td>\n",
       "      <td>25000000.0</td>\n",
       "      <td>0.0</td>\n",
       "      <td>5227233</td>\n",
       "    </tr>\n",
       "    <tr>\n",
       "      <th>81</th>\n",
       "      <td>2019</td>\n",
       "      <td>Aladdin</td>\n",
       "      <td>182000000.0</td>\n",
       "      <td>246734314.0</td>\n",
       "      <td>619234314</td>\n",
       "    </tr>\n",
       "    <tr>\n",
       "      <th>72</th>\n",
       "      <td>2019</td>\n",
       "      <td>355</td>\n",
       "      <td>75000000.0</td>\n",
       "      <td>0.0</td>\n",
       "      <td>0</td>\n",
       "    </tr>\n",
       "    <tr>\n",
       "      <th>30</th>\n",
       "      <td>2019</td>\n",
       "      <td>Reagan</td>\n",
       "      <td>25000000.0</td>\n",
       "      <td>0.0</td>\n",
       "      <td>0</td>\n",
       "    </tr>\n",
       "    <tr>\n",
       "      <th>16</th>\n",
       "      <td>2019</td>\n",
       "      <td>Crawl</td>\n",
       "      <td>17000000.0</td>\n",
       "      <td>0.0</td>\n",
       "      <td>0</td>\n",
       "    </tr>\n",
       "  </tbody>\n",
       "</table>\n",
       "</div>"
      ],
      "text/plain": [
       "    release_date                         movie  production_budget  \\\n",
       "id                                                                  \n",
       "95          2020                      Moonfall        150000000.0   \n",
       "36          2020              Call of the Wild         82000000.0   \n",
       "6           2020        Hannibal the Conqueror         50000000.0   \n",
       "30          2019                      Unhinged         29000000.0   \n",
       "71          2019                     PLAYMOBIL         75000000.0   \n",
       "96          2019                Captain Marvel        175000000.0   \n",
       "75          2019                     Long Shot         40000000.0   \n",
       "33          2019                     Unplanned          6000000.0   \n",
       "35          2019                    Late Night          4000000.0   \n",
       "36          2019                   The Prodigy          6000000.0   \n",
       "26          2019  The Professor and the Madman         25000000.0   \n",
       "81          2019                       Aladdin        182000000.0   \n",
       "72          2019                           355         75000000.0   \n",
       "30          2019                        Reagan         25000000.0   \n",
       "16          2019                         Crawl         17000000.0   \n",
       "\n",
       "    domestic_gross worldwide_gross  \n",
       "id                                  \n",
       "95             0.0               0  \n",
       "36             0.0               0  \n",
       "6              0.0               0  \n",
       "30             0.0               0  \n",
       "71             0.0               0  \n",
       "96     426525952.0      1123061550  \n",
       "75      30202860.0        43711031  \n",
       "33      18107621.0        18107621  \n",
       "35        246305.0          246305  \n",
       "36      14856291.0        19789712  \n",
       "26             0.0         5227233  \n",
       "81     246734314.0       619234314  \n",
       "72             0.0               0  \n",
       "30             0.0               0  \n",
       "16             0.0               0  "
      ]
     },
     "execution_count": 51,
     "metadata": {},
     "output_type": "execute_result"
    }
   ],
   "source": [
    "sorted_df=df.sort_values(by ='release_date', ascending = False)\n",
    "sorted_df.head(15)"
   ]
  },
  {
   "cell_type": "code",
   "execution_count": 73,
   "metadata": {
    "ExecuteTime": {
     "end_time": "2022-08-16T20:54:23.137226Z",
     "start_time": "2022-08-16T20:54:23.127635Z"
    }
   },
   "outputs": [
    {
     "data": {
      "text/plain": [
       "release_date           int64\n",
       "movie                 object\n",
       "production_budget    float64\n",
       "domestic_gross       float64\n",
       "worldwide_gross       object\n",
       "dtype: object"
      ]
     },
     "execution_count": 73,
     "metadata": {},
     "output_type": "execute_result"
    }
   ],
   "source": [
    "df.dtypes"
   ]
  },
  {
   "cell_type": "code",
   "execution_count": 74,
   "metadata": {
    "ExecuteTime": {
     "end_time": "2022-08-16T20:54:25.499474Z",
     "start_time": "2022-08-16T20:54:25.378491Z"
    },
    "scrolled": true
   },
   "outputs": [
    {
     "data": {
      "image/png": "[encoded data removed]",
      "text/plain": [
       "<Figure size 432x288 with 1 Axes>"
      ]
     },
     "metadata": {
      "needs_background": "light"
     },
     "output_type": "display_data"
    }
   ],
   "source": [
    "\n",
    "df.plot.scatter(x = 'production_budget', y = 'domestic_gross', s = 20);\n"
   ]
  },
  {
   "cell_type": "code",
   "execution_count": 79,
   "metadata": {
    "ExecuteTime": {
     "end_time": "2022-08-16T20:55:07.089755Z",
     "start_time": "2022-08-16T20:55:06.958566Z"
    }
   },
   "outputs": [
    {
     "data": {
      "text/plain": [
       "<AxesSubplot:xlabel='production_budget', ylabel='domestic_gross'>"
      ]
     },
     "execution_count": 79,
     "metadata": {},
     "output_type": "execute_result"
    },
    {
     "data": {
      "image/png": "[encoded data removed]",
      "text/plain": [
       "<Figure size 432x288 with 1 Axes>"
      ]
     },
     "metadata": {
      "needs_background": "light"
     },
     "output_type": "display_data"
    }
   ],
   "source": [
    "sns.scatterplot(x='production_budget', y='domestic_gross', data=df)\n"
   ]
  },
  {
   "cell_type": "markdown",
   "metadata": {},
   "source": [
    "Top 30 years that producted the most movies."
   ]
  },
  {
   "cell_type": "code",
   "execution_count": 84,
   "metadata": {
    "ExecuteTime": {
     "end_time": "2022-08-16T21:01:11.140393Z",
     "start_time": "2022-08-16T21:01:10.903339Z"
    }
   },
   "outputs": [
    {
     "data": {
      "text/plain": [
       "<AxesSubplot:>"
      ]
     },
     "execution_count": 84,
     "metadata": {},
     "output_type": "execute_result"
    },
    {
     "data": {
      "image/png": "[encoded data removed]",
      "text/plain": [
       "<Figure size 432x288 with 1 Axes>"
      ]
     },
     "metadata": {
      "needs_background": "light"
     },
     "output_type": "display_data"
    }
   ],
   "source": [
    "sorted_df['release_date'].value_counts().sort_index(ascending=False)[:30].plot.bar()"
   ]
  },
  {
   "cell_type": "markdown",
   "metadata": {},
   "source": [
    "Looking at how  movies came out yearly since 2000"
   ]
  },
  {
   "cell_type": "code",
   "execution_count": 87,
   "metadata": {
    "ExecuteTime": {
     "end_time": "2022-08-16T21:03:28.877624Z",
     "start_time": "2022-08-16T21:03:28.861583Z"
    }
   },
   "outputs": [],
   "source": [
    "sorted_df = sorted_df[sorted_df['release_date'] > 2000]"
   ]
  },
  {
   "cell_type": "code",
   "execution_count": 88,
   "metadata": {
    "ExecuteTime": {
     "end_time": "2022-08-16T21:04:37.920566Z",
     "start_time": "2022-08-16T21:04:37.911374Z"
    }
   },
   "outputs": [
    {
     "data": {
      "text/plain": [
       "2015    338\n",
       "2010    274\n",
       "2008    264\n",
       "2006    260\n",
       "2014    255\n",
       "2011    254\n",
       "2009    239\n",
       "2013    238\n",
       "2012    235\n",
       "2005    223\n",
       "2007    220\n",
       "2016    219\n",
       "2002    210\n",
       "2004    206\n",
       "2003    201\n",
       "2001    181\n",
       "2017    168\n",
       "2018    143\n",
       "2019     67\n",
       "2020      3\n",
       "Name: release_date, dtype: int64"
      ]
     },
     "execution_count": 88,
     "metadata": {},
     "output_type": "execute_result"
    }
   ],
   "source": [
    "sorted_df['release_date'].value_counts()"
   ]
  }
 ],
 "metadata": {
  "kernelspec": {
   "display_name": "Python 3",
   "language": "python",
   "name": "python3"
  },
  "language_info": {
   "codemirror_mode": {
    "name": "ipython",
    "version": 3
   },
   "file_extension": ".py",
   "mimetype": "text/x-python",
   "name": "python",
   "nbconvert_exporter": "python",
   "pygments_lexer": "ipython3",
   "version": "3.8.5"
  },
  "toc": {
   "base_numbering": 1,
   "nav_menu": {},
   "number_sections": true,
   "sideBar": true,
   "skip_h1_title": false,
   "title_cell": "Table of Contents",
   "title_sidebar": "Contents",
   "toc_cell": false,
   "toc_position": {},
   "toc_section_display": true,
   "toc_window_display": false
  },
  "varInspector": {
   "cols": {
    "lenName": 16,
    "lenType": 16,
    "lenVar": 40
   },
   "kernels_config": {
    "python": {
     "delete_cmd_postfix": "",
     "delete_cmd_prefix": "del ",
     "library": "var_list.py",
     "varRefreshCmd": "print(var_dic_list())"
    },
    "r": {
     "delete_cmd_postfix": ") ",
     "delete_cmd_prefix": "rm(",
     "library": "var_list.r",
     "varRefreshCmd": "cat(var_dic_list()) "
    }
   },
   "types_to_exclude": [
    "module",
    "function",
    "builtin_function_or_method",
    "instance",
    "_Feature"
   ],
   "window_display": false
  }
 },
 "nbformat": 4,
 "nbformat_minor": 2
}
