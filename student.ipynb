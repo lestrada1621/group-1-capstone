{
 "cells": [
  {
   "cell_type": "markdown",
   "metadata": {},
   "source": [
    "# Group 1 Capstone Project Work\n",
    "### Make sure to make / checkout your own branch before making changes"
   ]
  },
  {
   "cell_type": "markdown",
   "metadata": {},
   "source": [
    "# Maddie Hince"
   ]
  },
  {
   "cell_type": "code",
   "execution_count": 177,
   "metadata": {
    "ExecuteTime": {
     "end_time": "2022-08-16T20:57:29.049114Z",
     "start_time": "2022-08-16T20:57:29.028773Z"
    }
   },
   "outputs": [],
   "source": [
    "import pandas as pd\n",
    "import sqlite3\n",
    "\n",
    "conn = sqlite3.connect('zippedData/im.db')"
   ]
  },
  {
   "cell_type": "code",
   "execution_count": 178,
   "metadata": {
    "ExecuteTime": {
     "end_time": "2022-08-16T20:57:30.253035Z",
     "start_time": "2022-08-16T20:57:29.369426Z"
    }
   },
   "outputs": [],
   "source": [
    "ratings_df = pd.read_sql(\"\"\"SELECT movie_ratings.movie_id, movie_ratings.averagerating, movie_ratings.numvotes, movie_basics.primary_title, movie_basics.start_year, movie_basics.genres \n",
    "                            FROM movie_ratings\n",
    "                            JOIN movie_basics USING(movie_id)\n",
    "                            WHERE movie_basics.start_year >= 2010\"\"\", conn)"
   ]
  },
  {
   "cell_type": "code",
   "execution_count": 189,
   "metadata": {
    "ExecuteTime": {
     "end_time": "2022-08-16T21:05:15.243634Z",
     "start_time": "2022-08-16T21:05:15.189401Z"
    }
   },
   "outputs": [],
   "source": [
    "ratings_df.dropna(how='any', axis=0, inplace=True)"
   ]
  },
  {
   "cell_type": "code",
   "execution_count": 190,
   "metadata": {
    "ExecuteTime": {
     "end_time": "2022-08-16T21:05:15.651011Z",
     "start_time": "2022-08-16T21:05:15.604027Z"
    }
   },
   "outputs": [
    {
     "data": {
      "text/plain": [
       "count       923.000000\n",
       "mean       4378.464914\n",
       "std       13265.696554\n",
       "min           5.000000\n",
       "25%          62.250000\n",
       "50%         322.200000\n",
       "75%        2469.010861\n",
       "max      181285.417323\n",
       "Name: numvotes, dtype: float64"
      ]
     },
     "execution_count": 190,
     "metadata": {},
     "output_type": "execute_result"
    }
   ],
   "source": [
    "sorted_by_avg = ratings_df.groupby('genres').mean().sort_values(by='averagerating', ascending=False)\n",
    "# filter out genres with less than 62 votes\n",
    "sorted_by_avg['numvotes'].describe()"
   ]
  },
  {
   "cell_type": "code",
   "execution_count": 194,
   "metadata": {
    "ExecuteTime": {
     "end_time": "2022-08-16T21:06:09.459004Z",
     "start_time": "2022-08-16T21:06:09.432001Z"
    }
   },
   "outputs": [
    {
     "data": {
      "text/html": [
       "<div>\n",
       "<style scoped>\n",
       "    .dataframe tbody tr th:only-of-type {\n",
       "        vertical-align: middle;\n",
       "    }\n",
       "\n",
       "    .dataframe tbody tr th {\n",
       "        vertical-align: top;\n",
       "    }\n",
       "\n",
       "    .dataframe thead th {\n",
       "        text-align: right;\n",
       "    }\n",
       "</style>\n",
       "<table border=\"1\" class=\"dataframe\">\n",
       "  <thead>\n",
       "    <tr style=\"text-align: right;\">\n",
       "      <th></th>\n",
       "      <th>averagerating</th>\n",
       "      <th>numvotes</th>\n",
       "      <th>start_year</th>\n",
       "    </tr>\n",
       "    <tr>\n",
       "      <th>genres</th>\n",
       "      <th></th>\n",
       "      <th></th>\n",
       "      <th></th>\n",
       "    </tr>\n",
       "  </thead>\n",
       "  <tbody>\n",
       "    <tr>\n",
       "      <th>Mystery,News,Thriller</th>\n",
       "      <td>8.400000</td>\n",
       "      <td>92.000000</td>\n",
       "      <td>2019.000000</td>\n",
       "    </tr>\n",
       "    <tr>\n",
       "      <th>Documentary,Music,War</th>\n",
       "      <td>8.300000</td>\n",
       "      <td>119.625000</td>\n",
       "      <td>2015.000000</td>\n",
       "    </tr>\n",
       "    <tr>\n",
       "      <th>Comedy,History,Musical</th>\n",
       "      <td>8.300000</td>\n",
       "      <td>172.000000</td>\n",
       "      <td>2016.000000</td>\n",
       "    </tr>\n",
       "    <tr>\n",
       "      <th>Animation,Crime,Mystery</th>\n",
       "      <td>8.200000</td>\n",
       "      <td>526.000000</td>\n",
       "      <td>2014.000000</td>\n",
       "    </tr>\n",
       "    <tr>\n",
       "      <th>Romance,Thriller,War</th>\n",
       "      <td>8.200000</td>\n",
       "      <td>165.000000</td>\n",
       "      <td>2017.000000</td>\n",
       "    </tr>\n",
       "    <tr>\n",
       "      <th>Comedy,Musical,Western</th>\n",
       "      <td>8.200000</td>\n",
       "      <td>186.000000</td>\n",
       "      <td>2015.000000</td>\n",
       "    </tr>\n",
       "    <tr>\n",
       "      <th>Animation,Documentary,Mystery</th>\n",
       "      <td>8.200000</td>\n",
       "      <td>1014.000000</td>\n",
       "      <td>2017.000000</td>\n",
       "    </tr>\n",
       "    <tr>\n",
       "      <th>Documentary,Fantasy,Horror</th>\n",
       "      <td>8.100000</td>\n",
       "      <td>209.500000</td>\n",
       "      <td>2013.000000</td>\n",
       "    </tr>\n",
       "    <tr>\n",
       "      <th>Animation,Crime,Documentary</th>\n",
       "      <td>8.066667</td>\n",
       "      <td>2198.000000</td>\n",
       "      <td>2013.000000</td>\n",
       "    </tr>\n",
       "    <tr>\n",
       "      <th>Documentary,Drama,Musical</th>\n",
       "      <td>8.050000</td>\n",
       "      <td>306.500000</td>\n",
       "      <td>2014.500000</td>\n",
       "    </tr>\n",
       "    <tr>\n",
       "      <th>Comedy,Documentary,Sport</th>\n",
       "      <td>7.925000</td>\n",
       "      <td>77.250000</td>\n",
       "      <td>2015.500000</td>\n",
       "    </tr>\n",
       "    <tr>\n",
       "      <th>Documentary,Sport,Thriller</th>\n",
       "      <td>7.900000</td>\n",
       "      <td>28979.000000</td>\n",
       "      <td>2017.000000</td>\n",
       "    </tr>\n",
       "    <tr>\n",
       "      <th>Action,Romance,War</th>\n",
       "      <td>7.866667</td>\n",
       "      <td>746.000000</td>\n",
       "      <td>2015.666667</td>\n",
       "    </tr>\n",
       "    <tr>\n",
       "      <th>Action,Documentary,Sport</th>\n",
       "      <td>7.863158</td>\n",
       "      <td>175.789474</td>\n",
       "      <td>2013.315789</td>\n",
       "    </tr>\n",
       "    <tr>\n",
       "      <th>Adventure,Animation,Horror</th>\n",
       "      <td>7.833333</td>\n",
       "      <td>415.333333</td>\n",
       "      <td>2015.666667</td>\n",
       "    </tr>\n",
       "  </tbody>\n",
       "</table>\n",
       "</div>"
      ],
      "text/plain": [
       "                               averagerating      numvotes   start_year\n",
       "genres                                                                 \n",
       "Mystery,News,Thriller               8.400000     92.000000  2019.000000\n",
       "Documentary,Music,War               8.300000    119.625000  2015.000000\n",
       "Comedy,History,Musical              8.300000    172.000000  2016.000000\n",
       "Animation,Crime,Mystery             8.200000    526.000000  2014.000000\n",
       "Romance,Thriller,War                8.200000    165.000000  2017.000000\n",
       "Comedy,Musical,Western              8.200000    186.000000  2015.000000\n",
       "Animation,Documentary,Mystery       8.200000   1014.000000  2017.000000\n",
       "Documentary,Fantasy,Horror          8.100000    209.500000  2013.000000\n",
       "Animation,Crime,Documentary         8.066667   2198.000000  2013.000000\n",
       "Documentary,Drama,Musical           8.050000    306.500000  2014.500000\n",
       "Comedy,Documentary,Sport            7.925000     77.250000  2015.500000\n",
       "Documentary,Sport,Thriller          7.900000  28979.000000  2017.000000\n",
       "Action,Romance,War                  7.866667    746.000000  2015.666667\n",
       "Action,Documentary,Sport            7.863158    175.789474  2013.315789\n",
       "Adventure,Animation,Horror          7.833333    415.333333  2015.666667"
      ]
     },
     "execution_count": 194,
     "metadata": {},
     "output_type": "execute_result"
    }
   ],
   "source": [
    "# 15 highest-rated movie genres with more than 62 total votes\n",
    "sorted_by_avg[sorted_by_avg['numvotes'] >= 62].head(15)"
   ]
  },
  {
   "cell_type": "markdown",
   "metadata": {},
   "source": [
    "# Cat Murad"
   ]
  },
  {
   "cell_type": "code",
   "execution_count": null,
   "metadata": {},
   "outputs": [],
   "source": []
  },
  {
   "cell_type": "markdown",
   "metadata": {},
   "source": [
    "# Elijah Soba"
   ]
  },
  {
   "cell_type": "code",
   "execution_count": null,
   "metadata": {},
   "outputs": [],
   "source": []
  },
  {
   "cell_type": "markdown",
   "metadata": {},
   "source": [
    "# Luis Estrada "
   ]
  },
  {
   "cell_type": "code",
   "execution_count": null,
   "metadata": {},
   "outputs": [],
   "source": []
  },
  {
   "cell_type": "markdown",
   "metadata": {},
   "source": [
    "# Kilmar Lazo "
   ]
  },
  {
   "cell_type": "code",
   "execution_count": null,
   "metadata": {},
   "outputs": [],
   "source": []
  },
  {
   "cell_type": "markdown",
   "metadata": {},
   "source": [
    "# Michael Eugene"
   ]
  },
  {
   "cell_type": "code",
   "execution_count": null,
   "metadata": {},
   "outputs": [],
   "source": []
  }
 ],
 "metadata": {
  "kernelspec": {
   "display_name": "Python 3",
   "language": "python",
   "name": "python3"
  },
  "language_info": {
   "codemirror_mode": {
    "name": "ipython",
    "version": 3
   },
   "file_extension": ".py",
   "mimetype": "text/x-python",
   "name": "python",
   "nbconvert_exporter": "python",
   "pygments_lexer": "ipython3",
   "version": "3.8.5"
  },
  "varInspector": {
   "cols": {
    "lenName": 16,
    "lenType": 16,
    "lenVar": 40
   },
   "kernels_config": {
    "python": {
     "delete_cmd_postfix": "",
     "delete_cmd_prefix": "del ",
     "library": "var_list.py",
     "varRefreshCmd": "print(var_dic_list())"
    },
    "r": {
     "delete_cmd_postfix": ") ",
     "delete_cmd_prefix": "rm(",
     "library": "var_list.r",
     "varRefreshCmd": "cat(var_dic_list()) "
    }
   },
   "types_to_exclude": [
    "module",
    "function",
    "builtin_function_or_method",
    "instance",
    "_Feature"
   ],
   "window_display": false
  }
 },
 "nbformat": 4,
 "nbformat_minor": 2
}
