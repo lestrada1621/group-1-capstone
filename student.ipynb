{
 "cells": [
  {
   "cell_type": "markdown",
   "metadata": {},
   "source": [
    "# Group 1 Capstone Project Work\n",
    "### Make sure to make / checkout your own branch before making changes"
   ]
  },
  {
   "cell_type": "markdown",
   "metadata": {},
   "source": [
    "# Maddie Hince"
   ]
  },
  {
   "cell_type": "code",
   "execution_count": 71,
   "metadata": {
    "ExecuteTime": {
     "end_time": "2022-08-17T17:16:36.773853Z",
     "start_time": "2022-08-17T17:16:36.768855Z"
    }
   },
   "outputs": [],
   "source": [
    "import pandas as pd\n",
    "import sqlite3\n",
    "\n",
    "conn = sqlite3.connect('zippedData/im.db')"
   ]
  },
  {
   "cell_type": "code",
   "execution_count": 102,
   "metadata": {
    "ExecuteTime": {
     "end_time": "2022-08-17T17:22:55.379597Z",
     "start_time": "2022-08-17T17:22:54.967604Z"
    }
   },
   "outputs": [],
   "source": [
    "ratings_df = pd.read_sql(\"\"\"SELECT movie_ratings.movie_id, movie_ratings.averagerating, \n",
    "                                   movie_ratings.numvotes, movie_basics.primary_title, \n",
    "                                   movie_basics.start_year, movie_basics.genres \n",
    "                            FROM movie_ratings\n",
    "                            JOIN movie_basics USING(movie_id)\n",
    "                            WHERE movie_basics.start_year >= 2010\"\"\", conn)"
   ]
  },
  {
   "cell_type": "code",
   "execution_count": 103,
   "metadata": {
    "ExecuteTime": {
     "end_time": "2022-08-17T17:22:55.834943Z",
     "start_time": "2022-08-17T17:22:55.785956Z"
    }
   },
   "outputs": [],
   "source": [
    "ratings_df.dropna(how='any', axis=0, inplace=True)"
   ]
  },
  {
   "cell_type": "code",
   "execution_count": 104,
   "metadata": {
    "ExecuteTime": {
     "end_time": "2022-08-17T17:22:56.176099Z",
     "start_time": "2022-08-17T17:22:56.163101Z"
    }
   },
   "outputs": [],
   "source": [
    "def clean_genres(genres):\n",
    "    genres = str(genres)\n",
    "    genres_list = sorted(genres.lower().split(','))\n",
    "    return ','.join(list(map(str, genres_list)))"
   ]
  },
  {
   "cell_type": "code",
   "execution_count": 105,
   "metadata": {
    "ExecuteTime": {
     "end_time": "2022-08-17T17:22:56.676423Z",
     "start_time": "2022-08-17T17:22:56.566865Z"
    }
   },
   "outputs": [
    {
     "data": {
      "text/html": [
       "<div>\n",
       "<style scoped>\n",
       "    .dataframe tbody tr th:only-of-type {\n",
       "        vertical-align: middle;\n",
       "    }\n",
       "\n",
       "    .dataframe tbody tr th {\n",
       "        vertical-align: top;\n",
       "    }\n",
       "\n",
       "    .dataframe thead th {\n",
       "        text-align: right;\n",
       "    }\n",
       "</style>\n",
       "<table border=\"1\" class=\"dataframe\">\n",
       "  <thead>\n",
       "    <tr style=\"text-align: right;\">\n",
       "      <th></th>\n",
       "      <th>movie_id</th>\n",
       "      <th>averagerating</th>\n",
       "      <th>numvotes</th>\n",
       "      <th>primary_title</th>\n",
       "      <th>start_year</th>\n",
       "      <th>genres</th>\n",
       "    </tr>\n",
       "  </thead>\n",
       "  <tbody>\n",
       "    <tr>\n",
       "      <th>0</th>\n",
       "      <td>tt0063540</td>\n",
       "      <td>7.0</td>\n",
       "      <td>77</td>\n",
       "      <td>Sunghursh</td>\n",
       "      <td>2013</td>\n",
       "      <td>action,crime,drama</td>\n",
       "    </tr>\n",
       "    <tr>\n",
       "      <th>1</th>\n",
       "      <td>tt0066787</td>\n",
       "      <td>7.2</td>\n",
       "      <td>43</td>\n",
       "      <td>One Day Before the Rainy Season</td>\n",
       "      <td>2019</td>\n",
       "      <td>biography,drama</td>\n",
       "    </tr>\n",
       "    <tr>\n",
       "      <th>2</th>\n",
       "      <td>tt0069049</td>\n",
       "      <td>6.9</td>\n",
       "      <td>4517</td>\n",
       "      <td>The Other Side of the Wind</td>\n",
       "      <td>2018</td>\n",
       "      <td>drama</td>\n",
       "    </tr>\n",
       "    <tr>\n",
       "      <th>3</th>\n",
       "      <td>tt0069204</td>\n",
       "      <td>6.1</td>\n",
       "      <td>13</td>\n",
       "      <td>Sabse Bada Sukh</td>\n",
       "      <td>2018</td>\n",
       "      <td>comedy,drama</td>\n",
       "    </tr>\n",
       "    <tr>\n",
       "      <th>4</th>\n",
       "      <td>tt0100275</td>\n",
       "      <td>6.5</td>\n",
       "      <td>119</td>\n",
       "      <td>The Wandering Soap Opera</td>\n",
       "      <td>2017</td>\n",
       "      <td>comedy,drama,fantasy</td>\n",
       "    </tr>\n",
       "  </tbody>\n",
       "</table>\n",
       "</div>"
      ],
      "text/plain": [
       "    movie_id  averagerating  numvotes                    primary_title  \\\n",
       "0  tt0063540            7.0        77                        Sunghursh   \n",
       "1  tt0066787            7.2        43  One Day Before the Rainy Season   \n",
       "2  tt0069049            6.9      4517       The Other Side of the Wind   \n",
       "3  tt0069204            6.1        13                  Sabse Bada Sukh   \n",
       "4  tt0100275            6.5       119         The Wandering Soap Opera   \n",
       "\n",
       "   start_year                genres  \n",
       "0        2013    action,crime,drama  \n",
       "1        2019       biography,drama  \n",
       "2        2018                 drama  \n",
       "3        2018          comedy,drama  \n",
       "4        2017  comedy,drama,fantasy  "
      ]
     },
     "execution_count": 105,
     "metadata": {},
     "output_type": "execute_result"
    }
   ],
   "source": [
    "ratings_df['genres'] = ratings_df['genres'].apply(clean_genres)\n",
    "ratings_df.head()"
   ]
  },
  {
   "cell_type": "code",
   "execution_count": 106,
   "metadata": {
    "ExecuteTime": {
     "end_time": "2022-08-17T17:23:00.937124Z",
     "start_time": "2022-08-17T17:23:00.866793Z"
    }
   },
   "outputs": [
    {
     "data": {
      "text/plain": [
       "count       923.000000\n",
       "mean       4378.464914\n",
       "std       13265.696554\n",
       "min           5.000000\n",
       "25%          62.250000\n",
       "50%         322.200000\n",
       "75%        2469.010861\n",
       "max      181285.417323\n",
       "Name: numvotes, dtype: float64"
      ]
     },
     "execution_count": 106,
     "metadata": {},
     "output_type": "execute_result"
    }
   ],
   "source": [
    "ratings_df['genres'].value_counts()\n",
    "sorted_by_avg = ratings_df.groupby('genres').mean().sort_values(by='averagerating', ascending=False)"
   ]
  },
  {
   "cell_type": "code",
   "execution_count": 107,
   "metadata": {
    "ExecuteTime": {
     "end_time": "2022-08-17T17:23:01.342556Z",
     "start_time": "2022-08-17T17:23:01.330571Z"
    }
   },
   "outputs": [],
   "source": [
    "# filter out movie genres with less than 62 total votes\n",
    "sorted_avg_higher_votes = sorted_by_avg[sorted_by_avg['numvotes'] >= 62].head(15)\n",
    "sorted_avg_higher_votes.reset_index(inplace=True)"
   ]
  },
  {
   "cell_type": "code",
   "execution_count": 134,
   "metadata": {
    "ExecuteTime": {
     "end_time": "2022-08-17T17:46:46.934133Z",
     "start_time": "2022-08-17T17:46:46.820286Z"
    }
   },
   "outputs": [
    {
     "data": {
      "image/png": "[encoded data removed]",
      "text/plain": [
       "<Figure size 432x288 with 1 Axes>"
      ]
     },
     "metadata": {},
     "output_type": "display_data"
    }
   ],
   "source": [
    "# visualizations\n",
    "import seaborn as sns\n",
    "import matplotlib.pyplot as plt\n",
    "\n",
    "sns.set_theme(style = 'whitegrid')\n",
    "\n",
    "# outliers removed to improve quartile readability \n",
    "fig, ax = plt.subplots()\n",
    "sns.boxplot(x = sorted_avg_higher_votes['numvotes'], showfliers=False);\n"
   ]
  },
  {
   "cell_type": "code",
   "execution_count": 172,
   "metadata": {
    "ExecuteTime": {
     "end_time": "2022-08-17T18:28:30.951742Z",
     "start_time": "2022-08-17T18:28:30.717654Z"
    }
   },
   "outputs": [
    {
     "data": {
      "image/png": "[encoded data removed]",
      "text/plain": [
       "<Figure size 432x288 with 1 Axes>"
      ]
     },
     "metadata": {},
     "output_type": "display_data"
    }
   ],
   "source": [
    "# make count of each of these individual genres in dictionary\n",
    "top_genres = {}\n",
    "for genre in sorted_avg_higher_votes['genres'].value_counts().index:\n",
    "    genre_list = genre.split(',')\n",
    "    for item in genre_list:\n",
    "        if item not in top_genres:\n",
    "            top_genres[item] = 1\n",
    "        elif item in top_genres:\n",
    "            top_genres[item] += 1\n",
    "top_genres = dict(sorted(top_genres.items(), key = lambda x: x[1], reverse=True))\n",
    "\n",
    "# bar chart showing 15 highest-rated movie genres with more than 62 total votes\n",
    "sns.barplot(x = list(top_genres.values()), y = list(top_genres.keys()));"
   ]
  },
  {
   "cell_type": "code",
   "execution_count": 142,
   "metadata": {
    "ExecuteTime": {
     "end_time": "2022-08-17T17:50:14.451536Z",
     "start_time": "2022-08-17T17:50:13.410719Z"
    }
   },
   "outputs": [
    {
     "data": {
      "image/png": "[encoded data removed]",
      "text/plain": [
       "<Figure size 432x288 with 1 Axes>"
      ]
     },
     "metadata": {},
     "output_type": "display_data"
    }
   ],
   "source": [
    "# dataframe with movie titles and studio\n",
    "movie_gross_df = pd.read_csv('zippedData/bom.movie_gross.csv.gz')\n",
    "movie_gross_df['title'] = movie_gross_df['title'].str.lower()\n",
    "\n",
    "# dataframe from database with movie titles and genres\n",
    "movie_basics_df = pd.read_sql(\"\"\"SELECT *\n",
    "                                 FROM movie_basics\n",
    "                                 WHERE start_year >= 2010\"\"\", conn)\n",
    "movie_basics_df['primary_title'] = movie_basics_df['primary_title'].str.lower()\n",
    "\n",
    "# inner join dataframes on title (movie_gross_df), primary_title (movie_basics_df)\n",
    "movie_genre_studio_df = pd.merge(movie_gross_df, movie_basics_df, \n",
    "                                 left_on='title', right_on='primary_title',\n",
    "                                 how='inner')\n",
    "# drop movies with no genres\n",
    "movie_genre_studio_df.dropna(subset=['genres'], inplace=True)\n",
    "# clean genre string for each row\n",
    "movie_genre_studio_df['genres'] = movie_genre_studio_df['genres'].apply(clean_genres)\n",
    "\n",
    "# put movies from highest-performing studio into a dataframe\n",
    "bv_studio_movies = movie_genre_studio_df[movie_genre_studio_df['studio'] == 'BV']\n",
    "\n",
    "# bar chart showing number of movies per genre for BV studios\n",
    "fig, ax = plt.subplots()\n",
    "sns.countplot(data=bv_studio_movies, y='genres', \n",
    "              order=bv_studio_movies['genres'].value_counts().iloc[:10].index,\n",
    "              ax = ax)\n",
    "ax.set_xticks(range(0,21,2))\n",
    "ax.set_title('Count of Movies Per Genre Produced by BV Studios')\n",
    "ax.set_xlabel('Movie Count')\n",
    "ax.set_ylabel('Genre(s)');"
   ]
  },
  {
   "cell_type": "markdown",
   "metadata": {},
   "source": [
    "# Cat Murad"
   ]
  },
  {
   "cell_type": "code",
   "execution_count": null,
   "metadata": {},
   "outputs": [],
   "source": []
  },
  {
   "cell_type": "markdown",
   "metadata": {},
   "source": [
    "# Elijah Soba"
   ]
  },
  {
   "cell_type": "code",
   "execution_count": null,
   "metadata": {},
   "outputs": [],
   "source": []
  },
  {
   "cell_type": "markdown",
   "metadata": {},
   "source": [
    "# Luis Estrada "
   ]
  },
  {
   "cell_type": "code",
   "execution_count": null,
   "metadata": {},
   "outputs": [],
   "source": []
  },
  {
   "cell_type": "markdown",
   "metadata": {},
   "source": [
    "# Kilmar Lazo "
   ]
  },
  {
   "cell_type": "code",
   "execution_count": null,
   "metadata": {},
   "outputs": [],
   "source": []
  },
  {
   "cell_type": "markdown",
   "metadata": {},
   "source": [
    "# Michael Eugene"
   ]
  },
  {
   "cell_type": "code",
   "execution_count": null,
   "metadata": {},
   "outputs": [],
   "source": []
  }
 ],
 "metadata": {
  "kernelspec": {
   "display_name": "Python 3",
   "language": "python",
   "name": "python3"
  },
  "language_info": {
   "codemirror_mode": {
    "name": "ipython",
    "version": 3
   },
   "file_extension": ".py",
   "mimetype": "text/x-python",
   "name": "python",
   "nbconvert_exporter": "python",
   "pygments_lexer": "ipython3",
   "version": "3.8.5"
  },
  "varInspector": {
   "cols": {
    "lenName": 16,
    "lenType": 16,
    "lenVar": 40
   },
   "kernels_config": {
    "python": {
     "delete_cmd_postfix": "",
     "delete_cmd_prefix": "del ",
     "library": "var_list.py",
     "varRefreshCmd": "print(var_dic_list())"
    },
    "r": {
     "delete_cmd_postfix": ") ",
     "delete_cmd_prefix": "rm(",
     "library": "var_list.r",
     "varRefreshCmd": "cat(var_dic_list()) "
    }
   },
   "types_to_exclude": [
    "module",
    "function",
    "builtin_function_or_method",
    "instance",
    "_Feature"
   ],
   "window_display": false
  }
 },
 "nbformat": 4,
 "nbformat_minor": 2
}
